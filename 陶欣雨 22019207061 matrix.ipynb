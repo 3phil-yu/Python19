{
 "cells": [
  {
   "cell_type": "markdown",
   "metadata": {},
   "source": [
    "陶欣雨 22019207061"
   ]
  },
  {
   "cell_type": "code",
   "execution_count": 1,
   "metadata": {},
   "outputs": [],
   "source": [
    "import numpy as np"
   ]
  },
  {
   "cell_type": "code",
   "execution_count": 12,
   "metadata": {},
   "outputs": [],
   "source": [
    "def matrix(x,w,b):\n",
    "    ans = np.dot(x,w)+b\n",
    "    y = 1/(1+np.exp(-x))\n",
    "    print('''\n",
    "    \n",
    "    矩阵计算的结果为：''')\n",
    "    print(y)"
   ]
  },
  {
   "cell_type": "code",
   "execution_count": 14,
   "metadata": {},
   "outputs": [
    {
     "name": "stdout",
     "output_type": "stream",
     "text": [
      "请输入第1个x：5\n",
      "您已经输入1个x，是否继续？（否选择N，是选择任意键）n\n",
      "请输入第1个w：2\n",
      "您已经输入1个w，是否继续？（否选择N，是选择任意键）n\n",
      "为了保证矩阵相乘，您只能输入1个w（和x同维度）\n",
      "请输入第1个b：5\n",
      "您已经输入1个b，是否继续？（否选择N，是选择任意键）n\n",
      "为了保证矩阵相乘，您只能输入1个b（和x、w同维度）\n",
      "\n",
      "    \n",
      "    矩阵计算的结果为：\n",
      "[0.99330715]\n"
     ]
    }
   ],
   "source": [
    "x = []\n",
    "w = []\n",
    "b = []\n",
    "i = 1\n",
    "a = 1\n",
    "c = 1\n",
    "while True:\n",
    "    xadd = int(input('请输入第'+ str(i) + '个x：'))\n",
    "    x.append(xadd)\n",
    "    respon = input('您已经输入' + str(i) + '个x，是否继续？（否选择N，是选择任意键）')\n",
    "    i+=1\n",
    "    if respon == 'N':\n",
    "        break\n",
    "    elif respon == 'n':\n",
    "        break\n",
    "    else:\n",
    "        continue\n",
    "x = np.array(x)\n",
    "\n",
    "while True:\n",
    "    wadd = int(input('请输入第'+ str(a) + '个w：'))\n",
    "    w.append(wadd)\n",
    "    respon = input('您已经输入' + str(a) + '个w，是否继续？（否选择N，是选择任意键）')\n",
    "    a+=1\n",
    "    if a == i:\n",
    "        print('为了保证矩阵相乘，您只能输入' + str(i - 1) + '个w（和x同维度）')\n",
    "        break\n",
    "    elif a != i:\n",
    "        print('为了保证矩阵相乘，您只能输入' + str(i - 1) + '个w（和x同维度）')\n",
    "        continue\n",
    "    elif respon == 'N':\n",
    "        break\n",
    "    elif respon == 'n':\n",
    "        break\n",
    "    else:\n",
    "        continue\n",
    "w = np.array(w)\n",
    "\n",
    "while True:\n",
    "    badd = int(input('请输入第'+ str(c) + '个b：'))\n",
    "    b.append(xadd)\n",
    "    respon = input('您已经输入' + str(c) + '个b，是否继续？（否选择N，是选择任意键）')\n",
    "    c+=1\n",
    "    if c == i:\n",
    "        print('为了保证矩阵相乘，您只能输入' + str(i - 1) + '个b（和x、w同维度）')\n",
    "        break\n",
    "    elif c != i:\n",
    "        print('为了保证矩阵相乘，您只能输入' + str(i - 1) + '个b（和x、w同维度）')\n",
    "        continue\n",
    "    elif respon == 'N':\n",
    "        break\n",
    "    elif respon == 'n':\n",
    "        break\n",
    "    else:\n",
    "        continue\n",
    "b = np.array(b)\n",
    "\n",
    "matrix(x,w,b)"
   ]
  },
  {
   "cell_type": "code",
   "execution_count": null,
   "metadata": {},
   "outputs": [],
   "source": []
  }
 ],
 "metadata": {
  "kernelspec": {
   "display_name": "Python 3",
   "language": "python",
   "name": "python3"
  },
  "language_info": {
   "codemirror_mode": {
    "name": "ipython",
    "version": 3
   },
   "file_extension": ".py",
   "mimetype": "text/x-python",
   "name": "python",
   "nbconvert_exporter": "python",
   "pygments_lexer": "ipython3",
   "version": "3.7.3"
  }
 },
 "nbformat": 4,
 "nbformat_minor": 2
}
