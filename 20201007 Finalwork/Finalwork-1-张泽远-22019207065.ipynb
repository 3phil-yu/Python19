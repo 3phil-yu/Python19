{
 "cells": [
  {
   "cell_type": "code",
   "execution_count": 16,
   "metadata": {},
   "outputs": [
    {
     "name": "stdout",
     "output_type": "stream",
     "text": [
      "(1732762, 10)\n"
     ]
    }
   ],
   "source": [
    "import numpy as np\n",
    "import pandas as pd\n",
    "import matplotlib.pyplot as plt\n",
    "import matplotlib as mpl\n",
    "import seaborn as sns\n",
    "import warnings\n",
    "from pandas import read_csv\n",
    "filename='marketitem.csv'\n",
    "names=['SDATE','STORE-CODE','POSEID','BASK-COSE','PROD-CODE','ITEM-QUANITITY','ITEM-SPEND','NORMAL-PRICE','DISCOUNT-TYPE','DICOUNT-AMOUNT']\n",
    "dataset=read_csv(filename,names=names)\n",
    "print(dataset.shape)"
   ]
  },
  {
   "cell_type": "code",
   "execution_count": 17,
   "metadata": {
    "scrolled": true
   },
   "outputs": [
    {
     "data": {
      "text/html": [
       "<div>\n",
       "<style scoped>\n",
       "    .dataframe tbody tr th:only-of-type {\n",
       "        vertical-align: middle;\n",
       "    }\n",
       "\n",
       "    .dataframe tbody tr th {\n",
       "        vertical-align: top;\n",
       "    }\n",
       "\n",
       "    .dataframe thead th {\n",
       "        text-align: right;\n",
       "    }\n",
       "</style>\n",
       "<table border=\"1\" class=\"dataframe\">\n",
       "  <thead>\n",
       "    <tr style=\"text-align: right;\">\n",
       "      <th></th>\n",
       "      <th>SDATE</th>\n",
       "      <th>STORE-CODE</th>\n",
       "      <th>POSEID</th>\n",
       "      <th>BASK-COSE</th>\n",
       "      <th>PROD-CODE</th>\n",
       "      <th>ITEM-QUANITITY</th>\n",
       "      <th>ITEM-SPEND</th>\n",
       "      <th>NORMAL-PRICE</th>\n",
       "      <th>DISCOUNT-TYPE</th>\n",
       "      <th>DICOUNT-AMOUNT</th>\n",
       "    </tr>\n",
       "  </thead>\n",
       "  <tbody>\n",
       "    <tr>\n",
       "      <th>0</th>\n",
       "      <td>SDATE</td>\n",
       "      <td>STORE_CODE</td>\n",
       "      <td>POSID</td>\n",
       "      <td>BASK_CODE</td>\n",
       "      <td>PROD_CODE</td>\n",
       "      <td>ITEM_QUANTITY</td>\n",
       "      <td>ITEM_SPEND</td>\n",
       "      <td>NORMAL_PRICE</td>\n",
       "      <td>DISCOUNT_TYPE</td>\n",
       "      <td>DISCOUNT_AMOUNT</td>\n",
       "    </tr>\n",
       "    <tr>\n",
       "      <th>1</th>\n",
       "      <td>2018-06-01</td>\n",
       "      <td>D007</td>\n",
       "      <td>003</td>\n",
       "      <td>250451</td>\n",
       "      <td>29405</td>\n",
       "      <td>1</td>\n",
       "      <td>1.7</td>\n",
       "      <td>2.00000000</td>\n",
       "      <td>m</td>\n",
       "      <td>-0.3</td>\n",
       "    </tr>\n",
       "    <tr>\n",
       "      <th>2</th>\n",
       "      <td>2018-06-01</td>\n",
       "      <td>D007</td>\n",
       "      <td>003</td>\n",
       "      <td>250451</td>\n",
       "      <td>13187</td>\n",
       "      <td>1</td>\n",
       "      <td>1</td>\n",
       "      <td>1.00000000</td>\n",
       "      <td>n</td>\n",
       "      <td>0</td>\n",
       "    </tr>\n",
       "    <tr>\n",
       "      <th>3</th>\n",
       "      <td>2018-06-01</td>\n",
       "      <td>D007</td>\n",
       "      <td>003</td>\n",
       "      <td>250243</td>\n",
       "      <td>196249</td>\n",
       "      <td>1</td>\n",
       "      <td>99</td>\n",
       "      <td>99.00000000</td>\n",
       "      <td>m</td>\n",
       "      <td>0</td>\n",
       "    </tr>\n",
       "    <tr>\n",
       "      <th>4</th>\n",
       "      <td>2018-06-01</td>\n",
       "      <td>D007</td>\n",
       "      <td>003</td>\n",
       "      <td>250243</td>\n",
       "      <td>199637</td>\n",
       "      <td>1</td>\n",
       "      <td>9.9</td>\n",
       "      <td>16.80000000</td>\n",
       "      <td>p</td>\n",
       "      <td>-6.9</td>\n",
       "    </tr>\n",
       "  </tbody>\n",
       "</table>\n",
       "</div>"
      ],
      "text/plain": [
       "        SDATE  STORE-CODE POSEID  BASK-COSE  PROD-CODE ITEM-QUANITITY  \\\n",
       "0       SDATE  STORE_CODE  POSID  BASK_CODE  PROD_CODE  ITEM_QUANTITY   \n",
       "1  2018-06-01        D007    003     250451      29405              1   \n",
       "2  2018-06-01        D007    003     250451      13187              1   \n",
       "3  2018-06-01        D007    003     250243     196249              1   \n",
       "4  2018-06-01        D007    003     250243     199637              1   \n",
       "\n",
       "   ITEM-SPEND  NORMAL-PRICE  DISCOUNT-TYPE   DICOUNT-AMOUNT  \n",
       "0  ITEM_SPEND  NORMAL_PRICE  DISCOUNT_TYPE  DISCOUNT_AMOUNT  \n",
       "1         1.7    2.00000000              m             -0.3  \n",
       "2           1    1.00000000              n                0  \n",
       "3          99   99.00000000              m                0  \n",
       "4         9.9   16.80000000              p             -6.9  "
      ]
     },
     "execution_count": 17,
     "metadata": {},
     "output_type": "execute_result"
    }
   ],
   "source": [
    "dataset.head()"
   ]
  },
  {
   "cell_type": "code",
   "execution_count": 18,
   "metadata": {
    "scrolled": true
   },
   "outputs": [
    {
     "data": {
      "text/html": [
       "<div>\n",
       "<style scoped>\n",
       "    .dataframe tbody tr th:only-of-type {\n",
       "        vertical-align: middle;\n",
       "    }\n",
       "\n",
       "    .dataframe tbody tr th {\n",
       "        vertical-align: top;\n",
       "    }\n",
       "\n",
       "    .dataframe thead th {\n",
       "        text-align: right;\n",
       "    }\n",
       "</style>\n",
       "<table border=\"1\" class=\"dataframe\">\n",
       "  <thead>\n",
       "    <tr style=\"text-align: right;\">\n",
       "      <th></th>\n",
       "      <th>SDATE</th>\n",
       "      <th>STORE-CODE</th>\n",
       "      <th>POSEID</th>\n",
       "      <th>BASK-COSE</th>\n",
       "      <th>PROD-CODE</th>\n",
       "      <th>ITEM-QUANITITY</th>\n",
       "      <th>ITEM-SPEND</th>\n",
       "      <th>NORMAL-PRICE</th>\n",
       "      <th>DISCOUNT-TYPE</th>\n",
       "      <th>DICOUNT-AMOUNT</th>\n",
       "    </tr>\n",
       "  </thead>\n",
       "  <tbody>\n",
       "    <tr>\n",
       "      <th>count</th>\n",
       "      <td>1732762</td>\n",
       "      <td>1732762</td>\n",
       "      <td>1732762</td>\n",
       "      <td>1732762</td>\n",
       "      <td>1732762</td>\n",
       "      <td>1732762.0</td>\n",
       "      <td>1732762.0</td>\n",
       "      <td>1732762.0</td>\n",
       "      <td>1732762</td>\n",
       "      <td>1732762.0</td>\n",
       "    </tr>\n",
       "    <tr>\n",
       "      <th>unique</th>\n",
       "      <td>36</td>\n",
       "      <td>25</td>\n",
       "      <td>27</td>\n",
       "      <td>298391</td>\n",
       "      <td>27455</td>\n",
       "      <td>8197.0</td>\n",
       "      <td>10633.0</td>\n",
       "      <td>1676.0</td>\n",
       "      <td>10</td>\n",
       "      <td>4536.0</td>\n",
       "    </tr>\n",
       "    <tr>\n",
       "      <th>top</th>\n",
       "      <td>2018-06-17</td>\n",
       "      <td>D002</td>\n",
       "      <td>2</td>\n",
       "      <td>62087</td>\n",
       "      <td>205540</td>\n",
       "      <td>1.0</td>\n",
       "      <td>9.9</td>\n",
       "      <td>1.0</td>\n",
       "      <td>n</td>\n",
       "      <td>0.0</td>\n",
       "    </tr>\n",
       "    <tr>\n",
       "      <th>freq</th>\n",
       "      <td>87180</td>\n",
       "      <td>242492</td>\n",
       "      <td>504332</td>\n",
       "      <td>82</td>\n",
       "      <td>12341</td>\n",
       "      <td>1328136.0</td>\n",
       "      <td>55024.0</td>\n",
       "      <td>67521.0</td>\n",
       "      <td>1206812</td>\n",
       "      <td>1172049.0</td>\n",
       "    </tr>\n",
       "  </tbody>\n",
       "</table>\n",
       "</div>"
      ],
      "text/plain": [
       "             SDATE STORE-CODE   POSEID  BASK-COSE  PROD-CODE  ITEM-QUANITITY  \\\n",
       "count      1732762    1732762  1732762    1732762    1732762       1732762.0   \n",
       "unique          36         25       27     298391      27455          8197.0   \n",
       "top     2018-06-17       D002        2      62087     205540             1.0   \n",
       "freq         87180     242492   504332         82      12341       1328136.0   \n",
       "\n",
       "        ITEM-SPEND  NORMAL-PRICE DISCOUNT-TYPE  DICOUNT-AMOUNT  \n",
       "count    1732762.0     1732762.0       1732762       1732762.0  \n",
       "unique     10633.0        1676.0            10          4536.0  \n",
       "top            9.9           1.0             n             0.0  \n",
       "freq       55024.0       67521.0       1206812       1172049.0  "
      ]
     },
     "execution_count": 18,
     "metadata": {},
     "output_type": "execute_result"
    }
   ],
   "source": [
    "dataset.describe()"
   ]
  },
  {
   "cell_type": "code",
   "execution_count": 19,
   "metadata": {},
   "outputs": [
    {
     "data": {
      "text/plain": [
       "SDATE             object\n",
       "STORE-CODE        object\n",
       "POSEID            object\n",
       "BASK-COSE         object\n",
       "PROD-CODE         object\n",
       "ITEM-QUANITITY    object\n",
       "ITEM-SPEND        object\n",
       "NORMAL-PRICE      object\n",
       "DISCOUNT-TYPE     object\n",
       "DICOUNT-AMOUNT    object\n",
       "dtype: object"
      ]
     },
     "execution_count": 19,
     "metadata": {},
     "output_type": "execute_result"
    }
   ],
   "source": [
    "dataset.dtypes"
   ]
  },
  {
   "cell_type": "code",
   "execution_count": null,
   "metadata": {},
   "outputs": [],
   "source": []
  }
 ],
 "metadata": {
  "kernelspec": {
   "display_name": "Python 3",
   "language": "python",
   "name": "python3"
  },
  "language_info": {
   "codemirror_mode": {
    "name": "ipython",
    "version": 3
   },
   "file_extension": ".py",
   "mimetype": "text/x-python",
   "name": "python",
   "nbconvert_exporter": "python",
   "pygments_lexer": "ipython3",
   "version": "3.7.3"
  }
 },
 "nbformat": 4,
 "nbformat_minor": 2
}
