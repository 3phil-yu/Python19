{
 "cells": [
  {
   "cell_type": "code",
   "execution_count": 1,
   "metadata": {},
   "outputs": [],
   "source": [
    "import numpy as np\n",
    "def sigmoid(x):\n",
    "    return 1/(1+np.exp(-x))\n",
    "def network():\n",
    "    network= {}\n",
    "    network['W1']=np.array([[0.1,0.2,0.4],[0.5,0.1,0.8],[0.2,0.3,0.1]])\n",
    "    network['b1']=np.array([0.5,0.6,0.7])\n",
    "    network['W2']=np.array([[0.2,0.5,0.2],[0.3,0.9,0.3],[0.4,0.6,0.3]])\n",
    "    network['b2']=np.array([0.6,0.7,0.3])\n",
    "    network['W3']=np.array([[0.5,0.5,0.2],[0.1,0.3,0.4],[0.2,0.5,0.8]])\n",
    "    network['b3']=np.array([0.5,0.5,0.4])\n",
    "    return network"
   ]
  },
  {
   "cell_type": "code",
   "execution_count": 2,
   "metadata": {},
   "outputs": [],
   "source": [
    "def forward(network,x):\n",
    "    W1,W2,W3=network['W1'],network['W2'],network['W3']\n",
    "    b1,b2,b3=network['b1'],network['b2'],network['b3']    \n",
    "    a1=np.dot(x,W1)+b1\n",
    "    z1=sigmoid(a1)\n",
    "    a2=np.dot(z1,W2)+b2\n",
    "    z2=sigmoid(a2)\n",
    "    a3=np.dot(z2,W3)+b3\n",
    "    y=a3\n",
    "    return y"
   ]
  },
  {
   "cell_type": "code",
   "execution_count": 3,
   "metadata": {},
   "outputs": [
    {
     "name": "stdout",
     "output_type": "stream",
     "text": [
      "[1.12738662 1.52322652 1.49237968]\n"
     ]
    }
   ],
   "source": [
    "network = network()\n",
    "x = np.array([1.0,0.5,1.0])\n",
    "y = forward(network, x)\n",
    "print(y)"
   ]
  },
  {
   "cell_type": "code",
   "execution_count": null,
   "metadata": {},
   "outputs": [],
   "source": []
  }
 ],
 "metadata": {
  "kernelspec": {
   "display_name": "Python 3",
   "language": "python",
   "name": "python3"
  },
  "language_info": {
   "codemirror_mode": {
    "name": "ipython",
    "version": 3
   },
   "file_extension": ".py",
   "mimetype": "text/x-python",
   "name": "python",
   "nbconvert_exporter": "python",
   "pygments_lexer": "ipython3",
   "version": "3.7.3"
  }
 },
 "nbformat": 4,
 "nbformat_minor": 4
}
