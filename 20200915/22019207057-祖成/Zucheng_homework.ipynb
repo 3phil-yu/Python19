{
 "cells": [
  {
   "cell_type": "code",
   "execution_count": null,
   "metadata": {},
   "outputs": [],
   "source": [
    "def data_loss_softmax_onehot(scores, labels):\n",
    "    num_examples = scores.shape[0]\n",
    "    exp_scores = np.exp(scores)\n",
    "    #print(exp_scores)\n",
    "    exp_scores_sum = np.sum(exp_scores, axis=1)\n",
    "    #print(exp_scores_sum)\n",
    "    correct_probs = exp_scores[:] / exp_scores_sum\n",
    "    #print(correct_probs)\n",
    "    correct_probs2 = -labels*np.log(correct_probs)\n",
    "    #print(correct_probs2)\n",
    "    data_loss = np.sum(correct_probs2) / num_examples\n",
    " \n",
    "    return data_loss\n",
    " \n",
    " \n",
    "data=np.array([[0.6,0.2,0.01],[0,0,1],[0.02,0.9,0.3]])\n",
    "# print(data)\n",
    "labels=np.array([[1,0,0],[0,0,1],[0,1,0]])\n",
    " \n",
    "print(data_loss_softmax_onehot(data, labels))\n",
    " \n"
   ]
  }
 ],
 "metadata": {
  "kernelspec": {
   "display_name": "Python 3",
   "language": "python",
   "name": "python3"
  },
  "language_info": {
   "codemirror_mode": {
    "name": "ipython",
    "version": 3
   },
   "file_extension": ".py",
   "mimetype": "text/x-python",
   "name": "python",
   "nbconvert_exporter": "python",
   "pygments_lexer": "ipython3",
   "version": "3.7.3"
  }
 },
 "nbformat": 4,
 "nbformat_minor": 4
}
