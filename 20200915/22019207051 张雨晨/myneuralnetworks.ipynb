{
 "cells": [
  {
   "cell_type": "code",
   "execution_count": 8,
   "metadata": {},
   "outputs": [
    {
     "data": {
      "text/plain": [
       "array([[3.48694365, 1.40275714],\n",
       "       [1.71987326, 2.60514865]])"
      ]
     },
     "execution_count": 8,
     "metadata": {},
     "output_type": "execute_result"
    }
   ],
   "source": [
    "import numpy\n",
    "\n",
    "f = lambda x: 1.0/1.0 + numpy.exp(-x)\n",
    "\n",
    "W1= [[0.4,0.1],[0.2,0.3]]\n",
    "W2= [[0.1,0.2],[0.3,0.5]]\n",
    "W3= [[0.3,0.1],[0.4,0.2]]\n",
    "b1= [[2,3],[4,5]]\n",
    "b2= [[1,6],[2,3]]\n",
    "b3= [[3,1],[1,2]]\n",
    "x = [[1,1],[2,0]]\n",
    "\n",
    "h1=f(numpy.dot(W1,x)+b1)   #dot—用于矩阵相乘\n",
    "h2=f(numpy.dot(W2,h1)+b2)\n",
    "\n",
    "out=numpy.dot(W3,h2)+b3\n",
    "out"
   ]
  },
  {
   "cell_type": "code",
   "execution_count": 15,
   "metadata": {},
   "outputs": [
    {
     "name": "stdout",
     "output_type": "stream",
     "text": [
      "0.7216325609518421\n"
     ]
    }
   ],
   "source": [
    "import numpy as np\n",
    "\n",
    "def sigmoid(x):\n",
    "    return 1 / (1 + np.exp(-x))\n",
    "\n",
    "class Neuron():\n",
    "    def __init__(self, weights, bias):\n",
    "        self.weights = weights\n",
    "        self.bias = bias\n",
    "        \n",
    "    def feedforward(self, inputs):   #权重输入，偏差输入，然后使用激活功能\n",
    "        total = np.dot(self.weights, inputs) + self.bias\n",
    "        return sigmoid(total)\n",
    "\n",
    "class OurNeuralNetworks():    #定义一个2输出、2神经元的隐藏层、1神经元的输出层\n",
    "\n",
    "    def __init__(self):\n",
    "        weights = np.array([0, 1])   #定义相同的权重和bias  w = [0, 1]，b = 0\n",
    "        bias = 0\n",
    "        \n",
    "        self.h1 = Neuron(weights, bias)\n",
    "        self.h2 = Neuron(weights, bias)\n",
    "        self.o1 = Neuron(weights, bias)\n",
    "        \n",
    "    def feedforward(self, x):\n",
    "        out_h1 = self.h1.feedforward(x)\n",
    "        out_h2 = self.h2.feedforward(x)\n",
    "        out_o1 = self.o1.feedforward(np.array([out_h1, out_h2]))   #o1的输入是h1和h2的输出\n",
    "        return out_o1\n",
    "        \n",
    "network = OurNeuralNetworks()\n",
    "x = np.array([2, 3])   #输入x1=2，x2=3\n",
    "print(network.feedforward(x)) # 输出"
   ]
  },
  {
   "cell_type": "code",
   "execution_count": null,
   "metadata": {},
   "outputs": [],
   "source": []
  }
 ],
 "metadata": {
  "kernelspec": {
   "display_name": "Python 3",
   "language": "python",
   "name": "python3"
  },
  "language_info": {
   "codemirror_mode": {
    "name": "ipython",
    "version": 3
   },
   "file_extension": ".py",
   "mimetype": "text/x-python",
   "name": "python",
   "nbconvert_exporter": "python",
   "pygments_lexer": "ipython3",
   "version": "3.7.4"
  }
 },
 "nbformat": 4,
 "nbformat_minor": 4
}
