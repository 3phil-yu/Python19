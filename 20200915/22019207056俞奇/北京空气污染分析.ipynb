{
 "cells": [
  {
   "cell_type": "code",
   "execution_count": 1,
   "metadata": {},
   "outputs": [],
   "source": [
    "import numpy as np\n",
    "import pandas as pd"
   ]
  },
  {
   "cell_type": "code",
   "execution_count": 2,
   "metadata": {},
   "outputs": [],
   "source": [
    "data= pd.read_csv('BeijingPM20100101_20151231.csv',encoding='utf-8')"
   ]
  },
  {
   "cell_type": "code",
   "execution_count": 3,
   "metadata": {},
   "outputs": [
    {
     "name": "stdout",
     "output_type": "stream",
     "text": [
      "<class 'pandas.core.frame.DataFrame'>\n",
      "RangeIndex: 52584 entries, 0 to 52583\n",
      "Data columns (total 18 columns):\n",
      "No                 52584 non-null int64\n",
      "year               52584 non-null int64\n",
      "month              52584 non-null int64\n",
      "day                52584 non-null int64\n",
      "hour               52584 non-null int64\n",
      "season             52584 non-null int64\n",
      "PM_Dongsi          25052 non-null float64\n",
      "PM_Dongsihuan      20508 non-null float64\n",
      "PM_Nongzhanguan    24931 non-null float64\n",
      "PM_US Post         50387 non-null float64\n",
      "DEWP               52579 non-null float64\n",
      "HUMI               52245 non-null float64\n",
      "PRES               52245 non-null float64\n",
      "TEMP               52579 non-null float64\n",
      "cbwd               52579 non-null object\n",
      "Iws                52579 non-null float64\n",
      "precipitation      52100 non-null float64\n",
      "Iprec              52100 non-null float64\n",
      "dtypes: float64(11), int64(6), object(1)\n",
      "memory usage: 7.2+ MB\n"
     ]
    }
   ],
   "source": [
    "data.info()"
   ]
  },
  {
   "cell_type": "markdown",
   "metadata": {},
   "source": [
    "### 空值处理"
   ]
  },
  {
   "cell_type": "code",
   "execution_count": 4,
   "metadata": {},
   "outputs": [
    {
     "data": {
      "text/html": [
       "<div>\n",
       "<style scoped>\n",
       "    .dataframe tbody tr th:only-of-type {\n",
       "        vertical-align: middle;\n",
       "    }\n",
       "\n",
       "    .dataframe tbody tr th {\n",
       "        vertical-align: top;\n",
       "    }\n",
       "\n",
       "    .dataframe thead th {\n",
       "        text-align: right;\n",
       "    }\n",
       "</style>\n",
       "<table border=\"1\" class=\"dataframe\">\n",
       "  <thead>\n",
       "    <tr style=\"text-align: right;\">\n",
       "      <th></th>\n",
       "      <th>0</th>\n",
       "    </tr>\n",
       "  </thead>\n",
       "  <tbody>\n",
       "    <tr>\n",
       "      <th>No</th>\n",
       "      <td>0</td>\n",
       "    </tr>\n",
       "    <tr>\n",
       "      <th>year</th>\n",
       "      <td>0</td>\n",
       "    </tr>\n",
       "    <tr>\n",
       "      <th>month</th>\n",
       "      <td>0</td>\n",
       "    </tr>\n",
       "    <tr>\n",
       "      <th>day</th>\n",
       "      <td>0</td>\n",
       "    </tr>\n",
       "    <tr>\n",
       "      <th>hour</th>\n",
       "      <td>0</td>\n",
       "    </tr>\n",
       "    <tr>\n",
       "      <th>season</th>\n",
       "      <td>0</td>\n",
       "    </tr>\n",
       "    <tr>\n",
       "      <th>PM_Dongsi</th>\n",
       "      <td>27532</td>\n",
       "    </tr>\n",
       "    <tr>\n",
       "      <th>PM_Dongsihuan</th>\n",
       "      <td>32076</td>\n",
       "    </tr>\n",
       "    <tr>\n",
       "      <th>PM_Nongzhanguan</th>\n",
       "      <td>27653</td>\n",
       "    </tr>\n",
       "    <tr>\n",
       "      <th>PM_US Post</th>\n",
       "      <td>2197</td>\n",
       "    </tr>\n",
       "    <tr>\n",
       "      <th>DEWP</th>\n",
       "      <td>5</td>\n",
       "    </tr>\n",
       "    <tr>\n",
       "      <th>HUMI</th>\n",
       "      <td>339</td>\n",
       "    </tr>\n",
       "    <tr>\n",
       "      <th>PRES</th>\n",
       "      <td>339</td>\n",
       "    </tr>\n",
       "    <tr>\n",
       "      <th>TEMP</th>\n",
       "      <td>5</td>\n",
       "    </tr>\n",
       "    <tr>\n",
       "      <th>cbwd</th>\n",
       "      <td>5</td>\n",
       "    </tr>\n",
       "    <tr>\n",
       "      <th>Iws</th>\n",
       "      <td>5</td>\n",
       "    </tr>\n",
       "    <tr>\n",
       "      <th>precipitation</th>\n",
       "      <td>484</td>\n",
       "    </tr>\n",
       "    <tr>\n",
       "      <th>Iprec</th>\n",
       "      <td>484</td>\n",
       "    </tr>\n",
       "  </tbody>\n",
       "</table>\n",
       "</div>"
      ],
      "text/plain": [
       "                     0\n",
       "No                   0\n",
       "year                 0\n",
       "month                0\n",
       "day                  0\n",
       "hour                 0\n",
       "season               0\n",
       "PM_Dongsi        27532\n",
       "PM_Dongsihuan    32076\n",
       "PM_Nongzhanguan  27653\n",
       "PM_US Post        2197\n",
       "DEWP                 5\n",
       "HUMI               339\n",
       "PRES               339\n",
       "TEMP                 5\n",
       "cbwd                 5\n",
       "Iws                  5\n",
       "precipitation      484\n",
       "Iprec              484"
      ]
     },
     "execution_count": 4,
     "metadata": {},
     "output_type": "execute_result"
    }
   ],
   "source": [
    "#  查看缺失值情况\n",
    "pd.DataFrame(data.isnull().sum())"
   ]
  },
  {
   "cell_type": "code",
   "execution_count": 5,
   "metadata": {},
   "outputs": [],
   "source": [
    "data_new = data.dropna(subset=[\"PM_Dongsi\", \"PM_Dongsihuan\", \"PM_Nongzhanguan\", \"PM_US Post\"])"
   ]
  },
  {
   "cell_type": "code",
   "execution_count": 6,
   "metadata": {},
   "outputs": [
    {
     "name": "stdout",
     "output_type": "stream",
     "text": [
      "<class 'pandas.core.frame.DataFrame'>\n",
      "Int64Index: 19380 entries, 27824 to 52582\n",
      "Data columns (total 18 columns):\n",
      "No                 19380 non-null int64\n",
      "year               19380 non-null int64\n",
      "month              19380 non-null int64\n",
      "day                19380 non-null int64\n",
      "hour               19380 non-null int64\n",
      "season             19380 non-null int64\n",
      "PM_Dongsi          19380 non-null float64\n",
      "PM_Dongsihuan      19380 non-null float64\n",
      "PM_Nongzhanguan    19380 non-null float64\n",
      "PM_US Post         19380 non-null float64\n",
      "DEWP               19377 non-null float64\n",
      "HUMI               19357 non-null float64\n",
      "PRES               19357 non-null float64\n",
      "TEMP               19377 non-null float64\n",
      "cbwd               19377 non-null object\n",
      "Iws                19377 non-null float64\n",
      "precipitation      19085 non-null float64\n",
      "Iprec              19085 non-null float64\n",
      "dtypes: float64(11), int64(6), object(1)\n",
      "memory usage: 2.8+ MB\n"
     ]
    }
   ],
   "source": [
    "pd.DataFrame(data_new.isnull().sum())\n",
    "data_new.info()"
   ]
  },
  {
   "cell_type": "markdown",
   "metadata": {},
   "source": [
    "### 生成箱线图、直方图，查看是否有异常值"
   ]
  },
  {
   "cell_type": "code",
   "execution_count": null,
   "metadata": {},
   "outputs": [],
   "source": [
    "# # import matplotlib.pyplot as plt\n",
    "# #使用 plt 的 .boxplot() 方法绘制箱线图\n",
    "# plt.figure()\n",
    "# plt.subplot2grid((1,4),(0,0))\n",
    "\n",
    "# plt.subplot(111)\n",
    "# plt.boxplot(data_new.iloc[:,6:9])\n",
    "\n",
    "# plt.subplot(122)\n",
    "# plt.boxplot(data_new[\"PM_Dongsihuan\"])\n",
    "\n",
    "# plt.subplot(133)\n",
    "# plt.boxplot(data_new[\"PM_Nongzhanguan\"])\n",
    "\n",
    "# plt.subplot(142)\n",
    "# plt.boxplot(data_new[\"PM_US Post\"])\n",
    "# plt.show()"
   ]
  },
  {
   "cell_type": "code",
   "execution_count": 7,
   "metadata": {},
   "outputs": [
    {
     "data": {
      "text/plain": [
       "<matplotlib.axes._subplots.AxesSubplot at 0x24093f38cc8>"
      ]
     },
     "execution_count": 7,
     "metadata": {},
     "output_type": "execute_result"
    },
    {
     "data": {
      "image/png": "[encoded data removed]",
      "text/plain": [
       "<Figure size 432x288 with 1 Axes>"
      ]
     },
     "metadata": {
      "needs_background": "light"
     },
     "output_type": "display_data"
    }
   ],
   "source": [
    "data_new.iloc[:,6:9].plot.box()"
   ]
  },
  {
   "cell_type": "code",
   "execution_count": 8,
   "metadata": {},
   "outputs": [
    {
     "data": {
      "text/plain": [
       "array([[<matplotlib.axes._subplots.AxesSubplot object at 0x000002409845BB48>,\n",
       "        <matplotlib.axes._subplots.AxesSubplot object at 0x000002409849DF88>],\n",
       "       [<matplotlib.axes._subplots.AxesSubplot object at 0x00000240984D9848>,\n",
       "        <matplotlib.axes._subplots.AxesSubplot object at 0x0000024098511988>]],\n",
       "      dtype=object)"
      ]
     },
     "execution_count": 8,
     "metadata": {},
     "output_type": "execute_result"
    },
    {
     "data": {
      "image/png": "[encoded data removed]",
      "text/plain": [
       "<Figure size 432x288 with 4 Axes>"
      ]
     },
     "metadata": {
      "needs_background": "light"
     },
     "output_type": "display_data"
    }
   ],
   "source": [
    "data_new.iloc[:,6:10].hist()"
   ]
  },
  {
   "cell_type": "markdown",
   "metadata": {},
   "source": [
    "### 分组"
   ]
  },
  {
   "cell_type": "code",
   "execution_count": 9,
   "metadata": {},
   "outputs": [
    {
     "data": {
      "text/plain": [
       "27824    117.0\n",
       "27825    131.0\n",
       "27826    141.0\n",
       "27828    169.0\n",
       "27829    169.0\n",
       "Name: PM_Dongsi, dtype: float64"
      ]
     },
     "execution_count": 9,
     "metadata": {},
     "output_type": "execute_result"
    }
   ],
   "source": [
    "data_new.iloc[:,6].head()"
   ]
  },
  {
   "cell_type": "code",
   "execution_count": 10,
   "metadata": {},
   "outputs": [],
   "source": [
    "#  依据特征PM_dongsi创造离散特征\n",
    "PM_dongsi_new = []\n",
    "for PM in data_new.iloc[:,6]:\n",
    "    if 0 < PM <=35:\n",
    "        PM_dongsi_new.append(1)  #  良好\n",
    "    elif 35 < PM <= 75:\n",
    "        PM_dongsi_new.append(2)  # 轻度污染\n",
    "    elif 75 < PM <= 150:\n",
    "        PM_dongsi_new.append(3)  #中度污染\n",
    "    elif 150 < PM:\n",
    "        PM_dongsi_new.append(4)  #重度污染        \n",
    "#PM_dongsi_new\n",
    "a1=pd.Series(PM_dongsi_new)\n",
    "#data_new =pd.concat(['data_new','a'])\n",
    "b=a1.value_counts()"
   ]
  },
  {
   "cell_type": "markdown",
   "metadata": {},
   "source": [
    "## 1.不同程度的污染所占用的时间比例"
   ]
  },
  {
   "cell_type": "code",
   "execution_count": 11,
   "metadata": {},
   "outputs": [
    {
     "name": "stdout",
     "output_type": "stream",
     "text": [
      "['33%', '26%', '24%', '17%']\n"
     ]
    }
   ],
   "source": [
    "def list_sum(l):\n",
    "    sum=0\n",
    "    for item in l:\n",
    "        sum+=item\n",
    "    return sum\n",
    "b=a1.value_counts()\n",
    "l_new=list(map(lambda x:'{:.0%}'.format(x/list_sum(b)),b))\n",
    "print(l_new)"
   ]
  },
  {
   "cell_type": "code",
   "execution_count": 13,
   "metadata": {},
   "outputs": [
    {
     "name": "stdout",
     "output_type": "stream",
     "text": [
      "['30%', '27%', '24%', '19%']\n"
     ]
    }
   ],
   "source": [
    "#  依据特征PM_dongsi创造离散特征\n",
    "PM_dongsihuan_new = []\n",
    "for PM in data_new.iloc[:,7]:\n",
    "    if 0 < PM <=35:\n",
    "        PM_dongsihuan_new.append(1)  #  良好\n",
    "    elif 35 < PM <= 75:\n",
    "        PM_dongsihuan_new.append(2)  # 轻度污染\n",
    "    elif 75 < PM <= 150:\n",
    "        PM_dongsihuan_new.append(3)  #中度污染\n",
    "    elif 150 < PM:\n",
    "        PM_dongsihuan_new.append(4)  #重度污染        \n",
    "#PM_dongsi_new\n",
    "a2=pd.Series(PM_dongsihuan_new)\n",
    "#data_new =pd.concat(['data_new','a'])\n",
    "b=a2.value_counts()\n",
    "def list_sum(l):\n",
    "    sum=0\n",
    "    for item in l:\n",
    "        sum+=item\n",
    "    return sum\n",
    "c=a2.value_counts()\n",
    "l_new=list(map(lambda x:'{:.0%}'.format(x/list_sum(c)),c))\n",
    "print(l_new)"
   ]
  },
  {
   "cell_type": "code",
   "execution_count": 14,
   "metadata": {},
   "outputs": [
    {
     "name": "stdout",
     "output_type": "stream",
     "text": [
      "['33%', '26%', '24%', '17%']\n"
     ]
    }
   ],
   "source": [
    "#  依据特征PM_nongzhanguan创造离散特征\n",
    "PM_nongzhanguan_new = []\n",
    "for PM in data_new.iloc[:,8]:\n",
    "    if 0 < PM <=35:\n",
    "        PM_nongzhanguan_new.append(1)  #  良好\n",
    "    elif 35 < PM <= 75:\n",
    "        PM_nongzhanguan_new.append(2)  # 轻度污染\n",
    "    elif 75 < PM <= 150:\n",
    "        PM_nongzhanguan_new.append(3)  #中度污染\n",
    "    elif 150 < PM:\n",
    "        PM_nongzhanguan_new.append(4)  #重度污染        \n",
    "#PM_dongsi_new\n",
    "a3=pd.Series(PM_nongzhanguan_new)\n",
    "#data_new =pd.concat(['data_new','a'])\n",
    "d=a3.value_counts()\n",
    "def list_sum(l):\n",
    "    sum=0\n",
    "    for item in l:\n",
    "        sum+=item\n",
    "    return sum\n",
    "l_new=list(map(lambda x:'{:.0%}'.format(x/list_sum(d)),d))\n",
    "print(l_new)"
   ]
  },
  {
   "cell_type": "markdown",
   "metadata": {},
   "source": [
    "## 2.计算各个年度平均值"
   ]
  },
  {
   "cell_type": "code",
   "execution_count": 15,
   "metadata": {},
   "outputs": [
    {
     "data": {
      "text/html": [
       "<div>\n",
       "<style scoped>\n",
       "    .dataframe tbody tr th:only-of-type {\n",
       "        vertical-align: middle;\n",
       "    }\n",
       "\n",
       "    .dataframe tbody tr th {\n",
       "        vertical-align: top;\n",
       "    }\n",
       "\n",
       "    .dataframe thead th {\n",
       "        text-align: right;\n",
       "    }\n",
       "</style>\n",
       "<table border=\"1\" class=\"dataframe\">\n",
       "  <thead>\n",
       "    <tr style=\"text-align: right;\">\n",
       "      <th></th>\n",
       "      <th>No</th>\n",
       "      <th>year</th>\n",
       "      <th>month</th>\n",
       "      <th>day</th>\n",
       "      <th>hour</th>\n",
       "      <th>season</th>\n",
       "      <th>PM_Dongsi</th>\n",
       "      <th>PM_Dongsihuan</th>\n",
       "      <th>PM_Nongzhanguan</th>\n",
       "      <th>PM_US Post</th>\n",
       "      <th>DEWP</th>\n",
       "      <th>HUMI</th>\n",
       "      <th>PRES</th>\n",
       "      <th>TEMP</th>\n",
       "      <th>cbwd</th>\n",
       "      <th>Iws</th>\n",
       "      <th>precipitation</th>\n",
       "      <th>Iprec</th>\n",
       "    </tr>\n",
       "  </thead>\n",
       "  <tbody>\n",
       "    <tr>\n",
       "      <th>27824</th>\n",
       "      <td>27825</td>\n",
       "      <td>2013</td>\n",
       "      <td>3</td>\n",
       "      <td>5</td>\n",
       "      <td>8</td>\n",
       "      <td>1</td>\n",
       "      <td>117.0</td>\n",
       "      <td>166.0</td>\n",
       "      <td>140.0</td>\n",
       "      <td>150.0</td>\n",
       "      <td>-6.0</td>\n",
       "      <td>59.0</td>\n",
       "      <td>1019.0</td>\n",
       "      <td>1.0</td>\n",
       "      <td>cv</td>\n",
       "      <td>0.89</td>\n",
       "      <td>0.0</td>\n",
       "      <td>0.0</td>\n",
       "    </tr>\n",
       "    <tr>\n",
       "      <th>27825</th>\n",
       "      <td>27826</td>\n",
       "      <td>2013</td>\n",
       "      <td>3</td>\n",
       "      <td>5</td>\n",
       "      <td>9</td>\n",
       "      <td>1</td>\n",
       "      <td>131.0</td>\n",
       "      <td>165.0</td>\n",
       "      <td>152.0</td>\n",
       "      <td>163.0</td>\n",
       "      <td>-8.0</td>\n",
       "      <td>38.0</td>\n",
       "      <td>1019.0</td>\n",
       "      <td>5.0</td>\n",
       "      <td>cv</td>\n",
       "      <td>1.78</td>\n",
       "      <td>0.0</td>\n",
       "      <td>0.0</td>\n",
       "    </tr>\n",
       "    <tr>\n",
       "      <th>27826</th>\n",
       "      <td>27827</td>\n",
       "      <td>2013</td>\n",
       "      <td>3</td>\n",
       "      <td>5</td>\n",
       "      <td>10</td>\n",
       "      <td>1</td>\n",
       "      <td>141.0</td>\n",
       "      <td>173.0</td>\n",
       "      <td>128.0</td>\n",
       "      <td>172.0</td>\n",
       "      <td>-8.0</td>\n",
       "      <td>31.0</td>\n",
       "      <td>1018.0</td>\n",
       "      <td>8.0</td>\n",
       "      <td>cv</td>\n",
       "      <td>2.67</td>\n",
       "      <td>0.0</td>\n",
       "      <td>0.0</td>\n",
       "    </tr>\n",
       "    <tr>\n",
       "      <th>27828</th>\n",
       "      <td>27829</td>\n",
       "      <td>2013</td>\n",
       "      <td>3</td>\n",
       "      <td>5</td>\n",
       "      <td>12</td>\n",
       "      <td>1</td>\n",
       "      <td>169.0</td>\n",
       "      <td>182.0</td>\n",
       "      <td>3.0</td>\n",
       "      <td>181.0</td>\n",
       "      <td>-9.0</td>\n",
       "      <td>23.0</td>\n",
       "      <td>1017.0</td>\n",
       "      <td>11.0</td>\n",
       "      <td>cv</td>\n",
       "      <td>4.45</td>\n",
       "      <td>0.0</td>\n",
       "      <td>0.0</td>\n",
       "    </tr>\n",
       "    <tr>\n",
       "      <th>27829</th>\n",
       "      <td>27830</td>\n",
       "      <td>2013</td>\n",
       "      <td>3</td>\n",
       "      <td>5</td>\n",
       "      <td>13</td>\n",
       "      <td>1</td>\n",
       "      <td>169.0</td>\n",
       "      <td>169.0</td>\n",
       "      <td>3.0</td>\n",
       "      <td>187.0</td>\n",
       "      <td>-9.0</td>\n",
       "      <td>22.0</td>\n",
       "      <td>1015.0</td>\n",
       "      <td>12.0</td>\n",
       "      <td>cv</td>\n",
       "      <td>5.34</td>\n",
       "      <td>0.0</td>\n",
       "      <td>0.0</td>\n",
       "    </tr>\n",
       "  </tbody>\n",
       "</table>\n",
       "</div>"
      ],
      "text/plain": [
       "          No  year  month  day  hour  season  PM_Dongsi  PM_Dongsihuan  \\\n",
       "27824  27825  2013      3    5     8       1      117.0          166.0   \n",
       "27825  27826  2013      3    5     9       1      131.0          165.0   \n",
       "27826  27827  2013      3    5    10       1      141.0          173.0   \n",
       "27828  27829  2013      3    5    12       1      169.0          182.0   \n",
       "27829  27830  2013      3    5    13       1      169.0          169.0   \n",
       "\n",
       "       PM_Nongzhanguan  PM_US Post  DEWP  HUMI    PRES  TEMP cbwd   Iws  \\\n",
       "27824            140.0       150.0  -6.0  59.0  1019.0   1.0   cv  0.89   \n",
       "27825            152.0       163.0  -8.0  38.0  1019.0   5.0   cv  1.78   \n",
       "27826            128.0       172.0  -8.0  31.0  1018.0   8.0   cv  2.67   \n",
       "27828              3.0       181.0  -9.0  23.0  1017.0  11.0   cv  4.45   \n",
       "27829              3.0       187.0  -9.0  22.0  1015.0  12.0   cv  5.34   \n",
       "\n",
       "       precipitation  Iprec  \n",
       "27824            0.0    0.0  \n",
       "27825            0.0    0.0  \n",
       "27826            0.0    0.0  \n",
       "27828            0.0    0.0  \n",
       "27829            0.0    0.0  "
      ]
     },
     "execution_count": 15,
     "metadata": {},
     "output_type": "execute_result"
    }
   ],
   "source": [
    "data_new.head()"
   ]
  },
  {
   "cell_type": "code",
   "execution_count": 16,
   "metadata": {},
   "outputs": [
    {
     "data": {
      "text/plain": [
       "month\n",
       "3     117.474026\n",
       "4      64.149618\n",
       "5      90.085169\n",
       "6     110.403263\n",
       "7      72.196013\n",
       "8      64.064815\n",
       "9      83.837633\n",
       "10    103.003236\n",
       "11     82.899718\n",
       "12     88.823270\n",
       "Name: PM_Dongsi, dtype: float64"
      ]
     },
     "execution_count": 16,
     "metadata": {},
     "output_type": "execute_result"
    }
   ],
   "source": [
    "data1=data_new.groupby(['year', 'month'])['PM_Dongsi'].mean()\n",
    "data1[2013]"
   ]
  },
  {
   "cell_type": "code",
   "execution_count": 17,
   "metadata": {},
   "outputs": [
    {
     "data": {
      "text/plain": [
       "month\n",
       "3     128.043831\n",
       "4      63.024427\n",
       "5     100.339207\n",
       "6     119.573427\n",
       "7      85.393688\n",
       "8      70.208333\n",
       "9      82.992413\n",
       "10    101.637540\n",
       "11     83.889831\n",
       "12     93.571429\n",
       "Name: PM_Dongsihuan, dtype: float64"
      ]
     },
     "execution_count": 17,
     "metadata": {},
     "output_type": "execute_result"
    }
   ],
   "source": [
    "data2=data_new.groupby(['year', 'month'])['PM_Dongsihuan'].mean()\n",
    "data2[2013]"
   ]
  },
  {
   "cell_type": "code",
   "execution_count": 18,
   "metadata": {},
   "outputs": [
    {
     "data": {
      "text/plain": [
       "month\n",
       "3     115.670455\n",
       "4      56.691603\n",
       "5      75.609398\n",
       "6     108.643357\n",
       "7      74.737542\n",
       "8      64.655864\n",
       "9      81.059181\n",
       "10     94.800971\n",
       "11     83.274011\n",
       "12     91.371134\n",
       "Name: PM_Nongzhanguan, dtype: float64"
      ]
     },
     "execution_count": 18,
     "metadata": {},
     "output_type": "execute_result"
    }
   ],
   "source": [
    "data3=data_new.groupby(['year', 'month'])['PM_Nongzhanguan'].mean()\n",
    "data3[2013]"
   ]
  },
  {
   "cell_type": "code",
   "execution_count": null,
   "metadata": {},
   "outputs": [],
   "source": []
  }
 ],
 "metadata": {
  "kernelspec": {
   "display_name": "Python 3",
   "language": "python",
   "name": "python3"
  },
  "language_info": {
   "codemirror_mode": {
    "name": "ipython",
    "version": 3
   },
   "file_extension": ".py",
   "mimetype": "text/x-python",
   "name": "python",
   "nbconvert_exporter": "python",
   "pygments_lexer": "ipython3",
   "version": "3.7.6"
  }
 },
 "nbformat": 4,
 "nbformat_minor": 4
}
