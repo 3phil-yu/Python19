{
 "cells": [
  {
   "cell_type": "code",
   "execution_count": null,
   "metadata": {},
   "outputs": [],
   "source": [
    "import numpy as np\n",
    "def net(x1,x2):\n",
    "    #x1=int(input('输入的第一个数：'))#输入值1\n",
    "    #x2=int(input('输入的第二个数：'))#输入值2\n",
    "    x1=int(x1)\n",
    "    x2=int(x2)\n",
    "    x = np.array([x1, x2])\n",
    "    w = np.array([5, 6])  #权值\n",
    "    c = np.array([5, 6])\n",
    "    ans1=np.dot(x,w)+c #点乘计算\n",
    "    finalans=1/(1+np.exp(-x)) #经过激励函数sigmoid计算，最终输出\n",
    "    return(finalans)"
   ]
  },
  {
   "cell_type": "code",
   "execution_count": null,
   "metadata": {},
   "outputs": [],
   "source": [
    "a=net(1,2)\n",
    "print(a)"
   ]
  },
  {
   "cell_type": "code",
   "execution_count": null,
   "metadata": {},
   "outputs": [],
   "source": [
    "import numpy as np\n",
    "x1=int(input('输入的第一个数：'))#输入值1\n",
    "x2=int(input('输入的第二个数：'))#输入值2\n",
    "x1=int(x1)\n",
    "x2=int(x2)\n",
    "x = np.array([x1, x2])\n",
    "w = np.array([5, 6])  #权值\n",
    "c = np.array([5, 6])\n",
    "ans1=np.dot(x,w)+c #点乘计算\n",
    "finalans=1/(1+np.exp(-x)) #经过激励函数sigmoid计算，最终输出\n",
    "finalans"
   ]
  },
  {
   "cell_type": "code",
   "execution_count": null,
   "metadata": {},
   "outputs": [],
   "source": []
  }
 ],
 "metadata": {
  "kernelspec": {
   "display_name": "Python 3",
   "language": "python",
   "name": "python3"
  },
  "language_info": {
   "codemirror_mode": {
    "name": "ipython",
    "version": 3
   },
   "file_extension": ".py",
   "mimetype": "text/x-python",
   "name": "python",
   "nbconvert_exporter": "python",
   "pygments_lexer": "ipython3",
   "version": "3.7.6"
  }
 },
 "nbformat": 4,
 "nbformat_minor": 4
}
