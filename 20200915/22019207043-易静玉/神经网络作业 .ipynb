{
 "cells": [
  {
   "cell_type": "code",
   "execution_count": 1,
   "metadata": {},
   "outputs": [],
   "source": [
    "#导入numpy包\n",
    "import numpy as np\n",
    "    # 定义激活函数 f(x) = 1 / (1 * e^(-x))\n",
    "def sigmoid(x):\n",
    "    return 1 / (1 + np.exp(-x))\n",
    "\n",
    "class Neuron():\n",
    "    def __init__(self, weights, bias):\n",
    "        self.weights = weights\n",
    "        self.bias = bias\n",
    "#定义神经网络表达式   \n",
    "    def feedforward(self, inputs):\n",
    "        total = np.dot(self.weights, inputs) + self.bias\n",
    "        return sigmoid(total)"
   ]
  },
  {
   "cell_type": "code",
   "execution_count": 2,
   "metadata": {},
   "outputs": [],
   "source": [
    "#设定输入节点x(n=4)个,输出节点y(m=5)个   \n",
    "weights = np.array([0.1,0.2,0.3,0.4]) # w1 =0.1,w2=0.2,w3=0.3,w4=0.4\n",
    "bias= np.array([4,5,6,7,8])\n",
    "n = Neuron(weights, bias)"
   ]
  },
  {
   "cell_type": "code",
   "execution_count": 3,
   "metadata": {},
   "outputs": [
    {
     "name": "stdout",
     "output_type": "stream",
     "text": [
      "[0.99966465 0.99987661 0.9999546  0.9999833  0.99999386]\n"
     ]
    }
   ],
   "source": [
    "# 输入x的标本取值\n",
    "x = np.array([2,3,4,5])   # x1 = 2, x2 = 3,x3=4,x5=5\n",
    "#输出y\n",
    "y=print(n.feedforward(x))\n",
    "y\n",
    "#print(numpy.around(n.feedforward(x), decimals=16)）# y=[]0.99966465 0.99987661 0.9999546  0.9999833  0.9999938"
   ]
  },
  {
   "cell_type": "code",
   "execution_count": null,
   "metadata": {},
   "outputs": [],
   "source": []
  }
 ],
 "metadata": {
  "kernelspec": {
   "display_name": "Python 3",
   "language": "python",
   "name": "python3"
  },
  "language_info": {
   "codemirror_mode": {
    "name": "ipython",
    "version": 3
   },
   "file_extension": ".py",
   "mimetype": "text/x-python",
   "name": "python",
   "nbconvert_exporter": "python",
   "pygments_lexer": "ipython3",
   "version": "3.7.0"
  }
 },
 "nbformat": 4,
 "nbformat_minor": 2
}
