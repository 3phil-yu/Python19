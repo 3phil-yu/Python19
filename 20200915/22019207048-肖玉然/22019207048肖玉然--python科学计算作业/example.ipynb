{
 "cells": [
  {
   "cell_type": "code",
   "execution_count": 1,
   "metadata": {},
   "outputs": [],
   "source": [
    "import numpy as np"
   ]
  },
  {
   "cell_type": "code",
   "execution_count": null,
   "metadata": {},
   "outputs": [],
   "source": [
    "#Sigmoid函数，对输入的加权总和做正规化，范围在0~1\n",
    "    def sigmoid(self, x):\n",
    "            return 1 / (1 + np.exp(-x))"
   ]
  },
  {
   "cell_type": "code",
   "execution_count": null,
   "metadata": {},
   "outputs": [],
   "source": [
    "    def init_params(self):\n",
    "        np.random.seed(0)\n",
    "        layers = self.layers\n",
    "        hidden_layer_num = len(layers) - 1\n",
    "        Ws = [1] * hidden_layer_num\n",
    "        bs = [1] * hidden_layer_num\n",
    "        for i in range(0, hidden_layer_num):\n",
    "            Ws[i] = np.random.randn(layers[i], layers[i + 1]) / np.sqrt(layers[i])\n",
    "            bs[i] = np.zeros((1, layers[i + 1]))\n",
    "        self.Ws = Ws \n",
    "        self.bs = bs"
   ]
  },
  {
   "cell_type": "code",
   "execution_count": null,
   "metadata": {},
   "outputs": [],
   "source": [
    "def forward(network,x):\n",
    "    network=network()\n",
    "    x=np.array([1,1],[2,0])\n",
    "    y=forward(network,x)\n",
    "    print(y)"
   ]
  }
 ],
 "metadata": {
  "kernelspec": {
   "display_name": "Python 3",
   "language": "python",
   "name": "python3"
  },
  "language_info": {
   "codemirror_mode": {
    "name": "ipython",
    "version": 3
   },
   "file_extension": ".py",
   "mimetype": "text/x-python",
   "name": "python",
   "nbconvert_exporter": "python",
   "pygments_lexer": "ipython3",
   "version": "3.7.4"
  }
 },
 "nbformat": 4,
 "nbformat_minor": 4
}
