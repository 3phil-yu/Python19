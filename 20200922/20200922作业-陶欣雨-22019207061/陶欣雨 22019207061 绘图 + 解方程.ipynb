{
 "cells": [
  {
   "cell_type": "code",
   "execution_count": 1,
   "metadata": {},
   "outputs": [],
   "source": [
    "import pandas as pd\n",
    "import numpy as np\n",
    "data=pd.read_csv('WorldIndex.csv')"
   ]
  },
  {
   "cell_type": "markdown",
   "metadata": {},
   "source": [
    "去除空值"
   ]
  },
  {
   "cell_type": "code",
   "execution_count": 2,
   "metadata": {
    "scrolled": true
   },
   "outputs": [
    {
     "data": {
      "text/html": [
       "<div>\n",
       "<style scoped>\n",
       "    .dataframe tbody tr th:only-of-type {\n",
       "        vertical-align: middle;\n",
       "    }\n",
       "\n",
       "    .dataframe tbody tr th {\n",
       "        vertical-align: top;\n",
       "    }\n",
       "\n",
       "    .dataframe thead th {\n",
       "        text-align: right;\n",
       "    }\n",
       "</style>\n",
       "<table border=\"1\" class=\"dataframe\">\n",
       "  <thead>\n",
       "    <tr style=\"text-align: right;\">\n",
       "      <th></th>\n",
       "      <th>Country</th>\n",
       "      <th>Continent</th>\n",
       "      <th>Life_expectancy</th>\n",
       "      <th>GDP_per_capita</th>\n",
       "      <th>Population</th>\n",
       "    </tr>\n",
       "  </thead>\n",
       "  <tbody>\n",
       "    <tr>\n",
       "      <th>0</th>\n",
       "      <td>Algeria</td>\n",
       "      <td>Africa</td>\n",
       "      <td>75.042537</td>\n",
       "      <td>4132.760292</td>\n",
       "      <td>39871528.0</td>\n",
       "    </tr>\n",
       "    <tr>\n",
       "      <th>1</th>\n",
       "      <td>Angola</td>\n",
       "      <td>Africa</td>\n",
       "      <td>52.666098</td>\n",
       "      <td>3695.793748</td>\n",
       "      <td>27859305.0</td>\n",
       "    </tr>\n",
       "    <tr>\n",
       "      <th>2</th>\n",
       "      <td>Benin</td>\n",
       "      <td>Africa</td>\n",
       "      <td>59.720707</td>\n",
       "      <td>783.947091</td>\n",
       "      <td>10575952.0</td>\n",
       "    </tr>\n",
       "    <tr>\n",
       "      <th>3</th>\n",
       "      <td>Botswana</td>\n",
       "      <td>Africa</td>\n",
       "      <td>64.487415</td>\n",
       "      <td>6532.060501</td>\n",
       "      <td>2209197.0</td>\n",
       "    </tr>\n",
       "    <tr>\n",
       "      <th>4</th>\n",
       "      <td>Burundi</td>\n",
       "      <td>Africa</td>\n",
       "      <td>57.107049</td>\n",
       "      <td>303.681022</td>\n",
       "      <td>10199270.0</td>\n",
       "    </tr>\n",
       "    <tr>\n",
       "      <th>5</th>\n",
       "      <td>Cameroon</td>\n",
       "      <td>Africa</td>\n",
       "      <td>55.934390</td>\n",
       "      <td>1244.429421</td>\n",
       "      <td>22834522.0</td>\n",
       "    </tr>\n",
       "    <tr>\n",
       "      <th>6</th>\n",
       "      <td>Central African Republic</td>\n",
       "      <td>Africa</td>\n",
       "      <td>51.419122</td>\n",
       "      <td>348.381417</td>\n",
       "      <td>4546100.0</td>\n",
       "    </tr>\n",
       "    <tr>\n",
       "      <th>7</th>\n",
       "      <td>Chad</td>\n",
       "      <td>Africa</td>\n",
       "      <td>51.873317</td>\n",
       "      <td>777.248705</td>\n",
       "      <td>14009413.0</td>\n",
       "    </tr>\n",
       "    <tr>\n",
       "      <th>8</th>\n",
       "      <td>Comoros</td>\n",
       "      <td>Africa</td>\n",
       "      <td>63.554024</td>\n",
       "      <td>727.646387</td>\n",
       "      <td>777424.0</td>\n",
       "    </tr>\n",
       "    <tr>\n",
       "      <th>9</th>\n",
       "      <td>Congo</td>\n",
       "      <td>Africa</td>\n",
       "      <td>62.867659</td>\n",
       "      <td>1712.121131</td>\n",
       "      <td>4995648.0</td>\n",
       "    </tr>\n",
       "    <tr>\n",
       "      <th>10</th>\n",
       "      <td>Djibouti</td>\n",
       "      <td>Africa</td>\n",
       "      <td>62.285659</td>\n",
       "      <td>1862.167274</td>\n",
       "      <td>927414.0</td>\n",
       "    </tr>\n",
       "    <tr>\n",
       "      <th>11</th>\n",
       "      <td>Egypt</td>\n",
       "      <td>Africa</td>\n",
       "      <td>71.316951</td>\n",
       "      <td>3547.713012</td>\n",
       "      <td>93778172.0</td>\n",
       "    </tr>\n",
       "    <tr>\n",
       "      <th>12</th>\n",
       "      <td>Equatorial Guinea</td>\n",
       "      <td>Africa</td>\n",
       "      <td>57.963415</td>\n",
       "      <td>10347.312570</td>\n",
       "      <td>1175389.0</td>\n",
       "    </tr>\n",
       "    <tr>\n",
       "      <th>14</th>\n",
       "      <td>Ethiopia</td>\n",
       "      <td>Africa</td>\n",
       "      <td>64.578049</td>\n",
       "      <td>645.463763</td>\n",
       "      <td>99873033.0</td>\n",
       "    </tr>\n",
       "    <tr>\n",
       "      <th>15</th>\n",
       "      <td>Gabon</td>\n",
       "      <td>Africa</td>\n",
       "      <td>64.890341</td>\n",
       "      <td>7388.984144</td>\n",
       "      <td>1930175.0</td>\n",
       "    </tr>\n",
       "    <tr>\n",
       "      <th>16</th>\n",
       "      <td>Gambia</td>\n",
       "      <td>Africa</td>\n",
       "      <td>60.467683</td>\n",
       "      <td>474.716559</td>\n",
       "      <td>1977590.0</td>\n",
       "    </tr>\n",
       "    <tr>\n",
       "      <th>17</th>\n",
       "      <td>Ghana</td>\n",
       "      <td>Africa</td>\n",
       "      <td>61.491732</td>\n",
       "      <td>1361.113905</td>\n",
       "      <td>27582821.0</td>\n",
       "    </tr>\n",
       "    <tr>\n",
       "      <th>18</th>\n",
       "      <td>Guinea</td>\n",
       "      <td>Africa</td>\n",
       "      <td>59.193439</td>\n",
       "      <td>554.040877</td>\n",
       "      <td>12091533.0</td>\n",
       "    </tr>\n",
       "    <tr>\n",
       "      <th>19</th>\n",
       "      <td>Guinea-Bissau</td>\n",
       "      <td>Africa</td>\n",
       "      <td>55.467317</td>\n",
       "      <td>596.871719</td>\n",
       "      <td>1770526.0</td>\n",
       "    </tr>\n",
       "    <tr>\n",
       "      <th>20</th>\n",
       "      <td>Kenya</td>\n",
       "      <td>Africa</td>\n",
       "      <td>62.133732</td>\n",
       "      <td>1349.970144</td>\n",
       "      <td>47236259.0</td>\n",
       "    </tr>\n",
       "    <tr>\n",
       "      <th>21</th>\n",
       "      <td>Lesotho</td>\n",
       "      <td>Africa</td>\n",
       "      <td>49.961220</td>\n",
       "      <td>1073.828093</td>\n",
       "      <td>2174645.0</td>\n",
       "    </tr>\n",
       "    <tr>\n",
       "      <th>22</th>\n",
       "      <td>Liberia</td>\n",
       "      <td>Africa</td>\n",
       "      <td>61.160951</td>\n",
       "      <td>452.038072</td>\n",
       "      <td>4499621.0</td>\n",
       "    </tr>\n",
       "    <tr>\n",
       "      <th>24</th>\n",
       "      <td>Madagascar</td>\n",
       "      <td>Africa</td>\n",
       "      <td>65.482780</td>\n",
       "      <td>401.857595</td>\n",
       "      <td>24234088.0</td>\n",
       "    </tr>\n",
       "    <tr>\n",
       "      <th>25</th>\n",
       "      <td>Malawi</td>\n",
       "      <td>Africa</td>\n",
       "      <td>63.796854</td>\n",
       "      <td>362.657544</td>\n",
       "      <td>17573607.0</td>\n",
       "    </tr>\n",
       "    <tr>\n",
       "      <th>26</th>\n",
       "      <td>Mali</td>\n",
       "      <td>Africa</td>\n",
       "      <td>58.457220</td>\n",
       "      <td>729.720534</td>\n",
       "      <td>17467905.0</td>\n",
       "    </tr>\n",
       "    <tr>\n",
       "      <th>27</th>\n",
       "      <td>Mauritania</td>\n",
       "      <td>Africa</td>\n",
       "      <td>63.202829</td>\n",
       "      <td>1158.256469</td>\n",
       "      <td>4182341.0</td>\n",
       "    </tr>\n",
       "    <tr>\n",
       "      <th>28</th>\n",
       "      <td>Mauritius</td>\n",
       "      <td>Africa</td>\n",
       "      <td>74.353171</td>\n",
       "      <td>9252.110724</td>\n",
       "      <td>1262605.0</td>\n",
       "    </tr>\n",
       "    <tr>\n",
       "      <th>29</th>\n",
       "      <td>Morocco</td>\n",
       "      <td>Africa</td>\n",
       "      <td>74.289317</td>\n",
       "      <td>2847.285569</td>\n",
       "      <td>34803322.0</td>\n",
       "    </tr>\n",
       "    <tr>\n",
       "      <th>30</th>\n",
       "      <td>Mozambique</td>\n",
       "      <td>Africa</td>\n",
       "      <td>55.371244</td>\n",
       "      <td>528.312560</td>\n",
       "      <td>28010691.0</td>\n",
       "    </tr>\n",
       "    <tr>\n",
       "      <th>31</th>\n",
       "      <td>Namibia</td>\n",
       "      <td>Africa</td>\n",
       "      <td>64.915439</td>\n",
       "      <td>4737.669906</td>\n",
       "      <td>2425561.0</td>\n",
       "    </tr>\n",
       "    <tr>\n",
       "      <th>...</th>\n",
       "      <td>...</td>\n",
       "      <td>...</td>\n",
       "      <td>...</td>\n",
       "      <td>...</td>\n",
       "      <td>...</td>\n",
       "    </tr>\n",
       "    <tr>\n",
       "      <th>141</th>\n",
       "      <td>Grenada</td>\n",
       "      <td>North America</td>\n",
       "      <td>73.523000</td>\n",
       "      <td>9212.192824</td>\n",
       "      <td>106823.0</td>\n",
       "    </tr>\n",
       "    <tr>\n",
       "      <th>142</th>\n",
       "      <td>Guatemala</td>\n",
       "      <td>North America</td>\n",
       "      <td>71.956488</td>\n",
       "      <td>3923.573344</td>\n",
       "      <td>16252429.0</td>\n",
       "    </tr>\n",
       "    <tr>\n",
       "      <th>143</th>\n",
       "      <td>Haiti</td>\n",
       "      <td>North America</td>\n",
       "      <td>63.073756</td>\n",
       "      <td>814.546395</td>\n",
       "      <td>10711061.0</td>\n",
       "    </tr>\n",
       "    <tr>\n",
       "      <th>144</th>\n",
       "      <td>Honduras</td>\n",
       "      <td>North America</td>\n",
       "      <td>73.333122</td>\n",
       "      <td>2326.158506</td>\n",
       "      <td>8960829.0</td>\n",
       "    </tr>\n",
       "    <tr>\n",
       "      <th>145</th>\n",
       "      <td>Jamaica</td>\n",
       "      <td>North America</td>\n",
       "      <td>75.798171</td>\n",
       "      <td>4965.989857</td>\n",
       "      <td>2871934.0</td>\n",
       "    </tr>\n",
       "    <tr>\n",
       "      <th>146</th>\n",
       "      <td>Mexico</td>\n",
       "      <td>North America</td>\n",
       "      <td>76.920683</td>\n",
       "      <td>9143.128494</td>\n",
       "      <td>125890949.0</td>\n",
       "    </tr>\n",
       "    <tr>\n",
       "      <th>147</th>\n",
       "      <td>Nicaragua</td>\n",
       "      <td>North America</td>\n",
       "      <td>75.098122</td>\n",
       "      <td>2095.966488</td>\n",
       "      <td>6082035.0</td>\n",
       "    </tr>\n",
       "    <tr>\n",
       "      <th>148</th>\n",
       "      <td>Panama</td>\n",
       "      <td>North America</td>\n",
       "      <td>77.767293</td>\n",
       "      <td>13134.043670</td>\n",
       "      <td>3969249.0</td>\n",
       "    </tr>\n",
       "    <tr>\n",
       "      <th>149</th>\n",
       "      <td>Trinidad and Tobago</td>\n",
       "      <td>North America</td>\n",
       "      <td>70.557707</td>\n",
       "      <td>17321.833730</td>\n",
       "      <td>1360092.0</td>\n",
       "    </tr>\n",
       "    <tr>\n",
       "      <th>150</th>\n",
       "      <td>United States</td>\n",
       "      <td>North America</td>\n",
       "      <td>78.741463</td>\n",
       "      <td>56207.036750</td>\n",
       "      <td>320896618.0</td>\n",
       "    </tr>\n",
       "    <tr>\n",
       "      <th>151</th>\n",
       "      <td>Australia</td>\n",
       "      <td>Oceania</td>\n",
       "      <td>82.451220</td>\n",
       "      <td>56554.038760</td>\n",
       "      <td>23789338.0</td>\n",
       "    </tr>\n",
       "    <tr>\n",
       "      <th>152</th>\n",
       "      <td>Fiji</td>\n",
       "      <td>Oceania</td>\n",
       "      <td>70.256268</td>\n",
       "      <td>4921.896209</td>\n",
       "      <td>892149.0</td>\n",
       "    </tr>\n",
       "    <tr>\n",
       "      <th>153</th>\n",
       "      <td>Kiribati</td>\n",
       "      <td>Oceania</td>\n",
       "      <td>66.147854</td>\n",
       "      <td>1424.483611</td>\n",
       "      <td>112407.0</td>\n",
       "    </tr>\n",
       "    <tr>\n",
       "      <th>155</th>\n",
       "      <td>Micronesia</td>\n",
       "      <td>Oceania</td>\n",
       "      <td>69.234244</td>\n",
       "      <td>3016.011223</td>\n",
       "      <td>104433.0</td>\n",
       "    </tr>\n",
       "    <tr>\n",
       "      <th>157</th>\n",
       "      <td>New Zealand</td>\n",
       "      <td>Oceania</td>\n",
       "      <td>81.456829</td>\n",
       "      <td>38201.890370</td>\n",
       "      <td>4595700.0</td>\n",
       "    </tr>\n",
       "    <tr>\n",
       "      <th>160</th>\n",
       "      <td>Samoa</td>\n",
       "      <td>Oceania</td>\n",
       "      <td>73.764878</td>\n",
       "      <td>4149.363444</td>\n",
       "      <td>193759.0</td>\n",
       "    </tr>\n",
       "    <tr>\n",
       "      <th>161</th>\n",
       "      <td>Solomon Islands</td>\n",
       "      <td>Oceania</td>\n",
       "      <td>68.146244</td>\n",
       "      <td>1922.041388</td>\n",
       "      <td>587482.0</td>\n",
       "    </tr>\n",
       "    <tr>\n",
       "      <th>162</th>\n",
       "      <td>Tonga</td>\n",
       "      <td>Oceania</td>\n",
       "      <td>72.944049</td>\n",
       "      <td>4093.775387</td>\n",
       "      <td>106364.0</td>\n",
       "    </tr>\n",
       "    <tr>\n",
       "      <th>164</th>\n",
       "      <td>Vanuatu</td>\n",
       "      <td>Oceania</td>\n",
       "      <td>72.157366</td>\n",
       "      <td>2805.834140</td>\n",
       "      <td>264603.0</td>\n",
       "    </tr>\n",
       "    <tr>\n",
       "      <th>165</th>\n",
       "      <td>Argentina</td>\n",
       "      <td>South America</td>\n",
       "      <td>76.334220</td>\n",
       "      <td>13467.102360</td>\n",
       "      <td>43417765.0</td>\n",
       "    </tr>\n",
       "    <tr>\n",
       "      <th>166</th>\n",
       "      <td>Bolivia</td>\n",
       "      <td>South America</td>\n",
       "      <td>68.739610</td>\n",
       "      <td>3077.026199</td>\n",
       "      <td>10724705.0</td>\n",
       "    </tr>\n",
       "    <tr>\n",
       "      <th>167</th>\n",
       "      <td>Brazil</td>\n",
       "      <td>South America</td>\n",
       "      <td>74.675878</td>\n",
       "      <td>8757.206202</td>\n",
       "      <td>205962108.0</td>\n",
       "    </tr>\n",
       "    <tr>\n",
       "      <th>168</th>\n",
       "      <td>Chile</td>\n",
       "      <td>South America</td>\n",
       "      <td>81.787561</td>\n",
       "      <td>13653.226730</td>\n",
       "      <td>17762681.0</td>\n",
       "    </tr>\n",
       "    <tr>\n",
       "      <th>169</th>\n",
       "      <td>Colombia</td>\n",
       "      <td>South America</td>\n",
       "      <td>74.182024</td>\n",
       "      <td>6044.525556</td>\n",
       "      <td>48228697.0</td>\n",
       "    </tr>\n",
       "    <tr>\n",
       "      <th>170</th>\n",
       "      <td>Ecuador</td>\n",
       "      <td>South America</td>\n",
       "      <td>76.102927</td>\n",
       "      <td>6205.062224</td>\n",
       "      <td>16144368.0</td>\n",
       "    </tr>\n",
       "    <tr>\n",
       "      <th>171</th>\n",
       "      <td>Guyana</td>\n",
       "      <td>South America</td>\n",
       "      <td>66.507512</td>\n",
       "      <td>4136.689919</td>\n",
       "      <td>768514.0</td>\n",
       "    </tr>\n",
       "    <tr>\n",
       "      <th>172</th>\n",
       "      <td>Paraguay</td>\n",
       "      <td>South America</td>\n",
       "      <td>73.025634</td>\n",
       "      <td>4109.367724</td>\n",
       "      <td>6639119.0</td>\n",
       "    </tr>\n",
       "    <tr>\n",
       "      <th>173</th>\n",
       "      <td>Peru</td>\n",
       "      <td>South America</td>\n",
       "      <td>74.780732</td>\n",
       "      <td>6030.343259</td>\n",
       "      <td>31376671.0</td>\n",
       "    </tr>\n",
       "    <tr>\n",
       "      <th>174</th>\n",
       "      <td>Suriname</td>\n",
       "      <td>South America</td>\n",
       "      <td>71.294171</td>\n",
       "      <td>8818.982566</td>\n",
       "      <td>553208.0</td>\n",
       "    </tr>\n",
       "    <tr>\n",
       "      <th>175</th>\n",
       "      <td>Uruguay</td>\n",
       "      <td>South America</td>\n",
       "      <td>77.138220</td>\n",
       "      <td>15524.842470</td>\n",
       "      <td>3431552.0</td>\n",
       "    </tr>\n",
       "  </tbody>\n",
       "</table>\n",
       "<p>164 rows × 5 columns</p>\n",
       "</div>"
      ],
      "text/plain": [
       "                      Country      Continent  Life_expectancy  GDP_per_capita  \\\n",
       "0                     Algeria         Africa        75.042537     4132.760292   \n",
       "1                      Angola         Africa        52.666098     3695.793748   \n",
       "2                       Benin         Africa        59.720707      783.947091   \n",
       "3                    Botswana         Africa        64.487415     6532.060501   \n",
       "4                     Burundi         Africa        57.107049      303.681022   \n",
       "5                    Cameroon         Africa        55.934390     1244.429421   \n",
       "6    Central African Republic         Africa        51.419122      348.381417   \n",
       "7                        Chad         Africa        51.873317      777.248705   \n",
       "8                     Comoros         Africa        63.554024      727.646387   \n",
       "9                       Congo         Africa        62.867659     1712.121131   \n",
       "10                   Djibouti         Africa        62.285659     1862.167274   \n",
       "11                      Egypt         Africa        71.316951     3547.713012   \n",
       "12          Equatorial Guinea         Africa        57.963415    10347.312570   \n",
       "14                   Ethiopia         Africa        64.578049      645.463763   \n",
       "15                      Gabon         Africa        64.890341     7388.984144   \n",
       "16                     Gambia         Africa        60.467683      474.716559   \n",
       "17                      Ghana         Africa        61.491732     1361.113905   \n",
       "18                     Guinea         Africa        59.193439      554.040877   \n",
       "19              Guinea-Bissau         Africa        55.467317      596.871719   \n",
       "20                      Kenya         Africa        62.133732     1349.970144   \n",
       "21                    Lesotho         Africa        49.961220     1073.828093   \n",
       "22                    Liberia         Africa        61.160951      452.038072   \n",
       "24                 Madagascar         Africa        65.482780      401.857595   \n",
       "25                     Malawi         Africa        63.796854      362.657544   \n",
       "26                       Mali         Africa        58.457220      729.720534   \n",
       "27                 Mauritania         Africa        63.202829     1158.256469   \n",
       "28                  Mauritius         Africa        74.353171     9252.110724   \n",
       "29                    Morocco         Africa        74.289317     2847.285569   \n",
       "30                 Mozambique         Africa        55.371244      528.312560   \n",
       "31                    Namibia         Africa        64.915439     4737.669906   \n",
       "..                        ...            ...              ...             ...   \n",
       "141                   Grenada  North America        73.523000     9212.192824   \n",
       "142                 Guatemala  North America        71.956488     3923.573344   \n",
       "143                     Haiti  North America        63.073756      814.546395   \n",
       "144                  Honduras  North America        73.333122     2326.158506   \n",
       "145                   Jamaica  North America        75.798171     4965.989857   \n",
       "146                    Mexico  North America        76.920683     9143.128494   \n",
       "147                 Nicaragua  North America        75.098122     2095.966488   \n",
       "148                    Panama  North America        77.767293    13134.043670   \n",
       "149       Trinidad and Tobago  North America        70.557707    17321.833730   \n",
       "150             United States  North America        78.741463    56207.036750   \n",
       "151                 Australia        Oceania        82.451220    56554.038760   \n",
       "152                      Fiji        Oceania        70.256268     4921.896209   \n",
       "153                  Kiribati        Oceania        66.147854     1424.483611   \n",
       "155                Micronesia        Oceania        69.234244     3016.011223   \n",
       "157               New Zealand        Oceania        81.456829    38201.890370   \n",
       "160                     Samoa        Oceania        73.764878     4149.363444   \n",
       "161           Solomon Islands        Oceania        68.146244     1922.041388   \n",
       "162                     Tonga        Oceania        72.944049     4093.775387   \n",
       "164                   Vanuatu        Oceania        72.157366     2805.834140   \n",
       "165                 Argentina  South America        76.334220    13467.102360   \n",
       "166                   Bolivia  South America        68.739610     3077.026199   \n",
       "167                    Brazil  South America        74.675878     8757.206202   \n",
       "168                     Chile  South America        81.787561    13653.226730   \n",
       "169                  Colombia  South America        74.182024     6044.525556   \n",
       "170                   Ecuador  South America        76.102927     6205.062224   \n",
       "171                    Guyana  South America        66.507512     4136.689919   \n",
       "172                  Paraguay  South America        73.025634     4109.367724   \n",
       "173                      Peru  South America        74.780732     6030.343259   \n",
       "174                  Suriname  South America        71.294171     8818.982566   \n",
       "175                   Uruguay  South America        77.138220    15524.842470   \n",
       "\n",
       "      Population  \n",
       "0     39871528.0  \n",
       "1     27859305.0  \n",
       "2     10575952.0  \n",
       "3      2209197.0  \n",
       "4     10199270.0  \n",
       "5     22834522.0  \n",
       "6      4546100.0  \n",
       "7     14009413.0  \n",
       "8       777424.0  \n",
       "9      4995648.0  \n",
       "10      927414.0  \n",
       "11    93778172.0  \n",
       "12     1175389.0  \n",
       "14    99873033.0  \n",
       "15     1930175.0  \n",
       "16     1977590.0  \n",
       "17    27582821.0  \n",
       "18    12091533.0  \n",
       "19     1770526.0  \n",
       "20    47236259.0  \n",
       "21     2174645.0  \n",
       "22     4499621.0  \n",
       "24    24234088.0  \n",
       "25    17573607.0  \n",
       "26    17467905.0  \n",
       "27     4182341.0  \n",
       "28     1262605.0  \n",
       "29    34803322.0  \n",
       "30    28010691.0  \n",
       "31     2425561.0  \n",
       "..           ...  \n",
       "141     106823.0  \n",
       "142   16252429.0  \n",
       "143   10711061.0  \n",
       "144    8960829.0  \n",
       "145    2871934.0  \n",
       "146  125890949.0  \n",
       "147    6082035.0  \n",
       "148    3969249.0  \n",
       "149    1360092.0  \n",
       "150  320896618.0  \n",
       "151   23789338.0  \n",
       "152     892149.0  \n",
       "153     112407.0  \n",
       "155     104433.0  \n",
       "157    4595700.0  \n",
       "160     193759.0  \n",
       "161     587482.0  \n",
       "162     106364.0  \n",
       "164     264603.0  \n",
       "165   43417765.0  \n",
       "166   10724705.0  \n",
       "167  205962108.0  \n",
       "168   17762681.0  \n",
       "169   48228697.0  \n",
       "170   16144368.0  \n",
       "171     768514.0  \n",
       "172    6639119.0  \n",
       "173   31376671.0  \n",
       "174     553208.0  \n",
       "175    3431552.0  \n",
       "\n",
       "[164 rows x 5 columns]"
      ]
     },
     "execution_count": 2,
     "metadata": {},
     "output_type": "execute_result"
    }
   ],
   "source": [
    "data.dropna(axis=0, how='any', thresh=None, subset=None, inplace=False)"
   ]
  },
  {
   "cell_type": "markdown",
   "metadata": {},
   "source": [
    "人均寿命直方图"
   ]
  },
  {
   "cell_type": "code",
   "execution_count": 9,
   "metadata": {},
   "outputs": [],
   "source": [
    "datasetLife = data[\"Life_expectancy\"]"
   ]
  },
  {
   "cell_type": "code",
   "execution_count": 10,
   "metadata": {},
   "outputs": [],
   "source": [
    "import matplotlib as mpl\n",
    "import matplotlib.pyplot as plt #为创建图形示例提供一些方法"
   ]
  },
  {
   "cell_type": "code",
   "execution_count": 15,
   "metadata": {},
   "outputs": [
    {
     "data": {
      "text/plain": [
       "Text(0.5, 0, 'class interval')"
      ]
     },
     "execution_count": 15,
     "metadata": {},
     "output_type": "execute_result"
    },
    {
     "data": {
      "image/png": "[encoded data removed]",
      "text/plain": [
       "<Figure size 720x216 with 1 Axes>"
      ]
     },
     "metadata": {
      "needs_background": "light"
     },
     "output_type": "display_data"
    }
   ],
   "source": [
    "fig, ax = plt.subplots(1,1,figsize=(10, 3))\n",
    "#直方图\n",
    "ax.hist(datasetLife) \n",
    "ax.set_ylabel(\" frequency\")\n",
    "ax.set_xlabel(\"class interval\")"
   ]
  },
  {
   "cell_type": "markdown",
   "metadata": {},
   "source": [
    "人均GDP直方图"
   ]
  },
  {
   "cell_type": "code",
   "execution_count": 16,
   "metadata": {},
   "outputs": [],
   "source": [
    "datasetGDP = data[\"GDP_per_capita\"]"
   ]
  },
  {
   "cell_type": "code",
   "execution_count": 17,
   "metadata": {},
   "outputs": [
    {
     "data": {
      "text/plain": [
       "Text(0.5, 0, 'class interval')"
      ]
     },
     "execution_count": 17,
     "metadata": {},
     "output_type": "execute_result"
    },
    {
     "data": {
      "image/png": "[encoded data removed]",
      "text/plain": [
       "<Figure size 720x216 with 1 Axes>"
      ]
     },
     "metadata": {
      "needs_background": "light"
     },
     "output_type": "display_data"
    }
   ],
   "source": [
    "fig, ax = plt.subplots(1,1,figsize=(10, 3))\n",
    "#GDP直方图\n",
    "ax.hist(datasetGDP) \n",
    "ax.set_ylabel(\" frequency\")\n",
    "ax.set_xlabel(\"class interval\")"
   ]
  },
  {
   "cell_type": "markdown",
   "metadata": {},
   "source": [
    "人均寿命箱线图"
   ]
  },
  {
   "cell_type": "code",
   "execution_count": 21,
   "metadata": {},
   "outputs": [
    {
     "data": {
      "text/plain": [
       "<matplotlib.axes._subplots.AxesSubplot at 0x1b8920603c8>"
      ]
     },
     "execution_count": 21,
     "metadata": {},
     "output_type": "execute_result"
    },
    {
     "data": {
      "image/png": "[encoded data removed]",
      "text/plain": [
       "<Figure size 432x216 with 1 Axes>"
      ]
     },
     "metadata": {
      "needs_background": "light"
     },
     "output_type": "display_data"
    }
   ],
   "source": [
    "fig, ax = plt.subplots(1,1,figsize=(6, 3))\n",
    "data.Life_expectancy.plot.box()"
   ]
  },
  {
   "cell_type": "markdown",
   "metadata": {},
   "source": [
    "绘制每个大洲的国家个数条形图"
   ]
  },
  {
   "cell_type": "code",
   "execution_count": 42,
   "metadata": {},
   "outputs": [
    {
     "data": {
      "text/plain": [
       "{'Africa': 50,\n",
       " 'Asia': 36,\n",
       " 'Europe': 45,\n",
       " 'North America': 20,\n",
       " 'Oceania': 14,\n",
       " 'South America': 12}"
      ]
     },
     "execution_count": 42,
     "metadata": {},
     "output_type": "execute_result"
    }
   ],
   "source": [
    "datasetCountry = data[\"Continent\"]\n",
    "list1 = datasetCountry.values.tolist()\n",
    "continent = dict(zip(*np.unique(list1, return_counts=True)))\n",
    "continent"
   ]
  },
  {
   "cell_type": "code",
   "execution_count": 43,
   "metadata": {},
   "outputs": [
    {
     "data": {
      "text/plain": [
       "<matplotlib.axes._subplots.AxesSubplot at 0x1b892288eb8>"
      ]
     },
     "execution_count": 43,
     "metadata": {},
     "output_type": "execute_result"
    },
    {
     "data": {
      "image/png": "[encoded data removed]",
      "text/plain": [
       "<Figure size 432x288 with 1 Axes>"
      ]
     },
     "metadata": {
      "needs_background": "light"
     },
     "output_type": "display_data"
    }
   ],
   "source": [
    "continent = pd.Series(continent)\n",
    "continent.plot(kind='bar')"
   ]
  },
  {
   "cell_type": "markdown",
   "metadata": {},
   "source": [
    "绘制各大洲国家数量占比的饼图"
   ]
  },
  {
   "cell_type": "code",
   "execution_count": 44,
   "metadata": {},
   "outputs": [
    {
     "data": {
      "image/png": "[encoded data removed]",
      "text/plain": [
       "<Figure size 432x288 with 1 Axes>"
      ]
     },
     "metadata": {},
     "output_type": "display_data"
    }
   ],
   "source": [
    "plt.pie(continent,labels=continent.index,autopct='%.2f%%',shadow=False,startangle=100)\n",
    "plt.show()"
   ]
  },
  {
   "cell_type": "markdown",
   "metadata": {},
   "source": [
    "绘制人均寿命和人均GDP的关系（散点）"
   ]
  },
  {
   "cell_type": "code",
   "execution_count": 45,
   "metadata": {},
   "outputs": [
    {
     "data": {
      "image/png": "[encoded data removed]",
      "text/plain": [
       "<Figure size 432x288 with 1 Axes>"
      ]
     },
     "metadata": {
      "needs_background": "light"
     },
     "output_type": "display_data"
    }
   ],
   "source": [
    "plt.scatter(datasetLife,datasetGDP)\n",
    "plt.show()"
   ]
  },
  {
   "cell_type": "markdown",
   "metadata": {},
   "source": [
    "人均GDP与人均寿命的气泡图（数据点大小，正比于人口数，给不同洲的国家设置不同的颜色）"
   ]
  },
  {
   "cell_type": "code",
   "execution_count": 61,
   "metadata": {},
   "outputs": [
    {
     "data": {
      "image/png": "[encoded data removed]",
      "text/plain": [
       "<Figure size 432x288 with 1 Axes>"
      ]
     },
     "metadata": {
      "needs_background": "light"
     },
     "output_type": "display_data"
    }
   ],
   "source": [
    "datasetPopulation = data[\"Population\"]\n",
    "fig, ax = plt.subplots()\n",
    "color = np.random.rand(len(list(datasetCountry)))\n",
    "ax.scatter(datasetGDP,datasetLife,s = list(datasetPopulation/100000),c=color,alpha=0.8)\n",
    "ax.set_title(\"气泡图\",fontproperties = \"simHei\",fontsize = 16)\n",
    "ax.set_xlabel(\"GDP值\",fontproperties = \"simHei\",fontsize = 14)\n",
    "ax.set_ylabel(\"平均寿命\",fontproperties = \"simHei\",fontsize = 14)\n",
    "ax.grid(True)\n",
    "fig.tight_layout()\n",
    "plt.show()"
   ]
  },
  {
   "cell_type": "markdown",
   "metadata": {},
   "source": [
    "Scipy解方程"
   ]
  },
  {
   "cell_type": "markdown",
   "metadata": {},
   "source": [
    "①\t求解f(x)=2*sin(x)-x+1"
   ]
  },
  {
   "cell_type": "code",
   "execution_count": 72,
   "metadata": {
    "scrolled": true
   },
   "outputs": [
    {
     "data": {
      "image/png": "[encoded data removed]",
      "text/plain": [
       "<Figure size 432x288 with 1 Axes>"
      ]
     },
     "metadata": {
      "needs_background": "light"
     },
     "output_type": "display_data"
    }
   ],
   "source": [
    "from scipy.integrate import odeint\n",
    "import numpy as np\n",
    "import matplotlib.pyplot as plt\n",
    "from scipy.optimize import root,fsolve\n",
    "\n",
    "x1 = np.linspace(-2,8)\n",
    "y1_1,y1_2 = 2*np.sin(x1),x1-1\n",
    "plt.figure(1)\n",
    "plt.plot(x1,y1_1,'y',x1,y1_2,'b--')\n",
    "plt.title('$2sin(x)$ and $x-1$')\n",
    "\n",
    "def f(x):\n",
    "    return np.sin(x)*2-x+1\n",
    "\n",
    "sol1_root = root(f,[2])\n",
    "sol1_fsolve = fsolve(f,[2])\n",
    "plt.scatter(sol1_fsolve,2*np.sin(sol1_fsolve),linewidths=9)\n",
    "plt.show()"
   ]
  },
  {
   "cell_type": "markdown",
   "metadata": {},
   "source": [
    "②\t求解线性方程组{3X1+2X2=3;X1-2X2=5}"
   ]
  },
  {
   "cell_type": "code",
   "execution_count": 73,
   "metadata": {},
   "outputs": [
    {
     "name": "stdout",
     "output_type": "stream",
     "text": [
      "{x1: 2, x2: -3/2}\n"
     ]
    }
   ],
   "source": [
    "from sympy import *\n",
    "x1 = Symbol('x1')\n",
    "x2 = Symbol('x2')\n",
    "print(solve([3 * x1 + 2*x2 - 3, x1 - 2*x2 - 5],[x1, x2]))"
   ]
  },
  {
   "cell_type": "code",
   "execution_count": null,
   "metadata": {},
   "outputs": [],
   "source": []
  }
 ],
 "metadata": {
  "kernelspec": {
   "display_name": "Python 3",
   "language": "python",
   "name": "python3"
  },
  "language_info": {
   "codemirror_mode": {
    "name": "ipython",
    "version": 3
   },
   "file_extension": ".py",
   "mimetype": "text/x-python",
   "name": "python",
   "nbconvert_exporter": "python",
   "pygments_lexer": "ipython3",
   "version": "3.7.3"
  }
 },
 "nbformat": 4,
 "nbformat_minor": 2
}
