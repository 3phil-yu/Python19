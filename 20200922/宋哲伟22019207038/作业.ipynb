{
 "cells": [
  {
   "cell_type": "markdown",
   "metadata": {},
   "source": [
    "# 1.绘图"
   ]
  },
  {
   "cell_type": "code",
   "execution_count": 2,
   "metadata": {},
   "outputs": [],
   "source": [
    "import matplotlib.pyplot as plt\n",
    "import pandas as pd\n",
    "import numpy as np"
   ]
  },
  {
   "cell_type": "code",
   "execution_count": 3,
   "metadata": {},
   "outputs": [
    {
     "data": {
      "text/html": [
       "<div>\n",
       "<style scoped>\n",
       "    .dataframe tbody tr th:only-of-type {\n",
       "        vertical-align: middle;\n",
       "    }\n",
       "\n",
       "    .dataframe tbody tr th {\n",
       "        vertical-align: top;\n",
       "    }\n",
       "\n",
       "    .dataframe thead th {\n",
       "        text-align: right;\n",
       "    }\n",
       "</style>\n",
       "<table border=\"1\" class=\"dataframe\">\n",
       "  <thead>\n",
       "    <tr style=\"text-align: right;\">\n",
       "      <th></th>\n",
       "      <th>Country</th>\n",
       "      <th>Continent</th>\n",
       "      <th>Life_expectancy</th>\n",
       "      <th>GDP_per_capita</th>\n",
       "      <th>Population</th>\n",
       "    </tr>\n",
       "  </thead>\n",
       "  <tbody>\n",
       "    <tr>\n",
       "      <th>0</th>\n",
       "      <td>Algeria</td>\n",
       "      <td>Africa</td>\n",
       "      <td>75.042537</td>\n",
       "      <td>4132.760292</td>\n",
       "      <td>39871528.0</td>\n",
       "    </tr>\n",
       "    <tr>\n",
       "      <th>1</th>\n",
       "      <td>Angola</td>\n",
       "      <td>Africa</td>\n",
       "      <td>52.666098</td>\n",
       "      <td>3695.793748</td>\n",
       "      <td>27859305.0</td>\n",
       "    </tr>\n",
       "    <tr>\n",
       "      <th>2</th>\n",
       "      <td>Benin</td>\n",
       "      <td>Africa</td>\n",
       "      <td>59.720707</td>\n",
       "      <td>783.947091</td>\n",
       "      <td>10575952.0</td>\n",
       "    </tr>\n",
       "    <tr>\n",
       "      <th>3</th>\n",
       "      <td>Botswana</td>\n",
       "      <td>Africa</td>\n",
       "      <td>64.487415</td>\n",
       "      <td>6532.060501</td>\n",
       "      <td>2209197.0</td>\n",
       "    </tr>\n",
       "    <tr>\n",
       "      <th>4</th>\n",
       "      <td>Burundi</td>\n",
       "      <td>Africa</td>\n",
       "      <td>57.107049</td>\n",
       "      <td>303.681022</td>\n",
       "      <td>10199270.0</td>\n",
       "    </tr>\n",
       "  </tbody>\n",
       "</table>\n",
       "</div>"
      ],
      "text/plain": [
       "    Country Continent  Life_expectancy  GDP_per_capita  Population\n",
       "0   Algeria    Africa        75.042537     4132.760292  39871528.0\n",
       "1    Angola    Africa        52.666098     3695.793748  27859305.0\n",
       "2     Benin    Africa        59.720707      783.947091  10575952.0\n",
       "3  Botswana    Africa        64.487415     6532.060501   2209197.0\n",
       "4   Burundi    Africa        57.107049      303.681022  10199270.0"
      ]
     },
     "execution_count": 3,
     "metadata": {},
     "output_type": "execute_result"
    }
   ],
   "source": [
    "data=pd.read_csv('WorldIndex.csv')\n",
    "data.head()"
   ]
  },
  {
   "cell_type": "code",
   "execution_count": 26,
   "metadata": {},
   "outputs": [
    {
     "data": {
      "text/html": [
       "<div>\n",
       "<style scoped>\n",
       "    .dataframe tbody tr th:only-of-type {\n",
       "        vertical-align: middle;\n",
       "    }\n",
       "\n",
       "    .dataframe tbody tr th {\n",
       "        vertical-align: top;\n",
       "    }\n",
       "\n",
       "    .dataframe thead th {\n",
       "        text-align: right;\n",
       "    }\n",
       "</style>\n",
       "<table border=\"1\" class=\"dataframe\">\n",
       "  <thead>\n",
       "    <tr style=\"text-align: right;\">\n",
       "      <th></th>\n",
       "      <th>Country</th>\n",
       "      <th>Continent</th>\n",
       "      <th>Life_expectancy</th>\n",
       "      <th>GDP_per_capita</th>\n",
       "      <th>Population</th>\n",
       "      <th>class</th>\n",
       "    </tr>\n",
       "  </thead>\n",
       "  <tbody>\n",
       "    <tr>\n",
       "      <th>0</th>\n",
       "      <td>Algeria</td>\n",
       "      <td>Africa</td>\n",
       "      <td>75.042537</td>\n",
       "      <td>4132.760292</td>\n",
       "      <td>39871528.0</td>\n",
       "      <td>0</td>\n",
       "    </tr>\n",
       "    <tr>\n",
       "      <th>1</th>\n",
       "      <td>Angola</td>\n",
       "      <td>Africa</td>\n",
       "      <td>52.666098</td>\n",
       "      <td>3695.793748</td>\n",
       "      <td>27859305.0</td>\n",
       "      <td>0</td>\n",
       "    </tr>\n",
       "    <tr>\n",
       "      <th>2</th>\n",
       "      <td>Benin</td>\n",
       "      <td>Africa</td>\n",
       "      <td>59.720707</td>\n",
       "      <td>783.947091</td>\n",
       "      <td>10575952.0</td>\n",
       "      <td>0</td>\n",
       "    </tr>\n",
       "    <tr>\n",
       "      <th>3</th>\n",
       "      <td>Botswana</td>\n",
       "      <td>Africa</td>\n",
       "      <td>64.487415</td>\n",
       "      <td>6532.060501</td>\n",
       "      <td>2209197.0</td>\n",
       "      <td>0</td>\n",
       "    </tr>\n",
       "    <tr>\n",
       "      <th>4</th>\n",
       "      <td>Burundi</td>\n",
       "      <td>Africa</td>\n",
       "      <td>57.107049</td>\n",
       "      <td>303.681022</td>\n",
       "      <td>10199270.0</td>\n",
       "      <td>0</td>\n",
       "    </tr>\n",
       "    <tr>\n",
       "      <th>5</th>\n",
       "      <td>Cameroon</td>\n",
       "      <td>Africa</td>\n",
       "      <td>55.934390</td>\n",
       "      <td>1244.429421</td>\n",
       "      <td>22834522.0</td>\n",
       "      <td>0</td>\n",
       "    </tr>\n",
       "    <tr>\n",
       "      <th>6</th>\n",
       "      <td>Central African Republic</td>\n",
       "      <td>Africa</td>\n",
       "      <td>51.419122</td>\n",
       "      <td>348.381417</td>\n",
       "      <td>4546100.0</td>\n",
       "      <td>0</td>\n",
       "    </tr>\n",
       "    <tr>\n",
       "      <th>7</th>\n",
       "      <td>Chad</td>\n",
       "      <td>Africa</td>\n",
       "      <td>51.873317</td>\n",
       "      <td>777.248705</td>\n",
       "      <td>14009413.0</td>\n",
       "      <td>0</td>\n",
       "    </tr>\n",
       "    <tr>\n",
       "      <th>8</th>\n",
       "      <td>Comoros</td>\n",
       "      <td>Africa</td>\n",
       "      <td>63.554024</td>\n",
       "      <td>727.646387</td>\n",
       "      <td>777424.0</td>\n",
       "      <td>0</td>\n",
       "    </tr>\n",
       "    <tr>\n",
       "      <th>9</th>\n",
       "      <td>Congo</td>\n",
       "      <td>Africa</td>\n",
       "      <td>62.867659</td>\n",
       "      <td>1712.121131</td>\n",
       "      <td>4995648.0</td>\n",
       "      <td>0</td>\n",
       "    </tr>\n",
       "    <tr>\n",
       "      <th>10</th>\n",
       "      <td>Djibouti</td>\n",
       "      <td>Africa</td>\n",
       "      <td>62.285659</td>\n",
       "      <td>1862.167274</td>\n",
       "      <td>927414.0</td>\n",
       "      <td>0</td>\n",
       "    </tr>\n",
       "    <tr>\n",
       "      <th>11</th>\n",
       "      <td>Egypt</td>\n",
       "      <td>Africa</td>\n",
       "      <td>71.316951</td>\n",
       "      <td>3547.713012</td>\n",
       "      <td>93778172.0</td>\n",
       "      <td>0</td>\n",
       "    </tr>\n",
       "    <tr>\n",
       "      <th>12</th>\n",
       "      <td>Equatorial Guinea</td>\n",
       "      <td>Africa</td>\n",
       "      <td>57.963415</td>\n",
       "      <td>10347.312570</td>\n",
       "      <td>1175389.0</td>\n",
       "      <td>0</td>\n",
       "    </tr>\n",
       "    <tr>\n",
       "      <th>13</th>\n",
       "      <td>Eritrea</td>\n",
       "      <td>Africa</td>\n",
       "      <td>64.100902</td>\n",
       "      <td>NaN</td>\n",
       "      <td>NaN</td>\n",
       "      <td>0</td>\n",
       "    </tr>\n",
       "    <tr>\n",
       "      <th>14</th>\n",
       "      <td>Ethiopia</td>\n",
       "      <td>Africa</td>\n",
       "      <td>64.578049</td>\n",
       "      <td>645.463763</td>\n",
       "      <td>99873033.0</td>\n",
       "      <td>0</td>\n",
       "    </tr>\n",
       "    <tr>\n",
       "      <th>15</th>\n",
       "      <td>Gabon</td>\n",
       "      <td>Africa</td>\n",
       "      <td>64.890341</td>\n",
       "      <td>7388.984144</td>\n",
       "      <td>1930175.0</td>\n",
       "      <td>0</td>\n",
       "    </tr>\n",
       "    <tr>\n",
       "      <th>16</th>\n",
       "      <td>Gambia</td>\n",
       "      <td>Africa</td>\n",
       "      <td>60.467683</td>\n",
       "      <td>474.716559</td>\n",
       "      <td>1977590.0</td>\n",
       "      <td>0</td>\n",
       "    </tr>\n",
       "    <tr>\n",
       "      <th>17</th>\n",
       "      <td>Ghana</td>\n",
       "      <td>Africa</td>\n",
       "      <td>61.491732</td>\n",
       "      <td>1361.113905</td>\n",
       "      <td>27582821.0</td>\n",
       "      <td>0</td>\n",
       "    </tr>\n",
       "    <tr>\n",
       "      <th>18</th>\n",
       "      <td>Guinea</td>\n",
       "      <td>Africa</td>\n",
       "      <td>59.193439</td>\n",
       "      <td>554.040877</td>\n",
       "      <td>12091533.0</td>\n",
       "      <td>0</td>\n",
       "    </tr>\n",
       "    <tr>\n",
       "      <th>19</th>\n",
       "      <td>Guinea-Bissau</td>\n",
       "      <td>Africa</td>\n",
       "      <td>55.467317</td>\n",
       "      <td>596.871719</td>\n",
       "      <td>1770526.0</td>\n",
       "      <td>0</td>\n",
       "    </tr>\n",
       "    <tr>\n",
       "      <th>20</th>\n",
       "      <td>Kenya</td>\n",
       "      <td>Africa</td>\n",
       "      <td>62.133732</td>\n",
       "      <td>1349.970144</td>\n",
       "      <td>47236259.0</td>\n",
       "      <td>0</td>\n",
       "    </tr>\n",
       "    <tr>\n",
       "      <th>21</th>\n",
       "      <td>Lesotho</td>\n",
       "      <td>Africa</td>\n",
       "      <td>49.961220</td>\n",
       "      <td>1073.828093</td>\n",
       "      <td>2174645.0</td>\n",
       "      <td>0</td>\n",
       "    </tr>\n",
       "    <tr>\n",
       "      <th>22</th>\n",
       "      <td>Liberia</td>\n",
       "      <td>Africa</td>\n",
       "      <td>61.160951</td>\n",
       "      <td>452.038072</td>\n",
       "      <td>4499621.0</td>\n",
       "      <td>0</td>\n",
       "    </tr>\n",
       "    <tr>\n",
       "      <th>23</th>\n",
       "      <td>Libya</td>\n",
       "      <td>Africa</td>\n",
       "      <td>71.826317</td>\n",
       "      <td>NaN</td>\n",
       "      <td>6234955.0</td>\n",
       "      <td>0</td>\n",
       "    </tr>\n",
       "    <tr>\n",
       "      <th>24</th>\n",
       "      <td>Madagascar</td>\n",
       "      <td>Africa</td>\n",
       "      <td>65.482780</td>\n",
       "      <td>401.857595</td>\n",
       "      <td>24234088.0</td>\n",
       "      <td>0</td>\n",
       "    </tr>\n",
       "    <tr>\n",
       "      <th>25</th>\n",
       "      <td>Malawi</td>\n",
       "      <td>Africa</td>\n",
       "      <td>63.796854</td>\n",
       "      <td>362.657544</td>\n",
       "      <td>17573607.0</td>\n",
       "      <td>0</td>\n",
       "    </tr>\n",
       "    <tr>\n",
       "      <th>26</th>\n",
       "      <td>Mali</td>\n",
       "      <td>Africa</td>\n",
       "      <td>58.457220</td>\n",
       "      <td>729.720534</td>\n",
       "      <td>17467905.0</td>\n",
       "      <td>0</td>\n",
       "    </tr>\n",
       "    <tr>\n",
       "      <th>27</th>\n",
       "      <td>Mauritania</td>\n",
       "      <td>Africa</td>\n",
       "      <td>63.202829</td>\n",
       "      <td>1158.256469</td>\n",
       "      <td>4182341.0</td>\n",
       "      <td>0</td>\n",
       "    </tr>\n",
       "    <tr>\n",
       "      <th>28</th>\n",
       "      <td>Mauritius</td>\n",
       "      <td>Africa</td>\n",
       "      <td>74.353171</td>\n",
       "      <td>9252.110724</td>\n",
       "      <td>1262605.0</td>\n",
       "      <td>0</td>\n",
       "    </tr>\n",
       "    <tr>\n",
       "      <th>29</th>\n",
       "      <td>Morocco</td>\n",
       "      <td>Africa</td>\n",
       "      <td>74.289317</td>\n",
       "      <td>2847.285569</td>\n",
       "      <td>34803322.0</td>\n",
       "      <td>0</td>\n",
       "    </tr>\n",
       "    <tr>\n",
       "      <th>...</th>\n",
       "      <td>...</td>\n",
       "      <td>...</td>\n",
       "      <td>...</td>\n",
       "      <td>...</td>\n",
       "      <td>...</td>\n",
       "      <td>...</td>\n",
       "    </tr>\n",
       "    <tr>\n",
       "      <th>147</th>\n",
       "      <td>Nicaragua</td>\n",
       "      <td>North America</td>\n",
       "      <td>75.098122</td>\n",
       "      <td>2095.966488</td>\n",
       "      <td>6082035.0</td>\n",
       "      <td>3</td>\n",
       "    </tr>\n",
       "    <tr>\n",
       "      <th>148</th>\n",
       "      <td>Panama</td>\n",
       "      <td>North America</td>\n",
       "      <td>77.767293</td>\n",
       "      <td>13134.043670</td>\n",
       "      <td>3969249.0</td>\n",
       "      <td>3</td>\n",
       "    </tr>\n",
       "    <tr>\n",
       "      <th>149</th>\n",
       "      <td>Trinidad and Tobago</td>\n",
       "      <td>North America</td>\n",
       "      <td>70.557707</td>\n",
       "      <td>17321.833730</td>\n",
       "      <td>1360092.0</td>\n",
       "      <td>3</td>\n",
       "    </tr>\n",
       "    <tr>\n",
       "      <th>150</th>\n",
       "      <td>United States</td>\n",
       "      <td>North America</td>\n",
       "      <td>78.741463</td>\n",
       "      <td>56207.036750</td>\n",
       "      <td>320896618.0</td>\n",
       "      <td>3</td>\n",
       "    </tr>\n",
       "    <tr>\n",
       "      <th>151</th>\n",
       "      <td>Australia</td>\n",
       "      <td>Oceania</td>\n",
       "      <td>82.451220</td>\n",
       "      <td>56554.038760</td>\n",
       "      <td>23789338.0</td>\n",
       "      <td>4</td>\n",
       "    </tr>\n",
       "    <tr>\n",
       "      <th>152</th>\n",
       "      <td>Fiji</td>\n",
       "      <td>Oceania</td>\n",
       "      <td>70.256268</td>\n",
       "      <td>4921.896209</td>\n",
       "      <td>892149.0</td>\n",
       "      <td>4</td>\n",
       "    </tr>\n",
       "    <tr>\n",
       "      <th>153</th>\n",
       "      <td>Kiribati</td>\n",
       "      <td>Oceania</td>\n",
       "      <td>66.147854</td>\n",
       "      <td>1424.483611</td>\n",
       "      <td>112407.0</td>\n",
       "      <td>4</td>\n",
       "    </tr>\n",
       "    <tr>\n",
       "      <th>154</th>\n",
       "      <td>Marshall Islands</td>\n",
       "      <td>Oceania</td>\n",
       "      <td>NaN</td>\n",
       "      <td>3385.904065</td>\n",
       "      <td>52994.0</td>\n",
       "      <td>4</td>\n",
       "    </tr>\n",
       "    <tr>\n",
       "      <th>155</th>\n",
       "      <td>Micronesia</td>\n",
       "      <td>Oceania</td>\n",
       "      <td>69.234244</td>\n",
       "      <td>3016.011223</td>\n",
       "      <td>104433.0</td>\n",
       "      <td>4</td>\n",
       "    </tr>\n",
       "    <tr>\n",
       "      <th>156</th>\n",
       "      <td>Nauru</td>\n",
       "      <td>Oceania</td>\n",
       "      <td>NaN</td>\n",
       "      <td>8052.888385</td>\n",
       "      <td>12475.0</td>\n",
       "      <td>4</td>\n",
       "    </tr>\n",
       "    <tr>\n",
       "      <th>157</th>\n",
       "      <td>New Zealand</td>\n",
       "      <td>Oceania</td>\n",
       "      <td>81.456829</td>\n",
       "      <td>38201.890370</td>\n",
       "      <td>4595700.0</td>\n",
       "      <td>4</td>\n",
       "    </tr>\n",
       "    <tr>\n",
       "      <th>158</th>\n",
       "      <td>Palau</td>\n",
       "      <td>Oceania</td>\n",
       "      <td>NaN</td>\n",
       "      <td>13500.563700</td>\n",
       "      <td>21288.0</td>\n",
       "      <td>4</td>\n",
       "    </tr>\n",
       "    <tr>\n",
       "      <th>159</th>\n",
       "      <td>Papua New Guinea</td>\n",
       "      <td>Oceania</td>\n",
       "      <td>62.776683</td>\n",
       "      <td>NaN</td>\n",
       "      <td>7919825.0</td>\n",
       "      <td>4</td>\n",
       "    </tr>\n",
       "    <tr>\n",
       "      <th>160</th>\n",
       "      <td>Samoa</td>\n",
       "      <td>Oceania</td>\n",
       "      <td>73.764878</td>\n",
       "      <td>4149.363444</td>\n",
       "      <td>193759.0</td>\n",
       "      <td>4</td>\n",
       "    </tr>\n",
       "    <tr>\n",
       "      <th>161</th>\n",
       "      <td>Solomon Islands</td>\n",
       "      <td>Oceania</td>\n",
       "      <td>68.146244</td>\n",
       "      <td>1922.041388</td>\n",
       "      <td>587482.0</td>\n",
       "      <td>4</td>\n",
       "    </tr>\n",
       "    <tr>\n",
       "      <th>162</th>\n",
       "      <td>Tonga</td>\n",
       "      <td>Oceania</td>\n",
       "      <td>72.944049</td>\n",
       "      <td>4093.775387</td>\n",
       "      <td>106364.0</td>\n",
       "      <td>4</td>\n",
       "    </tr>\n",
       "    <tr>\n",
       "      <th>163</th>\n",
       "      <td>Tuvalu</td>\n",
       "      <td>Oceania</td>\n",
       "      <td>NaN</td>\n",
       "      <td>2970.027974</td>\n",
       "      <td>11001.0</td>\n",
       "      <td>4</td>\n",
       "    </tr>\n",
       "    <tr>\n",
       "      <th>164</th>\n",
       "      <td>Vanuatu</td>\n",
       "      <td>Oceania</td>\n",
       "      <td>72.157366</td>\n",
       "      <td>2805.834140</td>\n",
       "      <td>264603.0</td>\n",
       "      <td>4</td>\n",
       "    </tr>\n",
       "    <tr>\n",
       "      <th>165</th>\n",
       "      <td>Argentina</td>\n",
       "      <td>South America</td>\n",
       "      <td>76.334220</td>\n",
       "      <td>13467.102360</td>\n",
       "      <td>43417765.0</td>\n",
       "      <td>5</td>\n",
       "    </tr>\n",
       "    <tr>\n",
       "      <th>166</th>\n",
       "      <td>Bolivia</td>\n",
       "      <td>South America</td>\n",
       "      <td>68.739610</td>\n",
       "      <td>3077.026199</td>\n",
       "      <td>10724705.0</td>\n",
       "      <td>5</td>\n",
       "    </tr>\n",
       "    <tr>\n",
       "      <th>167</th>\n",
       "      <td>Brazil</td>\n",
       "      <td>South America</td>\n",
       "      <td>74.675878</td>\n",
       "      <td>8757.206202</td>\n",
       "      <td>205962108.0</td>\n",
       "      <td>5</td>\n",
       "    </tr>\n",
       "    <tr>\n",
       "      <th>168</th>\n",
       "      <td>Chile</td>\n",
       "      <td>South America</td>\n",
       "      <td>81.787561</td>\n",
       "      <td>13653.226730</td>\n",
       "      <td>17762681.0</td>\n",
       "      <td>5</td>\n",
       "    </tr>\n",
       "    <tr>\n",
       "      <th>169</th>\n",
       "      <td>Colombia</td>\n",
       "      <td>South America</td>\n",
       "      <td>74.182024</td>\n",
       "      <td>6044.525556</td>\n",
       "      <td>48228697.0</td>\n",
       "      <td>5</td>\n",
       "    </tr>\n",
       "    <tr>\n",
       "      <th>170</th>\n",
       "      <td>Ecuador</td>\n",
       "      <td>South America</td>\n",
       "      <td>76.102927</td>\n",
       "      <td>6205.062224</td>\n",
       "      <td>16144368.0</td>\n",
       "      <td>5</td>\n",
       "    </tr>\n",
       "    <tr>\n",
       "      <th>171</th>\n",
       "      <td>Guyana</td>\n",
       "      <td>South America</td>\n",
       "      <td>66.507512</td>\n",
       "      <td>4136.689919</td>\n",
       "      <td>768514.0</td>\n",
       "      <td>5</td>\n",
       "    </tr>\n",
       "    <tr>\n",
       "      <th>172</th>\n",
       "      <td>Paraguay</td>\n",
       "      <td>South America</td>\n",
       "      <td>73.025634</td>\n",
       "      <td>4109.367724</td>\n",
       "      <td>6639119.0</td>\n",
       "      <td>5</td>\n",
       "    </tr>\n",
       "    <tr>\n",
       "      <th>173</th>\n",
       "      <td>Peru</td>\n",
       "      <td>South America</td>\n",
       "      <td>74.780732</td>\n",
       "      <td>6030.343259</td>\n",
       "      <td>31376671.0</td>\n",
       "      <td>5</td>\n",
       "    </tr>\n",
       "    <tr>\n",
       "      <th>174</th>\n",
       "      <td>Suriname</td>\n",
       "      <td>South America</td>\n",
       "      <td>71.294171</td>\n",
       "      <td>8818.982566</td>\n",
       "      <td>553208.0</td>\n",
       "      <td>5</td>\n",
       "    </tr>\n",
       "    <tr>\n",
       "      <th>175</th>\n",
       "      <td>Uruguay</td>\n",
       "      <td>South America</td>\n",
       "      <td>77.138220</td>\n",
       "      <td>15524.842470</td>\n",
       "      <td>3431552.0</td>\n",
       "      <td>5</td>\n",
       "    </tr>\n",
       "    <tr>\n",
       "      <th>176</th>\n",
       "      <td>Venezuela</td>\n",
       "      <td>South America</td>\n",
       "      <td>74.409610</td>\n",
       "      <td>NaN</td>\n",
       "      <td>31155134.0</td>\n",
       "      <td>5</td>\n",
       "    </tr>\n",
       "  </tbody>\n",
       "</table>\n",
       "<p>177 rows × 6 columns</p>\n",
       "</div>"
      ],
      "text/plain": [
       "                      Country      Continent  Life_expectancy  GDP_per_capita  \\\n",
       "0                     Algeria         Africa        75.042537     4132.760292   \n",
       "1                      Angola         Africa        52.666098     3695.793748   \n",
       "2                       Benin         Africa        59.720707      783.947091   \n",
       "3                    Botswana         Africa        64.487415     6532.060501   \n",
       "4                     Burundi         Africa        57.107049      303.681022   \n",
       "5                    Cameroon         Africa        55.934390     1244.429421   \n",
       "6    Central African Republic         Africa        51.419122      348.381417   \n",
       "7                        Chad         Africa        51.873317      777.248705   \n",
       "8                     Comoros         Africa        63.554024      727.646387   \n",
       "9                       Congo         Africa        62.867659     1712.121131   \n",
       "10                   Djibouti         Africa        62.285659     1862.167274   \n",
       "11                      Egypt         Africa        71.316951     3547.713012   \n",
       "12          Equatorial Guinea         Africa        57.963415    10347.312570   \n",
       "13                    Eritrea         Africa        64.100902             NaN   \n",
       "14                   Ethiopia         Africa        64.578049      645.463763   \n",
       "15                      Gabon         Africa        64.890341     7388.984144   \n",
       "16                     Gambia         Africa        60.467683      474.716559   \n",
       "17                      Ghana         Africa        61.491732     1361.113905   \n",
       "18                     Guinea         Africa        59.193439      554.040877   \n",
       "19              Guinea-Bissau         Africa        55.467317      596.871719   \n",
       "20                      Kenya         Africa        62.133732     1349.970144   \n",
       "21                    Lesotho         Africa        49.961220     1073.828093   \n",
       "22                    Liberia         Africa        61.160951      452.038072   \n",
       "23                      Libya         Africa        71.826317             NaN   \n",
       "24                 Madagascar         Africa        65.482780      401.857595   \n",
       "25                     Malawi         Africa        63.796854      362.657544   \n",
       "26                       Mali         Africa        58.457220      729.720534   \n",
       "27                 Mauritania         Africa        63.202829     1158.256469   \n",
       "28                  Mauritius         Africa        74.353171     9252.110724   \n",
       "29                    Morocco         Africa        74.289317     2847.285569   \n",
       "..                        ...            ...              ...             ...   \n",
       "147                 Nicaragua  North America        75.098122     2095.966488   \n",
       "148                    Panama  North America        77.767293    13134.043670   \n",
       "149       Trinidad and Tobago  North America        70.557707    17321.833730   \n",
       "150             United States  North America        78.741463    56207.036750   \n",
       "151                 Australia        Oceania        82.451220    56554.038760   \n",
       "152                      Fiji        Oceania        70.256268     4921.896209   \n",
       "153                  Kiribati        Oceania        66.147854     1424.483611   \n",
       "154          Marshall Islands        Oceania              NaN     3385.904065   \n",
       "155                Micronesia        Oceania        69.234244     3016.011223   \n",
       "156                     Nauru        Oceania              NaN     8052.888385   \n",
       "157               New Zealand        Oceania        81.456829    38201.890370   \n",
       "158                     Palau        Oceania              NaN    13500.563700   \n",
       "159          Papua New Guinea        Oceania        62.776683             NaN   \n",
       "160                     Samoa        Oceania        73.764878     4149.363444   \n",
       "161           Solomon Islands        Oceania        68.146244     1922.041388   \n",
       "162                     Tonga        Oceania        72.944049     4093.775387   \n",
       "163                    Tuvalu        Oceania              NaN     2970.027974   \n",
       "164                   Vanuatu        Oceania        72.157366     2805.834140   \n",
       "165                 Argentina  South America        76.334220    13467.102360   \n",
       "166                   Bolivia  South America        68.739610     3077.026199   \n",
       "167                    Brazil  South America        74.675878     8757.206202   \n",
       "168                     Chile  South America        81.787561    13653.226730   \n",
       "169                  Colombia  South America        74.182024     6044.525556   \n",
       "170                   Ecuador  South America        76.102927     6205.062224   \n",
       "171                    Guyana  South America        66.507512     4136.689919   \n",
       "172                  Paraguay  South America        73.025634     4109.367724   \n",
       "173                      Peru  South America        74.780732     6030.343259   \n",
       "174                  Suriname  South America        71.294171     8818.982566   \n",
       "175                   Uruguay  South America        77.138220    15524.842470   \n",
       "176                 Venezuela  South America        74.409610             NaN   \n",
       "\n",
       "      Population class  \n",
       "0     39871528.0     0  \n",
       "1     27859305.0     0  \n",
       "2     10575952.0     0  \n",
       "3      2209197.0     0  \n",
       "4     10199270.0     0  \n",
       "5     22834522.0     0  \n",
       "6      4546100.0     0  \n",
       "7     14009413.0     0  \n",
       "8       777424.0     0  \n",
       "9      4995648.0     0  \n",
       "10      927414.0     0  \n",
       "11    93778172.0     0  \n",
       "12     1175389.0     0  \n",
       "13           NaN     0  \n",
       "14    99873033.0     0  \n",
       "15     1930175.0     0  \n",
       "16     1977590.0     0  \n",
       "17    27582821.0     0  \n",
       "18    12091533.0     0  \n",
       "19     1770526.0     0  \n",
       "20    47236259.0     0  \n",
       "21     2174645.0     0  \n",
       "22     4499621.0     0  \n",
       "23     6234955.0     0  \n",
       "24    24234088.0     0  \n",
       "25    17573607.0     0  \n",
       "26    17467905.0     0  \n",
       "27     4182341.0     0  \n",
       "28     1262605.0     0  \n",
       "29    34803322.0     0  \n",
       "..           ...   ...  \n",
       "147    6082035.0     3  \n",
       "148    3969249.0     3  \n",
       "149    1360092.0     3  \n",
       "150  320896618.0     3  \n",
       "151   23789338.0     4  \n",
       "152     892149.0     4  \n",
       "153     112407.0     4  \n",
       "154      52994.0     4  \n",
       "155     104433.0     4  \n",
       "156      12475.0     4  \n",
       "157    4595700.0     4  \n",
       "158      21288.0     4  \n",
       "159    7919825.0     4  \n",
       "160     193759.0     4  \n",
       "161     587482.0     4  \n",
       "162     106364.0     4  \n",
       "163      11001.0     4  \n",
       "164     264603.0     4  \n",
       "165   43417765.0     5  \n",
       "166   10724705.0     5  \n",
       "167  205962108.0     5  \n",
       "168   17762681.0     5  \n",
       "169   48228697.0     5  \n",
       "170   16144368.0     5  \n",
       "171     768514.0     5  \n",
       "172    6639119.0     5  \n",
       "173   31376671.0     5  \n",
       "174     553208.0     5  \n",
       "175    3431552.0     5  \n",
       "176   31155134.0     5  \n",
       "\n",
       "[177 rows x 6 columns]"
      ]
     },
     "execution_count": 26,
     "metadata": {},
     "output_type": "execute_result"
    }
   ],
   "source": [
    "#添加新一列填入Continent名称\n",
    "data.loc[data['Continent']=='Africa', 'class'] = \"0\"\n",
    "data.loc[data['Continent']=='Asia', 'class'] = \"1\"\n",
    "data.loc[data['Continent']=='Europe', 'class'] = \"2\"\n",
    "data.loc[data['Continent']=='North America', 'class'] = \"3\"\n",
    "data.loc[data['Continent']=='Oceania', 'class'] = \"4\"\n",
    "data.loc[data['Continent']=='South America', 'class'] = \"5\"\n",
    "\n",
    "data"
   ]
  },
  {
   "cell_type": "code",
   "execution_count": 27,
   "metadata": {},
   "outputs": [
    {
     "name": "stdout",
     "output_type": "stream",
     "text": [
      "<class 'pandas.core.frame.DataFrame'>\n",
      "RangeIndex: 177 entries, 0 to 176\n",
      "Data columns (total 6 columns):\n",
      "Country            177 non-null object\n",
      "Continent          177 non-null object\n",
      "Life_expectancy    169 non-null float64\n",
      "GDP_per_capita     169 non-null float64\n",
      "Population         176 non-null float64\n",
      "class              177 non-null object\n",
      "dtypes: float64(3), object(3)\n",
      "memory usage: 8.4+ KB\n"
     ]
    }
   ],
   "source": [
    "data.info ()"
   ]
  },
  {
   "cell_type": "code",
   "execution_count": 28,
   "metadata": {},
   "outputs": [
    {
     "name": "stdout",
     "output_type": "stream",
     "text": [
      "<class 'pandas.core.frame.DataFrame'>\n",
      "Int64Index: 164 entries, 0 to 175\n",
      "Data columns (total 6 columns):\n",
      "Country            164 non-null object\n",
      "Continent          164 non-null object\n",
      "Life_expectancy    164 non-null float64\n",
      "GDP_per_capita     164 non-null float64\n",
      "Population         164 non-null float64\n",
      "class              164 non-null object\n",
      "dtypes: float64(3), object(3)\n",
      "memory usage: 9.0+ KB\n"
     ]
    }
   ],
   "source": [
    "df = data.dropna()\n",
    "df.info()"
   ]
  },
  {
   "cell_type": "code",
   "execution_count": 30,
   "metadata": {},
   "outputs": [],
   "source": [
    "df.columns = ['country', 'continent', 'life', 'gdp', 'popu','class']"
   ]
  },
  {
   "cell_type": "markdown",
   "metadata": {},
   "source": [
    "\n",
    "### 人均寿命直方图"
   ]
  },
  {
   "cell_type": "code",
   "execution_count": 31,
   "metadata": {},
   "outputs": [
    {
     "data": {
      "image/png": "[encoded data removed]",
      "text/plain": [
       "<Figure size 432x288 with 1 Axes>"
      ]
     },
     "metadata": {
      "needs_background": "light"
     },
     "output_type": "display_data"
    }
   ],
   "source": [
    "plt.hist(df.life, bins=20, rwidth=0.9)  # bins 设置区间数，rwidth设置柱子相对宽度\n",
    "plt.show()"
   ]
  },
  {
   "cell_type": "markdown",
   "metadata": {},
   "source": [
    "### 人均GDP直方图"
   ]
  },
  {
   "cell_type": "code",
   "execution_count": 32,
   "metadata": {},
   "outputs": [
    {
     "data": {
      "text/plain": [
       "country       object\n",
       "continent     object\n",
       "life         float64\n",
       "gdp          float64\n",
       "popu         float64\n",
       "class         object\n",
       "dtype: object"
      ]
     },
     "execution_count": 32,
     "metadata": {},
     "output_type": "execute_result"
    }
   ],
   "source": [
    "df.dtypes"
   ]
  },
  {
   "cell_type": "code",
   "execution_count": 33,
   "metadata": {},
   "outputs": [
    {
     "name": "stderr",
     "output_type": "stream",
     "text": [
      "//anaconda3/lib/python3.7/site-packages/numpy/lib/histograms.py:824: RuntimeWarning: invalid value encountered in greater_equal\n",
      "  keep = (tmp_a >= first_edge)\n",
      "//anaconda3/lib/python3.7/site-packages/numpy/lib/histograms.py:825: RuntimeWarning: invalid value encountered in less_equal\n",
      "  keep &= (tmp_a <= last_edge)\n"
     ]
    },
    {
     "data": {
      "image/png": "[encoded data removed]",
      "text/plain": [
       "<Figure size 432x288 with 1 Axes>"
      ]
     },
     "metadata": {
      "needs_background": "light"
     },
     "output_type": "display_data"
    }
   ],
   "source": [
    "fig = plt.figure()\n",
    "x = data['GDP_per_capita']\n",
    "ax = fig.add_subplot(111)\n",
    "numBins = 20\n",
    "ax.hist(x,numBins,color='blue',alpha=0.8,rwidth=0.9)\n",
    "plt.title('GDP_per_capita')\n",
    "plt.show()"
   ]
  },
  {
   "cell_type": "markdown",
   "metadata": {},
   "source": [
    "### 人均寿命箱线图"
   ]
  },
  {
   "cell_type": "code",
   "execution_count": 34,
   "metadata": {},
   "outputs": [
    {
     "data": {
      "image/png": "[encoded data removed]",
      "text/plain": [
       "<Figure size 432x288 with 1 Axes>"
      ]
     },
     "metadata": {
      "needs_background": "light"
     },
     "output_type": "display_data"
    }
   ],
   "source": [
    "Life_array = np.array(data['Life_expectancy'])\n",
    " \n",
    "df = pd.DataFrame(Life_array)\n",
    "df.plot.box(title=\"Life_expectancy\")\n",
    "plt.grid(linestyle=\"--\", alpha=0.3)\n",
    "plt.show()"
   ]
  },
  {
   "cell_type": "markdown",
   "metadata": {},
   "source": [
    "### 各大洲的国家数条形图¶"
   ]
  },
  {
   "cell_type": "code",
   "execution_count": 35,
   "metadata": {},
   "outputs": [],
   "source": [
    "group_by_Continent = data.groupby(['Continent'])\n",
    "Country_num = group_by_Continent.size() #根据Continent分组求国家数量"
   ]
  },
  {
   "cell_type": "code",
   "execution_count": 36,
   "metadata": {},
   "outputs": [
    {
     "name": "stdout",
     "output_type": "stream",
     "text": [
      "[50 36 45 20 14 12]\n",
      "['Africa', 'Asia', 'Europe', 'North America', 'Oceania', 'South America']\n"
     ]
    }
   ],
   "source": [
    "Country_values = Country_num.values\n",
    "array_Continent=[]\n",
    "for i in Country_num.index:\n",
    "    array_Continent.append(i)\n",
    "print(Country_values)\n",
    "print(array_Continent)  #将大洲名称、国家数量转换为array"
   ]
  },
  {
   "cell_type": "code",
   "execution_count": 37,
   "metadata": {},
   "outputs": [
    {
     "name": "stderr",
     "output_type": "stream",
     "text": [
      "/Users/zy/.local/lib/python3.7/site-packages/matplotlib/backends/backend_agg.py:211: RuntimeWarning: Glyph 22823 missing from current font.\n",
      "  font.set_text(s, 0.0, flags=flags)\n",
      "/Users/zy/.local/lib/python3.7/site-packages/matplotlib/backends/backend_agg.py:211: RuntimeWarning: Glyph 27954 missing from current font.\n",
      "  font.set_text(s, 0.0, flags=flags)\n",
      "/Users/zy/.local/lib/python3.7/site-packages/matplotlib/backends/backend_agg.py:211: RuntimeWarning: Glyph 22269 missing from current font.\n",
      "  font.set_text(s, 0.0, flags=flags)\n",
      "/Users/zy/.local/lib/python3.7/site-packages/matplotlib/backends/backend_agg.py:211: RuntimeWarning: Glyph 23478 missing from current font.\n",
      "  font.set_text(s, 0.0, flags=flags)\n",
      "/Users/zy/.local/lib/python3.7/site-packages/matplotlib/backends/backend_agg.py:211: RuntimeWarning: Glyph 20010 missing from current font.\n",
      "  font.set_text(s, 0.0, flags=flags)\n",
      "/Users/zy/.local/lib/python3.7/site-packages/matplotlib/backends/backend_agg.py:211: RuntimeWarning: Glyph 25968 missing from current font.\n",
      "  font.set_text(s, 0.0, flags=flags)\n",
      "/Users/zy/.local/lib/python3.7/site-packages/matplotlib/backends/backend_agg.py:211: RuntimeWarning: Glyph 26465 missing from current font.\n",
      "  font.set_text(s, 0.0, flags=flags)\n",
      "/Users/zy/.local/lib/python3.7/site-packages/matplotlib/backends/backend_agg.py:211: RuntimeWarning: Glyph 24418 missing from current font.\n",
      "  font.set_text(s, 0.0, flags=flags)\n",
      "/Users/zy/.local/lib/python3.7/site-packages/matplotlib/backends/backend_agg.py:211: RuntimeWarning: Glyph 22270 missing from current font.\n",
      "  font.set_text(s, 0.0, flags=flags)\n",
      "/Users/zy/.local/lib/python3.7/site-packages/matplotlib/backends/backend_agg.py:180: RuntimeWarning: Glyph 22823 missing from current font.\n",
      "  font.set_text(s, 0, flags=flags)\n",
      "/Users/zy/.local/lib/python3.7/site-packages/matplotlib/backends/backend_agg.py:180: RuntimeWarning: Glyph 27954 missing from current font.\n",
      "  font.set_text(s, 0, flags=flags)\n",
      "/Users/zy/.local/lib/python3.7/site-packages/matplotlib/backends/backend_agg.py:180: RuntimeWarning: Glyph 22269 missing from current font.\n",
      "  font.set_text(s, 0, flags=flags)\n",
      "/Users/zy/.local/lib/python3.7/site-packages/matplotlib/backends/backend_agg.py:180: RuntimeWarning: Glyph 23478 missing from current font.\n",
      "  font.set_text(s, 0, flags=flags)\n",
      "/Users/zy/.local/lib/python3.7/site-packages/matplotlib/backends/backend_agg.py:180: RuntimeWarning: Glyph 20010 missing from current font.\n",
      "  font.set_text(s, 0, flags=flags)\n",
      "/Users/zy/.local/lib/python3.7/site-packages/matplotlib/backends/backend_agg.py:180: RuntimeWarning: Glyph 25968 missing from current font.\n",
      "  font.set_text(s, 0, flags=flags)\n",
      "/Users/zy/.local/lib/python3.7/site-packages/matplotlib/backends/backend_agg.py:180: RuntimeWarning: Glyph 26465 missing from current font.\n",
      "  font.set_text(s, 0, flags=flags)\n",
      "/Users/zy/.local/lib/python3.7/site-packages/matplotlib/backends/backend_agg.py:180: RuntimeWarning: Glyph 24418 missing from current font.\n",
      "  font.set_text(s, 0, flags=flags)\n",
      "/Users/zy/.local/lib/python3.7/site-packages/matplotlib/backends/backend_agg.py:180: RuntimeWarning: Glyph 22270 missing from current font.\n",
      "  font.set_text(s, 0, flags=flags)\n"
     ]
    },
    {
     "data": {
      "image/png": "[encoded data removed]",
      "text/plain": [
       "<Figure size 432x288 with 1 Axes>"
      ]
     },
     "metadata": {
      "needs_background": "light"
     },
     "output_type": "display_data"
    }
   ],
   "source": [
    "plt.rcParams['font.sans-serif'] = ['SimHei']\n",
    "plt.rcParams['axes.unicode_minus'] = False\n",
    "\n",
    "plt.bar(array_Continent, Country_values)\n",
    "plt.title('大洲国家个数条形图')\n",
    "\n",
    "plt.show()"
   ]
  },
  {
   "cell_type": "markdown",
   "metadata": {},
   "source": [
    "### 各大洲国家数量占比的饼图"
   ]
  },
  {
   "cell_type": "code",
   "execution_count": 38,
   "metadata": {},
   "outputs": [
    {
     "data": {
      "image/png": "[encoded data removed]",
      "text/plain": [
       "<Figure size 432x288 with 1 Axes>"
      ]
     },
     "metadata": {},
     "output_type": "display_data"
    }
   ],
   "source": [
    "labels = Country_num.index\n",
    "fraces = Country_values\n",
    "plt.axes(aspect=1)\n",
    "plt.pie(x=fraces,labels=labels,autopct='%.0f%%',shadow=True)\n",
    "plt.show()"
   ]
  },
  {
   "cell_type": "markdown",
   "metadata": {},
   "source": [
    "### 人均寿命和人均GDP的关系散点图"
   ]
  },
  {
   "cell_type": "code",
   "execution_count": 39,
   "metadata": {},
   "outputs": [
    {
     "data": {
      "image/png": "[encoded data removed]",
      "text/plain": [
       "<Figure size 432x288 with 1 Axes>"
      ]
     },
     "metadata": {
      "needs_background": "light"
     },
     "output_type": "display_data"
    }
   ],
   "source": [
    "x = data['Life_expectancy']\n",
    "y = data['GDP_per_capita']\n",
    "\n",
    "plt.scatter(x, y, marker = 'o',s = 40 ,label = 'point')\n",
    "plt.legend(loc = 'best')    # 设置 图例所在的位置 使用推荐位置\n",
    "\n",
    "plt.show()"
   ]
  },
  {
   "cell_type": "markdown",
   "metadata": {},
   "source": [
    "### 人均GDP与人均寿命气泡图"
   ]
  },
  {
   "cell_type": "code",
   "execution_count": 40,
   "metadata": {},
   "outputs": [],
   "source": [
    "group_by_Continent = data.groupby(['Continent'])\n",
    "Country_num = group_by_Continent.size()  #根据Continent分组求国家数量"
   ]
  },
  {
   "cell_type": "code",
   "execution_count": 41,
   "metadata": {},
   "outputs": [
    {
     "name": "stdout",
     "output_type": "stream",
     "text": [
      "['Africa', 'Asia', 'Europe', 'North America', 'Oceania', 'South America']\n"
     ]
    }
   ],
   "source": [
    "Country_values = Country_num.values\n",
    "array_Continent=[]\n",
    "for i in Country_num.index:\n",
    "    array_Continent.append(i)\n",
    "print(array_Continent)  #将大洲名称、国家数量转换为array"
   ]
  },
  {
   "cell_type": "code",
   "execution_count": 42,
   "metadata": {},
   "outputs": [
    {
     "name": "stdout",
     "output_type": "stream",
     "text": [
      "303.6810223\n",
      "101909.8223\n"
     ]
    }
   ],
   "source": [
    "print(data['GDP_per_capita'].min())\n",
    "print(data['GDP_per_capita'].max())  #分别计算GDP与Life)expectancy最小与最大值"
   ]
  },
  {
   "cell_type": "code",
   "execution_count": 43,
   "metadata": {},
   "outputs": [
    {
     "name": "stdout",
     "output_type": "stream",
     "text": [
      "48.87395122\n",
      "83.84365854\n"
     ]
    }
   ],
   "source": [
    "print(data['Life_expectancy'].min())\n",
    "print(data['Life_expectancy'].max())"
   ]
  },
  {
   "cell_type": "code",
   "execution_count": 44,
   "metadata": {},
   "outputs": [
    {
     "name": "stdout",
     "output_type": "stream",
     "text": [
      "1371220000.0\n"
     ]
    }
   ],
   "source": [
    "print(data['Population'].max())"
   ]
  },
  {
   "cell_type": "code",
   "execution_count": 58,
   "metadata": {},
   "outputs": [
    {
     "data": {
      "image/png": "[encoded data removed]",
      "text/plain": [
       "<Figure size 720x345.6 with 1 Axes>"
      ]
     },
     "metadata": {
      "needs_background": "light"
     },
     "output_type": "display_data"
    }
   ],
   "source": [
    "plt.figure(figsize = [10, 4.8])\n",
    "plt.rcParams['font.sans-serif'] = ['SimHei']\n",
    "plt.rcParams['axes.unicode_minus'] = False\n",
    "\n",
    "colornum=data['Life_expectancy']  #横坐标\n",
    "wordsnum=data['GDP_per_capita']   #纵坐标\n",
    "Fre=data['Population']/100000    #气泡大小\n",
    "\n",
    "Type=data['class']   #决定气泡颜色的类序号\n",
    "Type=list(map(int,Type))\n",
    "\n",
    "color=['white','violet','orange','blue','red','black']   #plt.scatter()函数中依据此设定颜色\n",
    "size=Fre  #依据Fre决定气泡的大小\n",
    "plt.scatter(colornum,wordsnum,color=[color[i] for i in Type],s=size,alpha=0.6)\n",
    "plt.xlim(60,90)\n",
    "plt.ylim(-30000,104000)\n",
    "plt.xlabel(\"GDP_per_capita\")  #设置横坐标标题\n",
    "plt.ylabel(\"Life_expectancy\")  #设置纵坐标标题\n",
    "\n",
    "plt.grid(True) \n",
    "\n",
    "plt.show()"
   ]
  },
  {
   "cell_type": "code",
   "execution_count": 46,
   "metadata": {},
   "outputs": [
    {
     "data": {
      "text/plain": [
       "'3.1.3'"
      ]
     },
     "execution_count": 46,
     "metadata": {},
     "output_type": "execute_result"
    }
   ],
   "source": [
    "import matplotlib as mpt\n",
    "mpt.__version__"
   ]
  },
  {
   "cell_type": "code",
   "execution_count": 47,
   "metadata": {},
   "outputs": [
    {
     "name": "stdout",
     "output_type": "stream",
     "text": [
      "Looking in indexes: https://pypi.douban.com/simple\n",
      "Requirement already satisfied: matplotlib==3.1.3 in /Users/zy/.local/lib/python3.7/site-packages (3.1.3)\n",
      "Requirement already satisfied: numpy>=1.11 in /anaconda3/lib/python3.7/site-packages (from matplotlib==3.1.3) (1.16.4)\n",
      "Requirement already satisfied: cycler>=0.10 in /anaconda3/lib/python3.7/site-packages (from matplotlib==3.1.3) (0.10.0)\n",
      "Requirement already satisfied: pyparsing!=2.0.4,!=2.1.2,!=2.1.6,>=2.0.1 in /anaconda3/lib/python3.7/site-packages (from matplotlib==3.1.3) (2.4.0)\n",
      "Requirement already satisfied: python-dateutil>=2.1 in /anaconda3/lib/python3.7/site-packages (from matplotlib==3.1.3) (2.8.0)\n",
      "Requirement already satisfied: kiwisolver>=1.0.1 in /anaconda3/lib/python3.7/site-packages (from matplotlib==3.1.3) (1.1.0)\n",
      "Requirement already satisfied: six in /anaconda3/lib/python3.7/site-packages (from cycler>=0.10->matplotlib==3.1.3) (1.12.0)\n",
      "Requirement already satisfied: setuptools in /anaconda3/lib/python3.7/site-packages (from kiwisolver>=1.0.1->matplotlib==3.1.3) (41.0.1)\n",
      "Note: you may need to restart the kernel to use updated packages.\n"
     ]
    }
   ],
   "source": [
    "pip install -i https://pypi.douban.com/simple matplotlib==3.1.3 --user"
   ]
  },
  {
   "cell_type": "markdown",
   "metadata": {},
   "source": [
    "# 2.Scipy解方程"
   ]
  },
  {
   "cell_type": "code",
   "execution_count": 55,
   "metadata": {},
   "outputs": [
    {
     "name": "stdout",
     "output_type": "stream",
     "text": [
      "[2.38006127]\n",
      "[-2.22044605e-16]\n"
     ]
    }
   ],
   "source": [
    "from scipy.optimize import fsolve\n",
    "from math import sin\n",
    " \n",
    "def f(x):\n",
    "    return np.sin(x)*2-x+1\n",
    " \n",
    "result = fsolve(f, [2])\n",
    " \n",
    "print(result)\n",
    "print(f(result))"
   ]
  },
  {
   "cell_type": "code",
   "execution_count": 56,
   "metadata": {},
   "outputs": [
    {
     "name": "stdout",
     "output_type": "stream",
     "text": [
      "[ 2.  -1.5]\n"
     ]
    }
   ],
   "source": [
    "def f2(x):\n",
    "    return np.array([3*x[0]+2*x[1]-3,x[0]-2*x[1]-5])\n",
    "\n",
    "sol2_fsolve = fsolve(f2,[0,0])\n",
    "\n",
    "a = np.array([[3,2],[1,-2]])\n",
    "b = np.array([3,5])\n",
    "x = np.linalg.solve(a,b)\n",
    "\n",
    "print(x)"
   ]
  },
  {
   "cell_type": "code",
   "execution_count": null,
   "metadata": {},
   "outputs": [],
   "source": []
  },
  {
   "cell_type": "code",
   "execution_count": null,
   "metadata": {},
   "outputs": [],
   "source": []
  },
  {
   "cell_type": "code",
   "execution_count": null,
   "metadata": {},
   "outputs": [],
   "source": []
  },
  {
   "cell_type": "code",
   "execution_count": null,
   "metadata": {},
   "outputs": [],
   "source": [
    "\n"
   ]
  },
  {
   "cell_type": "code",
   "execution_count": null,
   "metadata": {},
   "outputs": [],
   "source": []
  }
 ],
 "metadata": {
  "kernelspec": {
   "display_name": "Python 3",
   "language": "python",
   "name": "python3"
  },
  "language_info": {
   "codemirror_mode": {
    "name": "ipython",
    "version": 3
   },
   "file_extension": ".py",
   "mimetype": "text/x-python",
   "name": "python",
   "nbconvert_exporter": "python",
   "pygments_lexer": "ipython3",
   "version": "3.7.3"
  }
 },
 "nbformat": 4,
 "nbformat_minor": 4
}
