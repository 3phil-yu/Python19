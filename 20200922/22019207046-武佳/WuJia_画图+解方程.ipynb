{
 "cells": [
  {
   "cell_type": "code",
   "execution_count": 1,
   "metadata": {},
   "outputs": [],
   "source": [
    "import pandas as pd\n",
    "import numpy as np\n",
    "import matplotlib.pyplot as plt\n",
    "from scipy import stats\n",
    "%matplotlib inline"
   ]
  },
  {
   "cell_type": "code",
   "execution_count": 2,
   "metadata": {
    "scrolled": true
   },
   "outputs": [
    {
     "data": {
      "text/html": [
       "<div>\n",
       "<style scoped>\n",
       "    .dataframe tbody tr th:only-of-type {\n",
       "        vertical-align: middle;\n",
       "    }\n",
       "\n",
       "    .dataframe tbody tr th {\n",
       "        vertical-align: top;\n",
       "    }\n",
       "\n",
       "    .dataframe thead th {\n",
       "        text-align: right;\n",
       "    }\n",
       "</style>\n",
       "<table border=\"1\" class=\"dataframe\">\n",
       "  <thead>\n",
       "    <tr style=\"text-align: right;\">\n",
       "      <th></th>\n",
       "      <th>Country</th>\n",
       "      <th>Continent</th>\n",
       "      <th>Life_expectancy</th>\n",
       "      <th>GDP_per_capita</th>\n",
       "      <th>Population</th>\n",
       "    </tr>\n",
       "  </thead>\n",
       "  <tbody>\n",
       "    <tr>\n",
       "      <th>0</th>\n",
       "      <td>Algeria</td>\n",
       "      <td>Africa</td>\n",
       "      <td>75.042537</td>\n",
       "      <td>4132.760292</td>\n",
       "      <td>39871528.0</td>\n",
       "    </tr>\n",
       "    <tr>\n",
       "      <th>1</th>\n",
       "      <td>Angola</td>\n",
       "      <td>Africa</td>\n",
       "      <td>52.666098</td>\n",
       "      <td>3695.793748</td>\n",
       "      <td>27859305.0</td>\n",
       "    </tr>\n",
       "    <tr>\n",
       "      <th>2</th>\n",
       "      <td>Benin</td>\n",
       "      <td>Africa</td>\n",
       "      <td>59.720707</td>\n",
       "      <td>783.947091</td>\n",
       "      <td>10575952.0</td>\n",
       "    </tr>\n",
       "    <tr>\n",
       "      <th>3</th>\n",
       "      <td>Botswana</td>\n",
       "      <td>Africa</td>\n",
       "      <td>64.487415</td>\n",
       "      <td>6532.060501</td>\n",
       "      <td>2209197.0</td>\n",
       "    </tr>\n",
       "    <tr>\n",
       "      <th>4</th>\n",
       "      <td>Burundi</td>\n",
       "      <td>Africa</td>\n",
       "      <td>57.107049</td>\n",
       "      <td>303.681022</td>\n",
       "      <td>10199270.0</td>\n",
       "    </tr>\n",
       "  </tbody>\n",
       "</table>\n",
       "</div>"
      ],
      "text/plain": [
       "    Country Continent  Life_expectancy  GDP_per_capita  Population\n",
       "0   Algeria    Africa        75.042537     4132.760292  39871528.0\n",
       "1    Angola    Africa        52.666098     3695.793748  27859305.0\n",
       "2     Benin    Africa        59.720707      783.947091  10575952.0\n",
       "3  Botswana    Africa        64.487415     6532.060501   2209197.0\n",
       "4   Burundi    Africa        57.107049      303.681022  10199270.0"
      ]
     },
     "execution_count": 2,
     "metadata": {},
     "output_type": "execute_result"
    }
   ],
   "source": [
    "data=pd.read_csv('WorldIndex.csv')\n",
    "data.head()"
   ]
  },
  {
   "cell_type": "code",
   "execution_count": 3,
   "metadata": {},
   "outputs": [
    {
     "data": {
      "text/html": [
       "<div>\n",
       "<style scoped>\n",
       "    .dataframe tbody tr th:only-of-type {\n",
       "        vertical-align: middle;\n",
       "    }\n",
       "\n",
       "    .dataframe tbody tr th {\n",
       "        vertical-align: top;\n",
       "    }\n",
       "\n",
       "    .dataframe thead th {\n",
       "        text-align: right;\n",
       "    }\n",
       "</style>\n",
       "<table border=\"1\" class=\"dataframe\">\n",
       "  <thead>\n",
       "    <tr style=\"text-align: right;\">\n",
       "      <th></th>\n",
       "      <th>Country</th>\n",
       "      <th>Continent</th>\n",
       "      <th>Life_expectancy</th>\n",
       "      <th>GDP_per_capita</th>\n",
       "      <th>Population</th>\n",
       "      <th>cla</th>\n",
       "    </tr>\n",
       "  </thead>\n",
       "  <tbody>\n",
       "    <tr>\n",
       "      <th>0</th>\n",
       "      <td>Algeria</td>\n",
       "      <td>Africa</td>\n",
       "      <td>75.042537</td>\n",
       "      <td>4132.760292</td>\n",
       "      <td>39871528.0</td>\n",
       "      <td>red</td>\n",
       "    </tr>\n",
       "    <tr>\n",
       "      <th>1</th>\n",
       "      <td>Angola</td>\n",
       "      <td>Africa</td>\n",
       "      <td>52.666098</td>\n",
       "      <td>3695.793748</td>\n",
       "      <td>27859305.0</td>\n",
       "      <td>red</td>\n",
       "    </tr>\n",
       "    <tr>\n",
       "      <th>2</th>\n",
       "      <td>Benin</td>\n",
       "      <td>Africa</td>\n",
       "      <td>59.720707</td>\n",
       "      <td>783.947091</td>\n",
       "      <td>10575952.0</td>\n",
       "      <td>red</td>\n",
       "    </tr>\n",
       "    <tr>\n",
       "      <th>3</th>\n",
       "      <td>Botswana</td>\n",
       "      <td>Africa</td>\n",
       "      <td>64.487415</td>\n",
       "      <td>6532.060501</td>\n",
       "      <td>2209197.0</td>\n",
       "      <td>red</td>\n",
       "    </tr>\n",
       "    <tr>\n",
       "      <th>4</th>\n",
       "      <td>Burundi</td>\n",
       "      <td>Africa</td>\n",
       "      <td>57.107049</td>\n",
       "      <td>303.681022</td>\n",
       "      <td>10199270.0</td>\n",
       "      <td>red</td>\n",
       "    </tr>\n",
       "    <tr>\n",
       "      <th>...</th>\n",
       "      <td>...</td>\n",
       "      <td>...</td>\n",
       "      <td>...</td>\n",
       "      <td>...</td>\n",
       "      <td>...</td>\n",
       "      <td>...</td>\n",
       "    </tr>\n",
       "    <tr>\n",
       "      <th>172</th>\n",
       "      <td>Paraguay</td>\n",
       "      <td>South America</td>\n",
       "      <td>73.025634</td>\n",
       "      <td>4109.367724</td>\n",
       "      <td>6639119.0</td>\n",
       "      <td>orange</td>\n",
       "    </tr>\n",
       "    <tr>\n",
       "      <th>173</th>\n",
       "      <td>Peru</td>\n",
       "      <td>South America</td>\n",
       "      <td>74.780732</td>\n",
       "      <td>6030.343259</td>\n",
       "      <td>31376671.0</td>\n",
       "      <td>orange</td>\n",
       "    </tr>\n",
       "    <tr>\n",
       "      <th>174</th>\n",
       "      <td>Suriname</td>\n",
       "      <td>South America</td>\n",
       "      <td>71.294171</td>\n",
       "      <td>8818.982566</td>\n",
       "      <td>553208.0</td>\n",
       "      <td>orange</td>\n",
       "    </tr>\n",
       "    <tr>\n",
       "      <th>175</th>\n",
       "      <td>Uruguay</td>\n",
       "      <td>South America</td>\n",
       "      <td>77.138220</td>\n",
       "      <td>15524.842470</td>\n",
       "      <td>3431552.0</td>\n",
       "      <td>orange</td>\n",
       "    </tr>\n",
       "    <tr>\n",
       "      <th>176</th>\n",
       "      <td>Venezuela</td>\n",
       "      <td>South America</td>\n",
       "      <td>74.409610</td>\n",
       "      <td>NaN</td>\n",
       "      <td>31155134.0</td>\n",
       "      <td>orange</td>\n",
       "    </tr>\n",
       "  </tbody>\n",
       "</table>\n",
       "<p>177 rows × 6 columns</p>\n",
       "</div>"
      ],
      "text/plain": [
       "       Country      Continent  Life_expectancy  GDP_per_capita  Population  \\\n",
       "0      Algeria         Africa        75.042537     4132.760292  39871528.0   \n",
       "1       Angola         Africa        52.666098     3695.793748  27859305.0   \n",
       "2        Benin         Africa        59.720707      783.947091  10575952.0   \n",
       "3     Botswana         Africa        64.487415     6532.060501   2209197.0   \n",
       "4      Burundi         Africa        57.107049      303.681022  10199270.0   \n",
       "..         ...            ...              ...             ...         ...   \n",
       "172   Paraguay  South America        73.025634     4109.367724   6639119.0   \n",
       "173       Peru  South America        74.780732     6030.343259  31376671.0   \n",
       "174   Suriname  South America        71.294171     8818.982566    553208.0   \n",
       "175    Uruguay  South America        77.138220    15524.842470   3431552.0   \n",
       "176  Venezuela  South America        74.409610             NaN  31155134.0   \n",
       "\n",
       "        cla  \n",
       "0       red  \n",
       "1       red  \n",
       "2       red  \n",
       "3       red  \n",
       "4       red  \n",
       "..      ...  \n",
       "172  orange  \n",
       "173  orange  \n",
       "174  orange  \n",
       "175  orange  \n",
       "176  orange  \n",
       "\n",
       "[177 rows x 6 columns]"
      ]
     },
     "execution_count": 3,
     "metadata": {},
     "output_type": "execute_result"
    }
   ],
   "source": [
    "data.loc[data['Continent']=='Africa', 'cla'] = \"red\"\n",
    "data.loc[data['Continent']=='Asia', 'cla'] = \"blue\"\n",
    "data.loc[data['Continent']=='Europe', 'cla'] = \"green\"\n",
    "data.loc[data['Continent']=='North America', 'cla'] = \"yellow\"\n",
    "data.loc[data['Continent']=='Oceania', 'cla'] = \"black\"\n",
    "data.loc[data['Continent']=='South America', 'cla'] = \"orange\"\n",
    "\n",
    "data"
   ]
  },
  {
   "cell_type": "code",
   "execution_count": 4,
   "metadata": {},
   "outputs": [
    {
     "data": {
      "text/html": [
       "<div>\n",
       "<style scoped>\n",
       "    .dataframe tbody tr th:only-of-type {\n",
       "        vertical-align: middle;\n",
       "    }\n",
       "\n",
       "    .dataframe tbody tr th {\n",
       "        vertical-align: top;\n",
       "    }\n",
       "\n",
       "    .dataframe thead th {\n",
       "        text-align: right;\n",
       "    }\n",
       "</style>\n",
       "<table border=\"1\" class=\"dataframe\">\n",
       "  <thead>\n",
       "    <tr style=\"text-align: right;\">\n",
       "      <th></th>\n",
       "      <th>Country</th>\n",
       "      <th>Continent</th>\n",
       "      <th>Life_expectancy</th>\n",
       "      <th>GDP_per_capita</th>\n",
       "      <th>Population</th>\n",
       "      <th>cla</th>\n",
       "    </tr>\n",
       "  </thead>\n",
       "  <tbody>\n",
       "    <tr>\n",
       "      <th>0</th>\n",
       "      <td>Algeria</td>\n",
       "      <td>Africa</td>\n",
       "      <td>75.042537</td>\n",
       "      <td>4132.760292</td>\n",
       "      <td>39871528.0</td>\n",
       "      <td>red</td>\n",
       "    </tr>\n",
       "    <tr>\n",
       "      <th>1</th>\n",
       "      <td>Angola</td>\n",
       "      <td>Africa</td>\n",
       "      <td>52.666098</td>\n",
       "      <td>3695.793748</td>\n",
       "      <td>27859305.0</td>\n",
       "      <td>red</td>\n",
       "    </tr>\n",
       "    <tr>\n",
       "      <th>2</th>\n",
       "      <td>Benin</td>\n",
       "      <td>Africa</td>\n",
       "      <td>59.720707</td>\n",
       "      <td>783.947091</td>\n",
       "      <td>10575952.0</td>\n",
       "      <td>red</td>\n",
       "    </tr>\n",
       "    <tr>\n",
       "      <th>3</th>\n",
       "      <td>Botswana</td>\n",
       "      <td>Africa</td>\n",
       "      <td>64.487415</td>\n",
       "      <td>6532.060501</td>\n",
       "      <td>2209197.0</td>\n",
       "      <td>red</td>\n",
       "    </tr>\n",
       "    <tr>\n",
       "      <th>4</th>\n",
       "      <td>Burundi</td>\n",
       "      <td>Africa</td>\n",
       "      <td>57.107049</td>\n",
       "      <td>303.681022</td>\n",
       "      <td>10199270.0</td>\n",
       "      <td>red</td>\n",
       "    </tr>\n",
       "    <tr>\n",
       "      <th>...</th>\n",
       "      <td>...</td>\n",
       "      <td>...</td>\n",
       "      <td>...</td>\n",
       "      <td>...</td>\n",
       "      <td>...</td>\n",
       "      <td>...</td>\n",
       "    </tr>\n",
       "    <tr>\n",
       "      <th>172</th>\n",
       "      <td>Paraguay</td>\n",
       "      <td>South America</td>\n",
       "      <td>73.025634</td>\n",
       "      <td>4109.367724</td>\n",
       "      <td>6639119.0</td>\n",
       "      <td>orange</td>\n",
       "    </tr>\n",
       "    <tr>\n",
       "      <th>173</th>\n",
       "      <td>Peru</td>\n",
       "      <td>South America</td>\n",
       "      <td>74.780732</td>\n",
       "      <td>6030.343259</td>\n",
       "      <td>31376671.0</td>\n",
       "      <td>orange</td>\n",
       "    </tr>\n",
       "    <tr>\n",
       "      <th>174</th>\n",
       "      <td>Suriname</td>\n",
       "      <td>South America</td>\n",
       "      <td>71.294171</td>\n",
       "      <td>8818.982566</td>\n",
       "      <td>553208.0</td>\n",
       "      <td>orange</td>\n",
       "    </tr>\n",
       "    <tr>\n",
       "      <th>175</th>\n",
       "      <td>Uruguay</td>\n",
       "      <td>South America</td>\n",
       "      <td>77.138220</td>\n",
       "      <td>15524.842470</td>\n",
       "      <td>3431552.0</td>\n",
       "      <td>orange</td>\n",
       "    </tr>\n",
       "    <tr>\n",
       "      <th>176</th>\n",
       "      <td>Venezuela</td>\n",
       "      <td>South America</td>\n",
       "      <td>74.409610</td>\n",
       "      <td>NaN</td>\n",
       "      <td>31155134.0</td>\n",
       "      <td>orange</td>\n",
       "    </tr>\n",
       "  </tbody>\n",
       "</table>\n",
       "<p>177 rows × 6 columns</p>\n",
       "</div>"
      ],
      "text/plain": [
       "       Country      Continent  Life_expectancy  GDP_per_capita  Population  \\\n",
       "0      Algeria         Africa        75.042537     4132.760292  39871528.0   \n",
       "1       Angola         Africa        52.666098     3695.793748  27859305.0   \n",
       "2        Benin         Africa        59.720707      783.947091  10575952.0   \n",
       "3     Botswana         Africa        64.487415     6532.060501   2209197.0   \n",
       "4      Burundi         Africa        57.107049      303.681022  10199270.0   \n",
       "..         ...            ...              ...             ...         ...   \n",
       "172   Paraguay  South America        73.025634     4109.367724   6639119.0   \n",
       "173       Peru  South America        74.780732     6030.343259  31376671.0   \n",
       "174   Suriname  South America        71.294171     8818.982566    553208.0   \n",
       "175    Uruguay  South America        77.138220    15524.842470   3431552.0   \n",
       "176  Venezuela  South America        74.409610             NaN  31155134.0   \n",
       "\n",
       "        cla  \n",
       "0       red  \n",
       "1       red  \n",
       "2       red  \n",
       "3       red  \n",
       "4       red  \n",
       "..      ...  \n",
       "172  orange  \n",
       "173  orange  \n",
       "174  orange  \n",
       "175  orange  \n",
       "176  orange  \n",
       "\n",
       "[177 rows x 6 columns]"
      ]
     },
     "execution_count": 4,
     "metadata": {},
     "output_type": "execute_result"
    }
   ],
   "source": [
    "data.dropna(how='all')"
   ]
  },
  {
   "cell_type": "markdown",
   "metadata": {},
   "source": [
    "#删掉含有空值的数据行"
   ]
  },
  {
   "cell_type": "code",
   "execution_count": 5,
   "metadata": {},
   "outputs": [
    {
     "data": {
      "text/html": [
       "<div>\n",
       "<style scoped>\n",
       "    .dataframe tbody tr th:only-of-type {\n",
       "        vertical-align: middle;\n",
       "    }\n",
       "\n",
       "    .dataframe tbody tr th {\n",
       "        vertical-align: top;\n",
       "    }\n",
       "\n",
       "    .dataframe thead th {\n",
       "        text-align: right;\n",
       "    }\n",
       "</style>\n",
       "<table border=\"1\" class=\"dataframe\">\n",
       "  <thead>\n",
       "    <tr style=\"text-align: right;\">\n",
       "      <th></th>\n",
       "      <th>Country</th>\n",
       "      <th>Continent</th>\n",
       "      <th>Life_expectancy</th>\n",
       "      <th>GDP_per_capita</th>\n",
       "      <th>Population</th>\n",
       "      <th>cla</th>\n",
       "    </tr>\n",
       "  </thead>\n",
       "  <tbody>\n",
       "    <tr>\n",
       "      <th>0</th>\n",
       "      <td>Algeria</td>\n",
       "      <td>Africa</td>\n",
       "      <td>75.042537</td>\n",
       "      <td>4132.760292</td>\n",
       "      <td>39871528.0</td>\n",
       "      <td>red</td>\n",
       "    </tr>\n",
       "    <tr>\n",
       "      <th>1</th>\n",
       "      <td>Angola</td>\n",
       "      <td>Africa</td>\n",
       "      <td>52.666098</td>\n",
       "      <td>3695.793748</td>\n",
       "      <td>27859305.0</td>\n",
       "      <td>red</td>\n",
       "    </tr>\n",
       "    <tr>\n",
       "      <th>2</th>\n",
       "      <td>Benin</td>\n",
       "      <td>Africa</td>\n",
       "      <td>59.720707</td>\n",
       "      <td>783.947091</td>\n",
       "      <td>10575952.0</td>\n",
       "      <td>red</td>\n",
       "    </tr>\n",
       "    <tr>\n",
       "      <th>3</th>\n",
       "      <td>Botswana</td>\n",
       "      <td>Africa</td>\n",
       "      <td>64.487415</td>\n",
       "      <td>6532.060501</td>\n",
       "      <td>2209197.0</td>\n",
       "      <td>red</td>\n",
       "    </tr>\n",
       "    <tr>\n",
       "      <th>4</th>\n",
       "      <td>Burundi</td>\n",
       "      <td>Africa</td>\n",
       "      <td>57.107049</td>\n",
       "      <td>303.681022</td>\n",
       "      <td>10199270.0</td>\n",
       "      <td>red</td>\n",
       "    </tr>\n",
       "    <tr>\n",
       "      <th>...</th>\n",
       "      <td>...</td>\n",
       "      <td>...</td>\n",
       "      <td>...</td>\n",
       "      <td>...</td>\n",
       "      <td>...</td>\n",
       "      <td>...</td>\n",
       "    </tr>\n",
       "    <tr>\n",
       "      <th>171</th>\n",
       "      <td>Guyana</td>\n",
       "      <td>South America</td>\n",
       "      <td>66.507512</td>\n",
       "      <td>4136.689919</td>\n",
       "      <td>768514.0</td>\n",
       "      <td>orange</td>\n",
       "    </tr>\n",
       "    <tr>\n",
       "      <th>172</th>\n",
       "      <td>Paraguay</td>\n",
       "      <td>South America</td>\n",
       "      <td>73.025634</td>\n",
       "      <td>4109.367724</td>\n",
       "      <td>6639119.0</td>\n",
       "      <td>orange</td>\n",
       "    </tr>\n",
       "    <tr>\n",
       "      <th>173</th>\n",
       "      <td>Peru</td>\n",
       "      <td>South America</td>\n",
       "      <td>74.780732</td>\n",
       "      <td>6030.343259</td>\n",
       "      <td>31376671.0</td>\n",
       "      <td>orange</td>\n",
       "    </tr>\n",
       "    <tr>\n",
       "      <th>174</th>\n",
       "      <td>Suriname</td>\n",
       "      <td>South America</td>\n",
       "      <td>71.294171</td>\n",
       "      <td>8818.982566</td>\n",
       "      <td>553208.0</td>\n",
       "      <td>orange</td>\n",
       "    </tr>\n",
       "    <tr>\n",
       "      <th>175</th>\n",
       "      <td>Uruguay</td>\n",
       "      <td>South America</td>\n",
       "      <td>77.138220</td>\n",
       "      <td>15524.842470</td>\n",
       "      <td>3431552.0</td>\n",
       "      <td>orange</td>\n",
       "    </tr>\n",
       "  </tbody>\n",
       "</table>\n",
       "<p>164 rows × 6 columns</p>\n",
       "</div>"
      ],
      "text/plain": [
       "      Country      Continent  Life_expectancy  GDP_per_capita  Population  \\\n",
       "0     Algeria         Africa        75.042537     4132.760292  39871528.0   \n",
       "1      Angola         Africa        52.666098     3695.793748  27859305.0   \n",
       "2       Benin         Africa        59.720707      783.947091  10575952.0   \n",
       "3    Botswana         Africa        64.487415     6532.060501   2209197.0   \n",
       "4     Burundi         Africa        57.107049      303.681022  10199270.0   \n",
       "..        ...            ...              ...             ...         ...   \n",
       "171    Guyana  South America        66.507512     4136.689919    768514.0   \n",
       "172  Paraguay  South America        73.025634     4109.367724   6639119.0   \n",
       "173      Peru  South America        74.780732     6030.343259  31376671.0   \n",
       "174  Suriname  South America        71.294171     8818.982566    553208.0   \n",
       "175   Uruguay  South America        77.138220    15524.842470   3431552.0   \n",
       "\n",
       "        cla  \n",
       "0       red  \n",
       "1       red  \n",
       "2       red  \n",
       "3       red  \n",
       "4       red  \n",
       "..      ...  \n",
       "171  orange  \n",
       "172  orange  \n",
       "173  orange  \n",
       "174  orange  \n",
       "175  orange  \n",
       "\n",
       "[164 rows x 6 columns]"
      ]
     },
     "execution_count": 5,
     "metadata": {},
     "output_type": "execute_result"
    }
   ],
   "source": [
    "data1=data.dropna()\n",
    "data1"
   ]
  },
  {
   "cell_type": "code",
   "execution_count": 6,
   "metadata": {},
   "outputs": [
    {
     "data": {
      "text/plain": [
       "pandas.core.frame.DataFrame"
      ]
     },
     "execution_count": 6,
     "metadata": {},
     "output_type": "execute_result"
    }
   ],
   "source": [
    "type(data1)"
   ]
  },
  {
   "cell_type": "markdown",
   "metadata": {},
   "source": [
    "# 平均寿命直方图"
   ]
  },
  {
   "cell_type": "code",
   "execution_count": 7,
   "metadata": {},
   "outputs": [
    {
     "data": {
      "text/plain": [
       "0      75.042537\n",
       "1      52.666098\n",
       "2      59.720707\n",
       "3      64.487415\n",
       "4      57.107049\n",
       "         ...    \n",
       "171    66.507512\n",
       "172    73.025634\n",
       "173    74.780732\n",
       "174    71.294171\n",
       "175    77.138220\n",
       "Name: Life_expectancy, Length: 164, dtype: float64"
      ]
     },
     "execution_count": 7,
     "metadata": {},
     "output_type": "execute_result"
    }
   ],
   "source": [
    "#将平均寿命单独成dataframe\n",
    "data_life=data1['Life_expectancy']\n",
    "data_life"
   ]
  },
  {
   "cell_type": "code",
   "execution_count": 8,
   "metadata": {},
   "outputs": [],
   "source": [
    "import os\n",
    "from numpy import array\n",
    "import numpy as np\n",
    "import pylab as pl"
   ]
  },
  {
   "cell_type": "code",
   "execution_count": 9,
   "metadata": {},
   "outputs": [
    {
     "data": {
      "image/png": "[encoded data removed]",
      "text/plain": [
       "<Figure size 432x288 with 1 Axes>"
      ]
     },
     "metadata": {
      "needs_background": "light"
     },
     "output_type": "display_data"
    }
   ],
   "source": [
    "def draw_hist(lenths):\n",
    "    data_life = lenths \n",
    "bins = np.linspace(min(data_life),90,10)\n",
    "plt.hist(data_life,bins)\n",
    "plt.xlabel('Life_expectancy')\n",
    "plt.ylabel('Number')\n",
    "plt.title('Distribution of Life_expectancy')\n",
    "plt.show()"
   ]
  },
  {
   "cell_type": "code",
   "execution_count": 10,
   "metadata": {},
   "outputs": [
    {
     "name": "stdout",
     "output_type": "stream",
     "text": [
      "10\n",
      "48.87395122\n",
      "53.443512195555556\n",
      "58.01307317111112\n",
      "62.58263414666667\n",
      "67.15219512222222\n",
      "71.72175609777779\n",
      "76.29131707333333\n",
      "80.86087804888889\n",
      "85.43043902444444\n",
      "90.0\n"
     ]
    },
    {
     "ename": "NameError",
     "evalue": "name 'bins_interval' is not defined",
     "output_type": "error",
     "traceback": [
      "\u001b[1;31m---------------------------------------------------------------------------\u001b[0m",
      "\u001b[1;31mNameError\u001b[0m                                 Traceback (most recent call last)",
      "\u001b[1;32m<ipython-input-10-0744fb430c20>\u001b[0m in \u001b[0;36m<module>\u001b[1;34m\u001b[0m\n\u001b[0;32m     16\u001b[0m        \u001b[1;31m# 字体上边文字\u001b[0m\u001b[1;33m\u001b[0m\u001b[1;33m\u001b[0m\u001b[1;33m\u001b[0m\u001b[0m\n\u001b[0;32m     17\u001b[0m        \u001b[1;31m# 频率分布数据 normed=True\u001b[0m\u001b[1;33m\u001b[0m\u001b[1;33m\u001b[0m\u001b[1;33m\u001b[0m\u001b[0m\n\u001b[1;32m---> 18\u001b[1;33m     \u001b[0mplt\u001b[0m\u001b[1;33m.\u001b[0m\u001b[0mtext\u001b[0m\u001b[1;33m(\u001b[0m\u001b[0mx\u001b[0m \u001b[1;33m+\u001b[0m \u001b[0mbins_interval\u001b[0m \u001b[1;33m/\u001b[0m \u001b[1;36m2\u001b[0m\u001b[1;33m,\u001b[0m \u001b[0my\u001b[0m \u001b[1;33m+\u001b[0m \u001b[1;36m0.003\u001b[0m\u001b[1;33m,\u001b[0m \u001b[1;34m'%.2f'\u001b[0m \u001b[1;33m%\u001b[0m \u001b[0my\u001b[0m\u001b[1;33m,\u001b[0m \u001b[0mha\u001b[0m\u001b[1;33m=\u001b[0m\u001b[1;34m'center'\u001b[0m\u001b[1;33m,\u001b[0m \u001b[0mva\u001b[0m\u001b[1;33m=\u001b[0m\u001b[1;34m'top'\u001b[0m\u001b[1;33m)\u001b[0m\u001b[1;33m\u001b[0m\u001b[1;33m\u001b[0m\u001b[0m\n\u001b[0m\u001b[0;32m     19\u001b[0m         \u001b[1;31m# 频次分布数据 normed=False\u001b[0m\u001b[1;33m\u001b[0m\u001b[1;33m\u001b[0m\u001b[1;33m\u001b[0m\u001b[0m\n\u001b[0;32m     20\u001b[0m         \u001b[1;31m# plt.text(x + bins_interval / 2, y + 0.25, '%.2f' % y, ha='center', va='top')\u001b[0m\u001b[1;33m\u001b[0m\u001b[1;33m\u001b[0m\u001b[1;33m\u001b[0m\u001b[0m\n",
      "\u001b[1;31mNameError\u001b[0m: name 'bins_interval' is not defined"
     ]
    },
    {
     "data": {
      "image/png": "[encoded data removed]",
      "text/plain": [
       "<Figure size 432x288 with 1 Axes>"
      ]
     },
     "metadata": {
      "needs_background": "light"
     },
     "output_type": "display_data"
    }
   ],
   "source": [
    "# 按照固定区间长度绘制频率分布直方图\n",
    "# bins_interval 区间的长度\n",
    "# margin        设定的左边和右边空留的大小\n",
    "def probability_distribution(data_life, bins_interval=10, margin=10):\n",
    "    bins = range(min(data_life), max(data_life) + bins_interval - 1, bins_interval)\n",
    "print(len(bins))\n",
    "for i in range(0, len(bins)):\n",
    "    print(bins[i])\n",
    "plt.xlim(min(data_life), max(data_life) )\n",
    "plt.title(\"Life_expectancy-distribution\")\n",
    "plt.xlabel('Interval')\n",
    "plt.ylabel('Probability')\n",
    "# 频率分布normed=True，频次分布normed=False\n",
    "prob,left,rectangle = plt.hist(x=data_life, bins=bins, density=True, histtype='bar', color=['b'])\n",
    "for x, y in zip(left, prob):\n",
    "       # 字体上边文字\n",
    "       # 频率分布数据 normed=True\n",
    "    plt.text(x + bins_interval / 2, y + 0.003, '%.2f' % y, ha='center', va='top')\n",
    "        # 频次分布数据 normed=False\n",
    "        # plt.text(x + bins_interval / 2, y + 0.25, '%.2f' % y, ha='center', va='top')\n",
    "plt.show()"
   ]
  },
  {
   "cell_type": "markdown",
   "metadata": {},
   "source": [
    "# 人均GDP直方图"
   ]
  },
  {
   "cell_type": "code",
   "execution_count": 11,
   "metadata": {},
   "outputs": [
    {
     "data": {
      "text/plain": [
       "0       4132.760292\n",
       "1       3695.793748\n",
       "2        783.947091\n",
       "3       6532.060501\n",
       "4        303.681022\n",
       "           ...     \n",
       "171     4136.689919\n",
       "172     4109.367724\n",
       "173     6030.343259\n",
       "174     8818.982566\n",
       "175    15524.842470\n",
       "Name: GDP_per_capita, Length: 164, dtype: float64"
      ]
     },
     "execution_count": 11,
     "metadata": {},
     "output_type": "execute_result"
    }
   ],
   "source": [
    "#将人均GDP单独成dataframe\n",
    "data_gdp=data1['GDP_per_capita']\n",
    "data_gdp"
   ]
  },
  {
   "cell_type": "code",
   "execution_count": 12,
   "metadata": {},
   "outputs": [
    {
     "data": {
      "image/png": "[encoded data removed]",
      "text/plain": [
       "<Figure size 432x288 with 1 Axes>"
      ]
     },
     "metadata": {
      "needs_background": "light"
     },
     "output_type": "display_data"
    }
   ],
   "source": [
    "def draw_hist(lenths):\n",
    "    data_gdp = lenths \n",
    "bins = np.linspace(min(data_gdp),18000,500)\n",
    "plt.hist(data_gdp,bins)\n",
    "plt.xlabel('GDP_per_capita')\n",
    "plt.ylabel('Number')\n",
    "plt.title('Distribution of GDP_per_capita')\n",
    "plt.show()"
   ]
  },
  {
   "cell_type": "markdown",
   "metadata": {},
   "source": [
    "# 人均寿命箱线图"
   ]
  },
  {
   "cell_type": "code",
   "execution_count": 13,
   "metadata": {},
   "outputs": [
    {
     "data": {
      "image/png": "[encoded data removed]",
      "text/plain": [
       "<Figure size 432x288 with 1 Axes>"
      ]
     },
     "metadata": {
      "needs_background": "light"
     },
     "output_type": "display_data"
    }
   ],
   "source": [
    "plt.boxplot(data_life)    #垂直显示箱线图\n",
    "plt.show()"
   ]
  },
  {
   "cell_type": "code",
   "execution_count": 14,
   "metadata": {},
   "outputs": [
    {
     "name": "stdout",
     "output_type": "stream",
     "text": [
      "count    164.000000\n",
      "mean      71.301273\n",
      "std        8.511990\n",
      "min       48.873951\n",
      "25%       65.340945\n",
      "50%       73.650537\n",
      "75%       77.133335\n",
      "max       83.843659\n",
      "Name: Life_expectancy, dtype: float64\n"
     ]
    }
   ],
   "source": [
    "#箱形图描述数据\n",
    "print(data_life.describe())"
   ]
  },
  {
   "cell_type": "markdown",
   "metadata": {},
   "source": [
    "# 每个大洲的国家个数条形图"
   ]
  },
  {
   "cell_type": "code",
   "execution_count": 15,
   "metadata": {},
   "outputs": [
    {
     "data": {
      "text/plain": [
       "<pandas.core.groupby.generic.DataFrameGroupBy object at 0x00000249C7EAD610>"
      ]
     },
     "execution_count": 15,
     "metadata": {},
     "output_type": "execute_result"
    }
   ],
   "source": [
    "#按照大洲分组\n",
    "grouped = data1.groupby('Continent')\n",
    "grouped"
   ]
  },
  {
   "cell_type": "code",
   "execution_count": 16,
   "metadata": {},
   "outputs": [
    {
     "data": {
      "text/plain": [
       "{'Africa': Int64Index([ 0,  1,  2,  3,  4,  5,  6,  7,  8,  9, 10, 11, 12, 14, 15, 16, 17,\n",
       "             18, 19, 20, 21, 22, 24, 25, 26, 27, 28, 29, 30, 31, 32, 33, 34, 35,\n",
       "             36, 37, 38, 39, 40, 41, 42, 43, 44, 45, 46, 47, 48, 49],\n",
       "            dtype='int64'),\n",
       " 'Asia': Int64Index([50, 51, 52, 53, 54, 55, 56, 57, 58, 59, 60, 61, 62, 63, 64, 65, 66,\n",
       "             67, 68, 69, 70, 71, 72, 73, 74, 75, 76, 77, 78, 79, 80, 81, 82, 83,\n",
       "             84, 85],\n",
       "            dtype='int64'),\n",
       " 'Europe': Int64Index([ 86,  88,  89,  90,  91,  92,  93,  94,  95,  96,  97,  98,  99,\n",
       "             100, 101, 102, 103, 104, 105, 106, 107, 108, 109, 111, 112, 113,\n",
       "             114, 115, 117, 118, 119, 120, 121, 122, 124, 125, 126, 127, 128,\n",
       "             129, 130],\n",
       "            dtype='int64'),\n",
       " 'North America': Int64Index([131, 132, 133, 134, 135, 136, 137, 139, 140, 141, 142, 143, 144,\n",
       "             145, 146, 147, 148, 149, 150],\n",
       "            dtype='int64'),\n",
       " 'Oceania': Int64Index([151, 152, 153, 155, 157, 160, 161, 162, 164], dtype='int64'),\n",
       " 'South America': Int64Index([165, 166, 167, 168, 169, 170, 171, 172, 173, 174, 175], dtype='int64')}"
      ]
     },
     "execution_count": 16,
     "metadata": {},
     "output_type": "execute_result"
    }
   ],
   "source": [
    "#查看按照大洲的分组结果\n",
    "grouped.groups"
   ]
  },
  {
   "cell_type": "code",
   "execution_count": 17,
   "metadata": {},
   "outputs": [
    {
     "data": {
      "text/plain": [
       "Continent\n",
       "Africa           48\n",
       "Asia             36\n",
       "Europe           41\n",
       "North America    19\n",
       "Oceania           9\n",
       "South America    11\n",
       "dtype: int64"
      ]
     },
     "execution_count": 17,
     "metadata": {},
     "output_type": "execute_result"
    }
   ],
   "source": [
    "num=grouped.size()\n",
    "num"
   ]
  },
  {
   "cell_type": "code",
   "execution_count": 18,
   "metadata": {},
   "outputs": [
    {
     "data": {
      "image/png": "[encoded data removed]",
      "text/plain": [
       "<Figure size 432x288 with 1 Axes>"
      ]
     },
     "metadata": {
      "needs_background": "light"
     },
     "output_type": "display_data"
    }
   ],
   "source": [
    "# 这两行代码解决 plt 中文显示的问题\n",
    "plt.rcParams['font.sans-serif'] = ['SimHei']\n",
    "plt.rcParams['axes.unicode_minus'] = False\n",
    "\n",
    "Continent=('Africa','Asia'  , 'Europe' ,'North America', 'Oceania', 'South America') \n",
    "number=[48,36,41,19,9,11]\n",
    "plt.bar(Continent, number)\n",
    "plt.title('各大洲国家数量')\n",
    "\n",
    "plt.show()"
   ]
  },
  {
   "cell_type": "markdown",
   "metadata": {},
   "source": [
    "# 各大洲国家数量占比的饼图"
   ]
  },
  {
   "cell_type": "code",
   "execution_count": 19,
   "metadata": {},
   "outputs": [
    {
     "data": {
      "text/html": [
       "<div>\n",
       "<style scoped>\n",
       "    .dataframe tbody tr th:only-of-type {\n",
       "        vertical-align: middle;\n",
       "    }\n",
       "\n",
       "    .dataframe tbody tr th {\n",
       "        vertical-align: top;\n",
       "    }\n",
       "\n",
       "    .dataframe thead th {\n",
       "        text-align: right;\n",
       "    }\n",
       "</style>\n",
       "<table border=\"1\" class=\"dataframe\">\n",
       "  <thead>\n",
       "    <tr style=\"text-align: right;\">\n",
       "      <th></th>\n",
       "      <th>Continent</th>\n",
       "      <th>number</th>\n",
       "    </tr>\n",
       "  </thead>\n",
       "  <tbody>\n",
       "    <tr>\n",
       "      <th>0</th>\n",
       "      <td>Africa</td>\n",
       "      <td>48</td>\n",
       "    </tr>\n",
       "    <tr>\n",
       "      <th>1</th>\n",
       "      <td>Asia</td>\n",
       "      <td>36</td>\n",
       "    </tr>\n",
       "    <tr>\n",
       "      <th>2</th>\n",
       "      <td>Europe</td>\n",
       "      <td>41</td>\n",
       "    </tr>\n",
       "    <tr>\n",
       "      <th>3</th>\n",
       "      <td>North America</td>\n",
       "      <td>19</td>\n",
       "    </tr>\n",
       "    <tr>\n",
       "      <th>4</th>\n",
       "      <td>Oceania</td>\n",
       "      <td>9</td>\n",
       "    </tr>\n",
       "    <tr>\n",
       "      <th>5</th>\n",
       "      <td>South America</td>\n",
       "      <td>11</td>\n",
       "    </tr>\n",
       "  </tbody>\n",
       "</table>\n",
       "</div>"
      ],
      "text/plain": [
       "       Continent  number\n",
       "0         Africa      48\n",
       "1           Asia      36\n",
       "2         Europe      41\n",
       "3  North America      19\n",
       "4        Oceania       9\n",
       "5  South America      11"
      ]
     },
     "execution_count": 19,
     "metadata": {},
     "output_type": "execute_result"
    }
   ],
   "source": [
    "data_num = pd.DataFrame({'Continent':['Africa','Asia'  , 'Europe' ,'North America', 'Oceania', 'South America'] ,\n",
    "                      'number':[48,36,41,19,9,11],\n",
    "                    })\n",
    "data_num"
   ]
  },
  {
   "cell_type": "code",
   "execution_count": 20,
   "metadata": {},
   "outputs": [
    {
     "data": {
      "image/png": "[encoded data removed]",
      "text/plain": [
       "<Figure size 432x432 with 1 Axes>"
      ]
     },
     "metadata": {},
     "output_type": "display_data"
    }
   ],
   "source": [
    "plt.rcParams['font.sans-serif']='SimHei'#设置中文显示\n",
    "plt.figure(figsize=(6,6))#将画布设定为正方形，则绘制的饼图是正圆\n",
    "label=['Africa','Asia'  , 'Europe' ,'North America', 'Oceania', 'South America']#定义饼图的标签，标签是列表\n",
    "explode=[0.01,0.01,0.01,0.01,0.01,0.01]#设定各项距离圆心n个半径\n",
    "#plt.pie(values[-1,3:6],explode=explode,labels=label,autopct='%1.1f%%')#绘制饼图\n",
    "values=[48,36,41,19,9,11]\n",
    "plt.pie(values,explode=explode,labels=label,autopct='%1.1f%%')#绘制饼图\n",
    "plt.title('各大洲国家数量占比')#绘制标题\n",
    "plt.show()"
   ]
  },
  {
   "cell_type": "markdown",
   "metadata": {},
   "source": [
    "# 人均寿命和人均GDP的关系（散点）"
   ]
  },
  {
   "cell_type": "code",
   "execution_count": 21,
   "metadata": {},
   "outputs": [
    {
     "data": {
      "text/html": [
       "<div>\n",
       "<style scoped>\n",
       "    .dataframe tbody tr th:only-of-type {\n",
       "        vertical-align: middle;\n",
       "    }\n",
       "\n",
       "    .dataframe tbody tr th {\n",
       "        vertical-align: top;\n",
       "    }\n",
       "\n",
       "    .dataframe thead th {\n",
       "        text-align: right;\n",
       "    }\n",
       "</style>\n",
       "<table border=\"1\" class=\"dataframe\">\n",
       "  <thead>\n",
       "    <tr style=\"text-align: right;\">\n",
       "      <th></th>\n",
       "      <th>Life_expectancy</th>\n",
       "      <th>GDP_per_capita</th>\n",
       "    </tr>\n",
       "  </thead>\n",
       "  <tbody>\n",
       "    <tr>\n",
       "      <th>0</th>\n",
       "      <td>75.042537</td>\n",
       "      <td>4132.760292</td>\n",
       "    </tr>\n",
       "    <tr>\n",
       "      <th>1</th>\n",
       "      <td>52.666098</td>\n",
       "      <td>3695.793748</td>\n",
       "    </tr>\n",
       "    <tr>\n",
       "      <th>2</th>\n",
       "      <td>59.720707</td>\n",
       "      <td>783.947091</td>\n",
       "    </tr>\n",
       "    <tr>\n",
       "      <th>3</th>\n",
       "      <td>64.487415</td>\n",
       "      <td>6532.060501</td>\n",
       "    </tr>\n",
       "    <tr>\n",
       "      <th>4</th>\n",
       "      <td>57.107049</td>\n",
       "      <td>303.681022</td>\n",
       "    </tr>\n",
       "    <tr>\n",
       "      <th>...</th>\n",
       "      <td>...</td>\n",
       "      <td>...</td>\n",
       "    </tr>\n",
       "    <tr>\n",
       "      <th>171</th>\n",
       "      <td>66.507512</td>\n",
       "      <td>4136.689919</td>\n",
       "    </tr>\n",
       "    <tr>\n",
       "      <th>172</th>\n",
       "      <td>73.025634</td>\n",
       "      <td>4109.367724</td>\n",
       "    </tr>\n",
       "    <tr>\n",
       "      <th>173</th>\n",
       "      <td>74.780732</td>\n",
       "      <td>6030.343259</td>\n",
       "    </tr>\n",
       "    <tr>\n",
       "      <th>174</th>\n",
       "      <td>71.294171</td>\n",
       "      <td>8818.982566</td>\n",
       "    </tr>\n",
       "    <tr>\n",
       "      <th>175</th>\n",
       "      <td>77.138220</td>\n",
       "      <td>15524.842470</td>\n",
       "    </tr>\n",
       "  </tbody>\n",
       "</table>\n",
       "<p>164 rows × 2 columns</p>\n",
       "</div>"
      ],
      "text/plain": [
       "     Life_expectancy  GDP_per_capita\n",
       "0          75.042537     4132.760292\n",
       "1          52.666098     3695.793748\n",
       "2          59.720707      783.947091\n",
       "3          64.487415     6532.060501\n",
       "4          57.107049      303.681022\n",
       "..               ...             ...\n",
       "171        66.507512     4136.689919\n",
       "172        73.025634     4109.367724\n",
       "173        74.780732     6030.343259\n",
       "174        71.294171     8818.982566\n",
       "175        77.138220    15524.842470\n",
       "\n",
       "[164 rows x 2 columns]"
      ]
     },
     "execution_count": 21,
     "metadata": {},
     "output_type": "execute_result"
    }
   ],
   "source": [
    "#数据切片\n",
    "data_lg=data1.loc[:,['Life_expectancy','GDP_per_capita'] ] \n",
    "data_lg"
   ]
  },
  {
   "cell_type": "code",
   "execution_count": 22,
   "metadata": {},
   "outputs": [
    {
     "data": {
      "image/png": "[encoded data removed]",
      "text/plain": [
       "<Figure size 432x288 with 1 Axes>"
      ]
     },
     "metadata": {
      "needs_background": "light"
     },
     "output_type": "display_data"
    }
   ],
   "source": [
    "  #param n: 点的数量，整数\n",
    "  #param s:点的大小，整数\n",
    "  #return: None\n",
    "\n",
    "# 通过切片获取横坐标x1\n",
    "x1 = data1['Life_expectancy' ]\n",
    "# 通过切片获取纵坐标R\n",
    "y1 = data1['GDP_per_capita']\n",
    "    \n",
    "# 创建画图窗口\n",
    "fig = plt.figure()\n",
    "# 将画图窗口分成1行1列，选择第一块区域作子图\n",
    "ax1 = fig.add_subplot(1, 1, 1)\n",
    "# 设置标题\n",
    "ax1.set_title('人均寿命和人均GDP的关系')\n",
    "# 设置横坐标名称\n",
    "ax1.set_xlabel('Life_expectancy')\n",
    "# 设置纵坐标名称\n",
    "ax1.set_ylabel('GDP_per_capita')\n",
    "# 画散点图\n",
    "ax1.scatter(x1, y1, c='b', marker='.')\n",
    "# 调整横坐标的上下界\n",
    "plt.xlim(xmax=90, xmin=40)\n",
    "# 显示\n",
    "plt.show()\n"
   ]
  },
  {
   "cell_type": "markdown",
   "metadata": {},
   "source": [
    "# 人均GDP与人均寿命的气泡图（数据点大小，正比于人口数，给不同洲的国家设置不同的颜色）"
   ]
  },
  {
   "cell_type": "code",
   "execution_count": 24,
   "metadata": {},
   "outputs": [
    {
     "data": {
      "image/png": "[encoded data removed]",
      "text/plain": [
       "<Figure size 864x720 with 2 Axes>"
      ]
     },
     "metadata": {
      "needs_background": "light"
     },
     "output_type": "display_data"
    }
   ],
   "source": [
    "def DrawBubble(read_name):#气泡图\n",
    "    sns.set(style = \"whitegrid\")#设置样式\n",
    "fp = data1#数据来源\n",
    "x = fp.Life_expectancy#X轴数据\n",
    "y = fp.GDP_per_capita#Y轴数据\n",
    "z = fp.Population#用来调整各个点的大小s\n",
    "w = fp.cla#颜色\n",
    "\n",
    "cm = plt.cm.get_cmap('RdYlBu')\n",
    "fig,ax = plt.subplots(figsize = (12,10))\n",
    "#注意s离散化的方法，因为需要通过点的大小来直观感受其所表示的数值大小\n",
    "#参数是X轴数据、Y轴数据、各个点的大小、各个点的颜色\n",
    "bubble = ax.scatter(x, y , s = z/100000, c = w, cmap = cm, linewidth = 0.5, alpha = 0.5)\n",
    "ax.grid()\n",
    "fig.colorbar(bubble)\n",
    "ax.set_xlabel('Life_expectancy', fontsize = 15)#X轴标签\n",
    "ax.set_ylabel('GDP_per_capita', fontsize = 15)#Y轴标签\n",
    "plt.show()"
   ]
  },
  {
   "cell_type": "code",
   "execution_count": null,
   "metadata": {},
   "outputs": [],
   "source": []
  },
  {
   "cell_type": "markdown",
   "metadata": {},
   "source": [
    "# 2.Scipy解方程"
   ]
  },
  {
   "cell_type": "code",
   "execution_count": 25,
   "metadata": {},
   "outputs": [
    {
     "data": {
      "image/png": "[encoded data removed]",
      "text/plain": [
       "<Figure size 432x288 with 1 Axes>"
      ]
     },
     "metadata": {
      "needs_background": "light"
     },
     "output_type": "display_data"
    }
   ],
   "source": [
    "from scipy.integrate import odeint\n",
    "import numpy as np\n",
    "import matplotlib.pyplot as plt\n",
    "from scipy.optimize import root,fsolve\n",
    "#plt.rc('text', usetex=True) #使用latex\n",
    "## 使用scipy.optimize模块的root和fsolve函数进行数值求解方程\n",
    "\n",
    "## 1、求解f(x)=2*sin(x)-x+1\n",
    "rangex1 = np.linspace(-2,8)\n",
    "rangey1_1,rangey1_2 = 2*np.sin(rangex1),rangex1-1\n",
    "plt.figure(1)\n",
    "plt.plot(rangex1,rangey1_1,'r',rangex1,rangey1_2,'b--')\n",
    "plt.title('$2sin(x)$ and $x-1$')\n",
    "\n",
    "def f1(x):\n",
    "    return np.sin(x)*2-x+1\n",
    "\n",
    "sol1_root = root(f1,[2])\n",
    "sol1_fsolve = fsolve(f1,[2])\n",
    "plt.scatter(sol1_fsolve,2*np.sin(sol1_fsolve),linewidths=9)\n",
    "plt.show()\n"
   ]
  },
  {
   "cell_type": "code",
   "execution_count": 26,
   "metadata": {},
   "outputs": [
    {
     "data": {
      "text/plain": [
       "    fjac: array([[-1.]])\n",
       "     fun: array([-2.22044605e-16])\n",
       " message: 'The solution converged.'\n",
       "    nfev: 8\n",
       "     qtf: array([-4.25792734e-11])\n",
       "       r: array([2.44756059])\n",
       "  status: 1\n",
       " success: True\n",
       "       x: array([2.38006127])"
      ]
     },
     "execution_count": 26,
     "metadata": {},
     "output_type": "execute_result"
    }
   ],
   "source": [
    "sol1_root"
   ]
  },
  {
   "cell_type": "code",
   "execution_count": 27,
   "metadata": {},
   "outputs": [
    {
     "name": "stdout",
     "output_type": "stream",
     "text": [
      "[ 2.  -1.5]\n"
     ]
    }
   ],
   "source": [
    "## 2、求解线性方程组{3X1+2X2=3;X1-2X2=5}\n",
    "def f2(x):\n",
    "    return np.array([3*x[0]+2*x[1]-3,x[0]-2*x[1]-5])\n",
    "\n",
    "sol2_root = root(f2,[0,0])\n",
    "sol2_fsolve = fsolve(f2,[0,0])\n",
    "print(sol2_fsolve) "
   ]
  },
  {
   "cell_type": "code",
   "execution_count": 28,
   "metadata": {},
   "outputs": [
    {
     "name": "stdout",
     "output_type": "stream",
     "text": [
      "[ 2.  -1.5]\n"
     ]
    }
   ],
   "source": [
    "a = np.array([[3,2],[1,-2]])\n",
    "b = np.array([3,5])\n",
    "x = np.linalg.solve(a,b)\n",
    "print(x) "
   ]
  },
  {
   "cell_type": "code",
   "execution_count": null,
   "metadata": {},
   "outputs": [],
   "source": []
  },
  {
   "cell_type": "code",
   "execution_count": null,
   "metadata": {},
   "outputs": [],
   "source": []
  },
  {
   "cell_type": "code",
   "execution_count": null,
   "metadata": {},
   "outputs": [],
   "source": []
  },
  {
   "cell_type": "code",
   "execution_count": null,
   "metadata": {},
   "outputs": [],
   "source": []
  },
  {
   "cell_type": "code",
   "execution_count": null,
   "metadata": {},
   "outputs": [],
   "source": []
  },
  {
   "cell_type": "code",
   "execution_count": null,
   "metadata": {},
   "outputs": [],
   "source": []
  },
  {
   "cell_type": "code",
   "execution_count": null,
   "metadata": {},
   "outputs": [],
   "source": []
  },
  {
   "cell_type": "code",
   "execution_count": null,
   "metadata": {},
   "outputs": [],
   "source": []
  },
  {
   "cell_type": "code",
   "execution_count": null,
   "metadata": {},
   "outputs": [],
   "source": []
  },
  {
   "cell_type": "code",
   "execution_count": null,
   "metadata": {},
   "outputs": [],
   "source": []
  },
  {
   "cell_type": "code",
   "execution_count": null,
   "metadata": {},
   "outputs": [],
   "source": []
  },
  {
   "cell_type": "code",
   "execution_count": null,
   "metadata": {},
   "outputs": [],
   "source": []
  }
 ],
 "metadata": {
  "kernelspec": {
   "display_name": "Python 3",
   "language": "python",
   "name": "python3"
  },
  "language_info": {
   "codemirror_mode": {
    "name": "ipython",
    "version": 3
   },
   "file_extension": ".py",
   "mimetype": "text/x-python",
   "name": "python",
   "nbconvert_exporter": "python",
   "pygments_lexer": "ipython3",
   "version": "3.8.3"
  }
 },
 "nbformat": 4,
 "nbformat_minor": 4
}
