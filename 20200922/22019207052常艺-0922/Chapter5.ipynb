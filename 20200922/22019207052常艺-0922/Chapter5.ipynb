{
 "cells": [
  {
   "cell_type": "code",
   "execution_count": 1,
   "metadata": {},
   "outputs": [],
   "source": [
    "from scipy import linalg as la"
   ]
  },
  {
   "cell_type": "code",
   "execution_count": 2,
   "metadata": {},
   "outputs": [],
   "source": [
    "from scipy import optimize"
   ]
  },
  {
   "cell_type": "code",
   "execution_count": 3,
   "metadata": {},
   "outputs": [],
   "source": [
    "import sympy"
   ]
  },
  {
   "cell_type": "code",
   "execution_count": 4,
   "metadata": {},
   "outputs": [],
   "source": [
    "import numpy as np"
   ]
  },
  {
   "cell_type": "code",
   "execution_count": 5,
   "metadata": {},
   "outputs": [],
   "source": [
    " import matplotlib.pyplot as plt"
   ]
  },
  {
   "cell_type": "code",
   "execution_count": 6,
   "metadata": {},
   "outputs": [],
   "source": [
    "from __future__ import division"
   ]
  },
  {
   "cell_type": "code",
   "execution_count": 7,
   "metadata": {},
   "outputs": [],
   "source": [
    "A = sympy.Matrix([[2, 3], [5, 4]])"
   ]
  },
  {
   "cell_type": "code",
   "execution_count": 8,
   "metadata": {},
   "outputs": [],
   "source": [
    "b = sympy.Matrix([4, 3])"
   ]
  },
  {
   "cell_type": "code",
   "execution_count": 9,
   "metadata": {},
   "outputs": [
    {
     "data": {
      "text/plain": [
       "2"
      ]
     },
     "execution_count": 9,
     "metadata": {},
     "output_type": "execute_result"
    }
   ],
   "source": [
    "A.rank()"
   ]
  },
  {
   "cell_type": "code",
   "execution_count": 10,
   "metadata": {},
   "outputs": [
    {
     "data": {
      "text/latex": [
       "$\\displaystyle \\frac{\\sqrt{2 \\sqrt{170} + 27}}{\\sqrt{27 - 2 \\sqrt{170}}}$"
      ],
      "text/plain": [
       "sqrt(2*sqrt(170) + 27)/sqrt(27 - 2*sqrt(170))"
      ]
     },
     "execution_count": 10,
     "metadata": {},
     "output_type": "execute_result"
    }
   ],
   "source": [
    "A.condition_number()"
   ]
  },
  {
   "cell_type": "code",
   "execution_count": 11,
   "metadata": {},
   "outputs": [
    {
     "data": {
      "text/latex": [
       "$\\displaystyle 7.58240137440151$"
      ],
      "text/plain": [
       "7.58240137440151"
      ]
     },
     "execution_count": 11,
     "metadata": {},
     "output_type": "execute_result"
    }
   ],
   "source": [
    "sympy.N(_)"
   ]
  },
  {
   "cell_type": "code",
   "execution_count": 12,
   "metadata": {},
   "outputs": [
    {
     "data": {
      "text/latex": [
       "$\\displaystyle 3 \\sqrt{6}$"
      ],
      "text/plain": [
       "3*sqrt(6)"
      ]
     },
     "execution_count": 12,
     "metadata": {},
     "output_type": "execute_result"
    }
   ],
   "source": [
    " A.norm()"
   ]
  },
  {
   "cell_type": "code",
   "execution_count": 13,
   "metadata": {},
   "outputs": [],
   "source": [
    " A = np.array([[2, 3], [5, 4]])"
   ]
  },
  {
   "cell_type": "code",
   "execution_count": 14,
   "metadata": {},
   "outputs": [],
   "source": [
    " b = np.array([4, 3])"
   ]
  },
  {
   "cell_type": "code",
   "execution_count": 15,
   "metadata": {},
   "outputs": [
    {
     "data": {
      "text/plain": [
       "2"
      ]
     },
     "execution_count": 15,
     "metadata": {},
     "output_type": "execute_result"
    }
   ],
   "source": [
    " np.linalg.matrix_rank(A)"
   ]
  },
  {
   "cell_type": "code",
   "execution_count": 16,
   "metadata": {},
   "outputs": [
    {
     "data": {
      "text/plain": [
       "7.582401374401514"
      ]
     },
     "execution_count": 16,
     "metadata": {},
     "output_type": "execute_result"
    }
   ],
   "source": [
    "np.linalg.cond(A)"
   ]
  },
  {
   "cell_type": "code",
   "execution_count": 17,
   "metadata": {},
   "outputs": [
    {
     "data": {
      "text/plain": [
       "7.3484692283495345"
      ]
     },
     "execution_count": 17,
     "metadata": {},
     "output_type": "execute_result"
    }
   ],
   "source": [
    "np.linalg.norm(A)"
   ]
  },
  {
   "cell_type": "code",
   "execution_count": 18,
   "metadata": {},
   "outputs": [],
   "source": [
    "A = sympy.Matrix([[2, 3], [5, 4]])"
   ]
  },
  {
   "cell_type": "code",
   "execution_count": 19,
   "metadata": {},
   "outputs": [],
   "source": [
    " b = sympy.Matrix([4, 3])"
   ]
  },
  {
   "cell_type": "code",
   "execution_count": 20,
   "metadata": {},
   "outputs": [],
   "source": [
    "L, U, _ = A.LUdecomposition()"
   ]
  },
  {
   "cell_type": "code",
   "execution_count": 21,
   "metadata": {},
   "outputs": [
    {
     "data": {
      "text/latex": [
       "$\\displaystyle \\left[\\begin{matrix}1 & 0\\\\\\frac{5}{2} & 1\\end{matrix}\\right]$"
      ],
      "text/plain": [
       "Matrix([\n",
       "[  1, 0],\n",
       "[5/2, 1]])"
      ]
     },
     "execution_count": 21,
     "metadata": {},
     "output_type": "execute_result"
    }
   ],
   "source": [
    "L"
   ]
  },
  {
   "cell_type": "code",
   "execution_count": 22,
   "metadata": {},
   "outputs": [
    {
     "data": {
      "text/latex": [
       "$\\displaystyle \\left[\\begin{matrix}2 & 3\\\\0 & - \\frac{7}{2}\\end{matrix}\\right]$"
      ],
      "text/plain": [
       "Matrix([\n",
       "[2,    3],\n",
       "[0, -7/2]])"
      ]
     },
     "execution_count": 22,
     "metadata": {},
     "output_type": "execute_result"
    }
   ],
   "source": [
    "U"
   ]
  },
  {
   "cell_type": "code",
   "execution_count": 23,
   "metadata": {},
   "outputs": [
    {
     "data": {
      "text/latex": [
       "$\\displaystyle \\left[\\begin{matrix}2 & 3\\\\5 & 4\\end{matrix}\\right]$"
      ],
      "text/plain": [
       "Matrix([\n",
       "[2, 3],\n",
       "[5, 4]])"
      ]
     },
     "execution_count": 23,
     "metadata": {},
     "output_type": "execute_result"
    }
   ],
   "source": [
    "L*U"
   ]
  },
  {
   "cell_type": "code",
   "execution_count": 24,
   "metadata": {},
   "outputs": [
    {
     "data": {
      "text/latex": [
       "$\\displaystyle \\left[\\begin{matrix}-1\\\\2\\end{matrix}\\right]$"
      ],
      "text/plain": [
       "Matrix([\n",
       "[-1],\n",
       "[ 2]])"
      ]
     },
     "execution_count": 24,
     "metadata": {},
     "output_type": "execute_result"
    }
   ],
   "source": [
    "x = A.solve(b); x # equivalent to A.LUsolve(b)"
   ]
  },
  {
   "cell_type": "code",
   "execution_count": 25,
   "metadata": {},
   "outputs": [],
   "source": [
    "A = np.array([[2, 3], [5, 4]])"
   ]
  },
  {
   "cell_type": "code",
   "execution_count": 26,
   "metadata": {},
   "outputs": [],
   "source": [
    " b = np.array([4, 3])"
   ]
  },
  {
   "cell_type": "code",
   "execution_count": 27,
   "metadata": {},
   "outputs": [],
   "source": [
    " P, L, U = la.lu(A)"
   ]
  },
  {
   "cell_type": "code",
   "execution_count": 28,
   "metadata": {},
   "outputs": [
    {
     "data": {
      "text/plain": [
       "array([[1. , 0. ],\n",
       "       [0.4, 1. ]])"
      ]
     },
     "execution_count": 28,
     "metadata": {},
     "output_type": "execute_result"
    }
   ],
   "source": [
    "L"
   ]
  },
  {
   "cell_type": "code",
   "execution_count": 29,
   "metadata": {},
   "outputs": [
    {
     "data": {
      "text/plain": [
       "array([[5. , 4. ],\n",
       "       [0. , 1.4]])"
      ]
     },
     "execution_count": 29,
     "metadata": {},
     "output_type": "execute_result"
    }
   ],
   "source": [
    "U"
   ]
  },
  {
   "cell_type": "code",
   "execution_count": 30,
   "metadata": {},
   "outputs": [
    {
     "data": {
      "text/plain": [
       "array([[2., 3.],\n",
       "       [5., 4.]])"
      ]
     },
     "execution_count": 30,
     "metadata": {},
     "output_type": "execute_result"
    }
   ],
   "source": [
    "P.dot(L.dot(U))"
   ]
  },
  {
   "cell_type": "code",
   "execution_count": 31,
   "metadata": {},
   "outputs": [
    {
     "data": {
      "text/plain": [
       "array([-1.,  2.])"
      ]
     },
     "execution_count": 31,
     "metadata": {},
     "output_type": "execute_result"
    }
   ],
   "source": [
    "la.solve(A, b)"
   ]
  },
  {
   "cell_type": "code",
   "execution_count": 32,
   "metadata": {},
   "outputs": [],
   "source": [
    " p = sympy.symbols(\"p\", positive=True)"
   ]
  },
  {
   "cell_type": "code",
   "execution_count": 33,
   "metadata": {},
   "outputs": [],
   "source": [
    " A = sympy.Matrix([[1, sympy.sqrt(p)], [1, 1/sympy.sqrt(p)]])"
   ]
  },
  {
   "cell_type": "code",
   "execution_count": 34,
   "metadata": {},
   "outputs": [],
   "source": [
    " b = sympy.Matrix([1, 2])"
   ]
  },
  {
   "cell_type": "code",
   "execution_count": 35,
   "metadata": {},
   "outputs": [],
   "source": [
    "x = A.solve(b)"
   ]
  },
  {
   "cell_type": "code",
   "execution_count": 36,
   "metadata": {},
   "outputs": [
    {
     "data": {
      "text/latex": [
       "$\\displaystyle \\left[\\begin{matrix}\\frac{- 2 \\sqrt{p} + \\frac{1}{\\sqrt{p}}}{- \\sqrt{p} + \\frac{1}{\\sqrt{p}}}\\\\\\frac{1}{- \\sqrt{p} + \\frac{1}{\\sqrt{p}}}\\end{matrix}\\right]$"
      ],
      "text/plain": [
       "Matrix([\n",
       "[(-2*sqrt(p) + 1/sqrt(p))/(-sqrt(p) + 1/sqrt(p))],\n",
       "[                       1/(-sqrt(p) + 1/sqrt(p))]])"
      ]
     },
     "execution_count": 36,
     "metadata": {},
     "output_type": "execute_result"
    }
   ],
   "source": [
    "x"
   ]
  },
  {
   "cell_type": "code",
   "execution_count": 37,
   "metadata": {},
   "outputs": [],
   "source": [
    " # Symbolic problem specification\n",
    "p = sympy.symbols(\"p\", positive=True) \n",
    "A = sympy.Matrix([[1, sympy.sqrt(p)], [1, 1/sympy.sqrt(p)]])\n",
    "b = sympy.Matrix([1, 2])"
   ]
  },
  {
   "cell_type": "code",
   "execution_count": 38,
   "metadata": {},
   "outputs": [],
   "source": [
    " # Solve symbolically\n",
    "x_sym_sol = A.solve(b)\n",
    "Acond = A.condition_number().simplify()"
   ]
  },
  {
   "cell_type": "code",
   "execution_count": 39,
   "metadata": {},
   "outputs": [],
   "source": [
    " # Numerical problem specification\n",
    "AA = lambda p: np.array([[1, np.sqrt(p)], [1, 1/np.sqrt(p)]])\n",
    "bb = np.array([1, 2])\n",
    "x_num_sol = lambda p: np.linalg.solve(AA(p), bb)"
   ]
  },
  {
   "cell_type": "code",
   "execution_count": 40,
   "metadata": {},
   "outputs": [
    {
     "data": {
      "image/png": "[encoded data removed]",
      "text/plain": [
       "<Figure size 864x288 with 2 Axes>"
      ]
     },
     "metadata": {
      "needs_background": "light"
     },
     "output_type": "display_data"
    }
   ],
   "source": [
    "# Graph the difference between the symbolic (exact) and numerical results.\n",
    "fig, axes = plt.subplots(1, 2, figsize=(12, 4))\n",
    "p_vec = np.linspace(0.9, 1.1, 200)\n",
    "for n in range(2):\n",
    "    x_sym = np.array([x_sym_sol[n].subs(p, pp).evalf() for pp in p_vec])\n",
    "    x_num = np.array([x_num_sol(pp)[n] for pp in p_vec])\n",
    "    axes[0].plot(p_vec, (x_num - x_sym)/x_sym, 'k')\n",
    "    axes[0].set_title(\"Error in solution\\n(numerical - symbolic)/symbolic\")\n",
    "    axes[0].set_xlabel(r'$p$', fontsize=18)\n",
    "    axes[1].plot(p_vec, [Acond.subs(p, pp).evalf() for pp in p_vec])\n",
    "    axes[1].set_title(\"Condition number\")\n",
    "    axes[1].set_xlabel(r'$p$', fontsize=18)"
   ]
  },
  {
   "cell_type": "code",
   "execution_count": 41,
   "metadata": {},
   "outputs": [],
   "source": [
    "x_vars = sympy.symbols(\"x_1, x_2, x_3\")"
   ]
  },
  {
   "cell_type": "code",
   "execution_count": 42,
   "metadata": {},
   "outputs": [],
   "source": [
    "A = sympy.Matrix([[1, 2, 3], [4, 5, 6]])"
   ]
  },
  {
   "cell_type": "code",
   "execution_count": 43,
   "metadata": {},
   "outputs": [],
   "source": [
    "x = sympy.Matrix(x_vars)"
   ]
  },
  {
   "cell_type": "code",
   "execution_count": 44,
   "metadata": {},
   "outputs": [],
   "source": [
    "b = sympy.Matrix([7, 8])"
   ]
  },
  {
   "cell_type": "code",
   "execution_count": 45,
   "metadata": {},
   "outputs": [
    {
     "data": {
      "text/plain": [
       "{x_2: 20/3 - 2*x_3, x_1: x_3 - 19/3}"
      ]
     },
     "execution_count": 45,
     "metadata": {},
     "output_type": "execute_result"
    }
   ],
   "source": [
    "sympy.solve(A*x - b, x_vars)"
   ]
  },
  {
   "cell_type": "code",
   "execution_count": 46,
   "metadata": {},
   "outputs": [
    {
     "data": {
      "text/plain": [
       "<matplotlib.legend.Legend at 0x266948396d8>"
      ]
     },
     "execution_count": 46,
     "metadata": {},
     "output_type": "execute_result"
    },
    {
     "data": {
      "image/png": "[encoded data removed]",
      "text/plain": [
       "<Figure size 864x288 with 1 Axes>"
      ]
     },
     "metadata": {
      "needs_background": "light"
     },
     "output_type": "display_data"
    }
   ],
   "source": [
    "# define true model parameters\n",
    "x = np.linspace(-1, 1, 100)\n",
    "a, b, c = 1, 2, 3\n",
    "y_exact = a + b * x + c * x**2\n",
    "# simulate noisy data\n",
    "m = 100\n",
    "X = 1 - 2 * np.random.rand(m)\n",
    "Y = a + b * X + c * X**2 + np.random.randn(m)\n",
    "# fit the data to the model using linear least square\n",
    "A = np.vstack([X**0, X**1, X**2]) # see np.vander for alternative\n",
    "sol, r, rank, sv = la.lstsq(A.T, Y)\n",
    "y_fit = sol[0] + sol[1] * x + sol[2] * x**2\n",
    "fig, ax = plt.subplots(figsize=(12, 4))\n",
    "ax.plot(X, Y, 'go', alpha=0.5, label='Simulated data')\n",
    "ax.plot(x, y_exact, 'k', lw=2, label='True value $y = 1 + 2x + 3x^2$')\n",
    "ax.plot(x, y_fit, 'b', lw=2, label='Least square fit')\n",
    "ax.set_xlabel(r\"$x$\", fontsize=18)\n",
    "ax.set_ylabel(r\"$y$\", fontsize=18)\n",
    "ax.legend(loc=2)"
   ]
  },
  {
   "cell_type": "code",
   "execution_count": 47,
   "metadata": {},
   "outputs": [
    {
     "data": {
      "text/plain": [
       "<matplotlib.legend.Legend at 0x266948426d8>"
      ]
     },
     "execution_count": 47,
     "metadata": {},
     "output_type": "execute_result"
    },
    {
     "data": {
      "image/png": "[encoded data removed]",
      "text/plain": [
       "<Figure size 864x288 with 1 Axes>"
      ]
     },
     "metadata": {
      "needs_background": "light"
     },
     "output_type": "display_data"
    }
   ],
   "source": [
    "# fit the data to the model using linear least square:\n",
    "# 1st order polynomial\n",
    "A = np.vstack([X**n for n in range(2)])\n",
    "sol, r, rank, sv = la.lstsq(A.T, Y)\n",
    "y_fit1 = sum([s * x**n for n, s in enumerate(sol)])\n",
    " # 15th order polynomial\n",
    "A = np.vstack([X**n for n in range(16)])\n",
    "sol, r, rank, sv = la.lstsq(A.T, Y)\n",
    "y_fit15 = sum([s * x**n for n, s in enumerate(sol)])\n",
    "fig, ax = plt.subplots(figsize=(12, 4))\n",
    "ax.plot(X, Y, 'go', alpha=0.5, label='Simulated data')\n",
    "ax.plot(x, y_exact, 'k', lw=2, label='True value $y = 1 + 2x + 3x^2$')\n",
    "ax.plot(x, y_fit1, 'b', lw=2, label='Least square fit [1st order]')\n",
    "ax.plot(x, y_fit15, 'm', lw=2, label='Least square fit [15th order]')\n",
    "ax.set_xlabel(r\"$x$\", fontsize=18)\n",
    "ax.set_ylabel(r\"$y$\", fontsize=18)\n",
    "ax.legend(loc=2)"
   ]
  },
  {
   "cell_type": "code",
   "execution_count": 48,
   "metadata": {},
   "outputs": [],
   "source": [
    "eps, delta = sympy.symbols(\"epsilon, Delta\")"
   ]
  },
  {
   "cell_type": "code",
   "execution_count": 49,
   "metadata": {},
   "outputs": [
    {
     "data": {
      "text/latex": [
       "$\\displaystyle \\left[\\begin{matrix}\\epsilon & \\Delta\\\\\\Delta & - \\epsilon\\end{matrix}\\right]$"
      ],
      "text/plain": [
       "Matrix([\n",
       "[epsilon,    Delta],\n",
       "[  Delta, -epsilon]])"
      ]
     },
     "execution_count": 49,
     "metadata": {},
     "output_type": "execute_result"
    }
   ],
   "source": [
    "H = sympy.Matrix([[eps, delta], [delta, -eps]])\n",
    "H"
   ]
  },
  {
   "cell_type": "code",
   "execution_count": 50,
   "metadata": {},
   "outputs": [
    {
     "data": {
      "text/plain": [
       "{-sqrt(Delta**2 + epsilon**2): 1, sqrt(Delta**2 + epsilon**2): 1}"
      ]
     },
     "execution_count": 50,
     "metadata": {},
     "output_type": "execute_result"
    }
   ],
   "source": [
    "H.eigenvals()"
   ]
  },
  {
   "cell_type": "code",
   "execution_count": 51,
   "metadata": {},
   "outputs": [
    {
     "data": {
      "text/plain": [
       "[(-sqrt(Delta**2 + epsilon**2), 1, [Matrix([\n",
       "   [-Delta/(epsilon + sqrt(Delta**2 + epsilon**2))],\n",
       "   [                                             1]])]),\n",
       " (sqrt(Delta**2 + epsilon**2), 1, [Matrix([\n",
       "   [-Delta/(epsilon - sqrt(Delta**2 + epsilon**2))],\n",
       "   [                                             1]])])]"
      ]
     },
     "execution_count": 51,
     "metadata": {},
     "output_type": "execute_result"
    }
   ],
   "source": [
    "H.eigenvects()"
   ]
  },
  {
   "cell_type": "code",
   "execution_count": 52,
   "metadata": {},
   "outputs": [],
   "source": [
    "(eval1, _, evec1), (eval2, _, evec2) = H.eigenvects()"
   ]
  },
  {
   "cell_type": "code",
   "execution_count": 53,
   "metadata": {},
   "outputs": [
    {
     "data": {
      "text/latex": [
       "$\\displaystyle \\left[\\begin{matrix}0\\end{matrix}\\right]$"
      ],
      "text/plain": [
       "Matrix([[0]])"
      ]
     },
     "execution_count": 53,
     "metadata": {},
     "output_type": "execute_result"
    }
   ],
   "source": [
    "sympy.simplify(evec1[0].T * evec2[0])"
   ]
  },
  {
   "cell_type": "code",
   "execution_count": 54,
   "metadata": {},
   "outputs": [],
   "source": [
    "A = np.array([[1, 3, 5], [3, 5, 3], [5, 3, 9]])"
   ]
  },
  {
   "cell_type": "code",
   "execution_count": 55,
   "metadata": {},
   "outputs": [],
   "source": [
    " evals, evecs = la.eig(A)"
   ]
  },
  {
   "cell_type": "code",
   "execution_count": 56,
   "metadata": {},
   "outputs": [
    {
     "data": {
      "text/plain": [
       "array([13.35310908+0.j, -1.75902942+0.j,  3.40592034+0.j])"
      ]
     },
     "execution_count": 56,
     "metadata": {},
     "output_type": "execute_result"
    }
   ],
   "source": [
    "evals"
   ]
  },
  {
   "cell_type": "code",
   "execution_count": 57,
   "metadata": {},
   "outputs": [
    {
     "data": {
      "text/plain": [
       "array([[ 0.42663918,  0.90353276, -0.04009445],\n",
       "       [ 0.43751227, -0.24498225, -0.8651975 ],\n",
       "       [ 0.79155671, -0.35158534,  0.49982569]])"
      ]
     },
     "execution_count": 57,
     "metadata": {},
     "output_type": "execute_result"
    }
   ],
   "source": [
    "evecs"
   ]
  },
  {
   "cell_type": "code",
   "execution_count": 58,
   "metadata": {},
   "outputs": [
    {
     "data": {
      "text/plain": [
       "array([-1.75902942,  3.40592034, 13.35310908])"
      ]
     },
     "execution_count": 58,
     "metadata": {},
     "output_type": "execute_result"
    }
   ],
   "source": [
    "la.eigvalsh(A)"
   ]
  },
  {
   "cell_type": "code",
   "execution_count": 59,
   "metadata": {},
   "outputs": [],
   "source": [
    " x, a, b, c = sympy.symbols(\"x, a, b, c\")"
   ]
  },
  {
   "cell_type": "code",
   "execution_count": 60,
   "metadata": {},
   "outputs": [
    {
     "data": {
      "text/plain": [
       "[(-b + sqrt(-4*a*c + b**2))/(2*c), -(b + sqrt(-4*a*c + b**2))/(2*c)]"
      ]
     },
     "execution_count": 60,
     "metadata": {},
     "output_type": "execute_result"
    }
   ],
   "source": [
    "sympy.solve(a + b*x + c*x**2, x)"
   ]
  },
  {
   "cell_type": "code",
   "execution_count": 61,
   "metadata": {},
   "outputs": [
    {
     "data": {
      "text/plain": [
       "[-2*atan((b - sqrt(a**2 + b**2))/a), -2*atan((b + sqrt(a**2 + b**2))/a)]"
      ]
     },
     "execution_count": 61,
     "metadata": {},
     "output_type": "execute_result"
    }
   ],
   "source": [
    "sympy.solve(a * sympy.cos(x) - b * sympy.sin(x), x)"
   ]
  },
  {
   "cell_type": "code",
   "execution_count": 62,
   "metadata": {},
   "outputs": [],
   "source": [
    "#sympy.solve(sympy.sin(x)-x, x)"
   ]
  },
  {
   "cell_type": "code",
   "execution_count": 63,
   "metadata": {},
   "outputs": [],
   "source": [
    " x = np.linspace(-2, 2, 1000)"
   ]
  },
  {
   "cell_type": "code",
   "execution_count": 64,
   "metadata": {},
   "outputs": [
    {
     "data": {
      "image/png": "[encoded data removed]",
      "text/plain": [
       "<Figure size 864x216 with 4 Axes>"
      ]
     },
     "metadata": {
      "needs_background": "light"
     },
     "output_type": "display_data"
    }
   ],
   "source": [
    "f1 = x**2 - x - 1\n",
    "f2 = x**3 - 3 * np.sin(x) \n",
    "f3 = np.exp(x) - 2\n",
    "f4 = 1 - x**2 + np.sin(50 / (1 + x**2))\n",
    " # plot each function\n",
    "fig, axes = plt.subplots(1, 4, figsize=(12, 3), sharey=True)\n",
    "for n, f in enumerate([f1, f2, f3, f4]):\n",
    "    axes[n].plot(x, f, lw=1.5)\n",
    "    axes[n].axhline(0, ls=':', color='k')\n",
    "    axes[n].set_ylim(-5, 5)\n",
    "    axes[n].set_xticks([-2, -1, 0, 1, 2])\n",
    "    axes[n].set_xlabel(r'$x$', fontsize=18)\n",
    "    axes[0].set_ylabel(r'$f(x)$', fontsize=18)\n",
    "    titles = [r'$f(x)=x^2-x-1$', r'$f(x)=x^3-3\\sin(x)$',r'$f(x)=\\exp(x)-2$', r'$f(x)=\\sin\\left(50/(1+x^2)\\right)+1-x^2$']\n",
    "for n, title in enumerate(titles):\n",
    "    axes[n].set_title(title)"
   ]
  },
  {
   "cell_type": "code",
   "execution_count": 65,
   "metadata": {},
   "outputs": [
    {
     "data": {
      "text/plain": [
       "Text(0.5, 1.0, 'Bisection method')"
      ]
     },
     "execution_count": 65,
     "metadata": {},
     "output_type": "execute_result"
    },
    {
     "data": {
      "image/png": "[encoded data removed]",
      "text/plain": [
       "<Figure size 864x288 with 1 Axes>"
      ]
     },
     "metadata": {
      "needs_background": "light"
     },
     "output_type": "display_data"
    }
   ],
   "source": [
    "f = lambda x: np.exp(x) - 2\n",
    "tol = 0.1\n",
    "a, b = -2, 2\n",
    "x = np.linspace(-2.1, 2.1, 1000)\n",
    " # graph the function f\n",
    "fig, ax = plt.subplots(1, 1, figsize=(12, 4))\n",
    "ax.plot(x, f(x), lw=1.5)\n",
    "ax.axhline(0, ls=':', color='k')\n",
    "ax.set_xticks([-2, -1, 0, 1, 2])\n",
    "ax.set_xlabel(r'$x$', fontsize=18)\n",
    "ax.set_ylabel(r'$f(x)$', fontsize=18)\n",
    "# find the root using the bisection method and visualize\n",
    "# the steps in the method in the graph\n",
    "fa, fb = f(a), f(b)\n",
    "ax.plot(a, fa, 'ko')\n",
    "ax.plot(b, fb, 'ko')\n",
    "ax.text(a, fa + 0.5, r\"$a$\", ha='center', fontsize=18)\n",
    "ax.text(b, fb + 0.5, r\"$b$\", ha='center', fontsize=18)\n",
    "n = 1\n",
    "while b - a > tol:\n",
    "    m = a + (b - a)/2\n",
    "    fm = f(m)\n",
    "    ax.plot(m, fm, 'ko')\n",
    "    ax.text(m, fm - 0.5, r\"$m_%d$\" % n, ha='center')\n",
    "    n += 1\n",
    "    \n",
    "    if np.sign(fa) == np.sign(fm):\n",
    "        a, fa = m, fm\n",
    "    else:\n",
    "        b, fb = m, fm\n",
    "ax.plot(m, fm, 'r*', markersize=10)\n",
    "ax.annotate(\"Root approximately at %.3f\" % m,\n",
    "            fontsize=14, family=\"serif\",\n",
    "            xy=(a, fm), xycoords='data',\n",
    "            xytext=(-150, +50), textcoords='offset points',\n",
    "            arrowprops=dict(arrowstyle=\"->\", \n",
    "            connectionstyle=\"arc3, rad=-.5\"))              \n",
    "ax.set_title(\"Bisection method\")"
   ]
  },
  {
   "cell_type": "code",
   "execution_count": 66,
   "metadata": {},
   "outputs": [
    {
     "data": {
      "text/plain": [
       "[<matplotlib.axis.XTick at 0x26694bdad30>,\n",
       " <matplotlib.axis.XTick at 0x26694bda6a0>,\n",
       " <matplotlib.axis.XTick at 0x26694bda3c8>,\n",
       " <matplotlib.axis.XTick at 0x26694be8c50>]"
      ]
     },
     "execution_count": 66,
     "metadata": {},
     "output_type": "execute_result"
    },
    {
     "data": {
      "image/png": "[encoded data removed]",
      "text/plain": [
       "<Figure size 864x288 with 1 Axes>"
      ]
     },
     "metadata": {
      "needs_background": "light"
     },
     "output_type": "display_data"
    }
   ],
   "source": [
    "# define a function, desired tolerance and starting point xk\n",
    "tol = 0.01\n",
    "xk = 2\n",
    "s_x = sympy.symbols(\"x\")\n",
    "s_f = sympy.exp(s_x) - 2\n",
    "f = lambda x: sympy.lambdify(s_x, s_f, 'numpy')(x)\n",
    "fp = lambda x: sympy.lambdify(s_x, sympy.diff(s_f, s_x), 'numpy')(x)\n",
    "x = np.linspace(-1, 2.1, 1000)\n",
    " # setup a graph for visualizing the root finding steps\n",
    "fig, ax = plt.subplots(1, 1, figsize=(12, 4))\n",
    "ax.plot(x, f(x))\n",
    "ax.axhline(0, ls=':', color='k')\n",
    "# iterate Newton's method until convergence to the desired tolerance has been reached\n",
    "n = 0\n",
    "while f(xk) > tol:\n",
    "    xk_new = xk - f(xk) / fp(xk)\n",
    "    ax.plot([xk, xk], [0, f(xk)], color='k', ls=':')\n",
    "    ax.plot(xk, f(xk), 'ko')\n",
    "    ax.text(xk, -.5, r'$x_%d$' % n, ha='center')\n",
    "    ax.plot([xk, xk_new], [f(xk), 0], 'k-')\n",
    "    xk = xk_new\n",
    "    n += 1\n",
    "    ax.plot(xk, f(xk), 'r*', markersize=15)\n",
    "ax.annotate(\"Root approximately at %.3f\" % xk,\n",
    "                 fontsize=14, family=\"serif\",\n",
    "                 xy=(xk, f(xk)), xycoords='data',\n",
    "                 xytext=(-150, +50), textcoords='offset points',\n",
    "                 arrowprops=dict(arrowstyle=\"->\", \n",
    "                connectionstyle=\"arc3, rad=-.5\"))\n",
    "ax.set_title(\"Newtown's method\")\n",
    "ax.set_xticks([-1, 0, 1, 2])"
   ]
  },
  {
   "cell_type": "code",
   "execution_count": 67,
   "metadata": {},
   "outputs": [
    {
     "data": {
      "text/plain": [
       "0.6931471805601177"
      ]
     },
     "execution_count": 67,
     "metadata": {},
     "output_type": "execute_result"
    }
   ],
   "source": [
    "optimize.bisect(lambda x: np.exp(x) - 2, -2, 2)"
   ]
  },
  {
   "cell_type": "code",
   "execution_count": 68,
   "metadata": {},
   "outputs": [
    {
     "data": {
      "text/plain": [
       "0.6931471805599455"
      ]
     },
     "execution_count": 68,
     "metadata": {},
     "output_type": "execute_result"
    }
   ],
   "source": [
    "x_root_guess = 2\n",
    "f = lambda x: np.exp(x)-2\n",
    "fprime = lambda x: np.exp(x)\n",
    "optimize.newton(f, x_root_guess)   "
   ]
  },
  {
   "cell_type": "code",
   "execution_count": 69,
   "metadata": {},
   "outputs": [
    {
     "data": {
      "text/plain": [
       "0.6931471805599453"
      ]
     },
     "execution_count": 69,
     "metadata": {},
     "output_type": "execute_result"
    }
   ],
   "source": [
    " optimize.newton(f, x_root_guess, fprime=fprime)"
   ]
  },
  {
   "cell_type": "code",
   "execution_count": 70,
   "metadata": {},
   "outputs": [
    {
     "data": {
      "text/plain": [
       "0.6931471805599453"
      ]
     },
     "execution_count": 70,
     "metadata": {},
     "output_type": "execute_result"
    }
   ],
   "source": [
    " optimize.brentq(lambda x: np.exp(x) - 2, -2, 2)"
   ]
  },
  {
   "cell_type": "code",
   "execution_count": 71,
   "metadata": {},
   "outputs": [
    {
     "data": {
      "text/plain": [
       "0.6931471805599381"
      ]
     },
     "execution_count": 71,
     "metadata": {},
     "output_type": "execute_result"
    }
   ],
   "source": [
    "optimize.brenth(lambda x: np.exp(x) - 2, -2, 2)"
   ]
  },
  {
   "cell_type": "code",
   "execution_count": 72,
   "metadata": {},
   "outputs": [
    {
     "data": {
      "text/plain": [
       "array([0.73205081, 0.46410162])"
      ]
     },
     "execution_count": 72,
     "metadata": {},
     "output_type": "execute_result"
    }
   ],
   "source": [
    "def f(x):\n",
    "    return [x[1] - x[0]**3 - 2 * x[0]**2 + 1, x[1] + x[0]**2 - 1]\n",
    "optimize.fsolve(f, [1, 1])"
   ]
  },
  {
   "cell_type": "code",
   "execution_count": 73,
   "metadata": {},
   "outputs": [],
   "source": [
    "x, y = sympy.symbols(\"x, y\")"
   ]
  },
  {
   "cell_type": "code",
   "execution_count": 74,
   "metadata": {},
   "outputs": [],
   "source": [
    " f_mat = sympy.Matrix([y - x**3 -2*x**2 + 1, y + x**2 - 1])"
   ]
  },
  {
   "cell_type": "code",
   "execution_count": 75,
   "metadata": {},
   "outputs": [
    {
     "data": {
      "text/latex": [
       "$\\displaystyle \\left[\\begin{matrix}- 3 x^{2} - 4 x & 1\\\\2 x & 1\\end{matrix}\\right]$"
      ],
      "text/plain": [
       "Matrix([\n",
       "[-3*x**2 - 4*x, 1],\n",
       "[          2*x, 1]])"
      ]
     },
     "execution_count": 75,
     "metadata": {},
     "output_type": "execute_result"
    }
   ],
   "source": [
    "f_mat.jacobian(sympy.Matrix([x, y]))"
   ]
  },
  {
   "cell_type": "code",
   "execution_count": 76,
   "metadata": {},
   "outputs": [
    {
     "data": {
      "text/plain": [
       "array([0.73205081, 0.46410162])"
      ]
     },
     "execution_count": 76,
     "metadata": {},
     "output_type": "execute_result"
    }
   ],
   "source": [
    "def f_jacobian(x):\n",
    "    return [[-3*x[0]**2-4*x[0], 1], [2*x[0], 1]]\n",
    "optimize.fsolve(f, [1, 1], fprime=f_jacobian)"
   ]
  },
  {
   "cell_type": "code",
   "execution_count": 77,
   "metadata": {},
   "outputs": [
    {
     "data": {
      "text/plain": [
       "Text(0.5, 0, '$x$')"
      ]
     },
     "execution_count": 77,
     "metadata": {},
     "output_type": "execute_result"
    },
    {
     "data": {
      "image/png": "[encoded data removed]",
      "text/plain": [
       "<Figure size 576x288 with 1 Axes>"
      ]
     },
     "metadata": {
      "needs_background": "light"
     },
     "output_type": "display_data"
    }
   ],
   "source": [
    "def f(x):\n",
    "     return [x[1] - x[0]**3 - 2 * x[0]**2 + 1,\n",
    "     x[1] + x[0]**2 - 1]\n",
    "x = np.linspace(-3, 2, 5000)\n",
    "y1 = x**3 + 2 * x**2 -1\n",
    "y2 = -x**2 + 1\n",
    "fig, ax = plt.subplots(figsize=(8, 4))\n",
    "ax.plot(x, y1, 'b', lw=1.5, label=r'$y = x^3 + 2x^2 - 1$')\n",
    "ax.plot(x, y2, 'g', lw=1.5, label=r'$y = -x^2 + 1$')\n",
    "x_guesses = [[-2, 2], [1, -1], [-2, -5]]\n",
    "for x_guess in x_guesses:\n",
    "    sol = optimize.fsolve(f, x_guess)\n",
    "    ax.plot(sol[0], sol[1], 'r*', markersize=15)\n",
    "    ax.plot(x_guess[0], x_guess[1], 'ko')\n",
    "    ax.annotate(\"\", xy=(sol[0], sol[1]), xytext=(x_guess[0], x_guess[1]),arrowprops=dict(arrowstyle=\"->\", linewidth=2.5))\n",
    "ax.legend(loc=0)\n",
    "ax.set_xlabel(r'$x$', fontsize=18)"
   ]
  },
  {
   "cell_type": "code",
   "execution_count": 80,
   "metadata": {},
   "outputs": [
    {
     "name": "stderr",
     "output_type": "stream",
     "text": [
      "D:\\anaconda\\lib\\site-packages\\scipy\\optimize\\minpack.py:162: RuntimeWarning: The iteration is not making good progress, as measured by the \n",
      "  improvement from the last ten iterations.\n",
      "  warnings.warn(msg, RuntimeWarning)\n"
     ]
    },
    {
     "data": {
      "text/plain": [
       "Text(0.5, 0, '$x$')"
      ]
     },
     "execution_count": 80,
     "metadata": {},
     "output_type": "execute_result"
    },
    {
     "data": {
      "image/png": "[encoded data removed]",
      "text/plain": [
       "<Figure size 576x288 with 1 Axes>"
      ]
     },
     "metadata": {
      "needs_background": "light"
     },
     "output_type": "display_data"
    }
   ],
   "source": [
    "fig, ax = plt.subplots(figsize=(8, 4))\n",
    "ax.plot(x, y1, 'k', lw=1.5)\n",
    "ax.plot(x, y2, 'k', lw=1.5)\n",
    "\n",
    "sol1 = optimize.fsolve(f, [-2, 2])\n",
    "sol2 = optimize.fsolve(f, [ 1, -1])\n",
    "sol3 = optimize.fsolve(f, [-2, -5])\n",
    "sols = [sol1, sol2, sol3]\n",
    "\n",
    "colors = ['r', 'b', 'g']\n",
    "\n",
    "for m in np.linspace(-4, 3, 80):\n",
    "    for n in np.linspace(-15, 15, 40):\n",
    "        x_guess = [m, n]\n",
    "        sol = optimize.fsolve(f, x_guess) \n",
    "        \n",
    "        for idx, s in enumerate([sol1, sol2, sol3]): \n",
    "            if abs(s-sol).max() < 1e-8: \n",
    "                ax.plot(sol[0], sol[1], colors[idx]+'*', markersize=15)\n",
    "                ax.plot(x_guess[0], x_guess[1], colors[idx]+'.')\n",
    "                \n",
    "ax.set_xlabel(r'$x$', fontsize=18)"
   ]
  },
  {
   "cell_type": "code",
   "execution_count": null,
   "metadata": {},
   "outputs": [],
   "source": []
  }
 ],
 "metadata": {
  "kernelspec": {
   "display_name": "Python 3",
   "language": "python",
   "name": "python3"
  },
  "language_info": {
   "codemirror_mode": {
    "name": "ipython",
    "version": 3
   },
   "file_extension": ".py",
   "mimetype": "text/x-python",
   "name": "python",
   "nbconvert_exporter": "python",
   "pygments_lexer": "ipython3",
   "version": "3.7.3"
  }
 },
 "nbformat": 4,
 "nbformat_minor": 4
}
