{
 "cells": [
  {
   "cell_type": "code",
   "execution_count": 6,
   "metadata": {},
   "outputs": [],
   "source": [
    "from scipy.optimize import root,fsolve\n",
    "import numpy as np\n",
    "from matplotlib import pyplot as plt"
   ]
  },
  {
   "cell_type": "code",
   "execution_count": 7,
   "metadata": {},
   "outputs": [
    {
     "name": "stdout",
     "output_type": "stream",
     "text": [
      "[2.38006127]\n",
      "    fjac: array([[-1.]])\n",
      "     fun: array([-2.22044605e-16])\n",
      " message: 'The solution converged.'\n",
      "    nfev: 15\n",
      "     qtf: array([3.68636233e-11])\n",
      "       r: array([2.44756007])\n",
      "  status: 1\n",
      " success: True\n",
      "       x: array([2.38006127])\n"
     ]
    },
    {
     "data": {
      "image/png": "[encoded data removed]",
      "text/plain": [
       "<Figure size 432x288 with 1 Axes>"
      ]
     },
     "metadata": {
      "needs_background": "light"
     },
     "output_type": "display_data"
    }
   ],
   "source": [
    "def f1(x):\n",
    "    return 2*np.sin(x)-x+1\n",
    "x=np.linspace(-5,5,num=100)\n",
    "y=f1(x)\n",
    "root1=fsolve(f1,[1])#其实就是方程组等于0的根\n",
    "root2=root(f1,[1])\n",
    "print(root1)\n",
    "print(root2)\n",
    "plt.plot(x,y,'r')\n",
    "plt.show()"
   ]
  },
  {
   "cell_type": "code",
   "execution_count": 14,
   "metadata": {},
   "outputs": [
    {
     "name": "stdout",
     "output_type": "stream",
     "text": [
      "[ 2.  -1.5]\n"
     ]
    }
   ],
   "source": [
    "from scipy.linalg import solve\n",
    "a = np.array([[3, 2], [1, -2]])\n",
    "b = np.array([3, 5])\n",
    "x = solve(a, b)\n",
    "print(x)"
   ]
  },
  {
   "cell_type": "code",
   "execution_count": null,
   "metadata": {},
   "outputs": [],
   "source": []
  }
 ],
 "metadata": {
  "kernelspec": {
   "display_name": "Python 3",
   "language": "python",
   "name": "python3"
  },
  "language_info": {
   "codemirror_mode": {
    "name": "ipython",
    "version": 3
   },
   "file_extension": ".py",
   "mimetype": "text/x-python",
   "name": "python",
   "nbconvert_exporter": "python",
   "pygments_lexer": "ipython3",
   "version": "3.8.3"
  }
 },
 "nbformat": 4,
 "nbformat_minor": 4
}
