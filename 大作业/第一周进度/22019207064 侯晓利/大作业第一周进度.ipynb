{
 "cells": [
  {
   "cell_type": "markdown",
   "metadata": {},
   "source": [
    "数据收集与整合"
   ]
  },
  {
   "cell_type": "code",
   "execution_count": 84,
   "metadata": {},
   "outputs": [],
   "source": [
    "import pandas as pd\n",
    "import matplotlib.pyplot as plt\n",
    "import seaborn as sns\n",
    "plt.rcParams[\"font.sans-serif\"]=['SimHei']#用来正常显示中文标签  \n",
    "plt.rcParams[\"axes.unicode_minus\"]=False#用来正常显示负号 "
   ]
  },
  {
   "cell_type": "code",
   "execution_count": 4,
   "metadata": {},
   "outputs": [
    {
     "data": {
      "text/plain": [
       "SDATE         False\n",
       "STORE_CODE    False\n",
       "POS_NO        False\n",
       "BASK_CODE     False\n",
       "BASK_SPEND    False\n",
       "dtype: bool"
      ]
     },
     "execution_count": 4,
     "metadata": {},
     "output_type": "execute_result"
    }
   ],
   "source": [
    "basket = pd.read_csv('D:/Learn/课程/第三学期/python数学运算与数据可视化/大作业/数据/Basket.csv')\n",
    "basket['SDATE']=pd.to_datetime(basket['SDATE'])\n",
    "basket.isnull().any()"
   ]
  },
  {
   "cell_type": "code",
   "execution_count": 29,
   "metadata": {},
   "outputs": [
    {
     "data": {
      "text/html": [
       "<div>\n",
       "<style scoped>\n",
       "    .dataframe tbody tr th:only-of-type {\n",
       "        vertical-align: middle;\n",
       "    }\n",
       "\n",
       "    .dataframe tbody tr th {\n",
       "        vertical-align: top;\n",
       "    }\n",
       "\n",
       "    .dataframe thead th {\n",
       "        text-align: right;\n",
       "    }\n",
       "</style>\n",
       "<table border=\"1\" class=\"dataframe\">\n",
       "  <thead>\n",
       "    <tr style=\"text-align: right;\">\n",
       "      <th></th>\n",
       "      <th>POS_NO</th>\n",
       "      <th>BASK_CODE</th>\n",
       "      <th>BASK_SPEND</th>\n",
       "    </tr>\n",
       "  </thead>\n",
       "  <tbody>\n",
       "    <tr>\n",
       "      <th>count</th>\n",
       "      <td>571552.000000</td>\n",
       "      <td>571552.000000</td>\n",
       "      <td>571552.000000</td>\n",
       "    </tr>\n",
       "    <tr>\n",
       "      <th>mean</th>\n",
       "      <td>2.998429</td>\n",
       "      <td>167472.817102</td>\n",
       "      <td>38.973310</td>\n",
       "    </tr>\n",
       "    <tr>\n",
       "      <th>std</th>\n",
       "      <td>2.516065</td>\n",
       "      <td>87263.199857</td>\n",
       "      <td>209.038276</td>\n",
       "    </tr>\n",
       "    <tr>\n",
       "      <th>min</th>\n",
       "      <td>1.000000</td>\n",
       "      <td>961.000000</td>\n",
       "      <td>-35940.000000</td>\n",
       "    </tr>\n",
       "    <tr>\n",
       "      <th>25%</th>\n",
       "      <td>1.000000</td>\n",
       "      <td>90533.750000</td>\n",
       "      <td>9.000000</td>\n",
       "    </tr>\n",
       "    <tr>\n",
       "      <th>50%</th>\n",
       "      <td>2.000000</td>\n",
       "      <td>177603.500000</td>\n",
       "      <td>19.900000</td>\n",
       "    </tr>\n",
       "    <tr>\n",
       "      <th>75%</th>\n",
       "      <td>3.000000</td>\n",
       "      <td>238816.750000</td>\n",
       "      <td>44.700000</td>\n",
       "    </tr>\n",
       "    <tr>\n",
       "      <th>max</th>\n",
       "      <td>20.000000</td>\n",
       "      <td>323914.000000</td>\n",
       "      <td>79920.000000</td>\n",
       "    </tr>\n",
       "  </tbody>\n",
       "</table>\n",
       "</div>"
      ],
      "text/plain": [
       "              POS_NO      BASK_CODE     BASK_SPEND\n",
       "count  571552.000000  571552.000000  571552.000000\n",
       "mean        2.998429  167472.817102      38.973310\n",
       "std         2.516065   87263.199857     209.038276\n",
       "min         1.000000     961.000000  -35940.000000\n",
       "25%         1.000000   90533.750000       9.000000\n",
       "50%         2.000000  177603.500000      19.900000\n",
       "75%         3.000000  238816.750000      44.700000\n",
       "max        20.000000  323914.000000   79920.000000"
      ]
     },
     "execution_count": 29,
     "metadata": {},
     "output_type": "execute_result"
    }
   ],
   "source": [
    "basket.describe()#查看数据分布情况"
   ]
  },
  {
   "cell_type": "code",
   "execution_count": 5,
   "metadata": {},
   "outputs": [
    {
     "data": {
      "text/plain": [
       "SDATE              False\n",
       "STORE_CODE         False\n",
       "POSID              False\n",
       "BASK_CODE          False\n",
       "PROD_CODE          False\n",
       "ITEM_QUANTITY      False\n",
       "ITEM_SPEND         False\n",
       "NORMAL_PRICE       False\n",
       "DISCOUNT_TYPE      False\n",
       "DISCOUNT_AMOUNT    False\n",
       "dtype: bool"
      ]
     },
     "execution_count": 5,
     "metadata": {},
     "output_type": "execute_result"
    }
   ],
   "source": [
    "item = pd.read_csv('D:/Learn/课程/第三学期/python数学运算与数据可视化/大作业/数据/item.csv')\n",
    "item['SDATE']=pd.to_datetime(item['SDATE'])\n",
    "item.isnull().any()"
   ]
  },
  {
   "cell_type": "markdown",
   "metadata": {},
   "source": [
    "数据清洗"
   ]
  },
  {
   "cell_type": "markdown",
   "metadata": {},
   "source": [
    "异常值检测"
   ]
  },
  {
   "cell_type": "code",
   "execution_count": 14,
   "metadata": {},
   "outputs": [],
   "source": [
    "spend=basket['BASK_SPEND']"
   ]
  },
  {
   "cell_type": "code",
   "execution_count": 15,
   "metadata": {},
   "outputs": [
    {
     "data": {
      "text/plain": [
       "<matplotlib.axes._subplots.AxesSubplot at 0x1c0e2ae5d68>"
      ]
     },
     "execution_count": 15,
     "metadata": {},
     "output_type": "execute_result"
    },
    {
     "data": {
      "image/png": "[encoded data removed]",
      "text/plain": [
       "<Figure size 432x288 with 1 Axes>"
      ]
     },
     "metadata": {
      "needs_background": "light"
     },
     "output_type": "display_data"
    }
   ],
   "source": [
    "spend.plot(kind='box',title='BASK_SPEND',sym='r+')"
   ]
  },
  {
   "cell_type": "code",
   "execution_count": 13,
   "metadata": {},
   "outputs": [
    {
     "data": {
      "text/plain": [
       "count    571552.000000\n",
       "mean         38.973310\n",
       "std         209.038276\n",
       "min      -35940.000000\n",
       "25%           9.000000\n",
       "50%          19.900000\n",
       "75%          44.700000\n",
       "max       79920.000000\n",
       "Name: BASK_SPEND, dtype: float64"
      ]
     },
     "execution_count": 13,
     "metadata": {},
     "output_type": "execute_result"
    }
   ],
   "source": [
    "spend.describe()"
   ]
  },
  {
   "cell_type": "markdown",
   "metadata": {},
   "source": [
    "删除异常值"
   ]
  },
  {
   "cell_type": "code",
   "execution_count": 22,
   "metadata": {},
   "outputs": [
    {
     "data": {
      "text/html": [
       "<div>\n",
       "<style scoped>\n",
       "    .dataframe tbody tr th:only-of-type {\n",
       "        vertical-align: middle;\n",
       "    }\n",
       "\n",
       "    .dataframe tbody tr th {\n",
       "        vertical-align: top;\n",
       "    }\n",
       "\n",
       "    .dataframe thead th {\n",
       "        text-align: right;\n",
       "    }\n",
       "</style>\n",
       "<table border=\"1\" class=\"dataframe\">\n",
       "  <thead>\n",
       "    <tr style=\"text-align: right;\">\n",
       "      <th></th>\n",
       "      <th>SDATE</th>\n",
       "      <th>STORE_CODE</th>\n",
       "      <th>POS_NO</th>\n",
       "      <th>BASK_CODE</th>\n",
       "      <th>BASK_SPEND</th>\n",
       "    </tr>\n",
       "  </thead>\n",
       "  <tbody>\n",
       "    <tr>\n",
       "      <th>0</th>\n",
       "      <td>2018-06-01</td>\n",
       "      <td>D007</td>\n",
       "      <td>3</td>\n",
       "      <td>250458</td>\n",
       "      <td>8.0</td>\n",
       "    </tr>\n",
       "    <tr>\n",
       "      <th>1</th>\n",
       "      <td>2018-06-01</td>\n",
       "      <td>D007</td>\n",
       "      <td>3</td>\n",
       "      <td>250200</td>\n",
       "      <td>32.7</td>\n",
       "    </tr>\n",
       "    <tr>\n",
       "      <th>2</th>\n",
       "      <td>2018-06-01</td>\n",
       "      <td>D007</td>\n",
       "      <td>1</td>\n",
       "      <td>161068</td>\n",
       "      <td>16.8</td>\n",
       "    </tr>\n",
       "    <tr>\n",
       "      <th>3</th>\n",
       "      <td>2018-06-01</td>\n",
       "      <td>D007</td>\n",
       "      <td>8</td>\n",
       "      <td>5325</td>\n",
       "      <td>30.4</td>\n",
       "    </tr>\n",
       "    <tr>\n",
       "      <th>4</th>\n",
       "      <td>2018-06-01</td>\n",
       "      <td>D007</td>\n",
       "      <td>8</td>\n",
       "      <td>5361</td>\n",
       "      <td>191.3</td>\n",
       "    </tr>\n",
       "  </tbody>\n",
       "</table>\n",
       "</div>"
      ],
      "text/plain": [
       "       SDATE STORE_CODE  POS_NO  BASK_CODE  BASK_SPEND\n",
       "0 2018-06-01       D007       3     250458         8.0\n",
       "1 2018-06-01       D007       3     250200        32.7\n",
       "2 2018-06-01       D007       1     161068        16.8\n",
       "3 2018-06-01       D007       8       5325        30.4\n",
       "4 2018-06-01       D007       8       5361       191.3"
      ]
     },
     "execution_count": 22,
     "metadata": {},
     "output_type": "execute_result"
    }
   ],
   "source": [
    "basket_new1=basket[basket['BASK_SPEND']>0]  #剔除basket中bask_spend列小于0的行\n",
    "basket_new1.head()"
   ]
  },
  {
   "cell_type": "code",
   "execution_count": 39,
   "metadata": {},
   "outputs": [],
   "source": [
    "basket_new2=basket_new1[basket_new1['BASK_SPEND']<80]"
   ]
  },
  {
   "cell_type": "code",
   "execution_count": 40,
   "metadata": {},
   "outputs": [
    {
     "data": {
      "text/plain": [
       "0"
      ]
     },
     "execution_count": 40,
     "metadata": {},
     "output_type": "execute_result"
    }
   ],
   "source": [
    "basket_new2.duplicated().sum()#查看是否有重复值"
   ]
  },
  {
   "cell_type": "markdown",
   "metadata": {},
   "source": [
    "商店情况"
   ]
  },
  {
   "cell_type": "code",
   "execution_count": 83,
   "metadata": {},
   "outputs": [
    {
     "data": {
      "text/plain": [
       "<matplotlib.axes._subplots.AxesSubplot at 0x1c0d0653e80>"
      ]
     },
     "execution_count": 83,
     "metadata": {},
     "output_type": "execute_result"
    },
    {
     "data": {
      "image/png": "[encoded data removed]",
      "text/plain": [
       "<Figure size 432x288 with 1 Axes>"
      ]
     },
     "metadata": {
      "needs_background": "light"
     },
     "output_type": "display_data"
    }
   ],
   "source": [
    "a=basket_new2.groupby('STORE_CODE')['BASK_SPEND'].sum().reset_index().sort_values(by = 'BASK_SPEND',ascending = False)#商店按消费额大小排序\n",
    "a.set_index('STORE_CODE',inplace=True)\n",
    "a.plot(kind='barh')"
   ]
  },
  {
   "cell_type": "code",
   "execution_count": 89,
   "metadata": {},
   "outputs": [
    {
     "data": {
      "text/plain": [
       "<matplotlib.axes._subplots.AxesSubplot at 0x1c0cf58cf60>"
      ]
     },
     "execution_count": 89,
     "metadata": {},
     "output_type": "execute_result"
    },
    {
     "data": {
      "image/png": "[encoded data removed]",
      "text/plain": [
       "<Figure size 432x288 with 1 Axes>"
      ]
     },
     "metadata": {
      "needs_background": "light"
     },
     "output_type": "display_data"
    }
   ],
   "source": [
    "b=basket_new2.loc[:,'STORE_CODE'].value_counts()#商店按结账次数大小排序\n",
    "b.plot(kind='barh')"
   ]
  },
  {
   "cell_type": "code",
   "execution_count": 90,
   "metadata": {},
   "outputs": [
    {
     "name": "stderr",
     "output_type": "stream",
     "text": [
      "D:\\Anaconda3\\lib\\site-packages\\ipykernel_launcher.py:1: SettingWithCopyWarning: \n",
      "A value is trying to be set on a copy of a slice from a DataFrame.\n",
      "Try using .loc[row_indexer,col_indexer] = value instead\n",
      "\n",
      "See the caveats in the documentation: http://pandas.pydata.org/pandas-docs/stable/indexing.html#indexing-view-versus-copy\n",
      "  \"\"\"Entry point for launching an IPython kernel.\n",
      "D:\\Anaconda3\\lib\\site-packages\\ipykernel_launcher.py:2: SettingWithCopyWarning: \n",
      "A value is trying to be set on a copy of a slice from a DataFrame.\n",
      "Try using .loc[row_indexer,col_indexer] = value instead\n",
      "\n",
      "See the caveats in the documentation: http://pandas.pydata.org/pandas-docs/stable/indexing.html#indexing-view-versus-copy\n",
      "  \n",
      "D:\\Anaconda3\\lib\\site-packages\\ipykernel_launcher.py:3: SettingWithCopyWarning: \n",
      "A value is trying to be set on a copy of a slice from a DataFrame.\n",
      "Try using .loc[row_indexer,col_indexer] = value instead\n",
      "\n",
      "See the caveats in the documentation: http://pandas.pydata.org/pandas-docs/stable/indexing.html#indexing-view-versus-copy\n",
      "  This is separate from the ipykernel package so we can avoid doing imports until\n"
     ]
    }
   ],
   "source": [
    "basket_new2['year'] = basket_new2['SDATE'].dt.year\n",
    "basket_new2['month'] = basket_new2['SDATE'].dt.month\n",
    "basket_new2['day']= basket_new2['SDATE'].values.astype('datetime64[D]')#方便后续的分析，新增加年份列和月份列"
   ]
  },
  {
   "cell_type": "code",
   "execution_count": 91,
   "metadata": {},
   "outputs": [
    {
     "data": {
      "text/html": [
       "<div>\n",
       "<style scoped>\n",
       "    .dataframe tbody tr th:only-of-type {\n",
       "        vertical-align: middle;\n",
       "    }\n",
       "\n",
       "    .dataframe tbody tr th {\n",
       "        vertical-align: top;\n",
       "    }\n",
       "\n",
       "    .dataframe thead th {\n",
       "        text-align: right;\n",
       "    }\n",
       "</style>\n",
       "<table border=\"1\" class=\"dataframe\">\n",
       "  <thead>\n",
       "    <tr style=\"text-align: right;\">\n",
       "      <th></th>\n",
       "      <th></th>\n",
       "      <th>BASK_SPEND</th>\n",
       "    </tr>\n",
       "    <tr>\n",
       "      <th>month</th>\n",
       "      <th>SDATE</th>\n",
       "      <th></th>\n",
       "    </tr>\n",
       "  </thead>\n",
       "  <tbody>\n",
       "    <tr>\n",
       "      <th rowspan=\"30\" valign=\"top\">6</th>\n",
       "      <th>2018-06-01</th>\n",
       "      <td>372014.79</td>\n",
       "    </tr>\n",
       "    <tr>\n",
       "      <th>2018-06-02</th>\n",
       "      <td>384824.51</td>\n",
       "    </tr>\n",
       "    <tr>\n",
       "      <th>2018-06-03</th>\n",
       "      <td>358051.25</td>\n",
       "    </tr>\n",
       "    <tr>\n",
       "      <th>2018-06-04</th>\n",
       "      <td>306442.13</td>\n",
       "    </tr>\n",
       "    <tr>\n",
       "      <th>2018-06-05</th>\n",
       "      <td>334589.50</td>\n",
       "    </tr>\n",
       "    <tr>\n",
       "      <th>2018-06-06</th>\n",
       "      <td>305265.29</td>\n",
       "    </tr>\n",
       "    <tr>\n",
       "      <th>2018-06-07</th>\n",
       "      <td>268823.87</td>\n",
       "    </tr>\n",
       "    <tr>\n",
       "      <th>2018-06-08</th>\n",
       "      <td>319838.59</td>\n",
       "    </tr>\n",
       "    <tr>\n",
       "      <th>2018-06-09</th>\n",
       "      <td>356284.22</td>\n",
       "    </tr>\n",
       "    <tr>\n",
       "      <th>2018-06-10</th>\n",
       "      <td>385072.00</td>\n",
       "    </tr>\n",
       "    <tr>\n",
       "      <th>2018-06-11</th>\n",
       "      <td>300950.47</td>\n",
       "    </tr>\n",
       "    <tr>\n",
       "      <th>2018-06-12</th>\n",
       "      <td>310259.45</td>\n",
       "    </tr>\n",
       "    <tr>\n",
       "      <th>2018-06-13</th>\n",
       "      <td>392956.65</td>\n",
       "    </tr>\n",
       "    <tr>\n",
       "      <th>2018-06-14</th>\n",
       "      <td>324691.35</td>\n",
       "    </tr>\n",
       "    <tr>\n",
       "      <th>2018-06-15</th>\n",
       "      <td>356382.98</td>\n",
       "    </tr>\n",
       "    <tr>\n",
       "      <th>2018-06-16</th>\n",
       "      <td>449349.10</td>\n",
       "    </tr>\n",
       "    <tr>\n",
       "      <th>2018-06-17</th>\n",
       "      <td>548640.23</td>\n",
       "    </tr>\n",
       "    <tr>\n",
       "      <th>2018-06-18</th>\n",
       "      <td>503948.59</td>\n",
       "    </tr>\n",
       "    <tr>\n",
       "      <th>2018-06-19</th>\n",
       "      <td>236092.04</td>\n",
       "    </tr>\n",
       "    <tr>\n",
       "      <th>2018-06-20</th>\n",
       "      <td>312420.39</td>\n",
       "    </tr>\n",
       "    <tr>\n",
       "      <th>2018-06-21</th>\n",
       "      <td>279150.80</td>\n",
       "    </tr>\n",
       "    <tr>\n",
       "      <th>2018-06-22</th>\n",
       "      <td>243039.39</td>\n",
       "    </tr>\n",
       "    <tr>\n",
       "      <th>2018-06-23</th>\n",
       "      <td>340109.18</td>\n",
       "    </tr>\n",
       "    <tr>\n",
       "      <th>2018-06-24</th>\n",
       "      <td>314074.80</td>\n",
       "    </tr>\n",
       "    <tr>\n",
       "      <th>2018-06-25</th>\n",
       "      <td>267268.25</td>\n",
       "    </tr>\n",
       "    <tr>\n",
       "      <th>2018-06-26</th>\n",
       "      <td>267295.65</td>\n",
       "    </tr>\n",
       "    <tr>\n",
       "      <th>2018-06-27</th>\n",
       "      <td>324225.23</td>\n",
       "    </tr>\n",
       "    <tr>\n",
       "      <th>2018-06-28</th>\n",
       "      <td>273228.12</td>\n",
       "    </tr>\n",
       "    <tr>\n",
       "      <th>2018-06-29</th>\n",
       "      <td>309493.31</td>\n",
       "    </tr>\n",
       "    <tr>\n",
       "      <th>2018-06-30</th>\n",
       "      <td>371727.13</td>\n",
       "    </tr>\n",
       "    <tr>\n",
       "      <th rowspan=\"5\" valign=\"top\">7</th>\n",
       "      <th>2018-07-01</th>\n",
       "      <td>365270.84</td>\n",
       "    </tr>\n",
       "    <tr>\n",
       "      <th>2018-07-02</th>\n",
       "      <td>298560.09</td>\n",
       "    </tr>\n",
       "    <tr>\n",
       "      <th>2018-07-03</th>\n",
       "      <td>318702.93</td>\n",
       "    </tr>\n",
       "    <tr>\n",
       "      <th>2018-07-04</th>\n",
       "      <td>328976.48</td>\n",
       "    </tr>\n",
       "    <tr>\n",
       "      <th>2018-07-05</th>\n",
       "      <td>269033.74</td>\n",
       "    </tr>\n",
       "  </tbody>\n",
       "</table>\n",
       "</div>"
      ],
      "text/plain": [
       "                  BASK_SPEND\n",
       "month SDATE                 \n",
       "6     2018-06-01   372014.79\n",
       "      2018-06-02   384824.51\n",
       "      2018-06-03   358051.25\n",
       "      2018-06-04   306442.13\n",
       "      2018-06-05   334589.50\n",
       "      2018-06-06   305265.29\n",
       "      2018-06-07   268823.87\n",
       "      2018-06-08   319838.59\n",
       "      2018-06-09   356284.22\n",
       "      2018-06-10   385072.00\n",
       "      2018-06-11   300950.47\n",
       "      2018-06-12   310259.45\n",
       "      2018-06-13   392956.65\n",
       "      2018-06-14   324691.35\n",
       "      2018-06-15   356382.98\n",
       "      2018-06-16   449349.10\n",
       "      2018-06-17   548640.23\n",
       "      2018-06-18   503948.59\n",
       "      2018-06-19   236092.04\n",
       "      2018-06-20   312420.39\n",
       "      2018-06-21   279150.80\n",
       "      2018-06-22   243039.39\n",
       "      2018-06-23   340109.18\n",
       "      2018-06-24   314074.80\n",
       "      2018-06-25   267268.25\n",
       "      2018-06-26   267295.65\n",
       "      2018-06-27   324225.23\n",
       "      2018-06-28   273228.12\n",
       "      2018-06-29   309493.31\n",
       "      2018-06-30   371727.13\n",
       "7     2018-07-01   365270.84\n",
       "      2018-07-02   298560.09\n",
       "      2018-07-03   318702.93\n",
       "      2018-07-04   328976.48\n",
       "      2018-07-05   269033.74"
      ]
     },
     "execution_count": 91,
     "metadata": {},
     "output_type": "execute_result"
    }
   ],
   "source": [
    "#按照年份、月份对销售子数据集进行分组求和\n",
    "sales_month = basket_new2[['SDATE','BASK_SPEND','month']]\n",
    "sales_month = sales_month.groupby(['month','SDATE']).sum()\n",
    "sales_month"
   ]
  },
  {
   "cell_type": "code",
   "execution_count": 92,
   "metadata": {},
   "outputs": [
    {
     "data": {
      "text/html": [
       "<style  type=\"text/css\" >\n",
       "    #T_8d929080_0b06_11eb_a760_801fbe1891b8row0_col0 {\n",
       "            background-color:  #8eb3d5;\n",
       "            color:  #000000;\n",
       "        }    #T_8d929080_0b06_11eb_a760_801fbe1891b8row1_col0 {\n",
       "            background-color:  #7eadd1;\n",
       "            color:  #000000;\n",
       "        }    #T_8d929080_0b06_11eb_a760_801fbe1891b8row2_col0 {\n",
       "            background-color:  #a1bbda;\n",
       "            color:  #000000;\n",
       "        }    #T_8d929080_0b06_11eb_a760_801fbe1891b8row3_col0 {\n",
       "            background-color:  #d6d6e9;\n",
       "            color:  #000000;\n",
       "        }    #T_8d929080_0b06_11eb_a760_801fbe1891b8row4_col0 {\n",
       "            background-color:  #bbc7e0;\n",
       "            color:  #000000;\n",
       "        }    #T_8d929080_0b06_11eb_a760_801fbe1891b8row5_col0 {\n",
       "            background-color:  #d7d6e9;\n",
       "            color:  #000000;\n",
       "        }    #T_8d929080_0b06_11eb_a760_801fbe1891b8row6_col0 {\n",
       "            background-color:  #f0eaf4;\n",
       "            color:  #000000;\n",
       "        }    #T_8d929080_0b06_11eb_a760_801fbe1891b8row7_col0 {\n",
       "            background-color:  #cacee5;\n",
       "            color:  #000000;\n",
       "        }    #T_8d929080_0b06_11eb_a760_801fbe1891b8row8_col0 {\n",
       "            background-color:  #a2bcda;\n",
       "            color:  #000000;\n",
       "        }    #T_8d929080_0b06_11eb_a760_801fbe1891b8row9_col0 {\n",
       "            background-color:  #7dacd1;\n",
       "            color:  #000000;\n",
       "        }    #T_8d929080_0b06_11eb_a760_801fbe1891b8row10_col0 {\n",
       "            background-color:  #d9d8ea;\n",
       "            color:  #000000;\n",
       "        }    #T_8d929080_0b06_11eb_a760_801fbe1891b8row11_col0 {\n",
       "            background-color:  #d3d4e7;\n",
       "            color:  #000000;\n",
       "        }    #T_8d929080_0b06_11eb_a760_801fbe1891b8row12_col0 {\n",
       "            background-color:  #73a9cf;\n",
       "            color:  #000000;\n",
       "        }    #T_8d929080_0b06_11eb_a760_801fbe1891b8row13_col0 {\n",
       "            background-color:  #c5cce3;\n",
       "            color:  #000000;\n",
       "        }    #T_8d929080_0b06_11eb_a760_801fbe1891b8row14_col0 {\n",
       "            background-color:  #a2bcda;\n",
       "            color:  #000000;\n",
       "        }    #T_8d929080_0b06_11eb_a760_801fbe1891b8row15_col0 {\n",
       "            background-color:  #2081b9;\n",
       "            color:  #000000;\n",
       "        }    #T_8d929080_0b06_11eb_a760_801fbe1891b8row16_col0 {\n",
       "            background-color:  #023858;\n",
       "            color:  #f1f1f1;\n",
       "        }    #T_8d929080_0b06_11eb_a760_801fbe1891b8row17_col0 {\n",
       "            background-color:  #045d92;\n",
       "            color:  #f1f1f1;\n",
       "        }    #T_8d929080_0b06_11eb_a760_801fbe1891b8row18_col0 {\n",
       "            background-color:  #fff7fb;\n",
       "            color:  #000000;\n",
       "        }    #T_8d929080_0b06_11eb_a760_801fbe1891b8row19_col0 {\n",
       "            background-color:  #d2d2e7;\n",
       "            color:  #000000;\n",
       "        }    #T_8d929080_0b06_11eb_a760_801fbe1891b8row20_col0 {\n",
       "            background-color:  #e9e5f1;\n",
       "            color:  #000000;\n",
       "        }    #T_8d929080_0b06_11eb_a760_801fbe1891b8row21_col0 {\n",
       "            background-color:  #fcf4fa;\n",
       "            color:  #000000;\n",
       "        }    #T_8d929080_0b06_11eb_a760_801fbe1891b8row22_col0 {\n",
       "            background-color:  #b4c4df;\n",
       "            color:  #000000;\n",
       "        }    #T_8d929080_0b06_11eb_a760_801fbe1891b8row23_col0 {\n",
       "            background-color:  #d1d2e6;\n",
       "            color:  #000000;\n",
       "        }    #T_8d929080_0b06_11eb_a760_801fbe1891b8row24_col0 {\n",
       "            background-color:  #f0eaf4;\n",
       "            color:  #000000;\n",
       "        }    #T_8d929080_0b06_11eb_a760_801fbe1891b8row25_col0 {\n",
       "            background-color:  #f0eaf4;\n",
       "            color:  #000000;\n",
       "        }    #T_8d929080_0b06_11eb_a760_801fbe1891b8row26_col0 {\n",
       "            background-color:  #c5cce3;\n",
       "            color:  #000000;\n",
       "        }    #T_8d929080_0b06_11eb_a760_801fbe1891b8row27_col0 {\n",
       "            background-color:  #ede8f3;\n",
       "            color:  #000000;\n",
       "        }    #T_8d929080_0b06_11eb_a760_801fbe1891b8row28_col0 {\n",
       "            background-color:  #d3d4e7;\n",
       "            color:  #000000;\n",
       "        }    #T_8d929080_0b06_11eb_a760_801fbe1891b8row29_col0 {\n",
       "            background-color:  #8eb3d5;\n",
       "            color:  #000000;\n",
       "        }    #T_8d929080_0b06_11eb_a760_801fbe1891b8row30_col0 {\n",
       "            background-color:  #97b7d7;\n",
       "            color:  #000000;\n",
       "        }    #T_8d929080_0b06_11eb_a760_801fbe1891b8row31_col0 {\n",
       "            background-color:  #dbdaeb;\n",
       "            color:  #000000;\n",
       "        }    #T_8d929080_0b06_11eb_a760_801fbe1891b8row32_col0 {\n",
       "            background-color:  #cccfe5;\n",
       "            color:  #000000;\n",
       "        }    #T_8d929080_0b06_11eb_a760_801fbe1891b8row33_col0 {\n",
       "            background-color:  #c0c9e2;\n",
       "            color:  #000000;\n",
       "        }    #T_8d929080_0b06_11eb_a760_801fbe1891b8row34_col0 {\n",
       "            background-color:  #f0eaf4;\n",
       "            color:  #000000;\n",
       "        }</style><table id=\"T_8d929080_0b06_11eb_a760_801fbe1891b8\" ><thead>    <tr>        <th class=\"blank\" ></th>        <th class=\"blank level0\" ></th>        <th class=\"col_heading level0 col0\" >BASK_SPEND</th>    </tr>    <tr>        <th class=\"index_name level0\" >month</th>        <th class=\"index_name level1\" >day</th>        <th class=\"blank\" ></th>    </tr></thead><tbody>\n",
       "                <tr>\n",
       "                        <th id=\"T_8d929080_0b06_11eb_a760_801fbe1891b8level0_row0\" class=\"row_heading level0 row0\" rowspan=30>6</th>\n",
       "                        <th id=\"T_8d929080_0b06_11eb_a760_801fbe1891b8level1_row0\" class=\"row_heading level1 row0\" >2018-06-01 00:00:00</th>\n",
       "                        <td id=\"T_8d929080_0b06_11eb_a760_801fbe1891b8row0_col0\" class=\"data row0 col0\" >372015</td>\n",
       "            </tr>\n",
       "            <tr>\n",
       "                                <th id=\"T_8d929080_0b06_11eb_a760_801fbe1891b8level1_row1\" class=\"row_heading level1 row1\" >2018-06-02 00:00:00</th>\n",
       "                        <td id=\"T_8d929080_0b06_11eb_a760_801fbe1891b8row1_col0\" class=\"data row1 col0\" >384825</td>\n",
       "            </tr>\n",
       "            <tr>\n",
       "                                <th id=\"T_8d929080_0b06_11eb_a760_801fbe1891b8level1_row2\" class=\"row_heading level1 row2\" >2018-06-03 00:00:00</th>\n",
       "                        <td id=\"T_8d929080_0b06_11eb_a760_801fbe1891b8row2_col0\" class=\"data row2 col0\" >358051</td>\n",
       "            </tr>\n",
       "            <tr>\n",
       "                                <th id=\"T_8d929080_0b06_11eb_a760_801fbe1891b8level1_row3\" class=\"row_heading level1 row3\" >2018-06-04 00:00:00</th>\n",
       "                        <td id=\"T_8d929080_0b06_11eb_a760_801fbe1891b8row3_col0\" class=\"data row3 col0\" >306442</td>\n",
       "            </tr>\n",
       "            <tr>\n",
       "                                <th id=\"T_8d929080_0b06_11eb_a760_801fbe1891b8level1_row4\" class=\"row_heading level1 row4\" >2018-06-05 00:00:00</th>\n",
       "                        <td id=\"T_8d929080_0b06_11eb_a760_801fbe1891b8row4_col0\" class=\"data row4 col0\" >334589</td>\n",
       "            </tr>\n",
       "            <tr>\n",
       "                                <th id=\"T_8d929080_0b06_11eb_a760_801fbe1891b8level1_row5\" class=\"row_heading level1 row5\" >2018-06-06 00:00:00</th>\n",
       "                        <td id=\"T_8d929080_0b06_11eb_a760_801fbe1891b8row5_col0\" class=\"data row5 col0\" >305265</td>\n",
       "            </tr>\n",
       "            <tr>\n",
       "                                <th id=\"T_8d929080_0b06_11eb_a760_801fbe1891b8level1_row6\" class=\"row_heading level1 row6\" >2018-06-07 00:00:00</th>\n",
       "                        <td id=\"T_8d929080_0b06_11eb_a760_801fbe1891b8row6_col0\" class=\"data row6 col0\" >268824</td>\n",
       "            </tr>\n",
       "            <tr>\n",
       "                                <th id=\"T_8d929080_0b06_11eb_a760_801fbe1891b8level1_row7\" class=\"row_heading level1 row7\" >2018-06-08 00:00:00</th>\n",
       "                        <td id=\"T_8d929080_0b06_11eb_a760_801fbe1891b8row7_col0\" class=\"data row7 col0\" >319839</td>\n",
       "            </tr>\n",
       "            <tr>\n",
       "                                <th id=\"T_8d929080_0b06_11eb_a760_801fbe1891b8level1_row8\" class=\"row_heading level1 row8\" >2018-06-09 00:00:00</th>\n",
       "                        <td id=\"T_8d929080_0b06_11eb_a760_801fbe1891b8row8_col0\" class=\"data row8 col0\" >356284</td>\n",
       "            </tr>\n",
       "            <tr>\n",
       "                                <th id=\"T_8d929080_0b06_11eb_a760_801fbe1891b8level1_row9\" class=\"row_heading level1 row9\" >2018-06-10 00:00:00</th>\n",
       "                        <td id=\"T_8d929080_0b06_11eb_a760_801fbe1891b8row9_col0\" class=\"data row9 col0\" >385072</td>\n",
       "            </tr>\n",
       "            <tr>\n",
       "                                <th id=\"T_8d929080_0b06_11eb_a760_801fbe1891b8level1_row10\" class=\"row_heading level1 row10\" >2018-06-11 00:00:00</th>\n",
       "                        <td id=\"T_8d929080_0b06_11eb_a760_801fbe1891b8row10_col0\" class=\"data row10 col0\" >300950</td>\n",
       "            </tr>\n",
       "            <tr>\n",
       "                                <th id=\"T_8d929080_0b06_11eb_a760_801fbe1891b8level1_row11\" class=\"row_heading level1 row11\" >2018-06-12 00:00:00</th>\n",
       "                        <td id=\"T_8d929080_0b06_11eb_a760_801fbe1891b8row11_col0\" class=\"data row11 col0\" >310259</td>\n",
       "            </tr>\n",
       "            <tr>\n",
       "                                <th id=\"T_8d929080_0b06_11eb_a760_801fbe1891b8level1_row12\" class=\"row_heading level1 row12\" >2018-06-13 00:00:00</th>\n",
       "                        <td id=\"T_8d929080_0b06_11eb_a760_801fbe1891b8row12_col0\" class=\"data row12 col0\" >392957</td>\n",
       "            </tr>\n",
       "            <tr>\n",
       "                                <th id=\"T_8d929080_0b06_11eb_a760_801fbe1891b8level1_row13\" class=\"row_heading level1 row13\" >2018-06-14 00:00:00</th>\n",
       "                        <td id=\"T_8d929080_0b06_11eb_a760_801fbe1891b8row13_col0\" class=\"data row13 col0\" >324691</td>\n",
       "            </tr>\n",
       "            <tr>\n",
       "                                <th id=\"T_8d929080_0b06_11eb_a760_801fbe1891b8level1_row14\" class=\"row_heading level1 row14\" >2018-06-15 00:00:00</th>\n",
       "                        <td id=\"T_8d929080_0b06_11eb_a760_801fbe1891b8row14_col0\" class=\"data row14 col0\" >356383</td>\n",
       "            </tr>\n",
       "            <tr>\n",
       "                                <th id=\"T_8d929080_0b06_11eb_a760_801fbe1891b8level1_row15\" class=\"row_heading level1 row15\" >2018-06-16 00:00:00</th>\n",
       "                        <td id=\"T_8d929080_0b06_11eb_a760_801fbe1891b8row15_col0\" class=\"data row15 col0\" >449349</td>\n",
       "            </tr>\n",
       "            <tr>\n",
       "                                <th id=\"T_8d929080_0b06_11eb_a760_801fbe1891b8level1_row16\" class=\"row_heading level1 row16\" >2018-06-17 00:00:00</th>\n",
       "                        <td id=\"T_8d929080_0b06_11eb_a760_801fbe1891b8row16_col0\" class=\"data row16 col0\" >548640</td>\n",
       "            </tr>\n",
       "            <tr>\n",
       "                                <th id=\"T_8d929080_0b06_11eb_a760_801fbe1891b8level1_row17\" class=\"row_heading level1 row17\" >2018-06-18 00:00:00</th>\n",
       "                        <td id=\"T_8d929080_0b06_11eb_a760_801fbe1891b8row17_col0\" class=\"data row17 col0\" >503949</td>\n",
       "            </tr>\n",
       "            <tr>\n",
       "                                <th id=\"T_8d929080_0b06_11eb_a760_801fbe1891b8level1_row18\" class=\"row_heading level1 row18\" >2018-06-19 00:00:00</th>\n",
       "                        <td id=\"T_8d929080_0b06_11eb_a760_801fbe1891b8row18_col0\" class=\"data row18 col0\" >236092</td>\n",
       "            </tr>\n",
       "            <tr>\n",
       "                                <th id=\"T_8d929080_0b06_11eb_a760_801fbe1891b8level1_row19\" class=\"row_heading level1 row19\" >2018-06-20 00:00:00</th>\n",
       "                        <td id=\"T_8d929080_0b06_11eb_a760_801fbe1891b8row19_col0\" class=\"data row19 col0\" >312420</td>\n",
       "            </tr>\n",
       "            <tr>\n",
       "                                <th id=\"T_8d929080_0b06_11eb_a760_801fbe1891b8level1_row20\" class=\"row_heading level1 row20\" >2018-06-21 00:00:00</th>\n",
       "                        <td id=\"T_8d929080_0b06_11eb_a760_801fbe1891b8row20_col0\" class=\"data row20 col0\" >279151</td>\n",
       "            </tr>\n",
       "            <tr>\n",
       "                                <th id=\"T_8d929080_0b06_11eb_a760_801fbe1891b8level1_row21\" class=\"row_heading level1 row21\" >2018-06-22 00:00:00</th>\n",
       "                        <td id=\"T_8d929080_0b06_11eb_a760_801fbe1891b8row21_col0\" class=\"data row21 col0\" >243039</td>\n",
       "            </tr>\n",
       "            <tr>\n",
       "                                <th id=\"T_8d929080_0b06_11eb_a760_801fbe1891b8level1_row22\" class=\"row_heading level1 row22\" >2018-06-23 00:00:00</th>\n",
       "                        <td id=\"T_8d929080_0b06_11eb_a760_801fbe1891b8row22_col0\" class=\"data row22 col0\" >340109</td>\n",
       "            </tr>\n",
       "            <tr>\n",
       "                                <th id=\"T_8d929080_0b06_11eb_a760_801fbe1891b8level1_row23\" class=\"row_heading level1 row23\" >2018-06-24 00:00:00</th>\n",
       "                        <td id=\"T_8d929080_0b06_11eb_a760_801fbe1891b8row23_col0\" class=\"data row23 col0\" >314075</td>\n",
       "            </tr>\n",
       "            <tr>\n",
       "                                <th id=\"T_8d929080_0b06_11eb_a760_801fbe1891b8level1_row24\" class=\"row_heading level1 row24\" >2018-06-25 00:00:00</th>\n",
       "                        <td id=\"T_8d929080_0b06_11eb_a760_801fbe1891b8row24_col0\" class=\"data row24 col0\" >267268</td>\n",
       "            </tr>\n",
       "            <tr>\n",
       "                                <th id=\"T_8d929080_0b06_11eb_a760_801fbe1891b8level1_row25\" class=\"row_heading level1 row25\" >2018-06-26 00:00:00</th>\n",
       "                        <td id=\"T_8d929080_0b06_11eb_a760_801fbe1891b8row25_col0\" class=\"data row25 col0\" >267296</td>\n",
       "            </tr>\n",
       "            <tr>\n",
       "                                <th id=\"T_8d929080_0b06_11eb_a760_801fbe1891b8level1_row26\" class=\"row_heading level1 row26\" >2018-06-27 00:00:00</th>\n",
       "                        <td id=\"T_8d929080_0b06_11eb_a760_801fbe1891b8row26_col0\" class=\"data row26 col0\" >324225</td>\n",
       "            </tr>\n",
       "            <tr>\n",
       "                                <th id=\"T_8d929080_0b06_11eb_a760_801fbe1891b8level1_row27\" class=\"row_heading level1 row27\" >2018-06-28 00:00:00</th>\n",
       "                        <td id=\"T_8d929080_0b06_11eb_a760_801fbe1891b8row27_col0\" class=\"data row27 col0\" >273228</td>\n",
       "            </tr>\n",
       "            <tr>\n",
       "                                <th id=\"T_8d929080_0b06_11eb_a760_801fbe1891b8level1_row28\" class=\"row_heading level1 row28\" >2018-06-29 00:00:00</th>\n",
       "                        <td id=\"T_8d929080_0b06_11eb_a760_801fbe1891b8row28_col0\" class=\"data row28 col0\" >309493</td>\n",
       "            </tr>\n",
       "            <tr>\n",
       "                                <th id=\"T_8d929080_0b06_11eb_a760_801fbe1891b8level1_row29\" class=\"row_heading level1 row29\" >2018-06-30 00:00:00</th>\n",
       "                        <td id=\"T_8d929080_0b06_11eb_a760_801fbe1891b8row29_col0\" class=\"data row29 col0\" >371727</td>\n",
       "            </tr>\n",
       "            <tr>\n",
       "                        <th id=\"T_8d929080_0b06_11eb_a760_801fbe1891b8level0_row30\" class=\"row_heading level0 row30\" rowspan=5>7</th>\n",
       "                        <th id=\"T_8d929080_0b06_11eb_a760_801fbe1891b8level1_row30\" class=\"row_heading level1 row30\" >2018-07-01 00:00:00</th>\n",
       "                        <td id=\"T_8d929080_0b06_11eb_a760_801fbe1891b8row30_col0\" class=\"data row30 col0\" >365271</td>\n",
       "            </tr>\n",
       "            <tr>\n",
       "                                <th id=\"T_8d929080_0b06_11eb_a760_801fbe1891b8level1_row31\" class=\"row_heading level1 row31\" >2018-07-02 00:00:00</th>\n",
       "                        <td id=\"T_8d929080_0b06_11eb_a760_801fbe1891b8row31_col0\" class=\"data row31 col0\" >298560</td>\n",
       "            </tr>\n",
       "            <tr>\n",
       "                                <th id=\"T_8d929080_0b06_11eb_a760_801fbe1891b8level1_row32\" class=\"row_heading level1 row32\" >2018-07-03 00:00:00</th>\n",
       "                        <td id=\"T_8d929080_0b06_11eb_a760_801fbe1891b8row32_col0\" class=\"data row32 col0\" >318703</td>\n",
       "            </tr>\n",
       "            <tr>\n",
       "                                <th id=\"T_8d929080_0b06_11eb_a760_801fbe1891b8level1_row33\" class=\"row_heading level1 row33\" >2018-07-04 00:00:00</th>\n",
       "                        <td id=\"T_8d929080_0b06_11eb_a760_801fbe1891b8row33_col0\" class=\"data row33 col0\" >328976</td>\n",
       "            </tr>\n",
       "            <tr>\n",
       "                                <th id=\"T_8d929080_0b06_11eb_a760_801fbe1891b8level1_row34\" class=\"row_heading level1 row34\" >2018-07-05 00:00:00</th>\n",
       "                        <td id=\"T_8d929080_0b06_11eb_a760_801fbe1891b8row34_col0\" class=\"data row34 col0\" >269034</td>\n",
       "            </tr>\n",
       "    </tbody></table>"
      ],
      "text/plain": [
       "<pandas.io.formats.style.Styler at 0x1c0cf632080>"
      ]
     },
     "execution_count": 92,
     "metadata": {},
     "output_type": "execute_result"
    }
   ],
   "source": [
    "# 整体销售情况子数据集，包含下单日期、销售额、年份、月份信息\n",
    "sales_data = basket_new2[['SDATE','BASK_SPEND','month','day']]\n",
    "#按照年份、月份对销售子数据集进行分组求和\n",
    "sales_year = sales_data.groupby(['month','day']).sum()\n",
    "sales_year.style.background_gradient()# 颜色越深，销售额越高\n",
    "#按周六日呈周期性递增态势"
   ]
  },
  {
   "cell_type": "markdown",
   "metadata": {},
   "source": [
    "顾客分析"
   ]
  },
  {
   "cell_type": "code",
   "execution_count": 93,
   "metadata": {},
   "outputs": [
    {
     "data": {
      "image/png": "[encoded data removed]",
      "text/plain": [
       "<Figure size 432x288 with 1 Axes>"
      ]
     },
     "metadata": {
      "needs_background": "light"
     },
     "output_type": "display_data"
    }
   ],
   "source": [
    "plt.hist(x = basket_new2.BASK_SPEND, # 指定绘图数据\n",
    "          bins = 5, # 指定直方图中条块的个数\n",
    "         color = 'steelblue', # 指定直方图的填充色\n",
    "         edgecolor = 'black' # 指定直方图的边框色          \n",
    "        )\n",
    "# 添加x轴和y轴标签\n",
    "plt.xlabel('BASK_SPEND')\n",
    "plt.ylabel('Number')\n",
    "\n",
    "plt.title('BASK_SPEND distribution')\n",
    " # 显示图形\n",
    "plt.show()"
   ]
  },
  {
   "cell_type": "code",
   "execution_count": null,
   "metadata": {},
   "outputs": [],
   "source": []
  }
 ],
 "metadata": {
  "kernelspec": {
   "display_name": "Python 3",
   "language": "python",
   "name": "python3"
  },
  "language_info": {
   "codemirror_mode": {
    "name": "ipython",
    "version": 3
   },
   "file_extension": ".py",
   "mimetype": "text/x-python",
   "name": "python",
   "nbconvert_exporter": "python",
   "pygments_lexer": "ipython3",
   "version": "3.7.3"
  }
 },
 "nbformat": 4,
 "nbformat_minor": 4
}
