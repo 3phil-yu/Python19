{
 "cells": [
  {
   "cell_type": "code",
   "execution_count": 3,
   "metadata": {},
   "outputs": [
    {
     "name": "stdout",
     "output_type": "stream",
     "text": [
      "        SDATE STORE_CODE  POSID  BASK_CODE  PROD_CODE  ITEM_QUANTITY  \\\n",
      "0  2018-06-01       D007      3     250451      29405          1.000   \n",
      "1  2018-06-01       D007      3     250451      13187          1.000   \n",
      "2  2018-06-01       D007      3     250243     196249          1.000   \n",
      "3  2018-06-01       D007      3     250243     199637          1.000   \n",
      "4  2018-06-01       D007      1     160905     195012          3.222   \n",
      "\n",
      "   ITEM_SPEND  NORMAL_PRICE DISCOUNT_TYPE  DISCOUNT_AMOUNT  \n",
      "0        1.70           2.0             m             -0.3  \n",
      "1        1.00           1.0             n              0.0  \n",
      "2       99.00          99.0             m              0.0  \n",
      "3        9.90          16.8             p             -6.9  \n",
      "4       18.69           5.8             n              0.0  \n",
      "  SHOP_DATETIME STORE_CODE  POS_NO  BASK_CODE  BASK_SPEND\n",
      "0    2018-06-01       D007       3     250458         8.0\n",
      "1    2018-06-01       D007       3     250200        32.7\n",
      "2    2018-06-01       D007       1     161068        16.8\n",
      "3    2018-06-01       D007       8       5325        30.4\n",
      "4    2018-06-01       D007       8       5361       191.3\n"
     ]
    }
   ],
   "source": [
    "import csv\n",
    "import pandas as pd\n",
    "\n",
    "data1=open(\"C:/Users/xyr19/Desktop/python19/item-2018-06-01-2018-07-05.csv\")\n",
    "data2=open(\"C:/Users/xyr19/Desktop/python19/Basket-2018-06-01-2018-07-05.csv\")\n",
    "df1 = pd.read_csv(data1)\n",
    "df2 = pd.read_csv(data2)\n",
    "print(df1.head(5))\n",
    "print(df2.head(5))"
   ]
  },
  {
   "cell_type": "code",
   "execution_count": 30,
   "metadata": {},
   "outputs": [
    {
     "data": {
      "text/plain": [
       "SHOP_DATETIME    False\n",
       "STORE_CODE       False\n",
       "POS_NO           False\n",
       "BASK_CODE        False\n",
       "BASK_SPEND       False\n",
       "dtype: bool"
      ]
     },
     "execution_count": 30,
     "metadata": {},
     "output_type": "execute_result"
    }
   ],
   "source": [
    "#统计两个csv文件是否存在缺失值。\n",
    "df2.isnull().any()"
   ]
  },
  {
   "cell_type": "code",
   "execution_count": 31,
   "metadata": {},
   "outputs": [
    {
     "data": {
      "text/plain": [
       "SDATE              False\n",
       "STORE_CODE         False\n",
       "POSID              False\n",
       "BASK_CODE          False\n",
       "PROD_CODE          False\n",
       "ITEM_QUANTITY      False\n",
       "ITEM_SPEND         False\n",
       "NORMAL_PRICE       False\n",
       "DISCOUNT_TYPE      False\n",
       "DISCOUNT_AMOUNT    False\n",
       "dtype: bool"
      ]
     },
     "execution_count": 31,
     "metadata": {},
     "output_type": "execute_result"
    }
   ],
   "source": [
    "df1.isnull().any()"
   ]
  },
  {
   "cell_type": "code",
   "execution_count": 4,
   "metadata": {},
   "outputs": [
    {
     "name": "stderr",
     "output_type": "stream",
     "text": [
      "C:\\Users\\xyr19\\AppData\\Local\\Continuum\\anaconda3\\lib\\site-packages\\ipykernel_launcher.py:2: FutureWarning: by argument to sort_index is deprecated, please use .sort_values(by=...)\n",
      "  \n"
     ]
    },
    {
     "name": "stdout",
     "output_type": "stream",
     "text": [
      "       SHOP_DATETIME STORE_CODE  POS_NO  BASK_CODE  BASK_SPEND\n",
      "215263    2018-06-01       D002       5     207961         1.5\n",
      "215262    2018-06-01       D002       8      82213         8.5\n",
      "215274    2018-06-01       D006       3     148745        34.9\n",
      "215289    2018-06-01       D007       1     160912        56.0\n",
      "215290    2018-06-01       D007       1     161147        11.8\n"
     ]
    }
   ],
   "source": [
    "#对basket列表日期进行排序\n",
    "Basketdata = df2.sort_index(axis=0,by=[\"SHOP_DATETIME\"])\n",
    "print(Basketdata[25:30])"
   ]
  },
  {
   "cell_type": "code",
   "execution_count": 6,
   "metadata": {},
   "outputs": [
    {
     "data": {
      "text/plain": [
       "STORE_CODE\n",
       "A001    3.435303e+06\n",
       "A004    5.123467e+05\n",
       "A006    9.383050e+05\n",
       "A007    6.866382e+05\n",
       "A008    1.311171e+06\n",
       "A009    7.977389e+05\n",
       "A010    6.448924e+05\n",
       "A012    8.469747e+05\n",
       "A013    1.117126e+06\n",
       "A016    7.398143e+05\n",
       "A017    3.945074e+05\n",
       "A018    5.584417e+05\n",
       "A019    6.486686e+05\n",
       "A021    7.387401e+05\n",
       "A022    4.874459e+05\n",
       "D002    3.129447e+06\n",
       "D003    2.435843e+05\n",
       "D004    8.078603e+05\n",
       "D005    5.541030e+05\n",
       "D006    7.935042e+05\n",
       "D007    1.361607e+06\n",
       "D008    6.930078e+05\n",
       "D009    4.704280e+05\n",
       "D010    3.636179e+05\n",
       "Name: BASK_SPEND, dtype: float64"
      ]
     },
     "execution_count": 6,
     "metadata": {},
     "output_type": "execute_result"
    }
   ],
   "source": [
    "# 统计每个商店销售额\n",
    "sell =Basketdata.groupby(by=\"STORE_CODE\")\n",
    "df2_sell = sell[\"BASK_SPEND\"].sum()\n",
    "df2_sell"
   ]
  },
  {
   "cell_type": "code",
   "execution_count": 7,
   "metadata": {},
   "outputs": [
    {
     "data": {
      "text/plain": [
       "SHOP_DATETIME\n",
       "2018-06-01     717327.28\n",
       "2018-06-02     727910.16\n",
       "2018-06-03     682779.75\n",
       "2018-06-04     557813.05\n",
       "2018-06-05     663394.81\n",
       "2018-06-06     498250.71\n",
       "2018-06-07     436109.19\n",
       "2018-06-08     564402.27\n",
       "2018-06-09     679629.48\n",
       "2018-06-10     702961.56\n",
       "2018-06-11     532263.20\n",
       "2018-06-12     569290.86\n",
       "2018-06-13     722874.45\n",
       "2018-06-14     615684.90\n",
       "2018-06-15     774897.74\n",
       "2018-06-16    1172798.62\n",
       "2018-06-17    1506093.31\n",
       "2018-06-18    1257825.41\n",
       "2018-06-19     412881.99\n",
       "2018-06-20     533702.81\n",
       "2018-06-21     493064.51\n",
       "2018-06-22     411610.22\n",
       "2018-06-23     582622.57\n",
       "2018-06-24     529053.77\n",
       "2018-06-25     454961.04\n",
       "2018-06-26     453298.13\n",
       "2018-06-27     527871.74\n",
       "2018-06-28     438126.70\n",
       "2018-06-29     568749.99\n",
       "2018-06-30     719873.69\n",
       "2018-07-01     653284.63\n",
       "2018-07-02     520731.01\n",
       "2018-07-03     542603.77\n",
       "2018-07-04     559139.42\n",
       "2018-07-05     491390.33\n",
       "Name: BASK_SPEND, dtype: float64"
      ]
     },
     "execution_count": 7,
     "metadata": {},
     "output_type": "execute_result"
    }
   ],
   "source": [
    "#按日期统计总销售额\n",
    "Dsell =Basketdata.groupby(by=\"SHOP_DATETIME\")\n",
    "data_sell2 = Dsell[\"BASK_SPEND\"].sum()\n",
    "data_sell2"
   ]
  },
  {
   "cell_type": "code",
   "execution_count": 40,
   "metadata": {},
   "outputs": [
    {
     "data": {
      "text/plain": [
       "STORE_CODE\n",
       "A001               [3, 9, 6, 2, 10, 1, 5, 4]\n",
       "A004                               [2, 4, 1]\n",
       "A006                               [2, 4, 1]\n",
       "A007                               [1, 2, 8]\n",
       "A008                      [1, 3, 8, 2, 6, 4]\n",
       "A009                               [1, 2, 8]\n",
       "A010                               [2, 8, 3]\n",
       "A012                            [2, 3, 8, 1]\n",
       "A013                         [6, 2, 4, 8, 1]\n",
       "A016                               [1, 2, 3]\n",
       "A017                                  [1, 8]\n",
       "A018                               [1, 2, 4]\n",
       "A019                               [1, 2, 3]\n",
       "A021                            [2, 3, 4, 1]\n",
       "A022                                  [2, 1]\n",
       "D002    [5, 8, 4, 6, 1, 20, 13, 7, 2, 19, 9]\n",
       "D003                                  [2, 1]\n",
       "D004                               [2, 1, 4]\n",
       "D005                               [2, 3, 4]\n",
       "D006                               [2, 3, 1]\n",
       "D007                            [3, 1, 8, 4]\n",
       "D008                               [4, 1, 2]\n",
       "D009                               [3, 2, 1]\n",
       "D010                                  [3, 1]\n",
       "Name: POS_NO, dtype: object"
      ]
     },
     "execution_count": 40,
     "metadata": {},
     "output_type": "execute_result"
    }
   ],
   "source": [
    "# 统计每个商店的pos机\n",
    "S_pos =Basketdata.groupby(by=\"STORE_CODE\")\n",
    "Shop_pos = S_pos[\"POS_NO\"]\n",
    "Shop_pos.unique()"
   ]
  },
  {
   "cell_type": "code",
   "execution_count": 34,
   "metadata": {},
   "outputs": [
    {
     "data": {
      "text/plain": [
       "STORE_CODE\n",
       "A001    [25440, 25474, 25121, 25176, 266577, 229111, 2...\n",
       "A004    [108542, 108376, 3043, 108240, 3045, 108290, 1...\n",
       "A006    [290886, 143370, 143369, 290882, 291181, 29117...\n",
       "A007    [116215, 115995, 116088, 116230, 116001, 11600...\n",
       "A008    [271004, 163781, 163670, 163615, 163407, 27085...\n",
       "A009    [244862, 244868, 50740, 244675, 244699, 244530...\n",
       "A010    [259404, 259265, 258937, 259390, 259375, 25931...\n",
       "A012    [282809, 282667, 112895, 282096, 282165, 11271...\n",
       "A013    [150359, 150283, 150101, 194937, 150033, 15015...\n",
       "A016    [78658, 78574, 78561, 78383, 78381, 78235, 787...\n",
       "A017    [177521, 177505, 177504, 177490, 177390, 17738...\n",
       "A018    [199163, 198913, 199055, 199064, 198886, 19890...\n",
       "A019    [192017, 192069, 192072, 191687, 192019, 19176...\n",
       "A021    [97476, 73060, 97463, 46475, 72992, 73070, 731...\n",
       "A022    [56341, 10386, 56344, 56343, 56342, 56318, 560...\n",
       "D002    [207961, 82213, 143621, 204453, 49301, 204410,...\n",
       "D003    [52997, 53044, 53089, 53088, 53062, 53061, 532...\n",
       "D004    [15923, 173844, 15789, 15755, 15711, 173481, 1...\n",
       "D005    [205066, 204811, 204766, 204765, 204922, 20497...\n",
       "D006    [35068, 34947, 35022, 148558, 34952, 148745, 1...\n",
       "D007    [250458, 161017, 161158, 250476, 5399, 5398, 1...\n",
       "D008    [18250, 18258, 197711, 197555, 197547, 197330,...\n",
       "D009    [144114, 144179, 144175, 15853, 15851, 15844, ...\n",
       "D010    [181428, 181567, 181126, 181156, 181154, 18116...\n",
       "Name: BASK_CODE, dtype: object"
      ]
     },
     "execution_count": 34,
     "metadata": {},
     "output_type": "execute_result"
    }
   ],
   "source": [
    "#统计每个商店的购物篮个数\n",
    "S_basket =Basketdata.groupby(by=\"STORE_CODE\")\n",
    "Shop_basket = S_basket[\"BASK_CODE\"]\n",
    "Shop_basket.unique()"
   ]
  },
  {
   "cell_type": "code",
   "execution_count": 26,
   "metadata": {},
   "outputs": [
    {
     "data": {
      "text/plain": [
       "571552"
      ]
     },
     "execution_count": 26,
     "metadata": {},
     "output_type": "execute_result"
    }
   ],
   "source": [
    "#统计商品的种类\n",
    "Shop_code = Basketdata[\"BASK_CODE\"]\n",
    "Shop_code.count()"
   ]
  },
  {
   "cell_type": "code",
   "execution_count": 19,
   "metadata": {},
   "outputs": [
    {
     "data": {
      "text/plain": [
       "<function matplotlib.pyplot.show(*args, **kw)>"
      ]
     },
     "execution_count": 19,
     "metadata": {},
     "output_type": "execute_result"
    },
    {
     "data": {
      "image/png": "[encoded data removed]",
      "text/plain": [
       "<Figure size 432x288 with 1 Axes>"
      ]
     },
     "metadata": {
      "needs_background": "light"
     },
     "output_type": "display_data"
    }
   ],
   "source": [
    "#绘制以日期为自变量，销售金额为因变量的函数图像\n",
    "import matplotlib.pyplot as plt\n",
    "x = Basketdata.groupby(by=\"SHOP_DATETIME\")\n",
    "y = data_sell2.values\n",
    "plt.plot(y)\n",
    "plt.xlabel(\"Date\")\n",
    "plt.ylabel(\"Sale\")\n",
    "plt.rcParams['font.sans-serif']=['SimHei']\n",
    "plt.rcParams['axes.unicode_minus']=False\n",
    "plt.title(\"日销售报表\")\n",
    "plt.show"
   ]
  },
  {
   "cell_type": "code",
   "execution_count": 12,
   "metadata": {},
   "outputs": [
    {
     "data": {
      "text/plain": [
       "[<matplotlib.lines.Line2D at 0x18e033eda08>]"
      ]
     },
     "execution_count": 12,
     "metadata": {},
     "output_type": "execute_result"
    },
    {
     "data": {
      "image/png": "[encoded data removed]",
      "text/plain": [
       "<Figure size 432x288 with 1 Axes>"
      ]
     },
     "metadata": {
      "needs_background": "light"
     },
     "output_type": "display_data"
    }
   ],
   "source": [
    "#绘制以商店编号为自变量，销售金额为因变量的函数图像\n",
    "x1 = Basketdata.groupby(by=\"STORE_CODE\")\n",
    "y1 = data_sell2.values\n",
    "plt.plot(y)"
   ]
  }
 ],
 "metadata": {
  "kernelspec": {
   "display_name": "Python 3",
   "language": "python",
   "name": "python3"
  },
  "language_info": {
   "codemirror_mode": {
    "name": "ipython",
    "version": 3
   },
   "file_extension": ".py",
   "mimetype": "text/x-python",
   "name": "python",
   "nbconvert_exporter": "python",
   "pygments_lexer": "ipython3",
   "version": "3.7.4"
  }
 },
 "nbformat": 4,
 "nbformat_minor": 4
}
