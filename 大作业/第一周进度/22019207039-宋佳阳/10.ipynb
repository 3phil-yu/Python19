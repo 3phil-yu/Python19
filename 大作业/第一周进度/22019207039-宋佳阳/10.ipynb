{
 "cells": [
  {
   "cell_type": "markdown",
   "metadata": {},
   "source": [
    "# Chapter 10: Sparse matrices and graphs"
   ]
  },
  {
   "cell_type": "code",
   "execution_count": 1,
   "metadata": {
    "collapsed": false,
    "jupyter": {
     "outputs_hidden": false
    }
   },
   "outputs": [],
   "source": [
    "%matplotlib inline\n",
    "%config InlineBackend.figure_format='retina'"
   ]
  },
  {
   "cell_type": "code",
   "execution_count": 2,
   "metadata": {
    "collapsed": false,
    "jupyter": {
     "outputs_hidden": false
    }
   },
   "outputs": [],
   "source": [
    "import matplotlib.pyplot as plt\n",
    "import matplotlib as mpl\n",
    "mpl.rcParams['text.usetex'] = True"
   ]
  },
  {
   "cell_type": "code",
   "execution_count": 3,
   "metadata": {
    "collapsed": false,
    "jupyter": {
     "outputs_hidden": false
    }
   },
   "outputs": [],
   "source": [
    "import scipy.sparse as sp"
   ]
  },
  {
   "cell_type": "code",
   "execution_count": 4,
   "metadata": {
    "collapsed": false,
    "jupyter": {
     "outputs_hidden": false
    }
   },
   "outputs": [],
   "source": [
    "import scipy.sparse.linalg"
   ]
  },
  {
   "cell_type": "code",
   "execution_count": 5,
   "metadata": {
    "collapsed": false,
    "jupyter": {
     "outputs_hidden": false
    }
   },
   "outputs": [],
   "source": [
    "import numpy as np"
   ]
  },
  {
   "cell_type": "code",
   "execution_count": 6,
   "metadata": {
    "collapsed": false,
    "jupyter": {
     "outputs_hidden": false
    }
   },
   "outputs": [],
   "source": [
    "import scipy.linalg as la"
   ]
  },
  {
   "cell_type": "code",
   "execution_count": 7,
   "metadata": {
    "collapsed": false,
    "jupyter": {
     "outputs_hidden": false
    }
   },
   "outputs": [],
   "source": [
    "import networkx as nx"
   ]
  },
  {
   "cell_type": "markdown",
   "metadata": {},
   "source": [
    "## Coordinate list format"
   ]
  },
  {
   "cell_type": "code",
   "execution_count": 8,
   "metadata": {
    "collapsed": false,
    "jupyter": {
     "outputs_hidden": false
    }
   },
   "outputs": [],
   "source": [
    "values = [1, 2, 3, 4]"
   ]
  },
  {
   "cell_type": "code",
   "execution_count": 9,
   "metadata": {
    "collapsed": false,
    "jupyter": {
     "outputs_hidden": false
    }
   },
   "outputs": [],
   "source": [
    "rows = [0, 1, 2, 3]"
   ]
  },
  {
   "cell_type": "code",
   "execution_count": 10,
   "metadata": {
    "collapsed": false,
    "jupyter": {
     "outputs_hidden": false
    }
   },
   "outputs": [],
   "source": [
    "cols = [1, 3, 2, 0]"
   ]
  },
  {
   "cell_type": "code",
   "execution_count": 11,
   "metadata": {
    "collapsed": false,
    "jupyter": {
     "outputs_hidden": false
    }
   },
   "outputs": [],
   "source": [
    "A = sp.coo_matrix((values, (rows, cols)), shape=[4, 4])"
   ]
  },
  {
   "cell_type": "code",
   "execution_count": 12,
   "metadata": {
    "collapsed": false,
    "jupyter": {
     "outputs_hidden": false
    }
   },
   "outputs": [
    {
     "data": {
      "text/plain": [
       "matrix([[0, 1, 0, 0],\n",
       "        [0, 0, 0, 2],\n",
       "        [0, 0, 3, 0],\n",
       "        [4, 0, 0, 0]])"
      ]
     },
     "execution_count": 12,
     "metadata": {},
     "output_type": "execute_result"
    }
   ],
   "source": [
    "A.todense()"
   ]
  },
  {
   "cell_type": "code",
   "execution_count": 13,
   "metadata": {
    "collapsed": false,
    "jupyter": {
     "outputs_hidden": false
    }
   },
   "outputs": [
    {
     "data": {
      "text/plain": [
       "<4x4 sparse matrix of type '<type 'numpy.int64'>'\n",
       "\twith 4 stored elements in COOrdinate format>"
      ]
     },
     "execution_count": 13,
     "metadata": {},
     "output_type": "execute_result"
    }
   ],
   "source": [
    "A"
   ]
  },
  {
   "cell_type": "code",
   "execution_count": 14,
   "metadata": {
    "collapsed": false,
    "jupyter": {
     "outputs_hidden": false
    }
   },
   "outputs": [
    {
     "data": {
      "text/plain": [
       "((4, 4), 4, dtype('int64'), 2)"
      ]
     },
     "execution_count": 14,
     "metadata": {},
     "output_type": "execute_result"
    }
   ],
   "source": [
    "A.shape, A.size, A.dtype, A.ndim"
   ]
  },
  {
   "cell_type": "code",
   "execution_count": 15,
   "metadata": {
    "collapsed": false,
    "jupyter": {
     "outputs_hidden": false
    }
   },
   "outputs": [
    {
     "data": {
      "text/plain": [
       "(4, array([1, 2, 3, 4]))"
      ]
     },
     "execution_count": 15,
     "metadata": {},
     "output_type": "execute_result"
    }
   ],
   "source": [
    "A.nnz, A.data"
   ]
  },
  {
   "cell_type": "code",
   "execution_count": 16,
   "metadata": {
    "collapsed": false,
    "jupyter": {
     "outputs_hidden": false
    }
   },
   "outputs": [
    {
     "data": {
      "text/plain": [
       "array([0, 1, 2, 3], dtype=int32)"
      ]
     },
     "execution_count": 16,
     "metadata": {},
     "output_type": "execute_result"
    }
   ],
   "source": [
    "A.row"
   ]
  },
  {
   "cell_type": "code",
   "execution_count": 17,
   "metadata": {
    "collapsed": false,
    "jupyter": {
     "outputs_hidden": false
    }
   },
   "outputs": [
    {
     "data": {
      "text/plain": [
       "array([1, 3, 2, 0], dtype=int32)"
      ]
     },
     "execution_count": 17,
     "metadata": {},
     "output_type": "execute_result"
    }
   ],
   "source": [
    "A.col"
   ]
  },
  {
   "cell_type": "code",
   "execution_count": 18,
   "metadata": {
    "collapsed": false,
    "jupyter": {
     "outputs_hidden": false
    }
   },
   "outputs": [
    {
     "data": {
      "text/plain": [
       "<4x4 sparse matrix of type '<type 'numpy.int64'>'\n",
       "\twith 4 stored elements in Compressed Sparse Row format>"
      ]
     },
     "execution_count": 18,
     "metadata": {},
     "output_type": "execute_result"
    }
   ],
   "source": [
    "A.tocsr()"
   ]
  },
  {
   "cell_type": "code",
   "execution_count": 19,
   "metadata": {
    "collapsed": false,
    "jupyter": {
     "outputs_hidden": false
    }
   },
   "outputs": [
    {
     "data": {
      "text/plain": [
       "array([[0, 1, 0, 0],\n",
       "       [0, 0, 0, 2],\n",
       "       [0, 0, 3, 0],\n",
       "       [4, 0, 0, 0]])"
      ]
     },
     "execution_count": 19,
     "metadata": {},
     "output_type": "execute_result"
    }
   ],
   "source": [
    "A.toarray()"
   ]
  },
  {
   "cell_type": "code",
   "execution_count": 20,
   "metadata": {
    "collapsed": false,
    "jupyter": {
     "outputs_hidden": false
    }
   },
   "outputs": [
    {
     "data": {
      "text/plain": [
       "matrix([[0, 1, 0, 0],\n",
       "        [0, 0, 0, 2],\n",
       "        [0, 0, 3, 0],\n",
       "        [4, 0, 0, 0]])"
      ]
     },
     "execution_count": 20,
     "metadata": {},
     "output_type": "execute_result"
    }
   ],
   "source": [
    "A.todense()"
   ]
  },
  {
   "cell_type": "markdown",
   "metadata": {},
   "source": [
    "Not all sparse matrix formats supports indexing:"
   ]
  },
  {
   "cell_type": "code",
   "execution_count": 21,
   "metadata": {
    "collapsed": false,
    "jupyter": {
     "outputs_hidden": false
    }
   },
   "outputs": [
    {
     "ename": "TypeError",
     "evalue": "'coo_matrix' object has no attribute '__getitem__'",
     "output_type": "error",
     "traceback": [
      "\u001b[0;31m---------------------------------------------------------------------------\u001b[0m",
      "\u001b[0;31mTypeError\u001b[0m                                 Traceback (most recent call last)",
      "\u001b[0;32m<ipython-input-21-13df355f18af>\u001b[0m in \u001b[0;36m<module>\u001b[0;34m()\u001b[0m\n\u001b[0;32m----> 1\u001b[0;31m \u001b[0mA\u001b[0m\u001b[0;34m[\u001b[0m\u001b[0;36m1\u001b[0m\u001b[0;34m,\u001b[0m\u001b[0;36m2\u001b[0m\u001b[0;34m]\u001b[0m\u001b[0;34m\u001b[0m\u001b[0m\n\u001b[0m",
      "\u001b[0;31mTypeError\u001b[0m: 'coo_matrix' object has no attribute '__getitem__'"
     ]
    }
   ],
   "source": [
    "A[1,2]"
   ]
  },
  {
   "cell_type": "code",
   "execution_count": 22,
   "metadata": {
    "collapsed": false,
    "jupyter": {
     "outputs_hidden": false
    }
   },
   "outputs": [
    {
     "ename": "NotImplementedError",
     "evalue": "",
     "output_type": "error",
     "traceback": [
      "\u001b[0;31m---------------------------------------------------------------------------\u001b[0m",
      "\u001b[0;31mNotImplementedError\u001b[0m                       Traceback (most recent call last)",
      "\u001b[0;32m<ipython-input-22-7f4c44f6556f>\u001b[0m in \u001b[0;36m<module>\u001b[0;34m()\u001b[0m\n\u001b[0;32m----> 1\u001b[0;31m \u001b[0mA\u001b[0m\u001b[0;34m.\u001b[0m\u001b[0mtobsr\u001b[0m\u001b[0;34m(\u001b[0m\u001b[0;34m)\u001b[0m\u001b[0;34m[\u001b[0m\u001b[0;36m1\u001b[0m\u001b[0;34m,\u001b[0m\u001b[0;36m2\u001b[0m\u001b[0;34m]\u001b[0m\u001b[0;34m\u001b[0m\u001b[0m\n\u001b[0m",
      "\u001b[0;32m/Users/rob/miniconda/envs/py27-npm/lib/python2.7/site-packages/scipy/sparse/bsr.pyc\u001b[0m in \u001b[0;36m__getitem__\u001b[0;34m(self, key)\u001b[0m\n\u001b[1;32m    297\u001b[0m \u001b[0;34m\u001b[0m\u001b[0m\n\u001b[1;32m    298\u001b[0m     \u001b[0;32mdef\u001b[0m \u001b[0m__getitem__\u001b[0m\u001b[0;34m(\u001b[0m\u001b[0mself\u001b[0m\u001b[0;34m,\u001b[0m\u001b[0mkey\u001b[0m\u001b[0;34m)\u001b[0m\u001b[0;34m:\u001b[0m\u001b[0;34m\u001b[0m\u001b[0m\n\u001b[0;32m--> 299\u001b[0;31m         \u001b[0;32mraise\u001b[0m \u001b[0mNotImplementedError\u001b[0m\u001b[0;34m\u001b[0m\u001b[0m\n\u001b[0m\u001b[1;32m    300\u001b[0m \u001b[0;34m\u001b[0m\u001b[0m\n\u001b[1;32m    301\u001b[0m     \u001b[0;32mdef\u001b[0m \u001b[0m__setitem__\u001b[0m\u001b[0;34m(\u001b[0m\u001b[0mself\u001b[0m\u001b[0;34m,\u001b[0m\u001b[0mkey\u001b[0m\u001b[0;34m,\u001b[0m\u001b[0mval\u001b[0m\u001b[0;34m)\u001b[0m\u001b[0;34m:\u001b[0m\u001b[0;34m\u001b[0m\u001b[0m\n",
      "\u001b[0;31mNotImplementedError\u001b[0m: "
     ]
    }
   ],
   "source": [
    "A.tobsr()[1,2]"
   ]
  },
  {
   "cell_type": "markdown",
   "metadata": {},
   "source": [
    "But some do:"
   ]
  },
  {
   "cell_type": "code",
   "execution_count": 23,
   "metadata": {
    "collapsed": false,
    "jupyter": {
     "outputs_hidden": false
    }
   },
   "outputs": [
    {
     "data": {
      "text/plain": [
       "0"
      ]
     },
     "execution_count": 23,
     "metadata": {},
     "output_type": "execute_result"
    }
   ],
   "source": [
    "A.tocsr()[1,2]"
   ]
  },
  {
   "cell_type": "code",
   "execution_count": 24,
   "metadata": {
    "collapsed": false,
    "jupyter": {
     "outputs_hidden": false
    }
   },
   "outputs": [
    {
     "data": {
      "text/plain": [
       "<2x1 sparse matrix of type '<type 'numpy.int64'>'\n",
       "\twith 1 stored elements in LInked List format>"
      ]
     },
     "execution_count": 24,
     "metadata": {},
     "output_type": "execute_result"
    }
   ],
   "source": [
    "A.tolil()[1:3,3]"
   ]
  },
  {
   "cell_type": "markdown",
   "metadata": {},
   "source": [
    "## CSR"
   ]
  },
  {
   "cell_type": "code",
   "execution_count": 25,
   "metadata": {
    "collapsed": false,
    "jupyter": {
     "outputs_hidden": false
    }
   },
   "outputs": [
    {
     "data": {
      "text/plain": [
       "array([[1, 2, 0, 0],\n",
       "       [0, 3, 4, 0],\n",
       "       [0, 0, 5, 6],\n",
       "       [7, 0, 8, 9]])"
      ]
     },
     "execution_count": 25,
     "metadata": {},
     "output_type": "execute_result"
    }
   ],
   "source": [
    "A = np.array([[1, 2, 0, 0], [0, 3, 4, 0], [0, 0, 5, 6], [7, 0, 8, 9]]); A"
   ]
  },
  {
   "cell_type": "code",
   "execution_count": 26,
   "metadata": {
    "collapsed": false,
    "jupyter": {
     "outputs_hidden": false
    }
   },
   "outputs": [],
   "source": [
    "A = sp.csr_matrix(A)"
   ]
  },
  {
   "cell_type": "code",
   "execution_count": 27,
   "metadata": {
    "collapsed": false,
    "jupyter": {
     "outputs_hidden": false
    }
   },
   "outputs": [
    {
     "data": {
      "text/plain": [
       "array([1, 2, 3, 4, 5, 6, 7, 8, 9])"
      ]
     },
     "execution_count": 27,
     "metadata": {},
     "output_type": "execute_result"
    }
   ],
   "source": [
    "A.data"
   ]
  },
  {
   "cell_type": "code",
   "execution_count": 28,
   "metadata": {
    "collapsed": false,
    "jupyter": {
     "outputs_hidden": false
    }
   },
   "outputs": [
    {
     "data": {
      "text/plain": [
       "array([0, 1, 1, 2, 2, 3, 0, 2, 3], dtype=int32)"
      ]
     },
     "execution_count": 28,
     "metadata": {},
     "output_type": "execute_result"
    }
   ],
   "source": [
    "A.indices"
   ]
  },
  {
   "cell_type": "code",
   "execution_count": 29,
   "metadata": {
    "collapsed": false,
    "jupyter": {
     "outputs_hidden": false
    }
   },
   "outputs": [
    {
     "data": {
      "text/plain": [
       "array([0, 2, 4, 6, 9], dtype=int32)"
      ]
     },
     "execution_count": 29,
     "metadata": {},
     "output_type": "execute_result"
    }
   ],
   "source": [
    "A.indptr"
   ]
  },
  {
   "cell_type": "code",
   "execution_count": 30,
   "metadata": {
    "collapsed": false,
    "jupyter": {
     "outputs_hidden": false
    }
   },
   "outputs": [],
   "source": [
    "i = 2"
   ]
  },
  {
   "cell_type": "code",
   "execution_count": 31,
   "metadata": {
    "collapsed": false,
    "jupyter": {
     "outputs_hidden": false
    }
   },
   "outputs": [
    {
     "data": {
      "text/plain": [
       "(4, 5)"
      ]
     },
     "execution_count": 31,
     "metadata": {},
     "output_type": "execute_result"
    }
   ],
   "source": [
    "A.indptr[i], A.indptr[i+1]-1"
   ]
  },
  {
   "cell_type": "code",
   "execution_count": 32,
   "metadata": {
    "collapsed": false,
    "jupyter": {
     "outputs_hidden": false
    }
   },
   "outputs": [
    {
     "data": {
      "text/plain": [
       "array([2, 3], dtype=int32)"
      ]
     },
     "execution_count": 32,
     "metadata": {},
     "output_type": "execute_result"
    }
   ],
   "source": [
    "A.indices[A.indptr[i]:A.indptr[i+1]]"
   ]
  },
  {
   "cell_type": "code",
   "execution_count": 33,
   "metadata": {
    "collapsed": false,
    "jupyter": {
     "outputs_hidden": false
    }
   },
   "outputs": [
    {
     "data": {
      "text/plain": [
       "array([5, 6])"
      ]
     },
     "execution_count": 33,
     "metadata": {},
     "output_type": "execute_result"
    }
   ],
   "source": [
    "A.data[A.indptr[i]:A.indptr[i+1]]"
   ]
  },
  {
   "cell_type": "markdown",
   "metadata": {},
   "source": [
    "## Functions for constructing sparse matrices"
   ]
  },
  {
   "cell_type": "code",
   "execution_count": 34,
   "metadata": {
    "collapsed": false,
    "jupyter": {
     "outputs_hidden": false
    }
   },
   "outputs": [],
   "source": [
    "N = 10"
   ]
  },
  {
   "cell_type": "code",
   "execution_count": 35,
   "metadata": {
    "collapsed": false,
    "jupyter": {
     "outputs_hidden": false
    }
   },
   "outputs": [],
   "source": [
    "A = -2 * sp.eye(N) + sp.eye(N, k=1) + sp.eye(N, k=-1)"
   ]
  },
  {
   "cell_type": "code",
   "execution_count": 36,
   "metadata": {
    "collapsed": false,
    "jupyter": {
     "outputs_hidden": false
    }
   },
   "outputs": [
    {
     "data": {
      "text/plain": [
       "<10x10 sparse matrix of type '<type 'numpy.float64'>'\n",
       "\twith 28 stored elements in Compressed Sparse Row format>"
      ]
     },
     "execution_count": 36,
     "metadata": {},
     "output_type": "execute_result"
    }
   ],
   "source": [
    "A"
   ]
  },
  {
   "cell_type": "code",
   "execution_count": 37,
   "metadata": {
    "collapsed": false,
    "jupyter": {
     "outputs_hidden": false
    }
   },
   "outputs": [
    {
     "data": {
      "text/plain": [
       "matrix([[-2.,  1.,  0.,  0.,  0.,  0.,  0.,  0.,  0.,  0.],\n",
       "        [ 1., -2.,  1.,  0.,  0.,  0.,  0.,  0.,  0.,  0.],\n",
       "        [ 0.,  1., -2.,  1.,  0.,  0.,  0.,  0.,  0.,  0.],\n",
       "        [ 0.,  0.,  1., -2.,  1.,  0.,  0.,  0.,  0.,  0.],\n",
       "        [ 0.,  0.,  0.,  1., -2.,  1.,  0.,  0.,  0.,  0.],\n",
       "        [ 0.,  0.,  0.,  0.,  1., -2.,  1.,  0.,  0.,  0.],\n",
       "        [ 0.,  0.,  0.,  0.,  0.,  1., -2.,  1.,  0.,  0.],\n",
       "        [ 0.,  0.,  0.,  0.,  0.,  0.,  1., -2.,  1.,  0.],\n",
       "        [ 0.,  0.,  0.,  0.,  0.,  0.,  0.,  1., -2.,  1.],\n",
       "        [ 0.,  0.,  0.,  0.,  0.,  0.,  0.,  0.,  1., -2.]])"
      ]
     },
     "execution_count": 37,
     "metadata": {},
     "output_type": "execute_result"
    }
   ],
   "source": [
    "A.todense()"
   ]
  },
  {
   "cell_type": "code",
   "execution_count": 38,
   "metadata": {
    "collapsed": false,
    "jupyter": {
     "outputs_hidden": false
    }
   },
   "outputs": [
    {
     "data": {
      "image/png": "[encoded data removed]",
      "text/plain": [
       "<matplotlib.figure.Figure at 0x1066c54d0>"
      ]
     },
     "metadata": {
      "image/png": {
       "height": 250,
       "width": 246
      }
     },
     "output_type": "display_data"
    }
   ],
   "source": [
    "fig, ax = plt.subplots()\n",
    "ax.spy(A)\n",
    "fig.savefig(\"ch10-sparse-matrix-1.pdf\");"
   ]
  },
  {
   "cell_type": "code",
   "execution_count": 39,
   "metadata": {
    "collapsed": false,
    "jupyter": {
     "outputs_hidden": false
    }
   },
   "outputs": [],
   "source": [
    "A = sp.diags([1,-2,1], [1,0,-1], shape=[N, N], format='csc')"
   ]
  },
  {
   "cell_type": "code",
   "execution_count": 40,
   "metadata": {
    "collapsed": false,
    "jupyter": {
     "outputs_hidden": false
    }
   },
   "outputs": [
    {
     "data": {
      "text/plain": [
       "<10x10 sparse matrix of type '<type 'numpy.float64'>'\n",
       "\twith 28 stored elements in Compressed Sparse Column format>"
      ]
     },
     "execution_count": 40,
     "metadata": {},
     "output_type": "execute_result"
    }
   ],
   "source": [
    "A"
   ]
  },
  {
   "cell_type": "code",
   "execution_count": 41,
   "metadata": {
    "collapsed": false,
    "jupyter": {
     "outputs_hidden": false
    }
   },
   "outputs": [
    {
     "data": {
      "image/png": "[encoded data removed]",
      "text/plain": [
       "<matplotlib.figure.Figure at 0x109850f50>"
      ]
     },
     "metadata": {
      "image/png": {
       "height": 250,
       "width": 246
      }
     },
     "output_type": "display_data"
    }
   ],
   "source": [
    "fig, ax = plt.subplots()\n",
    "ax.spy(A);"
   ]
  },
  {
   "cell_type": "code",
   "execution_count": 42,
   "metadata": {
    "collapsed": false,
    "jupyter": {
     "outputs_hidden": false
    }
   },
   "outputs": [],
   "source": [
    "B = sp.diags([1, 1], [-1, 1], shape=[3,3])"
   ]
  },
  {
   "cell_type": "code",
   "execution_count": 43,
   "metadata": {
    "collapsed": false,
    "jupyter": {
     "outputs_hidden": false
    }
   },
   "outputs": [
    {
     "data": {
      "text/plain": [
       "<3x3 sparse matrix of type '<type 'numpy.float64'>'\n",
       "\twith 4 stored elements (2 diagonals) in DIAgonal format>"
      ]
     },
     "execution_count": 43,
     "metadata": {},
     "output_type": "execute_result"
    }
   ],
   "source": [
    "B"
   ]
  },
  {
   "cell_type": "code",
   "execution_count": 44,
   "metadata": {
    "collapsed": false,
    "jupyter": {
     "outputs_hidden": false
    }
   },
   "outputs": [
    {
     "data": {
      "text/plain": [
       "<30x30 sparse matrix of type '<type 'numpy.float64'>'\n",
       "\twith 112 stored elements in Compressed Sparse Row format>"
      ]
     },
     "execution_count": 44,
     "metadata": {},
     "output_type": "execute_result"
    }
   ],
   "source": [
    "C = sp.kron(A, B, format='csr')\n",
    "C"
   ]
  },
  {
   "cell_type": "code",
   "execution_count": 45,
   "metadata": {
    "collapsed": false,
    "jupyter": {
     "outputs_hidden": false
    }
   },
   "outputs": [
    {
     "data": {
      "image/png": "[encoded data removed]",
      "text/plain": [
       "<matplotlib.figure.Figure at 0x109e43990>"
      ]
     },
     "metadata": {
      "image/png": {
       "height": 224,
       "width": 692
      }
     },
     "output_type": "display_data"
    }
   ],
   "source": [
    "fig, (ax_A, ax_B, ax_C) = plt.subplots(1, 3, figsize=(12, 4))\n",
    "ax_A.spy(A)\n",
    "ax_B.spy(B)\n",
    "ax_C.spy(C)\n",
    "fig.savefig(\"ch10-sparse-matrix-2.pdf\");"
   ]
  },
  {
   "cell_type": "markdown",
   "metadata": {},
   "source": [
    "## Sparse linear algebra"
   ]
  },
  {
   "cell_type": "code",
   "execution_count": 46,
   "metadata": {
    "collapsed": false,
    "jupyter": {
     "outputs_hidden": false
    }
   },
   "outputs": [],
   "source": [
    "N = 10"
   ]
  },
  {
   "cell_type": "code",
   "execution_count": 47,
   "metadata": {
    "collapsed": false,
    "jupyter": {
     "outputs_hidden": false
    }
   },
   "outputs": [],
   "source": [
    "A = sp.diags([1, -2, 1], [1, 0, -1], shape=[N, N], format='csc')"
   ]
  },
  {
   "cell_type": "code",
   "execution_count": 48,
   "metadata": {
    "collapsed": false,
    "jupyter": {
     "outputs_hidden": false
    }
   },
   "outputs": [],
   "source": [
    "b = -np.ones(N)"
   ]
  },
  {
   "cell_type": "code",
   "execution_count": 49,
   "metadata": {
    "collapsed": false,
    "jupyter": {
     "outputs_hidden": false
    }
   },
   "outputs": [],
   "source": [
    "x = sp.linalg.spsolve(A, b)"
   ]
  },
  {
   "cell_type": "code",
   "execution_count": 50,
   "metadata": {
    "collapsed": false,
    "jupyter": {
     "outputs_hidden": false
    }
   },
   "outputs": [
    {
     "data": {
      "text/plain": [
       "array([  5.,   9.,  12.,  14.,  15.,  15.,  14.,  12.,   9.,   5.])"
      ]
     },
     "execution_count": 50,
     "metadata": {},
     "output_type": "execute_result"
    }
   ],
   "source": [
    "x"
   ]
  },
  {
   "cell_type": "code",
   "execution_count": 51,
   "metadata": {
    "collapsed": false,
    "jupyter": {
     "outputs_hidden": false
    }
   },
   "outputs": [
    {
     "data": {
      "text/plain": [
       "array([  5.,   9.,  12.,  14.,  15.,  15.,  14.,  12.,   9.,   5.])"
      ]
     },
     "execution_count": 51,
     "metadata": {},
     "output_type": "execute_result"
    }
   ],
   "source": [
    "np.linalg.solve(A.todense(), b)"
   ]
  },
  {
   "cell_type": "code",
   "execution_count": 52,
   "metadata": {
    "collapsed": false,
    "jupyter": {
     "outputs_hidden": false
    }
   },
   "outputs": [],
   "source": [
    "lu = sp.linalg.splu(A)"
   ]
  },
  {
   "cell_type": "code",
   "execution_count": 53,
   "metadata": {
    "collapsed": false,
    "jupyter": {
     "outputs_hidden": false
    }
   },
   "outputs": [
    {
     "data": {
      "text/plain": [
       "<10x10 sparse matrix of type '<type 'numpy.float64'>'\n",
       "\twith 20 stored elements in Compressed Sparse Column format>"
      ]
     },
     "execution_count": 53,
     "metadata": {},
     "output_type": "execute_result"
    }
   ],
   "source": [
    "lu.L"
   ]
  },
  {
   "cell_type": "code",
   "execution_count": 54,
   "metadata": {
    "collapsed": false,
    "jupyter": {
     "outputs_hidden": false
    }
   },
   "outputs": [
    {
     "data": {
      "text/plain": [
       "array([0, 1, 2, 3, 4, 5, 6, 8, 7, 9], dtype=int32)"
      ]
     },
     "execution_count": 54,
     "metadata": {},
     "output_type": "execute_result"
    }
   ],
   "source": [
    "lu.perm_r"
   ]
  },
  {
   "cell_type": "code",
   "execution_count": 55,
   "metadata": {
    "collapsed": false,
    "jupyter": {
     "outputs_hidden": false
    }
   },
   "outputs": [
    {
     "data": {
      "text/plain": [
       "<10x10 sparse matrix of type '<type 'numpy.float64'>'\n",
       "\twith 20 stored elements in Compressed Sparse Column format>"
      ]
     },
     "execution_count": 55,
     "metadata": {},
     "output_type": "execute_result"
    }
   ],
   "source": [
    "lu.U"
   ]
  },
  {
   "cell_type": "code",
   "execution_count": 56,
   "metadata": {
    "collapsed": false,
    "jupyter": {
     "outputs_hidden": false
    }
   },
   "outputs": [
    {
     "data": {
      "text/plain": [
       "array([0, 1, 2, 3, 4, 5, 6, 8, 7, 9], dtype=int32)"
      ]
     },
     "execution_count": 56,
     "metadata": {},
     "output_type": "execute_result"
    }
   ],
   "source": [
    "lu.perm_c"
   ]
  },
  {
   "cell_type": "code",
   "execution_count": 57,
   "metadata": {
    "collapsed": false,
    "jupyter": {
     "outputs_hidden": false
    }
   },
   "outputs": [],
   "source": [
    "def sp_permute(A, perm_r, perm_c):\n",
    "    \"\"\" permute rows and columns of A \"\"\"\n",
    "    M, N = A.shape\n",
    "    # row permumation matrix\n",
    "    Pr = sp.coo_matrix((np.ones(M), (perm_r, np.arange(N)))).tocsr()\n",
    "    # column permutation matrix\n",
    "    Pc = sp.coo_matrix((np.ones(M), (np.arange(M), perm_c))).tocsr()\n",
    "    return Pr.T * A * Pc.T"
   ]
  },
  {
   "cell_type": "code",
   "execution_count": 58,
   "metadata": {
    "collapsed": false,
    "jupyter": {
     "outputs_hidden": false
    }
   },
   "outputs": [
    {
     "data": {
      "text/plain": [
       "<10x10 sparse matrix of type '<type 'numpy.float64'>'\n",
       "\twith 8 stored elements in Compressed Sparse Column format>"
      ]
     },
     "execution_count": 58,
     "metadata": {},
     "output_type": "execute_result"
    }
   ],
   "source": [
    "lu.L * lu.U - A"
   ]
  },
  {
   "cell_type": "code",
   "execution_count": 59,
   "metadata": {
    "collapsed": false,
    "jupyter": {
     "outputs_hidden": false
    }
   },
   "outputs": [
    {
     "data": {
      "text/plain": [
       "<10x10 sparse matrix of type '<type 'numpy.float64'>'\n",
       "\twith 0 stored elements in Compressed Sparse Column format>"
      ]
     },
     "execution_count": 59,
     "metadata": {},
     "output_type": "execute_result"
    }
   ],
   "source": [
    "sp_permute(lu.L * lu.U, lu.perm_r, lu.perm_c) - A"
   ]
  },
  {
   "cell_type": "code",
   "execution_count": 60,
   "metadata": {
    "collapsed": false,
    "jupyter": {
     "outputs_hidden": false
    }
   },
   "outputs": [
    {
     "data": {
      "text/plain": [
       "<matplotlib.lines.Line2D at 0x10985a810>"
      ]
     },
     "execution_count": 60,
     "metadata": {},
     "output_type": "execute_result"
    },
    {
     "data": {
      "image/png": "[encoded data removed]",
      "text/plain": [
       "<matplotlib.figure.Figure at 0x109b59890>"
      ]
     },
     "metadata": {
      "image/png": {
       "height": 224,
       "width": 692
      }
     },
     "output_type": "display_data"
    }
   ],
   "source": [
    "fig, (ax1, ax2, ax3) = plt.subplots(1, 3, figsize=(12, 4))\n",
    "ax1.spy(lu.L)\n",
    "ax2.spy(lu.U)\n",
    "ax3.spy(A)"
   ]
  },
  {
   "cell_type": "code",
   "execution_count": 61,
   "metadata": {
    "collapsed": false,
    "jupyter": {
     "outputs_hidden": false
    }
   },
   "outputs": [],
   "source": [
    "x = lu.solve(b)"
   ]
  },
  {
   "cell_type": "code",
   "execution_count": 62,
   "metadata": {
    "collapsed": false,
    "jupyter": {
     "outputs_hidden": false
    }
   },
   "outputs": [
    {
     "data": {
      "text/plain": [
       "array([  5.,   9.,  12.,  14.,  15.,  15.,  14.,  12.,   9.,   5.])"
      ]
     },
     "execution_count": 62,
     "metadata": {},
     "output_type": "execute_result"
    }
   ],
   "source": [
    "x"
   ]
  },
  {
   "cell_type": "code",
   "execution_count": 63,
   "metadata": {
    "collapsed": false,
    "jupyter": {
     "outputs_hidden": false
    }
   },
   "outputs": [],
   "source": [
    "# use_umfpack=True is only effective if scikit-umfpack is installed\n",
    "# (in which case UMFPACK is the default solver)\n",
    "x = sp.linalg.spsolve(A, b, use_umfpack=True)"
   ]
  },
  {
   "cell_type": "code",
   "execution_count": 64,
   "metadata": {
    "collapsed": false,
    "jupyter": {
     "outputs_hidden": false
    }
   },
   "outputs": [
    {
     "data": {
      "text/plain": [
       "array([  5.,   9.,  12.,  14.,  15.,  15.,  14.,  12.,   9.,   5.])"
      ]
     },
     "execution_count": 64,
     "metadata": {},
     "output_type": "execute_result"
    }
   ],
   "source": [
    "x"
   ]
  },
  {
   "cell_type": "code",
   "execution_count": 65,
   "metadata": {
    "collapsed": false,
    "jupyter": {
     "outputs_hidden": false
    }
   },
   "outputs": [],
   "source": [
    "x, info = sp.linalg.cg(A, b)"
   ]
  },
  {
   "cell_type": "code",
   "execution_count": 66,
   "metadata": {
    "collapsed": false,
    "jupyter": {
     "outputs_hidden": false
    }
   },
   "outputs": [
    {
     "data": {
      "text/plain": [
       "array([  5.,   9.,  12.,  14.,  15.,  15.,  14.,  12.,   9.,   5.])"
      ]
     },
     "execution_count": 66,
     "metadata": {},
     "output_type": "execute_result"
    }
   ],
   "source": [
    "x"
   ]
  },
  {
   "cell_type": "code",
   "execution_count": 67,
   "metadata": {
    "collapsed": false,
    "jupyter": {
     "outputs_hidden": false
    }
   },
   "outputs": [],
   "source": [
    "x, info = sp.linalg.bicgstab(A, b)"
   ]
  },
  {
   "cell_type": "code",
   "execution_count": 68,
   "metadata": {
    "collapsed": false,
    "jupyter": {
     "outputs_hidden": false
    }
   },
   "outputs": [
    {
     "data": {
      "text/plain": [
       "array([  5.,   9.,  12.,  14.,  15.,  15.,  14.,  12.,   9.,   5.])"
      ]
     },
     "execution_count": 68,
     "metadata": {},
     "output_type": "execute_result"
    }
   ],
   "source": [
    "x"
   ]
  },
  {
   "cell_type": "code",
   "execution_count": 69,
   "metadata": {
    "collapsed": false,
    "jupyter": {
     "outputs_hidden": false
    }
   },
   "outputs": [],
   "source": [
    "x, info = sp.linalg.lgmres(A, b)"
   ]
  },
  {
   "cell_type": "code",
   "execution_count": 70,
   "metadata": {
    "collapsed": false,
    "jupyter": {
     "outputs_hidden": false
    }
   },
   "outputs": [
    {
     "data": {
      "text/plain": [
       "array([  5.,   9.,  12.,  14.,  15.,  15.,  14.,  12.,   9.,   5.])"
      ]
     },
     "execution_count": 70,
     "metadata": {},
     "output_type": "execute_result"
    }
   ],
   "source": [
    "x"
   ]
  },
  {
   "cell_type": "code",
   "execution_count": 71,
   "metadata": {
    "collapsed": false,
    "jupyter": {
     "outputs_hidden": false
    }
   },
   "outputs": [],
   "source": [
    "N = 25"
   ]
  },
  {
   "cell_type": "code",
   "execution_count": 72,
   "metadata": {
    "collapsed": false,
    "jupyter": {
     "outputs_hidden": false
    }
   },
   "outputs": [],
   "source": [
    "A = sp.diags([1, -2, 1], [8, 0, -8], shape=[N, N], format='csc')"
   ]
  },
  {
   "cell_type": "markdown",
   "metadata": {},
   "source": [
    "### An example of a matrix reording method: Reverse Cuthil McKee"
   ]
  },
  {
   "cell_type": "code",
   "execution_count": 73,
   "metadata": {
    "collapsed": false,
    "jupyter": {
     "outputs_hidden": false
    }
   },
   "outputs": [
    {
     "data": {
      "text/plain": [
       "array([ 7, 15, 23,  1,  9, 17,  2, 10, 18,  3, 11, 19,  4, 12, 20,  5, 13,\n",
       "       21,  6, 14, 22, 24, 16,  8,  0], dtype=int32)"
      ]
     },
     "execution_count": 73,
     "metadata": {},
     "output_type": "execute_result"
    }
   ],
   "source": [
    "perm = sp.csgraph.reverse_cuthill_mckee(A)\n",
    "perm"
   ]
  },
  {
   "cell_type": "code",
   "execution_count": 74,
   "metadata": {
    "collapsed": false,
    "jupyter": {
     "outputs_hidden": false
    }
   },
   "outputs": [
    {
     "data": {
      "text/plain": [
       "<matplotlib.lines.Line2D at 0x105c2cf10>"
      ]
     },
     "execution_count": 74,
     "metadata": {},
     "output_type": "execute_result"
    },
    {
     "data": {
      "image/png": "[encoded data removed]",
      "text/plain": [
       "<matplotlib.figure.Figure at 0x109850e10>"
      ]
     },
     "metadata": {
      "image/png": {
       "height": 230,
       "width": 474
      }
     },
     "output_type": "display_data"
    }
   ],
   "source": [
    "fig, (ax1, ax2) = plt.subplots(1, 2, figsize=(8, 4))\n",
    "ax1.spy(A)\n",
    "ax2.spy(sp_permute(A, perm, perm))"
   ]
  },
  {
   "cell_type": "markdown",
   "metadata": {},
   "source": [
    "### Performance comparison sparse/dense"
   ]
  },
  {
   "cell_type": "code",
   "execution_count": 75,
   "metadata": {
    "collapsed": false,
    "jupyter": {
     "outputs_hidden": false
    }
   },
   "outputs": [
    {
     "data": {
      "image/png": "[encoded data removed]",
      "text/plain": [
       "<matplotlib.figure.Figure at 0x10a41c850>"
      ]
     },
     "metadata": {
      "image/png": {
       "height": 280,
       "width": 568
      }
     },
     "output_type": "display_data"
    }
   ],
   "source": [
    "# compare performance of solving Ax=b vs system size N,\n",
    "# where A is the sparse matrix for the 1d poisson problem\n",
    "import time\n",
    "\n",
    "def setup(N):\n",
    "    A = sp.diags([1,-2,1], [1,0,-1], shape=[N, N], format='csr')\n",
    "    b = -np.ones(N)\n",
    "    return A, A.todense(), b\n",
    "\n",
    "reps = 10\n",
    "N_vec = np.arange(2, 300, 1)\n",
    "t_sparse = np.empty(len(N_vec))\n",
    "t_dense = np.empty(len(N_vec))\n",
    "for idx, N in enumerate(N_vec):\n",
    "    A, A_dense, b = setup(N)\n",
    "    t = time.time()\n",
    "    for r in range(reps):\n",
    "        x = np.linalg.solve(A_dense, b)\n",
    "    t_dense[idx] = (time.time() - t)/reps\n",
    "    t = time.time()\n",
    "    for r in range(reps):\n",
    "        #x = la.solve(A_dense, b)\n",
    "        x = sp.linalg.spsolve(A, b, use_umfpack=True)\n",
    "    t_sparse[idx] = (time.time() - t)/reps\n",
    "    \n",
    "fig, ax = plt.subplots(figsize=(8, 4))\n",
    "ax.plot(N_vec, t_dense * 1e3, '.-', label=\"dense\")\n",
    "ax.plot(N_vec, t_sparse * 1e3, '.-', label=\"sparse\")\n",
    "ax.set_xlabel(r\"$N$\", fontsize=16)\n",
    "ax.set_ylabel(\"elapsed time (ms)\", fontsize=16)\n",
    "ax.legend(loc=0)\n",
    "fig.tight_layout()\n",
    "fig.savefig(\"ch10-sparse-vs-dense.pdf\")"
   ]
  },
  {
   "cell_type": "markdown",
   "metadata": {},
   "source": [
    "### Eigenvalue problems"
   ]
  },
  {
   "cell_type": "code",
   "execution_count": 76,
   "metadata": {
    "collapsed": false,
    "jupyter": {
     "outputs_hidden": false
    }
   },
   "outputs": [],
   "source": [
    "N = 10"
   ]
  },
  {
   "cell_type": "code",
   "execution_count": 77,
   "metadata": {
    "collapsed": false,
    "jupyter": {
     "outputs_hidden": false
    }
   },
   "outputs": [],
   "source": [
    "A = sp.diags([1, -2, 1], [1, 0, -1], shape=[N, N], format='csc')"
   ]
  },
  {
   "cell_type": "code",
   "execution_count": 78,
   "metadata": {
    "collapsed": false,
    "jupyter": {
     "outputs_hidden": false
    }
   },
   "outputs": [],
   "source": [
    "evals, evecs = sp.linalg.eigs(A, k=4, which='LM')"
   ]
  },
  {
   "cell_type": "code",
   "execution_count": 79,
   "metadata": {
    "collapsed": false,
    "jupyter": {
     "outputs_hidden": false
    }
   },
   "outputs": [
    {
     "data": {
      "text/plain": [
       "array([-3.91898595+0.j, -3.68250707+0.j, -3.30972147+0.j, -2.83083003+0.j])"
      ]
     },
     "execution_count": 79,
     "metadata": {},
     "output_type": "execute_result"
    }
   ],
   "source": [
    "evals"
   ]
  },
  {
   "cell_type": "code",
   "execution_count": 80,
   "metadata": {
    "collapsed": false,
    "jupyter": {
     "outputs_hidden": false
    }
   },
   "outputs": [
    {
     "data": {
      "text/plain": [
       "True"
      ]
     },
     "execution_count": 80,
     "metadata": {},
     "output_type": "execute_result"
    }
   ],
   "source": [
    "np.allclose(A.dot(evecs[:,0]), evals[0] * evecs[:,0])"
   ]
  },
  {
   "cell_type": "code",
   "execution_count": 81,
   "metadata": {
    "collapsed": false,
    "jupyter": {
     "outputs_hidden": false
    }
   },
   "outputs": [],
   "source": [
    "evals, evecs = sp.linalg.eigsh(A, k=4, which='LM')"
   ]
  },
  {
   "cell_type": "code",
   "execution_count": 82,
   "metadata": {
    "collapsed": false,
    "jupyter": {
     "outputs_hidden": false
    }
   },
   "outputs": [
    {
     "data": {
      "text/plain": [
       "array([-3.91898595, -3.68250707, -3.30972147, -2.83083003])"
      ]
     },
     "execution_count": 82,
     "metadata": {},
     "output_type": "execute_result"
    }
   ],
   "source": [
    "evals"
   ]
  },
  {
   "cell_type": "code",
   "execution_count": 83,
   "metadata": {
    "collapsed": false,
    "jupyter": {
     "outputs_hidden": false
    }
   },
   "outputs": [],
   "source": [
    "evals, evecs = sp.linalg.eigs(A, k=4, which='SR')"
   ]
  },
  {
   "cell_type": "code",
   "execution_count": 84,
   "metadata": {
    "collapsed": false,
    "jupyter": {
     "outputs_hidden": false
    }
   },
   "outputs": [
    {
     "data": {
      "text/plain": [
       "array([-3.91898595+0.j, -3.68250707+0.j, -3.30972147+0.j, -2.83083003+0.j])"
      ]
     },
     "execution_count": 84,
     "metadata": {},
     "output_type": "execute_result"
    }
   ],
   "source": [
    "evals"
   ]
  },
  {
   "cell_type": "code",
   "execution_count": 85,
   "metadata": {
    "collapsed": false,
    "jupyter": {
     "outputs_hidden": false
    }
   },
   "outputs": [
    {
     "data": {
      "text/plain": [
       "array([0, 1, 2, 3])"
      ]
     },
     "execution_count": 85,
     "metadata": {},
     "output_type": "execute_result"
    }
   ],
   "source": [
    "np.real(evals).argsort()"
   ]
  },
  {
   "cell_type": "code",
   "execution_count": 86,
   "metadata": {
    "collapsed": false,
    "jupyter": {
     "outputs_hidden": false
    }
   },
   "outputs": [],
   "source": [
    "def sp_eigs_sorted(A, k=6, which='SR'):\n",
    "    \"\"\" compute and return eigenvalues sorted by real value \"\"\"\n",
    "    evals, evecs = sp.linalg.eigs(A, k=k, which=which)\n",
    "    idx = np.real(evals).argsort()\n",
    "    return evals[idx], evecs[idx]"
   ]
  },
  {
   "cell_type": "code",
   "execution_count": 87,
   "metadata": {
    "collapsed": false,
    "jupyter": {
     "outputs_hidden": false
    }
   },
   "outputs": [],
   "source": [
    "evals, evecs = sp_eigs_sorted(A, k=4, which='SM')"
   ]
  },
  {
   "cell_type": "code",
   "execution_count": 88,
   "metadata": {
    "collapsed": false,
    "jupyter": {
     "outputs_hidden": false
    }
   },
   "outputs": [
    {
     "data": {
      "text/plain": [
       "array([-1.16916997+0.j, -0.69027853+0.j, -0.31749293+0.j, -0.08101405+0.j])"
      ]
     },
     "execution_count": 88,
     "metadata": {},
     "output_type": "execute_result"
    }
   ],
   "source": [
    "evals"
   ]
  },
  {
   "cell_type": "markdown",
   "metadata": {},
   "source": [
    "#### Random matrix example"
   ]
  },
  {
   "cell_type": "code",
   "execution_count": 89,
   "metadata": {
    "collapsed": false,
    "jupyter": {
     "outputs_hidden": false
    }
   },
   "outputs": [],
   "source": [
    "N = 100"
   ]
  },
  {
   "cell_type": "code",
   "execution_count": 90,
   "metadata": {
    "collapsed": false,
    "jupyter": {
     "outputs_hidden": false
    }
   },
   "outputs": [],
   "source": [
    "x_vec = np.linspace(0, 1, 50)"
   ]
  },
  {
   "cell_type": "code",
   "execution_count": 91,
   "metadata": {
    "collapsed": false,
    "jupyter": {
     "outputs_hidden": false
    }
   },
   "outputs": [],
   "source": [
    "# seed sp.rand with random_state to obtain a reproducible result\n",
    "M1 = sp.rand(N, N, density=0.2, random_state=112312321)\n",
    "M2 = sp.rand(N, N, density=0.2, random_state=984592134)"
   ]
  },
  {
   "cell_type": "code",
   "execution_count": 92,
   "metadata": {
    "collapsed": false,
    "jupyter": {
     "outputs_hidden": false
    }
   },
   "outputs": [],
   "source": [
    "evals = np.array([sp_eigs_sorted((1-x)*M1 + x*M2, k=25)[0] for x in x_vec])"
   ]
  },
  {
   "cell_type": "code",
   "execution_count": 93,
   "metadata": {
    "collapsed": false,
    "jupyter": {
     "outputs_hidden": false
    }
   },
   "outputs": [
    {
     "data": {
      "image/png": "[encoded data removed]",
      "text/plain": [
       "<matplotlib.figure.Figure at 0x109b58d50>"
      ]
     },
     "metadata": {
      "image/png": {
       "height": 280,
       "width": 568
      }
     },
     "output_type": "display_data"
    }
   ],
   "source": [
    "fig, ax = plt.subplots(figsize=(8, 4))\n",
    "\n",
    "for idx in range(evals.shape[1]):\n",
    "    ax.plot(x_vec, np.real(evals[:,idx]), lw=0.5)\n",
    "\n",
    "ax.set_xlabel(r\"$x$\", fontsize=16)\n",
    "ax.set_ylabel(r\"eig.vals. of $(1-x)M_1+xM_2$\", fontsize=16)\n",
    "\n",
    "fig.tight_layout()\n",
    "fig.savefig(\"ch10-sparse-eigs.pdf\")"
   ]
  },
  {
   "cell_type": "markdown",
   "metadata": {},
   "source": [
    "## Graphs"
   ]
  },
  {
   "cell_type": "code",
   "execution_count": 94,
   "metadata": {
    "collapsed": false,
    "jupyter": {
     "outputs_hidden": false
    }
   },
   "outputs": [],
   "source": [
    "g = nx.MultiGraph()"
   ]
  },
  {
   "cell_type": "code",
   "execution_count": 95,
   "metadata": {
    "collapsed": false,
    "jupyter": {
     "outputs_hidden": false
    }
   },
   "outputs": [],
   "source": [
    "g.add_node(1)"
   ]
  },
  {
   "cell_type": "code",
   "execution_count": 96,
   "metadata": {
    "collapsed": false,
    "jupyter": {
     "outputs_hidden": false
    }
   },
   "outputs": [
    {
     "data": {
      "text/plain": [
       "[1]"
      ]
     },
     "execution_count": 96,
     "metadata": {},
     "output_type": "execute_result"
    }
   ],
   "source": [
    "g.nodes()"
   ]
  },
  {
   "cell_type": "code",
   "execution_count": 97,
   "metadata": {
    "collapsed": false,
    "jupyter": {
     "outputs_hidden": false
    }
   },
   "outputs": [],
   "source": [
    "g.add_nodes_from([3, 4, 5])"
   ]
  },
  {
   "cell_type": "code",
   "execution_count": 98,
   "metadata": {
    "collapsed": false,
    "jupyter": {
     "outputs_hidden": false
    }
   },
   "outputs": [
    {
     "data": {
      "text/plain": [
       "[1, 3, 4, 5]"
      ]
     },
     "execution_count": 98,
     "metadata": {},
     "output_type": "execute_result"
    }
   ],
   "source": [
    "g.nodes()"
   ]
  },
  {
   "cell_type": "code",
   "execution_count": 99,
   "metadata": {
    "collapsed": false,
    "jupyter": {
     "outputs_hidden": false
    }
   },
   "outputs": [],
   "source": [
    "g.add_edge(1, 2)"
   ]
  },
  {
   "cell_type": "code",
   "execution_count": 100,
   "metadata": {
    "collapsed": false,
    "jupyter": {
     "outputs_hidden": false
    }
   },
   "outputs": [
    {
     "data": {
      "text/plain": [
       "[(1, 2)]"
      ]
     },
     "execution_count": 100,
     "metadata": {},
     "output_type": "execute_result"
    }
   ],
   "source": [
    "g.edges()"
   ]
  },
  {
   "cell_type": "code",
   "execution_count": 101,
   "metadata": {
    "collapsed": false,
    "jupyter": {
     "outputs_hidden": false
    }
   },
   "outputs": [],
   "source": [
    "g.add_edges_from([(3, 4), (5, 6)])"
   ]
  },
  {
   "cell_type": "code",
   "execution_count": 102,
   "metadata": {
    "collapsed": false,
    "jupyter": {
     "outputs_hidden": false
    }
   },
   "outputs": [
    {
     "data": {
      "text/plain": [
       "[(1, 2), (3, 4), (5, 6)]"
      ]
     },
     "execution_count": 102,
     "metadata": {},
     "output_type": "execute_result"
    }
   ],
   "source": [
    "g.edges()"
   ]
  },
  {
   "cell_type": "code",
   "execution_count": 103,
   "metadata": {
    "collapsed": false,
    "jupyter": {
     "outputs_hidden": false
    }
   },
   "outputs": [],
   "source": [
    "g.add_weighted_edges_from([(1, 3, 1.5), (3, 5, 2.5)])"
   ]
  },
  {
   "cell_type": "code",
   "execution_count": 104,
   "metadata": {
    "collapsed": false,
    "jupyter": {
     "outputs_hidden": false
    }
   },
   "outputs": [
    {
     "data": {
      "text/plain": [
       "[(1, 2, {}),\n",
       " (1, 3, {'weight': 1.5}),\n",
       " (3, 4, {}),\n",
       " (3, 5, {'weight': 2.5}),\n",
       " (5, 6, {})]"
      ]
     },
     "execution_count": 104,
     "metadata": {},
     "output_type": "execute_result"
    }
   ],
   "source": [
    "g.edges(data=True)"
   ]
  },
  {
   "cell_type": "code",
   "execution_count": 105,
   "metadata": {
    "collapsed": false,
    "jupyter": {
     "outputs_hidden": false
    }
   },
   "outputs": [],
   "source": [
    "g.add_weighted_edges_from([(6, 7, 1.5)])"
   ]
  },
  {
   "cell_type": "code",
   "execution_count": 106,
   "metadata": {
    "collapsed": false,
    "jupyter": {
     "outputs_hidden": false
    }
   },
   "outputs": [
    {
     "data": {
      "text/plain": [
       "[1, 2, 3, 4, 5, 6, 7]"
      ]
     },
     "execution_count": 106,
     "metadata": {},
     "output_type": "execute_result"
    }
   ],
   "source": [
    "g.nodes()"
   ]
  },
  {
   "cell_type": "code",
   "execution_count": 107,
   "metadata": {
    "collapsed": false,
    "jupyter": {
     "outputs_hidden": false
    }
   },
   "outputs": [
    {
     "data": {
      "text/plain": [
       "[(1, 2), (1, 3), (3, 4), (3, 5), (5, 6), (6, 7)]"
      ]
     },
     "execution_count": 107,
     "metadata": {},
     "output_type": "execute_result"
    }
   ],
   "source": [
    "g.edges()"
   ]
  },
  {
   "cell_type": "code",
   "execution_count": 108,
   "metadata": {
    "collapsed": false,
    "jupyter": {
     "outputs_hidden": false
    }
   },
   "outputs": [],
   "source": [
    "import numpy as np"
   ]
  },
  {
   "cell_type": "code",
   "execution_count": 109,
   "metadata": {
    "collapsed": false,
    "jupyter": {
     "outputs_hidden": false
    }
   },
   "outputs": [],
   "source": [
    "import json"
   ]
  },
  {
   "cell_type": "code",
   "execution_count": 110,
   "metadata": {
    "collapsed": false,
    "jupyter": {
     "outputs_hidden": false
    }
   },
   "outputs": [],
   "source": [
    "with open(\"tokyo-metro.json\") as f:\n",
    "    data = json.load(f)"
   ]
  },
  {
   "cell_type": "code",
   "execution_count": 111,
   "metadata": {
    "collapsed": false,
    "jupyter": {
     "outputs_hidden": false
    }
   },
   "outputs": [
    {
     "data": {
      "text/plain": [
       "[u'C', u'G', u'F', u'H', u'M', u'N', u'T', u'Y', u'Z']"
      ]
     },
     "execution_count": 111,
     "metadata": {},
     "output_type": "execute_result"
    }
   ],
   "source": [
    "data.keys()"
   ]
  },
  {
   "cell_type": "code",
   "execution_count": 112,
   "metadata": {
    "collapsed": false,
    "jupyter": {
     "outputs_hidden": false
    }
   },
   "outputs": [
    {
     "data": {
      "text/plain": [
       "{u'color': u'#149848',\n",
       " u'transfers': [[u'C3', u'F15'],\n",
       "  [u'C4', u'Z2'],\n",
       "  [u'C4', u'G2'],\n",
       "  [u'C7', u'M14'],\n",
       "  [u'C7', u'N6'],\n",
       "  [u'C7', u'G6'],\n",
       "  [u'C8', u'M15'],\n",
       "  [u'C8', u'H6'],\n",
       "  [u'C9', u'H7'],\n",
       "  [u'C9', u'Y18'],\n",
       "  [u'C11', u'T9'],\n",
       "  [u'C11', u'M18'],\n",
       "  [u'C11', u'Z8'],\n",
       "  [u'C12', u'M19'],\n",
       "  [u'C18', u'H21']],\n",
       " u'travel_times': [[u'C1', u'C2', 2],\n",
       "  [u'C2', u'C3', 2],\n",
       "  [u'C3', u'C4', 1],\n",
       "  [u'C4', u'C5', 2],\n",
       "  [u'C5', u'C6', 2],\n",
       "  [u'C6', u'C7', 2],\n",
       "  [u'C7', u'C8', 1],\n",
       "  [u'C8', u'C9', 3],\n",
       "  [u'C9', u'C10', 1],\n",
       "  [u'C10', u'C11', 2],\n",
       "  [u'C11', u'C12', 2],\n",
       "  [u'C12', u'C13', 2],\n",
       "  [u'C13', u'C14', 2],\n",
       "  [u'C14', u'C15', 2],\n",
       "  [u'C15', u'C16', 2],\n",
       "  [u'C16', u'C17', 3],\n",
       "  [u'C17', u'C18', 3],\n",
       "  [u'C18', u'C19', 3]]}"
      ]
     },
     "execution_count": 112,
     "metadata": {},
     "output_type": "execute_result"
    }
   ],
   "source": [
    "data[\"C\"]"
   ]
  },
  {
   "cell_type": "code",
   "execution_count": 113,
   "metadata": {
    "collapsed": false,
    "jupyter": {
     "outputs_hidden": false
    },
    "scrolled": true
   },
   "outputs": [
    {
     "data": {
      "text/plain": [
       "{u'C': {u'color': u'#149848',\n",
       "  u'transfers': [[u'C3', u'F15'],\n",
       "   [u'C4', u'Z2'],\n",
       "   [u'C4', u'G2'],\n",
       "   [u'C7', u'M14'],\n",
       "   [u'C7', u'N6'],\n",
       "   [u'C7', u'G6'],\n",
       "   [u'C8', u'M15'],\n",
       "   [u'C8', u'H6'],\n",
       "   [u'C9', u'H7'],\n",
       "   [u'C9', u'Y18'],\n",
       "   [u'C11', u'T9'],\n",
       "   [u'C11', u'M18'],\n",
       "   [u'C11', u'Z8'],\n",
       "   [u'C12', u'M19'],\n",
       "   [u'C18', u'H21']],\n",
       "  u'travel_times': [[u'C1', u'C2', 2],\n",
       "   [u'C2', u'C3', 2],\n",
       "   [u'C3', u'C4', 1],\n",
       "   [u'C4', u'C5', 2],\n",
       "   [u'C5', u'C6', 2],\n",
       "   [u'C6', u'C7', 2],\n",
       "   [u'C7', u'C8', 1],\n",
       "   [u'C8', u'C9', 3],\n",
       "   [u'C9', u'C10', 1],\n",
       "   [u'C10', u'C11', 2],\n",
       "   [u'C11', u'C12', 2],\n",
       "   [u'C12', u'C13', 2],\n",
       "   [u'C13', u'C14', 2],\n",
       "   [u'C14', u'C15', 2],\n",
       "   [u'C15', u'C16', 2],\n",
       "   [u'C16', u'C17', 3],\n",
       "   [u'C17', u'C18', 3],\n",
       "   [u'C18', u'C19', 3]]},\n",
       " u'F': {u'color': u'#b96528',\n",
       "  u'transfers': [[u'F1', u'Y1'],\n",
       "   [u'F2', u'Y2'],\n",
       "   [u'F3', u'Y3'],\n",
       "   [u'F4', u'Y4'],\n",
       "   [u'F5', u'Y5'],\n",
       "   [u'F6', u'Y6'],\n",
       "   [u'F7', u'Y7'],\n",
       "   [u'F8', u'Y8'],\n",
       "   [u'F9', u'Y9'],\n",
       "   [u'F9', u'M25'],\n",
       "   [u'F13', u'M9'],\n",
       "   [u'F15', u'C3'],\n",
       "   [u'F16', u'Z1'],\n",
       "   [u'F16', u'G1']],\n",
       "  u'travel_times': [[u'F1', u'F2', 3],\n",
       "   [u'F2', u'F3', 2],\n",
       "   [u'F3', u'F4', 3],\n",
       "   [u'F4', u'F5', 2],\n",
       "   [u'F5', u'F6', 2],\n",
       "   [u'F6', u'F7', 2],\n",
       "   [u'F7', u'F8', 2],\n",
       "   [u'F8', u'F9', 2],\n",
       "   [u'F9', u'F10', 3],\n",
       "   [u'F10', u'F11', 2],\n",
       "   [u'F11', u'F12', 2],\n",
       "   [u'F12', u'F13', 2],\n",
       "   [u'F13', u'F14', 3],\n",
       "   [u'F14', u'F15', 2],\n",
       "   [u'F15', u'F16', 2]]},\n",
       " u'G': {u'color': u'#f59230',\n",
       "  u'transfers': [[u'G1', u'Z1'],\n",
       "   [u'G1', u'F16'],\n",
       "   [u'G2', u'Z2'],\n",
       "   [u'G2', u'C4'],\n",
       "   [u'G4', u'Z3'],\n",
       "   [u'G5', u'M13'],\n",
       "   [u'G5', u'Y16'],\n",
       "   [u'G5', u'Z4'],\n",
       "   [u'G5', u'N7'],\n",
       "   [u'G6', u'N6'],\n",
       "   [u'G6', u'M14'],\n",
       "   [u'G6', u'C7'],\n",
       "   [u'G9', u'M16'],\n",
       "   [u'G9', u'H8'],\n",
       "   [u'G11', u'T10'],\n",
       "   [u'G12', u'Z9'],\n",
       "   [u'G15', u'H16'],\n",
       "   [u'G16', u'H17']],\n",
       "  u'travel_times': [[u'G1', u'G2', 2],\n",
       "   [u'G2', u'G3', 1],\n",
       "   [u'G3', u'G4', 2],\n",
       "   [u'G4', u'G5', 2],\n",
       "   [u'G5', u'G6', 2],\n",
       "   [u'G6', u'G7', 2],\n",
       "   [u'G7', u'G8', 2],\n",
       "   [u'G8', u'G9', 2],\n",
       "   [u'G9', u'G10', 1],\n",
       "   [u'G10', u'G11', 2],\n",
       "   [u'G11', u'G12', 2],\n",
       "   [u'G12', u'G13', 1],\n",
       "   [u'G13', u'G14', 2],\n",
       "   [u'G14', u'G15', 2],\n",
       "   [u'G15', u'G16', 1],\n",
       "   [u'G16', u'G17', 2],\n",
       "   [u'G17', u'G18', 1],\n",
       "   [u'G18', u'G19', 2]]},\n",
       " u'H': {u'color': u'#9cacb5',\n",
       "  u'transfers': [[u'H6', u'M15'],\n",
       "   [u'H6', u'C8'],\n",
       "   [u'H7', u'Y18'],\n",
       "   [u'H7', u'C9'],\n",
       "   [u'H8', u'M16'],\n",
       "   [u'H8', u'G9'],\n",
       "   [u'H12', u'T11'],\n",
       "   [u'H16', u'G15'],\n",
       "   [u'H17', u'G16'],\n",
       "   [u'H21', u'C18']],\n",
       "  u'travel_times': [[u'H1', u'H2', 3],\n",
       "   [u'H2', u'H3', 3],\n",
       "   [u'H3', u'H4', 3],\n",
       "   [u'H4', u'H5', 3],\n",
       "   [u'H5', u'H6', 2],\n",
       "   [u'H6', u'H7', 3],\n",
       "   [u'H7', u'H8', 1],\n",
       "   [u'H8', u'H9', 2],\n",
       "   [u'H9', u'H10', 2],\n",
       "   [u'H10', u'H11', 2],\n",
       "   [u'H11', u'H12', 1],\n",
       "   [u'H12', u'H13', 3],\n",
       "   [u'H13', u'H14', 1],\n",
       "   [u'H14', u'H15', 2],\n",
       "   [u'H15', u'H16', 2],\n",
       "   [u'H16', u'H17', 1],\n",
       "   [u'H17', u'H18', 2],\n",
       "   [u'H18', u'H19', 2],\n",
       "   [u'H19', u'H20', 2],\n",
       "   [u'H20', u'H21', 3]]},\n",
       " u'M': {u'color': u'#ff0000',\n",
       "  u'transfers': [[u'M9', u'F13'],\n",
       "   [u'M12', u'N8'],\n",
       "   [u'M13', u'G5'],\n",
       "   [u'M13', u'Y16'],\n",
       "   [u'M13', u'Z4'],\n",
       "   [u'M13', u'N7'],\n",
       "   [u'M14', u'C7'],\n",
       "   [u'M14', u'G6'],\n",
       "   [u'M14', u'N6'],\n",
       "   [u'M15', u'H6'],\n",
       "   [u'M15', u'C8'],\n",
       "   [u'M16', u'G9'],\n",
       "   [u'M16', u'H8'],\n",
       "   [u'M18', u'T9'],\n",
       "   [u'M18', u'C11'],\n",
       "   [u'M18', u'Z8'],\n",
       "   [u'M19', u'C12'],\n",
       "   [u'M22', u'N11'],\n",
       "   [u'M25', u'Y9'],\n",
       "   [u'M25', u'F9']],\n",
       "  u'travel_times': [[u'M1', u'M2', 2],\n",
       "   [u'M2', u'M3', 2],\n",
       "   [u'M3', u'M4', 2],\n",
       "   [u'M4', u'M5', 2],\n",
       "   [u'M5', u'M6', 2],\n",
       "   [u'M6', u'M7', 2],\n",
       "   [u'M7', u'M8', 2],\n",
       "   [u'M8', u'M9', 2],\n",
       "   [u'M9', u'M10', 1],\n",
       "   [u'M10', u'M11', 2],\n",
       "   [u'M11', u'M12', 2],\n",
       "   [u'M12', u'M13', 3],\n",
       "   [u'M13', u'M14', 2],\n",
       "   [u'M14', u'M15', 1],\n",
       "   [u'M15', u'M16', 3],\n",
       "   [u'M16', u'M17', 2],\n",
       "   [u'M17', u'M18', 2],\n",
       "   [u'M18', u'M19', 2],\n",
       "   [u'M19', u'M20', 1],\n",
       "   [u'M20', u'M21', 2],\n",
       "   [u'M21', u'M22', 2],\n",
       "   [u'M22', u'M23', 3],\n",
       "   [u'M23', u'M24', 2],\n",
       "   [u'M24', u'M25', 3],\n",
       "   [u'm3', u'm4', 2],\n",
       "   [u'm4', u'm5', 2],\n",
       "   [u'm5', u'M6', 2]]},\n",
       " u'N': {u'color': u'#1aaca9',\n",
       "  u'transfers': [[u'N1', u'T1'],\n",
       "   [u'N2', u'T2'],\n",
       "   [u'N3', u'T3'],\n",
       "   [u'N6', u'G6'],\n",
       "   [u'N6', u'M14'],\n",
       "   [u'N6', u'C7'],\n",
       "   [u'N7', u'Y16'],\n",
       "   [u'N7', u'Z4'],\n",
       "   [u'N7', u'G5'],\n",
       "   [u'N7', u'M13'],\n",
       "   [u'N8', u'M12'],\n",
       "   [u'N9', u'Y14'],\n",
       "   [u'N10', u'Y13'],\n",
       "   [u'N10', u'T6'],\n",
       "   [u'N11', u'M22']],\n",
       "  u'travel_times': [[u'N1', u'N2', 2],\n",
       "   [u'N2', u'N3', 2],\n",
       "   [u'N3', u'N4', 2],\n",
       "   [u'N4', u'N5', 2],\n",
       "   [u'N5', u'N6', 2],\n",
       "   [u'N6', u'N7', 2],\n",
       "   [u'N7', u'N8', 2],\n",
       "   [u'N8', u'N9', 2],\n",
       "   [u'N9', u'N10', 2],\n",
       "   [u'N10', u'N11', 2],\n",
       "   [u'N11', u'N12', 3],\n",
       "   [u'N12', u'N13', 2],\n",
       "   [u'N13', u'N14', 2],\n",
       "   [u'N14', u'N15', 3],\n",
       "   [u'N15', u'N16', 1],\n",
       "   [u'N16', u'N17', 3],\n",
       "   [u'N17', u'N18', 2],\n",
       "   [u'N18', u'N19', 2]]},\n",
       " u'T': {u'color': u'#1aa7d8',\n",
       "  u'transfers': [[u'T6', u'N10'],\n",
       "   [u'T6', u'Y13'],\n",
       "   [u'T7', u'Z6'],\n",
       "   [u'T9', u'M18'],\n",
       "   [u'T9', u'C11'],\n",
       "   [u'T9', u'Z8'],\n",
       "   [u'T10', u'G11'],\n",
       "   [u'T11', u'H12']],\n",
       "  u'travel_times': [[u'T1', u'T2', 0],\n",
       "   [u'T2', u'T3', 3],\n",
       "   [u'T3', u'T4', 6],\n",
       "   [u'T4', u'T5', 9],\n",
       "   [u'T5', u'T6', 11],\n",
       "   [u'T6', u'T7', 13],\n",
       "   [u'T7', u'T8', 14],\n",
       "   [u'T8', u'T9', 16],\n",
       "   [u'T9', u'T10', 18],\n",
       "   [u'T10', u'T11', 20],\n",
       "   [u'T11', u'T12', 21],\n",
       "   [u'T12', u'T13', 24],\n",
       "   [u'T13', u'T14', 26],\n",
       "   [u'T14', u'T15', 27],\n",
       "   [u'T15', u'T16', 30],\n",
       "   [u'T16', u'T17', 33],\n",
       "   [u'T17', u'T18', 35],\n",
       "   [u'T18', u'T19', 37],\n",
       "   [u'T19', u'T20', 39],\n",
       "   [u'T20', u'T21', 41],\n",
       "   [u'T21', u'T22', 43],\n",
       "   [u'T22', u'T23', 46],\n",
       "   [u'T23', u'T24', 49]]},\n",
       " u'Y': {u'color': u'#ede7c3',\n",
       "  u'transfers': [[u'Y1', u'F1'],\n",
       "   [u'Y2', u'F2'],\n",
       "   [u'Y3', u'F3'],\n",
       "   [u'Y4', u'F4'],\n",
       "   [u'Y5', u'F5'],\n",
       "   [u'Y6', u'F6'],\n",
       "   [u'Y7', u'F7'],\n",
       "   [u'Y8', u'F8'],\n",
       "   [u'Y9', u'F9'],\n",
       "   [u'Y9', u'M25'],\n",
       "   [u'Y13', u'T6'],\n",
       "   [u'Y13', u'N10'],\n",
       "   [u'Y14', u'N9'],\n",
       "   [u'Y16', u'Z4'],\n",
       "   [u'Y16', u'N7'],\n",
       "   [u'Y16', u'G5'],\n",
       "   [u'Y16', u'M13'],\n",
       "   [u'Y18', u'H7'],\n",
       "   [u'Y18', u'C9']],\n",
       "  u'travel_times': [[u'Y1', u'Y2', 4],\n",
       "   [u'Y2', u'Y3', 2],\n",
       "   [u'Y3', u'Y4', 3],\n",
       "   [u'Y4', u'Y5', 2],\n",
       "   [u'Y5', u'Y6', 2],\n",
       "   [u'Y6', u'Y7', 2],\n",
       "   [u'Y7', u'Y8', 2],\n",
       "   [u'Y8', u'Y9', 3],\n",
       "   [u'Y9', u'Y10', 2],\n",
       "   [u'Y10', u'Y11', 2],\n",
       "   [u'Y11', u'Y12', 2],\n",
       "   [u'Y12', u'Y13', 3],\n",
       "   [u'Y13', u'Y14', 2],\n",
       "   [u'Y14', u'Y15', 2],\n",
       "   [u'Y15', u'Y16', 1],\n",
       "   [u'Y16', u'Y17', 2],\n",
       "   [u'Y17', u'Y18', 2],\n",
       "   [u'Y18', u'Y19', 2],\n",
       "   [u'Y19', u'Y20', 2],\n",
       "   [u'Y20', u'Y21', 2],\n",
       "   [u'Y21', u'Y22', 2],\n",
       "   [u'Y22', u'Y23', 3],\n",
       "   [u'Y23', u'Y24', 2]]},\n",
       " u'Z': {u'color': u'#a384bf',\n",
       "  u'transfers': [[u'Z1', u'F16'],\n",
       "   [u'Z1', u'G1'],\n",
       "   [u'Z2', u'C4'],\n",
       "   [u'Z2', u'G2'],\n",
       "   [u'Z3', u'G4'],\n",
       "   [u'Z4', u'Y16'],\n",
       "   [u'Z4', u'N7'],\n",
       "   [u'Z4', u'M13'],\n",
       "   [u'Z4', u'G5'],\n",
       "   [u'Z6', u'T7'],\n",
       "   [u'Z8', u'M18'],\n",
       "   [u'Z8', u'C11'],\n",
       "   [u'Z8', u'T9'],\n",
       "   [u'Z9', u'G12']],\n",
       "  u'travel_times': [[u'Z1', u'Z2', 3],\n",
       "   [u'Z2', u'Z3', 2],\n",
       "   [u'Z3', u'Z4', 2],\n",
       "   [u'Z4', u'Z5', 2],\n",
       "   [u'Z5', u'Z6', 2],\n",
       "   [u'Z6', u'Z7', 2],\n",
       "   [u'Z7', u'Z8', 2],\n",
       "   [u'Z8', u'Z9', 2],\n",
       "   [u'Z9', u'Z10', 3],\n",
       "   [u'Z10', u'Z11', 3],\n",
       "   [u'Z11', u'Z12', 3],\n",
       "   [u'Z12', u'Z13', 2],\n",
       "   [u'Z13', u'Z14', 2]]}}"
      ]
     },
     "execution_count": 113,
     "metadata": {},
     "output_type": "execute_result"
    }
   ],
   "source": [
    "data"
   ]
  },
  {
   "cell_type": "code",
   "execution_count": 114,
   "metadata": {
    "collapsed": false,
    "jupyter": {
     "outputs_hidden": false
    }
   },
   "outputs": [],
   "source": [
    "g = nx.Graph()\n",
    "\n",
    "for line in data.values():\n",
    "    g.add_weighted_edges_from(line[\"travel_times\"])\n",
    "    g.add_edges_from(line[\"transfers\"])"
   ]
  },
  {
   "cell_type": "code",
   "execution_count": 115,
   "metadata": {
    "collapsed": false,
    "jupyter": {
     "outputs_hidden": false
    }
   },
   "outputs": [],
   "source": [
    "for n1, n2 in g.edges_iter():\n",
    "    g[n1][n2][\"transfer\"] = \"weight\" not in g[n1][n2]"
   ]
  },
  {
   "cell_type": "code",
   "execution_count": 116,
   "metadata": {
    "collapsed": false,
    "jupyter": {
     "outputs_hidden": false
    }
   },
   "outputs": [
    {
     "data": {
      "text/plain": [
       "184"
      ]
     },
     "execution_count": 116,
     "metadata": {},
     "output_type": "execute_result"
    }
   ],
   "source": [
    "g.number_of_nodes()"
   ]
  },
  {
   "cell_type": "code",
   "execution_count": 117,
   "metadata": {
    "collapsed": false,
    "jupyter": {
     "outputs_hidden": false
    }
   },
   "outputs": [
    {
     "data": {
      "text/plain": [
       "[u'Z13', u'N1', u'Y20', u'Y21', u'Y22']"
      ]
     },
     "execution_count": 117,
     "metadata": {},
     "output_type": "execute_result"
    }
   ],
   "source": [
    "g.nodes()[:5]"
   ]
  },
  {
   "cell_type": "code",
   "execution_count": 118,
   "metadata": {
    "collapsed": false,
    "jupyter": {
     "outputs_hidden": false
    }
   },
   "outputs": [
    {
     "data": {
      "text/plain": [
       "243"
      ]
     },
     "execution_count": 118,
     "metadata": {},
     "output_type": "execute_result"
    }
   ],
   "source": [
    "g.number_of_edges()"
   ]
  },
  {
   "cell_type": "code",
   "execution_count": 119,
   "metadata": {
    "collapsed": false,
    "jupyter": {
     "outputs_hidden": false
    }
   },
   "outputs": [
    {
     "data": {
      "text/plain": [
       "[(u'Z13', u'Z14'),\n",
       " (u'Z13', u'Z12'),\n",
       " (u'N1', u'N2'),\n",
       " (u'N1', u'T1'),\n",
       " (u'Y20', u'Y21')]"
      ]
     },
     "execution_count": 119,
     "metadata": {},
     "output_type": "execute_result"
    }
   ],
   "source": [
    "g.edges()[:5]"
   ]
  },
  {
   "cell_type": "code",
   "execution_count": 120,
   "metadata": {
    "collapsed": false,
    "jupyter": {
     "outputs_hidden": false
    }
   },
   "outputs": [],
   "source": [
    "on_foot = [edge for edge in g.edges_iter() if g.get_edge_data(*edge)[\"transfer\"]]"
   ]
  },
  {
   "cell_type": "code",
   "execution_count": 121,
   "metadata": {
    "collapsed": false,
    "jupyter": {
     "outputs_hidden": false
    }
   },
   "outputs": [],
   "source": [
    "on_train = [edge for edge in g.edges_iter() if not g.get_edge_data(*edge)[\"transfer\"]]"
   ]
  },
  {
   "cell_type": "code",
   "execution_count": 122,
   "metadata": {
    "collapsed": false,
    "jupyter": {
     "outputs_hidden": false
    }
   },
   "outputs": [],
   "source": [
    "colors = [data[n[0].upper()][\"color\"] for n in g.nodes()]"
   ]
  },
  {
   "cell_type": "code",
   "execution_count": 1,
   "metadata": {
    "collapsed": false,
    "jupyter": {
     "outputs_hidden": false
    }
   },
   "outputs": [
    {
     "ename": "NameError",
     "evalue": "name 'plt' is not defined",
     "output_type": "error",
     "traceback": [
      "\u001b[1;31m---------------------------------------------------------------------------\u001b[0m",
      "\u001b[1;31mNameError\u001b[0m                                 Traceback (most recent call last)",
      "\u001b[1;32m<ipython-input-1-f34b0afcdb02>\u001b[0m in \u001b[0;36m<module>\u001b[1;34m\u001b[0m\n\u001b[1;32m----> 1\u001b[1;33m \u001b[0mfig\u001b[0m\u001b[1;33m,\u001b[0m \u001b[0max\u001b[0m \u001b[1;33m=\u001b[0m \u001b[0mplt\u001b[0m\u001b[1;33m.\u001b[0m\u001b[0msubplots\u001b[0m\u001b[1;33m(\u001b[0m\u001b[1;36m1\u001b[0m\u001b[1;33m,\u001b[0m \u001b[1;36m1\u001b[0m\u001b[1;33m,\u001b[0m \u001b[0mfigsize\u001b[0m\u001b[1;33m=\u001b[0m\u001b[1;33m(\u001b[0m\u001b[1;36m14\u001b[0m\u001b[1;33m,\u001b[0m \u001b[1;36m10\u001b[0m\u001b[1;33m)\u001b[0m\u001b[1;33m)\u001b[0m\u001b[1;33m\u001b[0m\u001b[1;33m\u001b[0m\u001b[0m\n\u001b[0m\u001b[0;32m      2\u001b[0m \u001b[1;33m\u001b[0m\u001b[0m\n\u001b[0;32m      3\u001b[0m \u001b[0mpos\u001b[0m \u001b[1;33m=\u001b[0m \u001b[0mnx\u001b[0m\u001b[1;33m.\u001b[0m\u001b[0mgraphviz_layout\u001b[0m\u001b[1;33m(\u001b[0m\u001b[0mg\u001b[0m\u001b[1;33m,\u001b[0m \u001b[0mprog\u001b[0m\u001b[1;33m=\u001b[0m\u001b[1;34m\"neato\"\u001b[0m\u001b[1;33m)\u001b[0m\u001b[1;33m\u001b[0m\u001b[1;33m\u001b[0m\u001b[0m\n\u001b[0;32m      4\u001b[0m \u001b[0mnx\u001b[0m\u001b[1;33m.\u001b[0m\u001b[0mdraw\u001b[0m\u001b[1;33m(\u001b[0m\u001b[0mg\u001b[0m\u001b[1;33m,\u001b[0m \u001b[0mpos\u001b[0m\u001b[1;33m,\u001b[0m \u001b[0max\u001b[0m\u001b[1;33m=\u001b[0m\u001b[0max\u001b[0m\u001b[1;33m,\u001b[0m \u001b[0mnode_size\u001b[0m\u001b[1;33m=\u001b[0m\u001b[1;36m200\u001b[0m\u001b[1;33m,\u001b[0m \u001b[0mnode_color\u001b[0m\u001b[1;33m=\u001b[0m\u001b[0mcolors\u001b[0m\u001b[1;33m)\u001b[0m\u001b[1;33m\u001b[0m\u001b[1;33m\u001b[0m\u001b[0m\n\u001b[0;32m      5\u001b[0m \u001b[0mnx\u001b[0m\u001b[1;33m.\u001b[0m\u001b[0mdraw_networkx_labels\u001b[0m\u001b[1;33m(\u001b[0m\u001b[0mg\u001b[0m\u001b[1;33m,\u001b[0m \u001b[0mpos\u001b[0m\u001b[1;33m=\u001b[0m\u001b[0mpos\u001b[0m\u001b[1;33m,\u001b[0m \u001b[0max\u001b[0m\u001b[1;33m=\u001b[0m\u001b[0max\u001b[0m\u001b[1;33m,\u001b[0m \u001b[0mfont_size\u001b[0m\u001b[1;33m=\u001b[0m\u001b[1;36m6\u001b[0m\u001b[1;33m)\u001b[0m\u001b[1;33m\u001b[0m\u001b[1;33m\u001b[0m\u001b[0m\n",
      "\u001b[1;31mNameError\u001b[0m: name 'plt' is not defined"
     ]
    }
   ],
   "source": [
    "fig, ax = plt.subplots(1, 1, figsize=(14, 10))\n",
    "\n",
    "pos = nx.graphviz_layout(g, prog=\"neato\")\n",
    "nx.draw(g, pos, ax=ax, node_size=200, node_color=colors)\n",
    "nx.draw_networkx_labels(g, pos=pos, ax=ax, font_size=6)\n",
    "nx.draw_networkx_edges(g, pos=pos, ax=ax, edgelist=on_train, width=2)\n",
    "nx.draw_networkx_edges(g, pos=pos, ax=ax, edgelist=on_foot, edge_color=\"blue\")\n",
    "\n",
    "# removing the default axis on all sides:\n",
    "for side in ['bottom','right','top','left']:\n",
    "    ax.spines[side].set_visible(False)\n",
    "\n",
    "# removing the axis labels and ticks\n",
    "ax.set_xticks([])\n",
    "ax.set_yticks([])\n",
    "ax.xaxis.set_ticks_position('none')\n",
    "ax.yaxis.set_ticks_position('none')\n",
    "\n",
    "fig.savefig(\"ch10-metro-graph.pdf\")\n",
    "fig.savefig(\"ch10-metro-graph.png\")\n",
    "fig.tight_layout()"
   ]
  },
  {
   "cell_type": "code",
   "execution_count": 124,
   "metadata": {
    "collapsed": false,
    "jupyter": {
     "outputs_hidden": false
    }
   },
   "outputs": [],
   "source": [
    "#g.degree()"
   ]
  },
  {
   "cell_type": "code",
   "execution_count": 125,
   "metadata": {
    "collapsed": false,
    "jupyter": {
     "outputs_hidden": false
    }
   },
   "outputs": [],
   "source": [
    "d_max = max(g.degree().values())"
   ]
  },
  {
   "cell_type": "code",
   "execution_count": 126,
   "metadata": {
    "collapsed": false,
    "jupyter": {
     "outputs_hidden": false
    }
   },
   "outputs": [
    {
     "data": {
      "text/plain": [
       "[(u'G5', 6), (u'Y16', 6), (u'Z4', 6), (u'N7', 6), (u'M13', 6)]"
      ]
     },
     "execution_count": 126,
     "metadata": {},
     "output_type": "execute_result"
    }
   ],
   "source": [
    "[(n, d) for (n, d) in g.degree().items() if d == d_max]"
   ]
  },
  {
   "cell_type": "code",
   "execution_count": 127,
   "metadata": {
    "collapsed": false,
    "jupyter": {
     "outputs_hidden": false
    }
   },
   "outputs": [],
   "source": [
    "p = nx.shortest_path(g, \"Y24\", \"C19\")"
   ]
  },
  {
   "cell_type": "code",
   "execution_count": 128,
   "metadata": {
    "collapsed": false,
    "jupyter": {
     "outputs_hidden": false
    }
   },
   "outputs": [
    {
     "data": {
      "text/plain": [
       "array([u'Y24', u'Y23', u'Y22', u'Y21', u'Y20', u'Y19', u'Y18', u'C9',\n",
       "       u'C10', u'C11', u'C12', u'C13', u'C14', u'C15', u'C16', u'C17',\n",
       "       u'C18', u'C19'], \n",
       "      dtype='<U3')"
      ]
     },
     "execution_count": 128,
     "metadata": {},
     "output_type": "execute_result"
    }
   ],
   "source": [
    "np.array(p)"
   ]
  },
  {
   "cell_type": "code",
   "execution_count": 129,
   "metadata": {
    "collapsed": false,
    "jupyter": {
     "outputs_hidden": false
    }
   },
   "outputs": [
    {
     "data": {
      "text/plain": [
       "35"
      ]
     },
     "execution_count": 129,
     "metadata": {},
     "output_type": "execute_result"
    }
   ],
   "source": [
    "np.sum([g[p[n]][p[n+1]][\"weight\"] for n in range(len(p)-1) if \"weight\" in g[p[n]][p[n+1]]])"
   ]
  },
  {
   "cell_type": "code",
   "execution_count": 130,
   "metadata": {
    "collapsed": false,
    "jupyter": {
     "outputs_hidden": false
    }
   },
   "outputs": [],
   "source": [
    "h = g.copy()"
   ]
  },
  {
   "cell_type": "code",
   "execution_count": 131,
   "metadata": {
    "collapsed": false,
    "jupyter": {
     "outputs_hidden": false
    }
   },
   "outputs": [],
   "source": [
    "for n1, n2 in h.edges_iter():\n",
    "    if \"transfer\" in h[n1][n2]:\n",
    "        h[n1][n2][\"weight\"] = 5"
   ]
  },
  {
   "cell_type": "code",
   "execution_count": 132,
   "metadata": {
    "collapsed": false,
    "jupyter": {
     "outputs_hidden": false
    }
   },
   "outputs": [],
   "source": [
    "p = nx.shortest_path(h, \"Y24\", \"C19\")"
   ]
  },
  {
   "cell_type": "code",
   "execution_count": 133,
   "metadata": {
    "collapsed": false,
    "jupyter": {
     "outputs_hidden": false
    }
   },
   "outputs": [
    {
     "data": {
      "text/plain": [
       "array([u'Y24', u'Y23', u'Y22', u'Y21', u'Y20', u'Y19', u'Y18', u'C9',\n",
       "       u'C10', u'C11', u'C12', u'C13', u'C14', u'C15', u'C16', u'C17',\n",
       "       u'C18', u'C19'], \n",
       "      dtype='<U3')"
      ]
     },
     "execution_count": 133,
     "metadata": {},
     "output_type": "execute_result"
    }
   ],
   "source": [
    "np.array(p)"
   ]
  },
  {
   "cell_type": "code",
   "execution_count": 134,
   "metadata": {
    "collapsed": false,
    "jupyter": {
     "outputs_hidden": false
    }
   },
   "outputs": [
    {
     "data": {
      "text/plain": [
       "85"
      ]
     },
     "execution_count": 134,
     "metadata": {},
     "output_type": "execute_result"
    }
   ],
   "source": [
    "np.sum([h[p[n]][p[n+1]][\"weight\"] for n in range(len(p)-1)])"
   ]
  },
  {
   "cell_type": "code",
   "execution_count": 135,
   "metadata": {
    "collapsed": false,
    "jupyter": {
     "outputs_hidden": false
    }
   },
   "outputs": [],
   "source": [
    "p = nx.shortest_path(h, \"Z1\", \"H16\")"
   ]
  },
  {
   "cell_type": "code",
   "execution_count": 136,
   "metadata": {
    "collapsed": false,
    "jupyter": {
     "outputs_hidden": false
    }
   },
   "outputs": [
    {
     "data": {
      "text/plain": [
       "65"
      ]
     },
     "execution_count": 136,
     "metadata": {},
     "output_type": "execute_result"
    }
   ],
   "source": [
    "np.sum([h[p[n]][p[n+1]][\"weight\"] for n in range(len(p)-1)])"
   ]
  },
  {
   "cell_type": "code",
   "execution_count": 137,
   "metadata": {
    "collapsed": false,
    "jupyter": {
     "outputs_hidden": false
    }
   },
   "outputs": [],
   "source": [
    "A = nx.to_scipy_sparse_matrix(g)"
   ]
  },
  {
   "cell_type": "code",
   "execution_count": 138,
   "metadata": {
    "collapsed": false,
    "jupyter": {
     "outputs_hidden": false
    }
   },
   "outputs": [
    {
     "data": {
      "text/plain": [
       "<184x184 sparse matrix of type '<type 'numpy.int64'>'\n",
       "\twith 486 stored elements in Compressed Sparse Row format>"
      ]
     },
     "execution_count": 138,
     "metadata": {},
     "output_type": "execute_result"
    }
   ],
   "source": [
    "A"
   ]
  },
  {
   "cell_type": "code",
   "execution_count": 139,
   "metadata": {
    "collapsed": false,
    "jupyter": {
     "outputs_hidden": false
    }
   },
   "outputs": [],
   "source": [
    "perm = sp.csgraph.reverse_cuthill_mckee(A)"
   ]
  },
  {
   "cell_type": "code",
   "execution_count": 140,
   "metadata": {
    "collapsed": false,
    "jupyter": {
     "outputs_hidden": false
    }
   },
   "outputs": [
    {
     "data": {
      "image/png": "[encoded data removed]",
      "text/plain": [
       "<matplotlib.figure.Figure at 0x10a45e890>"
      ]
     },
     "metadata": {
      "image/png": {
       "height": 280,
       "width": 568
      }
     },
     "output_type": "display_data"
    }
   ],
   "source": [
    "fig, (ax1, ax2) = plt.subplots(1, 2, figsize=(8, 4))\n",
    "ax1.spy(A, markersize=2)\n",
    "ax2.spy(sp_permute(A, perm, perm), markersize=2)\n",
    "fig.tight_layout()\n",
    "fig.savefig(\"ch12-rcm-graph.pdf\")"
   ]
  }
 ],
 "metadata": {
  "kernelspec": {
   "display_name": "Python 3",
   "language": "python",
   "name": "python3"
  },
  "language_info": {
   "codemirror_mode": {
    "name": "ipython",
    "version": 3
   },
   "file_extension": ".py",
   "mimetype": "text/x-python",
   "name": "python",
   "nbconvert_exporter": "python",
   "pygments_lexer": "ipython3",
   "version": "3.7.3"
  }
 },
 "nbformat": 4,
 "nbformat_minor": 4
}
