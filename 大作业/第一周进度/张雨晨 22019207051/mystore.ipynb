{
 "cells": [
  {
   "cell_type": "markdown",
   "metadata": {},
   "source": [
    "### 数据预处理"
   ]
  },
  {
   "cell_type": "code",
   "execution_count": 130,
   "metadata": {},
   "outputs": [
    {
     "name": "stdout",
     "output_type": "stream",
     "text": [
      "(571552, 5)\n",
      "(1048575, 10)\n"
     ]
    },
    {
     "data": {
      "text/html": [
       "<div>\n",
       "<style scoped>\n",
       "    .dataframe tbody tr th:only-of-type {\n",
       "        vertical-align: middle;\n",
       "    }\n",
       "\n",
       "    .dataframe tbody tr th {\n",
       "        vertical-align: top;\n",
       "    }\n",
       "\n",
       "    .dataframe thead th {\n",
       "        text-align: right;\n",
       "    }\n",
       "</style>\n",
       "<table border=\"1\" class=\"dataframe\">\n",
       "  <thead>\n",
       "    <tr style=\"text-align: right;\">\n",
       "      <th></th>\n",
       "      <th>SHOP_DATETIME</th>\n",
       "      <th>STORE_CODE</th>\n",
       "      <th>POS_NO</th>\n",
       "      <th>BASK_CODE</th>\n",
       "      <th>BASK_SPEND</th>\n",
       "    </tr>\n",
       "  </thead>\n",
       "  <tbody>\n",
       "    <tr>\n",
       "      <td>0</td>\n",
       "      <td>2018/6/1</td>\n",
       "      <td>D007</td>\n",
       "      <td>3</td>\n",
       "      <td>250458</td>\n",
       "      <td>8.0</td>\n",
       "    </tr>\n",
       "    <tr>\n",
       "      <td>1</td>\n",
       "      <td>2018/6/1</td>\n",
       "      <td>D007</td>\n",
       "      <td>3</td>\n",
       "      <td>250200</td>\n",
       "      <td>32.7</td>\n",
       "    </tr>\n",
       "    <tr>\n",
       "      <td>2</td>\n",
       "      <td>2018/6/1</td>\n",
       "      <td>D007</td>\n",
       "      <td>1</td>\n",
       "      <td>161068</td>\n",
       "      <td>16.8</td>\n",
       "    </tr>\n",
       "    <tr>\n",
       "      <td>3</td>\n",
       "      <td>2018/6/1</td>\n",
       "      <td>D007</td>\n",
       "      <td>8</td>\n",
       "      <td>5325</td>\n",
       "      <td>30.4</td>\n",
       "    </tr>\n",
       "    <tr>\n",
       "      <td>4</td>\n",
       "      <td>2018/6/1</td>\n",
       "      <td>D007</td>\n",
       "      <td>8</td>\n",
       "      <td>5361</td>\n",
       "      <td>191.3</td>\n",
       "    </tr>\n",
       "  </tbody>\n",
       "</table>\n",
       "</div>"
      ],
      "text/plain": [
       "  SHOP_DATETIME STORE_CODE  POS_NO  BASK_CODE  BASK_SPEND\n",
       "0      2018/6/1       D007       3     250458         8.0\n",
       "1      2018/6/1       D007       3     250200        32.7\n",
       "2      2018/6/1       D007       1     161068        16.8\n",
       "3      2018/6/1       D007       8       5325        30.4\n",
       "4      2018/6/1       D007       8       5361       191.3"
      ]
     },
     "execution_count": 130,
     "metadata": {},
     "output_type": "execute_result"
    }
   ],
   "source": [
    "import pandas as pd  # 导入pandas \n",
    "#col_names =['Country','Continent','Life_expectancy','GDP_per_capita','Population']  #设置表头（列标签）\n",
    "Basket = pd.read_csv('Basket-2018-06-01-2018-07-05.csv',encoding='gbk')  # 取WordIndex.csv 数据\n",
    "item = pd.read_csv('item-2018-06-01-2018-07-05.csv',encoding='gbk')  # 取WordIndex.csv 数据\n",
    "print(Basket.shape) \n",
    "print(item.shape) \n",
    "Basket.head(5)   #查看前5行数据"
   ]
  },
  {
   "cell_type": "code",
   "execution_count": 131,
   "metadata": {},
   "outputs": [
    {
     "data": {
      "text/html": [
       "<div>\n",
       "<style scoped>\n",
       "    .dataframe tbody tr th:only-of-type {\n",
       "        vertical-align: middle;\n",
       "    }\n",
       "\n",
       "    .dataframe tbody tr th {\n",
       "        vertical-align: top;\n",
       "    }\n",
       "\n",
       "    .dataframe thead th {\n",
       "        text-align: right;\n",
       "    }\n",
       "</style>\n",
       "<table border=\"1\" class=\"dataframe\">\n",
       "  <thead>\n",
       "    <tr style=\"text-align: right;\">\n",
       "      <th></th>\n",
       "      <th>SDATE</th>\n",
       "      <th>STORE_CODE</th>\n",
       "      <th>POSID</th>\n",
       "      <th>BASK_CODE</th>\n",
       "      <th>PROD_CODE</th>\n",
       "      <th>ITEM_QUANTITY</th>\n",
       "      <th>ITEM_SPEND</th>\n",
       "      <th>NORMAL_PRICE</th>\n",
       "      <th>DISCOUNT_TYPE</th>\n",
       "      <th>DISCOUNT_AMOUNT</th>\n",
       "    </tr>\n",
       "  </thead>\n",
       "  <tbody>\n",
       "    <tr>\n",
       "      <td>0</td>\n",
       "      <td>2018/6/1</td>\n",
       "      <td>D007</td>\n",
       "      <td>3</td>\n",
       "      <td>250451</td>\n",
       "      <td>29405</td>\n",
       "      <td>1.000</td>\n",
       "      <td>1.70</td>\n",
       "      <td>2.0</td>\n",
       "      <td>m</td>\n",
       "      <td>-0.3</td>\n",
       "    </tr>\n",
       "    <tr>\n",
       "      <td>1</td>\n",
       "      <td>2018/6/1</td>\n",
       "      <td>D007</td>\n",
       "      <td>3</td>\n",
       "      <td>250451</td>\n",
       "      <td>13187</td>\n",
       "      <td>1.000</td>\n",
       "      <td>1.00</td>\n",
       "      <td>1.0</td>\n",
       "      <td>n</td>\n",
       "      <td>0.0</td>\n",
       "    </tr>\n",
       "    <tr>\n",
       "      <td>2</td>\n",
       "      <td>2018/6/1</td>\n",
       "      <td>D007</td>\n",
       "      <td>3</td>\n",
       "      <td>250243</td>\n",
       "      <td>196249</td>\n",
       "      <td>1.000</td>\n",
       "      <td>99.00</td>\n",
       "      <td>99.0</td>\n",
       "      <td>m</td>\n",
       "      <td>0.0</td>\n",
       "    </tr>\n",
       "    <tr>\n",
       "      <td>3</td>\n",
       "      <td>2018/6/1</td>\n",
       "      <td>D007</td>\n",
       "      <td>3</td>\n",
       "      <td>250243</td>\n",
       "      <td>199637</td>\n",
       "      <td>1.000</td>\n",
       "      <td>9.90</td>\n",
       "      <td>16.8</td>\n",
       "      <td>p</td>\n",
       "      <td>-6.9</td>\n",
       "    </tr>\n",
       "    <tr>\n",
       "      <td>4</td>\n",
       "      <td>2018/6/1</td>\n",
       "      <td>D007</td>\n",
       "      <td>1</td>\n",
       "      <td>160905</td>\n",
       "      <td>195012</td>\n",
       "      <td>3.222</td>\n",
       "      <td>18.69</td>\n",
       "      <td>5.8</td>\n",
       "      <td>n</td>\n",
       "      <td>0.0</td>\n",
       "    </tr>\n",
       "  </tbody>\n",
       "</table>\n",
       "</div>"
      ],
      "text/plain": [
       "      SDATE STORE_CODE  POSID  BASK_CODE  PROD_CODE  ITEM_QUANTITY  \\\n",
       "0  2018/6/1       D007      3     250451      29405          1.000   \n",
       "1  2018/6/1       D007      3     250451      13187          1.000   \n",
       "2  2018/6/1       D007      3     250243     196249          1.000   \n",
       "3  2018/6/1       D007      3     250243     199637          1.000   \n",
       "4  2018/6/1       D007      1     160905     195012          3.222   \n",
       "\n",
       "   ITEM_SPEND  NORMAL_PRICE DISCOUNT_TYPE  DISCOUNT_AMOUNT  \n",
       "0        1.70           2.0             m             -0.3  \n",
       "1        1.00           1.0             n              0.0  \n",
       "2       99.00          99.0             m              0.0  \n",
       "3        9.90          16.8             p             -6.9  \n",
       "4       18.69           5.8             n              0.0  "
      ]
     },
     "execution_count": 131,
     "metadata": {},
     "output_type": "execute_result"
    }
   ],
   "source": [
    "item.head()   #查看前5行数据"
   ]
  },
  {
   "cell_type": "code",
   "execution_count": 132,
   "metadata": {},
   "outputs": [
    {
     "name": "stdout",
     "output_type": "stream",
     "text": [
      "<class 'pandas.core.frame.DataFrame'>\n",
      "RangeIndex: 571552 entries, 0 to 571551\n",
      "Data columns (total 5 columns):\n",
      "SHOP_DATETIME    571552 non-null object\n",
      "STORE_CODE       571552 non-null object\n",
      "POS_NO           571552 non-null int64\n",
      "BASK_CODE        571552 non-null int64\n",
      "BASK_SPEND       571552 non-null float64\n",
      "dtypes: float64(1), int64(2), object(2)\n",
      "memory usage: 21.8+ MB\n"
     ]
    }
   ],
   "source": [
    "Basket.info()"
   ]
  },
  {
   "cell_type": "code",
   "execution_count": 133,
   "metadata": {},
   "outputs": [
    {
     "name": "stdout",
     "output_type": "stream",
     "text": [
      "<class 'pandas.core.frame.DataFrame'>\n",
      "RangeIndex: 1048575 entries, 0 to 1048574\n",
      "Data columns (total 10 columns):\n",
      "SDATE              1048575 non-null object\n",
      "STORE_CODE         1048575 non-null object\n",
      "POSID              1048575 non-null int64\n",
      "BASK_CODE          1048575 non-null int64\n",
      "PROD_CODE          1048575 non-null int64\n",
      "ITEM_QUANTITY      1048575 non-null float64\n",
      "ITEM_SPEND         1048575 non-null float64\n",
      "NORMAL_PRICE       1048575 non-null float64\n",
      "DISCOUNT_TYPE      1048575 non-null object\n",
      "DISCOUNT_AMOUNT    1048575 non-null float64\n",
      "dtypes: float64(4), int64(3), object(3)\n",
      "memory usage: 80.0+ MB\n"
     ]
    }
   ],
   "source": [
    "item.info()"
   ]
  },
  {
   "cell_type": "code",
   "execution_count": 134,
   "metadata": {},
   "outputs": [],
   "source": [
    "Basket.columns=['date','shop','pos','bask','bask_spend']\n",
    "item.columns=['date','shop','pos','bask','item','item_quantity','item_spend','price','discount_type','discount']"
   ]
  },
  {
   "cell_type": "code",
   "execution_count": 135,
   "metadata": {},
   "outputs": [
    {
     "data": {
      "text/plain": [
       "date          0\n",
       "shop          0\n",
       "pos           0\n",
       "bask          0\n",
       "bask_spend    0\n",
       "dtype: int64"
      ]
     },
     "execution_count": 135,
     "metadata": {},
     "output_type": "execute_result"
    }
   ],
   "source": [
    "Basket.isnull().sum()"
   ]
  },
  {
   "cell_type": "code",
   "execution_count": 136,
   "metadata": {},
   "outputs": [
    {
     "data": {
      "text/plain": [
       "date             0\n",
       "shop             0\n",
       "pos              0\n",
       "bask             0\n",
       "item             0\n",
       "item_quantity    0\n",
       "item_spend       0\n",
       "price            0\n",
       "discount_type    0\n",
       "discount         0\n",
       "dtype: int64"
      ]
     },
     "execution_count": 136,
     "metadata": {},
     "output_type": "execute_result"
    }
   ],
   "source": [
    "item.isnull().sum()"
   ]
  },
  {
   "cell_type": "code",
   "execution_count": 137,
   "metadata": {},
   "outputs": [
    {
     "data": {
      "text/plain": [
       "0"
      ]
     },
     "execution_count": 137,
     "metadata": {},
     "output_type": "execute_result"
    }
   ],
   "source": [
    "Basket.duplicated().sum()\n"
   ]
  },
  {
   "cell_type": "code",
   "execution_count": 138,
   "metadata": {},
   "outputs": [
    {
     "data": {
      "text/plain": [
       "128777"
      ]
     },
     "execution_count": 138,
     "metadata": {},
     "output_type": "execute_result"
    }
   ],
   "source": [
    "item.duplicated().sum()"
   ]
  },
  {
   "cell_type": "code",
   "execution_count": 139,
   "metadata": {},
   "outputs": [
    {
     "data": {
      "text/plain": [
       "A001    66735\n",
       "D002    63114\n",
       "D007    37605\n",
       "A008    36576\n",
       "A013    30138\n",
       "A006    28547\n",
       "A012    25024\n",
       "A009    21872\n",
       "D004    21410\n",
       "D008    21057\n",
       "A021    20660\n",
       "A010    19592\n",
       "D006    18641\n",
       "A016    18341\n",
       "A007    18041\n",
       "A019    17019\n",
       "D009    15876\n",
       "A018    15771\n",
       "D005    15328\n",
       "A022    15304\n",
       "A004    13490\n",
       "A017    12513\n",
       "D010    11095\n",
       "D003     7803\n",
       "Name: shop, dtype: int64"
      ]
     },
     "execution_count": 139,
     "metadata": {},
     "output_type": "execute_result"
    }
   ],
   "source": [
    "Basket.shop.value_counts()   #查看store种类及对应的数据个数"
   ]
  },
  {
   "cell_type": "code",
   "execution_count": 140,
   "metadata": {},
   "outputs": [
    {
     "data": {
      "text/plain": [
       "2     176108\n",
       "1     160802\n",
       "3     101181\n",
       "6      39383\n",
       "4      31148\n",
       "8      21326\n",
       "9      18203\n",
       "5      12316\n",
       "13      5616\n",
       "10      2649\n",
       "20      1386\n",
       "7       1181\n",
       "19       253\n",
       "Name: pos, dtype: int64"
      ]
     },
     "execution_count": 140,
     "metadata": {},
     "output_type": "execute_result"
    }
   ],
   "source": [
    "Basket.pos.value_counts()   #查看pos类及对应的数据个数"
   ]
  },
  {
   "cell_type": "code",
   "execution_count": 141,
   "metadata": {},
   "outputs": [
    {
     "data": {
      "text/plain": [
       "210182    7\n",
       "211341    7\n",
       "210934    7\n",
       "208755    7\n",
       "208546    7\n",
       "         ..\n",
       "268170    1\n",
       "288644    1\n",
       "286595    1\n",
       "282497    1\n",
       "6147      1\n",
       "Name: bask, Length: 281211, dtype: int64"
      ]
     },
     "execution_count": 141,
     "metadata": {},
     "output_type": "execute_result"
    }
   ],
   "source": [
    "Basket.bask.value_counts()   #查看BASK种类及对应的数据个数"
   ]
  },
  {
   "cell_type": "code",
   "execution_count": 142,
   "metadata": {},
   "outputs": [
    {
     "data": {
      "text/plain": [
       "194690    6830\n",
       "205540    6668\n",
       "21835     6593\n",
       "178462    5435\n",
       "72811     5107\n",
       "          ... \n",
       "128846       1\n",
       "206997       1\n",
       "204948       1\n",
       "133424       1\n",
       "20624        1\n",
       "Name: item, Length: 17441, dtype: int64"
      ]
     },
     "execution_count": 142,
     "metadata": {},
     "output_type": "execute_result"
    }
   ],
   "source": [
    "item.item.value_counts()   #查看BASK种类及对应的数据个数"
   ]
  },
  {
   "cell_type": "code",
   "execution_count": 143,
   "metadata": {},
   "outputs": [
    {
     "data": {
      "text/plain": [
       "n    664322\n",
       "p    250970\n",
       "m    120692\n",
       "v     10612\n",
       "q      1234\n",
       "x       657\n",
       "Z        76\n",
       "s        11\n",
       "h         1\n",
       "Name: discount_type, dtype: int64"
      ]
     },
     "execution_count": 143,
     "metadata": {},
     "output_type": "execute_result"
    }
   ],
   "source": [
    "item.discount_type.value_counts()   #查看折扣种类及对应的数据个数"
   ]
  },
  {
   "cell_type": "code",
   "execution_count": 144,
   "metadata": {},
   "outputs": [
    {
     "data": {
      "text/plain": [
       "636436.0"
      ]
     },
     "execution_count": 144,
     "metadata": {},
     "output_type": "execute_result"
    }
   ],
   "source": [
    "#日消费\n",
    "days= Basket.drop_duplicates(subset=['date'])\n",
    "totalMoney = Basket.loc[:,'bask_spend'].sum()\n",
    "totalI = DAYS.shape[0]\n",
    "days_m=totalMoney//totalI\n",
    "days_m"
   ]
  },
  {
   "cell_type": "code",
   "execution_count": 145,
   "metadata": {},
   "outputs": [
    {
     "data": {
      "text/html": [
       "<div>\n",
       "<style scoped>\n",
       "    .dataframe tbody tr th:only-of-type {\n",
       "        vertical-align: middle;\n",
       "    }\n",
       "\n",
       "    .dataframe tbody tr th {\n",
       "        vertical-align: top;\n",
       "    }\n",
       "\n",
       "    .dataframe thead th {\n",
       "        text-align: right;\n",
       "    }\n",
       "</style>\n",
       "<table border=\"1\" class=\"dataframe\">\n",
       "  <thead>\n",
       "    <tr style=\"text-align: right;\">\n",
       "      <th></th>\n",
       "      <th>date</th>\n",
       "      <th>shop</th>\n",
       "      <th>pos</th>\n",
       "      <th>bask</th>\n",
       "      <th>bask_spend</th>\n",
       "    </tr>\n",
       "  </thead>\n",
       "  <tbody>\n",
       "    <tr>\n",
       "      <td>0</td>\n",
       "      <td>2018-06-01</td>\n",
       "      <td>D007</td>\n",
       "      <td>3</td>\n",
       "      <td>250458</td>\n",
       "      <td>8.00</td>\n",
       "    </tr>\n",
       "    <tr>\n",
       "      <td>1</td>\n",
       "      <td>2018-06-01</td>\n",
       "      <td>D007</td>\n",
       "      <td>3</td>\n",
       "      <td>250200</td>\n",
       "      <td>32.70</td>\n",
       "    </tr>\n",
       "    <tr>\n",
       "      <td>2</td>\n",
       "      <td>2018-06-01</td>\n",
       "      <td>D007</td>\n",
       "      <td>1</td>\n",
       "      <td>161068</td>\n",
       "      <td>16.80</td>\n",
       "    </tr>\n",
       "    <tr>\n",
       "      <td>3</td>\n",
       "      <td>2018-06-01</td>\n",
       "      <td>D007</td>\n",
       "      <td>8</td>\n",
       "      <td>5325</td>\n",
       "      <td>30.40</td>\n",
       "    </tr>\n",
       "    <tr>\n",
       "      <td>4</td>\n",
       "      <td>2018-06-01</td>\n",
       "      <td>D007</td>\n",
       "      <td>8</td>\n",
       "      <td>5361</td>\n",
       "      <td>191.30</td>\n",
       "    </tr>\n",
       "    <tr>\n",
       "      <td>...</td>\n",
       "      <td>...</td>\n",
       "      <td>...</td>\n",
       "      <td>...</td>\n",
       "      <td>...</td>\n",
       "      <td>...</td>\n",
       "    </tr>\n",
       "    <tr>\n",
       "      <td>571547</td>\n",
       "      <td>2018-07-05</td>\n",
       "      <td>A010</td>\n",
       "      <td>2</td>\n",
       "      <td>284211</td>\n",
       "      <td>34.71</td>\n",
       "    </tr>\n",
       "    <tr>\n",
       "      <td>571548</td>\n",
       "      <td>2018-07-05</td>\n",
       "      <td>A010</td>\n",
       "      <td>2</td>\n",
       "      <td>284601</td>\n",
       "      <td>44.80</td>\n",
       "    </tr>\n",
       "    <tr>\n",
       "      <td>571549</td>\n",
       "      <td>2018-07-05</td>\n",
       "      <td>A010</td>\n",
       "      <td>2</td>\n",
       "      <td>284241</td>\n",
       "      <td>6.50</td>\n",
       "    </tr>\n",
       "    <tr>\n",
       "      <td>571550</td>\n",
       "      <td>2018-07-05</td>\n",
       "      <td>A010</td>\n",
       "      <td>2</td>\n",
       "      <td>284352</td>\n",
       "      <td>15.90</td>\n",
       "    </tr>\n",
       "    <tr>\n",
       "      <td>571551</td>\n",
       "      <td>2018-07-05</td>\n",
       "      <td>A010</td>\n",
       "      <td>2</td>\n",
       "      <td>284265</td>\n",
       "      <td>43.20</td>\n",
       "    </tr>\n",
       "  </tbody>\n",
       "</table>\n",
       "<p>571552 rows × 5 columns</p>\n",
       "</div>"
      ],
      "text/plain": [
       "             date  shop  pos    bask  bask_spend\n",
       "0      2018-06-01  D007    3  250458        8.00\n",
       "1      2018-06-01  D007    3  250200       32.70\n",
       "2      2018-06-01  D007    1  161068       16.80\n",
       "3      2018-06-01  D007    8    5325       30.40\n",
       "4      2018-06-01  D007    8    5361      191.30\n",
       "...           ...   ...  ...     ...         ...\n",
       "571547 2018-07-05  A010    2  284211       34.71\n",
       "571548 2018-07-05  A010    2  284601       44.80\n",
       "571549 2018-07-05  A010    2  284241        6.50\n",
       "571550 2018-07-05  A010    2  284352       15.90\n",
       "571551 2018-07-05  A010    2  284265       43.20\n",
       "\n",
       "[571552 rows x 5 columns]"
      ]
     },
     "execution_count": 145,
     "metadata": {},
     "output_type": "execute_result"
    }
   ],
   "source": [
    "from pandas import to_datetime\n",
    "Basket1=Basket\n",
    "Basket1.date=to_datetime(Basket1.date,format=\"%Y/%m/%d\")\n",
    "Basket1"
   ]
  },
  {
   "cell_type": "code",
   "execution_count": 154,
   "metadata": {},
   "outputs": [
    {
     "data": {
      "text/html": [
       "<div>\n",
       "<style scoped>\n",
       "    .dataframe tbody tr th:only-of-type {\n",
       "        vertical-align: middle;\n",
       "    }\n",
       "\n",
       "    .dataframe tbody tr th {\n",
       "        vertical-align: top;\n",
       "    }\n",
       "\n",
       "    .dataframe thead th {\n",
       "        text-align: right;\n",
       "    }\n",
       "</style>\n",
       "<table border=\"1\" class=\"dataframe\">\n",
       "  <thead>\n",
       "    <tr style=\"text-align: right;\">\n",
       "      <th></th>\n",
       "      <th>bask_spend</th>\n",
       "    </tr>\n",
       "    <tr>\n",
       "      <th>date</th>\n",
       "      <th></th>\n",
       "    </tr>\n",
       "  </thead>\n",
       "  <tbody>\n",
       "    <tr>\n",
       "      <td>2018-06-01</td>\n",
       "      <td>717327.28</td>\n",
       "    </tr>\n",
       "    <tr>\n",
       "      <td>2018-06-02</td>\n",
       "      <td>727910.16</td>\n",
       "    </tr>\n",
       "    <tr>\n",
       "      <td>2018-06-03</td>\n",
       "      <td>682779.75</td>\n",
       "    </tr>\n",
       "    <tr>\n",
       "      <td>2018-06-04</td>\n",
       "      <td>557813.05</td>\n",
       "    </tr>\n",
       "    <tr>\n",
       "      <td>2018-06-05</td>\n",
       "      <td>663394.81</td>\n",
       "    </tr>\n",
       "    <tr>\n",
       "      <td>2018-06-06</td>\n",
       "      <td>498250.71</td>\n",
       "    </tr>\n",
       "    <tr>\n",
       "      <td>2018-06-07</td>\n",
       "      <td>436109.19</td>\n",
       "    </tr>\n",
       "    <tr>\n",
       "      <td>2018-06-08</td>\n",
       "      <td>564402.27</td>\n",
       "    </tr>\n",
       "    <tr>\n",
       "      <td>2018-06-09</td>\n",
       "      <td>679629.48</td>\n",
       "    </tr>\n",
       "    <tr>\n",
       "      <td>2018-06-10</td>\n",
       "      <td>702961.56</td>\n",
       "    </tr>\n",
       "    <tr>\n",
       "      <td>2018-06-11</td>\n",
       "      <td>532263.20</td>\n",
       "    </tr>\n",
       "    <tr>\n",
       "      <td>2018-06-12</td>\n",
       "      <td>569290.86</td>\n",
       "    </tr>\n",
       "    <tr>\n",
       "      <td>2018-06-13</td>\n",
       "      <td>722874.45</td>\n",
       "    </tr>\n",
       "    <tr>\n",
       "      <td>2018-06-14</td>\n",
       "      <td>615684.90</td>\n",
       "    </tr>\n",
       "    <tr>\n",
       "      <td>2018-06-15</td>\n",
       "      <td>774897.74</td>\n",
       "    </tr>\n",
       "  </tbody>\n",
       "</table>\n",
       "</div>"
      ],
      "text/plain": [
       "            bask_spend\n",
       "date                  \n",
       "2018-06-01   717327.28\n",
       "2018-06-02   727910.16\n",
       "2018-06-03   682779.75\n",
       "2018-06-04   557813.05\n",
       "2018-06-05   663394.81\n",
       "2018-06-06   498250.71\n",
       "2018-06-07   436109.19\n",
       "2018-06-08   564402.27\n",
       "2018-06-09   679629.48\n",
       "2018-06-10   702961.56\n",
       "2018-06-11   532263.20\n",
       "2018-06-12   569290.86\n",
       "2018-06-13   722874.45\n",
       "2018-06-14   615684.90\n",
       "2018-06-15   774897.74"
      ]
     },
     "execution_count": 154,
     "metadata": {},
     "output_type": "execute_result"
    }
   ],
   "source": [
    "Basket1_sale=Basket1.drop(['shop','pos','bask'],axis=1)\n",
    "dasale=Basket1_sale.groupby(Basket1.date)\n",
    "daysales=daysale.sum()\n",
    "daysale1.head(15)"
   ]
  },
  {
   "cell_type": "code",
   "execution_count": 91,
   "metadata": {},
   "outputs": [
    {
     "name": "stdout",
     "output_type": "stream",
     "text": [
      "<class 'pandas.core.frame.DataFrame'>\n",
      "DatetimeIndex: 35 entries, 2018-06-01 to 2018-07-05\n",
      "Data columns (total 1 columns):\n",
      "BASK_SPEND    35 non-null float64\n",
      "dtypes: float64(1)\n",
      "memory usage: 560.0 bytes\n"
     ]
    }
   ],
   "source": [
    "daysale1.info()"
   ]
  },
  {
   "cell_type": "code",
   "execution_count": 104,
   "metadata": {},
   "outputs": [
    {
     "data": {
      "text/plain": [
       "(array([4., 2., 4., 5., 6., 1., 2., 3., 4., 1., 0., 0., 0., 0., 0., 0., 0.,\n",
       "        0., 0., 0., 1., 0., 0., 1., 0., 0., 0., 0., 0., 1.]),\n",
       " array([ 411610.22      ,  448092.98966667,  484575.75933334,\n",
       "         521058.529     ,  557541.29866667,  594024.06833334,\n",
       "         630506.838     ,  666989.60766667,  703472.37733334,\n",
       "         739955.147     ,  776437.91666667,  812920.68633334,\n",
       "         849403.456     ,  885886.22566667,  922368.99533334,\n",
       "         958851.765     ,  995334.53466667, 1031817.30433334,\n",
       "        1068300.074     , 1104782.84366667, 1141265.61333334,\n",
       "        1177748.383     , 1214231.15266667, 1250713.92233334,\n",
       "        1287196.692     , 1323679.46166667, 1360162.23133333,\n",
       "        1396645.001     , 1433127.77066667, 1469610.54033333,\n",
       "        1506093.31      ]),\n",
       " <a list of 30 Patch objects>)"
      ]
     },
     "execution_count": 104,
     "metadata": {},
     "output_type": "execute_result"
    },
    {
     "data": {
      "image/png": "[encoded data removed]",
      "text/plain": [
       "<Figure size 864x432 with 1 Axes>"
      ]
     },
     "metadata": {
      "needs_background": "light"
     },
     "output_type": "display_data"
    }
   ],
   "source": [
    "%matplotlib inline\n",
    "import matplotlib as mpl\n",
    "import matplotlib.pyplot as plt\n",
    "import warnings \n",
    "\n",
    "plt.figure(figsize=(12,6))\n",
    "plt.hist(daysale1.BASK_SPEND,bins=30,color = 'blue', alpha = 0.9,rwidth=0.9)"
   ]
  },
  {
   "cell_type": "code",
   "execution_count": 227,
   "metadata": {},
   "outputs": [
    {
     "data": {
      "image/png": "[encoded data removed]",
      "text/plain": [
       "<Figure size 864x432 with 1 Axes>"
      ]
     },
     "metadata": {
      "needs_background": "light"
     },
     "output_type": "display_data"
    }
   ],
   "source": [
    "fig, ax = plt.subplots()\n",
    "ax.grid()\n",
    "plt.plot(daysale1['bask_spend'],color='blue')\n",
    "plt.rcParams['figure.figsize'] = (12.0, 6.0)"
   ]
  },
  {
   "cell_type": "code",
   "execution_count": 251,
   "metadata": {},
   "outputs": [
    {
     "data": {
      "text/html": [
       "<div>\n",
       "<style scoped>\n",
       "    .dataframe tbody tr th:only-of-type {\n",
       "        vertical-align: middle;\n",
       "    }\n",
       "\n",
       "    .dataframe tbody tr th {\n",
       "        vertical-align: top;\n",
       "    }\n",
       "\n",
       "    .dataframe thead th {\n",
       "        text-align: right;\n",
       "    }\n",
       "</style>\n",
       "<table border=\"1\" class=\"dataframe\">\n",
       "  <thead>\n",
       "    <tr style=\"text-align: right;\">\n",
       "      <th></th>\n",
       "      <th>pos</th>\n",
       "      <th>bask</th>\n",
       "      <th>bask_spend</th>\n",
       "    </tr>\n",
       "    <tr>\n",
       "      <th>shop</th>\n",
       "      <th></th>\n",
       "      <th></th>\n",
       "      <th></th>\n",
       "    </tr>\n",
       "  </thead>\n",
       "  <tbody>\n",
       "    <tr>\n",
       "      <td>A001</td>\n",
       "      <td>363398</td>\n",
       "      <td>11605971867</td>\n",
       "      <td>3.435303e+06</td>\n",
       "    </tr>\n",
       "    <tr>\n",
       "      <td>A004</td>\n",
       "      <td>27718</td>\n",
       "      <td>1529688783</td>\n",
       "      <td>5.123467e+05</td>\n",
       "    </tr>\n",
       "    <tr>\n",
       "      <td>A006</td>\n",
       "      <td>65757</td>\n",
       "      <td>8062830890</td>\n",
       "      <td>9.383050e+05</td>\n",
       "    </tr>\n",
       "    <tr>\n",
       "      <td>A007</td>\n",
       "      <td>36708</td>\n",
       "      <td>2053120185</td>\n",
       "      <td>6.866382e+05</td>\n",
       "    </tr>\n",
       "    <tr>\n",
       "      <td>A008</td>\n",
       "      <td>94583</td>\n",
       "      <td>7763818159</td>\n",
       "      <td>1.311171e+06</td>\n",
       "    </tr>\n",
       "    <tr>\n",
       "      <td>A009</td>\n",
       "      <td>34405</td>\n",
       "      <td>4647022389</td>\n",
       "      <td>7.977389e+05</td>\n",
       "    </tr>\n",
       "    <tr>\n",
       "      <td>A010</td>\n",
       "      <td>49184</td>\n",
       "      <td>4793496547</td>\n",
       "      <td>6.448924e+05</td>\n",
       "    </tr>\n",
       "    <tr>\n",
       "      <td>A012</td>\n",
       "      <td>64419</td>\n",
       "      <td>5934484788</td>\n",
       "      <td>8.469747e+05</td>\n",
       "    </tr>\n",
       "    <tr>\n",
       "      <td>A013</td>\n",
       "      <td>110323</td>\n",
       "      <td>5146283161</td>\n",
       "      <td>1.117126e+06</td>\n",
       "    </tr>\n",
       "    <tr>\n",
       "      <td>A016</td>\n",
       "      <td>19625</td>\n",
       "      <td>1562602975</td>\n",
       "      <td>7.398143e+05</td>\n",
       "    </tr>\n",
       "    <tr>\n",
       "      <td>A017</td>\n",
       "      <td>13619</td>\n",
       "      <td>2290840508</td>\n",
       "      <td>3.945074e+05</td>\n",
       "    </tr>\n",
       "    <tr>\n",
       "      <td>A018</td>\n",
       "      <td>19002</td>\n",
       "      <td>2878969449</td>\n",
       "      <td>5.584417e+05</td>\n",
       "    </tr>\n",
       "    <tr>\n",
       "      <td>A019</td>\n",
       "      <td>18962</td>\n",
       "      <td>3098577498</td>\n",
       "      <td>6.486686e+05</td>\n",
       "    </tr>\n",
       "    <tr>\n",
       "      <td>A021</td>\n",
       "      <td>60806</td>\n",
       "      <td>1616630152</td>\n",
       "      <td>7.387401e+05</td>\n",
       "    </tr>\n",
       "    <tr>\n",
       "      <td>A022</td>\n",
       "      <td>28610</td>\n",
       "      <td>892308073</td>\n",
       "      <td>4.874459e+05</td>\n",
       "    </tr>\n",
       "    <tr>\n",
       "      <td>D002</td>\n",
       "      <td>365261</td>\n",
       "      <td>8185249969</td>\n",
       "      <td>3.129447e+06</td>\n",
       "    </tr>\n",
       "    <tr>\n",
       "      <td>D003</td>\n",
       "      <td>15520</td>\n",
       "      <td>453135195</td>\n",
       "      <td>2.435843e+05</td>\n",
       "    </tr>\n",
       "    <tr>\n",
       "      <td>D004</td>\n",
       "      <td>28883</td>\n",
       "      <td>2972491775</td>\n",
       "      <td>8.078603e+05</td>\n",
       "    </tr>\n",
       "    <tr>\n",
       "      <td>D005</td>\n",
       "      <td>32252</td>\n",
       "      <td>3053635207</td>\n",
       "      <td>5.541030e+05</td>\n",
       "    </tr>\n",
       "    <tr>\n",
       "      <td>D006</td>\n",
       "      <td>48029</td>\n",
       "      <td>1988952836</td>\n",
       "      <td>7.935042e+05</td>\n",
       "    </tr>\n",
       "    <tr>\n",
       "      <td>D007</td>\n",
       "      <td>91147</td>\n",
       "      <td>8051167890</td>\n",
       "      <td>1.361607e+06</td>\n",
       "    </tr>\n",
       "    <tr>\n",
       "      <td>D008</td>\n",
       "      <td>46257</td>\n",
       "      <td>2810614357</td>\n",
       "      <td>6.930078e+05</td>\n",
       "    </tr>\n",
       "    <tr>\n",
       "      <td>D009</td>\n",
       "      <td>46197</td>\n",
       "      <td>2246457749</td>\n",
       "      <td>4.704280e+05</td>\n",
       "    </tr>\n",
       "    <tr>\n",
       "      <td>D010</td>\n",
       "      <td>33093</td>\n",
       "      <td>2081073158</td>\n",
       "      <td>3.636179e+05</td>\n",
       "    </tr>\n",
       "  </tbody>\n",
       "</table>\n",
       "</div>"
      ],
      "text/plain": [
       "         pos         bask    bask_spend\n",
       "shop                                   \n",
       "A001  363398  11605971867  3.435303e+06\n",
       "A004   27718   1529688783  5.123467e+05\n",
       "A006   65757   8062830890  9.383050e+05\n",
       "A007   36708   2053120185  6.866382e+05\n",
       "A008   94583   7763818159  1.311171e+06\n",
       "A009   34405   4647022389  7.977389e+05\n",
       "A010   49184   4793496547  6.448924e+05\n",
       "A012   64419   5934484788  8.469747e+05\n",
       "A013  110323   5146283161  1.117126e+06\n",
       "A016   19625   1562602975  7.398143e+05\n",
       "A017   13619   2290840508  3.945074e+05\n",
       "A018   19002   2878969449  5.584417e+05\n",
       "A019   18962   3098577498  6.486686e+05\n",
       "A021   60806   1616630152  7.387401e+05\n",
       "A022   28610    892308073  4.874459e+05\n",
       "D002  365261   8185249969  3.129447e+06\n",
       "D003   15520    453135195  2.435843e+05\n",
       "D004   28883   2972491775  8.078603e+05\n",
       "D005   32252   3053635207  5.541030e+05\n",
       "D006   48029   1988952836  7.935042e+05\n",
       "D007   91147   8051167890  1.361607e+06\n",
       "D008   46257   2810614357  6.930078e+05\n",
       "D009   46197   2246457749  4.704280e+05\n",
       "D010   33093   2081073158  3.636179e+05"
      ]
     },
     "execution_count": 251,
     "metadata": {},
     "output_type": "execute_result"
    }
   ],
   "source": [
    "shop_group=Basket1.groupby(Basket1.shop)\n",
    "shopsale=shop_group.sum()\n",
    "shopsale.head(24)"
   ]
  },
  {
   "cell_type": "code",
   "execution_count": 252,
   "metadata": {},
   "outputs": [
    {
     "data": {
      "image/png": "[encoded data removed]",
      "text/plain": [
       "<Figure size 864x432 with 1 Axes>"
      ]
     },
     "metadata": {
      "needs_background": "light"
     },
     "output_type": "display_data"
    }
   ],
   "source": [
    "fig, ax = plt.subplots()\n",
    "ax.plot(shopsale['bask_spend'],color='blue')\n",
    "ax.grid()\n",
    "plt.rcParams['figure.figsize'] = (12.0, 6.0)"
   ]
  },
  {
   "cell_type": "code",
   "execution_count": 263,
   "metadata": {},
   "outputs": [
    {
     "data": {
      "image/png": "[encoded data removed]",
      "text/plain": [
       "<Figure size 864x432 with 1 Axes>"
      ]
     },
     "metadata": {
      "needs_background": "light"
     },
     "output_type": "display_data"
    }
   ],
   "source": [
    "#商店销售箱图\n",
    "plt.boxplot(shopsale.bask_spend)\n",
    "plt.show()"
   ]
  },
  {
   "cell_type": "code",
   "execution_count": 193,
   "metadata": {},
   "outputs": [
    {
     "data": {
      "text/html": [
       "<div>\n",
       "<style scoped>\n",
       "    .dataframe tbody tr th:only-of-type {\n",
       "        vertical-align: middle;\n",
       "    }\n",
       "\n",
       "    .dataframe tbody tr th {\n",
       "        vertical-align: top;\n",
       "    }\n",
       "\n",
       "    .dataframe thead th {\n",
       "        text-align: right;\n",
       "    }\n",
       "</style>\n",
       "<table border=\"1\" class=\"dataframe\">\n",
       "  <thead>\n",
       "    <tr style=\"text-align: right;\">\n",
       "      <th></th>\n",
       "      <th>date</th>\n",
       "      <th>shop</th>\n",
       "      <th>pos</th>\n",
       "      <th>bask</th>\n",
       "      <th>item</th>\n",
       "      <th>item_quantity</th>\n",
       "      <th>item_spend</th>\n",
       "      <th>price</th>\n",
       "      <th>discount_type</th>\n",
       "      <th>discount</th>\n",
       "    </tr>\n",
       "  </thead>\n",
       "  <tbody>\n",
       "    <tr>\n",
       "      <td>1</td>\n",
       "      <td>2018/6/1</td>\n",
       "      <td>D007</td>\n",
       "      <td>3</td>\n",
       "      <td>250451</td>\n",
       "      <td>13187</td>\n",
       "      <td>1.000</td>\n",
       "      <td>1.00</td>\n",
       "      <td>1.0</td>\n",
       "      <td>n</td>\n",
       "      <td>0.0</td>\n",
       "    </tr>\n",
       "    <tr>\n",
       "      <td>4</td>\n",
       "      <td>2018/6/1</td>\n",
       "      <td>D007</td>\n",
       "      <td>1</td>\n",
       "      <td>160905</td>\n",
       "      <td>195012</td>\n",
       "      <td>3.222</td>\n",
       "      <td>18.69</td>\n",
       "      <td>5.8</td>\n",
       "      <td>n</td>\n",
       "      <td>0.0</td>\n",
       "    </tr>\n",
       "    <tr>\n",
       "      <td>5</td>\n",
       "      <td>2018/6/1</td>\n",
       "      <td>D007</td>\n",
       "      <td>1</td>\n",
       "      <td>160905</td>\n",
       "      <td>194904</td>\n",
       "      <td>3.522</td>\n",
       "      <td>35.22</td>\n",
       "      <td>10.0</td>\n",
       "      <td>n</td>\n",
       "      <td>0.0</td>\n",
       "    </tr>\n",
       "    <tr>\n",
       "      <td>6</td>\n",
       "      <td>2018/6/1</td>\n",
       "      <td>D007</td>\n",
       "      <td>3</td>\n",
       "      <td>250458</td>\n",
       "      <td>56371</td>\n",
       "      <td>1.000</td>\n",
       "      <td>8.00</td>\n",
       "      <td>8.0</td>\n",
       "      <td>n</td>\n",
       "      <td>0.0</td>\n",
       "    </tr>\n",
       "    <tr>\n",
       "      <td>7</td>\n",
       "      <td>2018/6/1</td>\n",
       "      <td>D007</td>\n",
       "      <td>3</td>\n",
       "      <td>250241</td>\n",
       "      <td>75124</td>\n",
       "      <td>12.000</td>\n",
       "      <td>30.00</td>\n",
       "      <td>2.5</td>\n",
       "      <td>n</td>\n",
       "      <td>0.0</td>\n",
       "    </tr>\n",
       "    <tr>\n",
       "      <td>...</td>\n",
       "      <td>...</td>\n",
       "      <td>...</td>\n",
       "      <td>...</td>\n",
       "      <td>...</td>\n",
       "      <td>...</td>\n",
       "      <td>...</td>\n",
       "      <td>...</td>\n",
       "      <td>...</td>\n",
       "      <td>...</td>\n",
       "      <td>...</td>\n",
       "    </tr>\n",
       "    <tr>\n",
       "      <td>1048570</td>\n",
       "      <td>2018/6/25</td>\n",
       "      <td>A009</td>\n",
       "      <td>1</td>\n",
       "      <td>261138</td>\n",
       "      <td>221691</td>\n",
       "      <td>1.000</td>\n",
       "      <td>1.00</td>\n",
       "      <td>1.0</td>\n",
       "      <td>n</td>\n",
       "      <td>0.0</td>\n",
       "    </tr>\n",
       "    <tr>\n",
       "      <td>1048571</td>\n",
       "      <td>2018/6/25</td>\n",
       "      <td>A009</td>\n",
       "      <td>1</td>\n",
       "      <td>261138</td>\n",
       "      <td>221691</td>\n",
       "      <td>1.000</td>\n",
       "      <td>1.00</td>\n",
       "      <td>1.0</td>\n",
       "      <td>n</td>\n",
       "      <td>0.0</td>\n",
       "    </tr>\n",
       "    <tr>\n",
       "      <td>1048572</td>\n",
       "      <td>2018/6/25</td>\n",
       "      <td>A009</td>\n",
       "      <td>2</td>\n",
       "      <td>53820</td>\n",
       "      <td>200455</td>\n",
       "      <td>0.234</td>\n",
       "      <td>5.99</td>\n",
       "      <td>25.6</td>\n",
       "      <td>n</td>\n",
       "      <td>0.0</td>\n",
       "    </tr>\n",
       "    <tr>\n",
       "      <td>1048573</td>\n",
       "      <td>2018/6/25</td>\n",
       "      <td>A009</td>\n",
       "      <td>1</td>\n",
       "      <td>261306</td>\n",
       "      <td>281</td>\n",
       "      <td>1.000</td>\n",
       "      <td>6.50</td>\n",
       "      <td>6.5</td>\n",
       "      <td>n</td>\n",
       "      <td>0.0</td>\n",
       "    </tr>\n",
       "    <tr>\n",
       "      <td>1048574</td>\n",
       "      <td>2018/6/25</td>\n",
       "      <td>A009</td>\n",
       "      <td>1</td>\n",
       "      <td>261306</td>\n",
       "      <td>72811</td>\n",
       "      <td>0.438</td>\n",
       "      <td>4.20</td>\n",
       "      <td>9.6</td>\n",
       "      <td>n</td>\n",
       "      <td>0.0</td>\n",
       "    </tr>\n",
       "  </tbody>\n",
       "</table>\n",
       "<p>664322 rows × 10 columns</p>\n",
       "</div>"
      ],
      "text/plain": [
       "              date  shop  pos    bask    item  item_quantity  item_spend  \\\n",
       "1         2018/6/1  D007    3  250451   13187          1.000        1.00   \n",
       "4         2018/6/1  D007    1  160905  195012          3.222       18.69   \n",
       "5         2018/6/1  D007    1  160905  194904          3.522       35.22   \n",
       "6         2018/6/1  D007    3  250458   56371          1.000        8.00   \n",
       "7         2018/6/1  D007    3  250241   75124         12.000       30.00   \n",
       "...            ...   ...  ...     ...     ...            ...         ...   \n",
       "1048570  2018/6/25  A009    1  261138  221691          1.000        1.00   \n",
       "1048571  2018/6/25  A009    1  261138  221691          1.000        1.00   \n",
       "1048572  2018/6/25  A009    2   53820  200455          0.234        5.99   \n",
       "1048573  2018/6/25  A009    1  261306     281          1.000        6.50   \n",
       "1048574  2018/6/25  A009    1  261306   72811          0.438        4.20   \n",
       "\n",
       "         price discount_type  discount  \n",
       "1          1.0             n       0.0  \n",
       "4          5.8             n       0.0  \n",
       "5         10.0             n       0.0  \n",
       "6          8.0             n       0.0  \n",
       "7          2.5             n       0.0  \n",
       "...        ...           ...       ...  \n",
       "1048570    1.0             n       0.0  \n",
       "1048571    1.0             n       0.0  \n",
       "1048572   25.6             n       0.0  \n",
       "1048573    6.5             n       0.0  \n",
       "1048574    9.6             n       0.0  \n",
       "\n",
       "[664322 rows x 10 columns]"
      ]
     },
     "execution_count": 193,
     "metadata": {},
     "output_type": "execute_result"
    }
   ],
   "source": [
    "#将数据按discount分组\n",
    "n=item[item.discount_type==\"n\"]\n",
    "p=item[item.discount_type==\"p\"]\n",
    "m=item[item.discount_type=='m']\n",
    "v=item[item.discount_type=='v']\n",
    "q=item[item.discount_type=='q']\n",
    "x=item[item.discount_type=='x']\n",
    "Z=item[item.discount_type=='Z']\n",
    "s=item[item.discount_type=='s']\n",
    "h=item[item.discount_type=='h']\n",
    "n"
   ]
  },
  {
   "cell_type": "code",
   "execution_count": 187,
   "metadata": {},
   "outputs": [
    {
     "data": {
      "text/plain": [
       "<matplotlib.axes._subplots.AxesSubplot at 0x1e2dab9ec08>"
      ]
     },
     "execution_count": 187,
     "metadata": {},
     "output_type": "execute_result"
    },
    {
     "data": {
      "image/png": "[encoded data removed]",
      "text/plain": [
       "<Figure size 864x432 with 1 Axes>"
      ]
     },
     "metadata": {
      "needs_background": "light"
     },
     "output_type": "display_data"
    }
   ],
   "source": [
    "#discount=apply(lambda item : item.discount)\n",
    "p=pd.Series([-n.discount.sum(), -p.discount.sum(), -m.discount.sum(), -v.discount.sum(), -q.discount.sum(),-x.discount.sum(),-Z.discount.sum(),-s.discount.sum(),-h.discount.sum()], index=['n', 'p', 'm', 'v', 'q','x','Z','s','h'])\n",
    "p.plot(kind='bar',color = 'blue', alpha = 0.7)"
   ]
  },
  {
   "cell_type": "code",
   "execution_count": 216,
   "metadata": {},
   "outputs": [
    {
     "data": {
      "image/png": "[encoded data removed]",
      "text/plain": [
       "<Figure size 864x432 with 1 Axes>"
      ]
     },
     "metadata": {},
     "output_type": "display_data"
    }
   ],
   "source": [
    "#绘制各折扣数量占比\n",
    "import numpy as np\n",
    "dis_count = item.discount_type.value_counts()  # 统计每种折扣数\n",
    "conti = list(dis_count.index)  # 获取各大州名称\n",
    "labels = conti\n",
    "colors = ['pink', 'lightyellow', 'lightgreen','lightblue','gold','lightcoral']\n",
    "plt.pie(dis_count, labels=labels, colors=colors,shadow=False, autopct='%1.1f%%',pctdistance = 0.6)  # autopct 显示占比\n",
    "\n",
    "plt.axis('equal')  # 调整坐标轴的比例\n",
    "plt.legend()\n",
    "plt.show()"
   ]
  },
  {
   "cell_type": "code",
   "execution_count": null,
   "metadata": {},
   "outputs": [],
   "source": []
  }
 ],
 "metadata": {
  "kernelspec": {
   "display_name": "Python 3",
   "language": "python",
   "name": "python3"
  },
  "language_info": {
   "codemirror_mode": {
    "name": "ipython",
    "version": 3
   },
   "file_extension": ".py",
   "mimetype": "text/x-python",
   "name": "python",
   "nbconvert_exporter": "python",
   "pygments_lexer": "ipython3",
   "version": "3.7.4"
  }
 },
 "nbformat": 4,
 "nbformat_minor": 4
}
