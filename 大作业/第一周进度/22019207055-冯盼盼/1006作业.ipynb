{
 "cells": [
  {
   "cell_type": "code",
   "execution_count": 2,
   "metadata": {},
   "outputs": [],
   "source": [
    "import pandas as pd \n",
    "import numpy as np\n",
    "import matplotlib.pyplot as plt\n",
    "import matplotlib\n",
    "from pandas import to_datetime"
   ]
  },
  {
   "cell_type": "code",
   "execution_count": 3,
   "metadata": {},
   "outputs": [],
   "source": [
    "data1=pd.read_csv('datastore1.csv',encoding=\"gb2312\")\n",
    "data2=pd.read_csv('datastore2.csv',encoding=\"gb2312\")"
   ]
  },
  {
   "cell_type": "code",
   "execution_count": 4,
   "metadata": {},
   "outputs": [],
   "source": [
    "data1.columns=['SDATE','STORE_CODE','POSID','BASK_CODE','BASK_SPEND']\n",
    "data2.columns=['SDATE','STORE_CODE','POSID','BASK_CODE','PROD_CODE','ITEM_QUANTITY','ITEM_SPEND','NORMAL_PRICE','DISCOUNT_TYPE','DISCOUNT_AMOUNT']"
   ]
  },
  {
   "cell_type": "code",
   "execution_count": 51,
   "metadata": {},
   "outputs": [
    {
     "data": {
      "text/html": [
       "<div>\n",
       "<style scoped>\n",
       "    .dataframe tbody tr th:only-of-type {\n",
       "        vertical-align: middle;\n",
       "    }\n",
       "\n",
       "    .dataframe tbody tr th {\n",
       "        vertical-align: top;\n",
       "    }\n",
       "\n",
       "    .dataframe thead th {\n",
       "        text-align: right;\n",
       "    }\n",
       "</style>\n",
       "<table border=\"1\" class=\"dataframe\">\n",
       "  <thead>\n",
       "    <tr style=\"text-align: right;\">\n",
       "      <th></th>\n",
       "      <th>SDATE</th>\n",
       "      <th>STORE_CODE</th>\n",
       "      <th>POSID</th>\n",
       "      <th>BASK_CODE</th>\n",
       "      <th>BASK_SPEND</th>\n",
       "    </tr>\n",
       "  </thead>\n",
       "  <tbody>\n",
       "    <tr>\n",
       "      <td>571547</td>\n",
       "      <td>2018/7/5</td>\n",
       "      <td>A010</td>\n",
       "      <td>2</td>\n",
       "      <td>284211</td>\n",
       "      <td>34.71</td>\n",
       "    </tr>\n",
       "    <tr>\n",
       "      <td>571548</td>\n",
       "      <td>2018/7/5</td>\n",
       "      <td>A010</td>\n",
       "      <td>2</td>\n",
       "      <td>284601</td>\n",
       "      <td>44.80</td>\n",
       "    </tr>\n",
       "    <tr>\n",
       "      <td>571549</td>\n",
       "      <td>2018/7/5</td>\n",
       "      <td>A010</td>\n",
       "      <td>2</td>\n",
       "      <td>284241</td>\n",
       "      <td>6.50</td>\n",
       "    </tr>\n",
       "    <tr>\n",
       "      <td>571550</td>\n",
       "      <td>2018/7/5</td>\n",
       "      <td>A010</td>\n",
       "      <td>2</td>\n",
       "      <td>284352</td>\n",
       "      <td>15.90</td>\n",
       "    </tr>\n",
       "    <tr>\n",
       "      <td>571551</td>\n",
       "      <td>2018/7/5</td>\n",
       "      <td>A010</td>\n",
       "      <td>2</td>\n",
       "      <td>284265</td>\n",
       "      <td>43.20</td>\n",
       "    </tr>\n",
       "  </tbody>\n",
       "</table>\n",
       "</div>"
      ],
      "text/plain": [
       "           SDATE STORE_CODE  POSID  BASK_CODE  BASK_SPEND\n",
       "571547  2018/7/5       A010      2     284211       34.71\n",
       "571548  2018/7/5       A010      2     284601       44.80\n",
       "571549  2018/7/5       A010      2     284241        6.50\n",
       "571550  2018/7/5       A010      2     284352       15.90\n",
       "571551  2018/7/5       A010      2     284265       43.20"
      ]
     },
     "execution_count": 51,
     "metadata": {},
     "output_type": "execute_result"
    }
   ],
   "source": [
    "data1.tail()"
   ]
  },
  {
   "cell_type": "code",
   "execution_count": 52,
   "metadata": {},
   "outputs": [
    {
     "data": {
      "text/html": [
       "<div>\n",
       "<style scoped>\n",
       "    .dataframe tbody tr th:only-of-type {\n",
       "        vertical-align: middle;\n",
       "    }\n",
       "\n",
       "    .dataframe tbody tr th {\n",
       "        vertical-align: top;\n",
       "    }\n",
       "\n",
       "    .dataframe thead th {\n",
       "        text-align: right;\n",
       "    }\n",
       "</style>\n",
       "<table border=\"1\" class=\"dataframe\">\n",
       "  <thead>\n",
       "    <tr style=\"text-align: right;\">\n",
       "      <th></th>\n",
       "      <th>SDATE</th>\n",
       "      <th>STORE_CODE</th>\n",
       "      <th>POSID</th>\n",
       "      <th>BASK_CODE</th>\n",
       "      <th>PROD_CODE</th>\n",
       "      <th>ITEM_QUANTITY</th>\n",
       "      <th>ITEM_SPEND</th>\n",
       "      <th>NORMAL_PRICE</th>\n",
       "      <th>DISCOUNT_TYPE</th>\n",
       "      <th>DISCOUNT_AMOUNT</th>\n",
       "    </tr>\n",
       "  </thead>\n",
       "  <tbody>\n",
       "    <tr>\n",
       "      <td>1732756</td>\n",
       "      <td>2018-07-05</td>\n",
       "      <td>A010</td>\n",
       "      <td>2</td>\n",
       "      <td>284254</td>\n",
       "      <td>144474</td>\n",
       "      <td>0.47</td>\n",
       "      <td>26.32</td>\n",
       "      <td>56.0</td>\n",
       "      <td>n</td>\n",
       "      <td>0.0</td>\n",
       "    </tr>\n",
       "    <tr>\n",
       "      <td>1732757</td>\n",
       "      <td>2018-07-05</td>\n",
       "      <td>A010</td>\n",
       "      <td>2</td>\n",
       "      <td>284265</td>\n",
       "      <td>2243</td>\n",
       "      <td>24.00</td>\n",
       "      <td>43.20</td>\n",
       "      <td>1.8</td>\n",
       "      <td>n</td>\n",
       "      <td>0.0</td>\n",
       "    </tr>\n",
       "    <tr>\n",
       "      <td>1732758</td>\n",
       "      <td>2018-07-05</td>\n",
       "      <td>A010</td>\n",
       "      <td>2</td>\n",
       "      <td>284406</td>\n",
       "      <td>216571</td>\n",
       "      <td>1.00</td>\n",
       "      <td>14.50</td>\n",
       "      <td>14.5</td>\n",
       "      <td>n</td>\n",
       "      <td>0.0</td>\n",
       "    </tr>\n",
       "    <tr>\n",
       "      <td>1732759</td>\n",
       "      <td>2018-07-05</td>\n",
       "      <td>A010</td>\n",
       "      <td>2</td>\n",
       "      <td>284266</td>\n",
       "      <td>223768</td>\n",
       "      <td>1.00</td>\n",
       "      <td>2.50</td>\n",
       "      <td>3.0</td>\n",
       "      <td>m</td>\n",
       "      <td>-0.5</td>\n",
       "    </tr>\n",
       "    <tr>\n",
       "      <td>1732760</td>\n",
       "      <td>2018-07-05</td>\n",
       "      <td>A010</td>\n",
       "      <td>2</td>\n",
       "      <td>284263</td>\n",
       "      <td>205100</td>\n",
       "      <td>1.00</td>\n",
       "      <td>6.80</td>\n",
       "      <td>6.8</td>\n",
       "      <td>n</td>\n",
       "      <td>0.0</td>\n",
       "    </tr>\n",
       "  </tbody>\n",
       "</table>\n",
       "</div>"
      ],
      "text/plain": [
       "              SDATE STORE_CODE  POSID  BASK_CODE  PROD_CODE  ITEM_QUANTITY  \\\n",
       "1732756  2018-07-05       A010      2     284254     144474           0.47   \n",
       "1732757  2018-07-05       A010      2     284265       2243          24.00   \n",
       "1732758  2018-07-05       A010      2     284406     216571           1.00   \n",
       "1732759  2018-07-05       A010      2     284266     223768           1.00   \n",
       "1732760  2018-07-05       A010      2     284263     205100           1.00   \n",
       "\n",
       "         ITEM_SPEND  NORMAL_PRICE DISCOUNT_TYPE  DISCOUNT_AMOUNT  \n",
       "1732756       26.32          56.0             n              0.0  \n",
       "1732757       43.20           1.8             n              0.0  \n",
       "1732758       14.50          14.5             n              0.0  \n",
       "1732759        2.50           3.0             m             -0.5  \n",
       "1732760        6.80           6.8             n              0.0  "
      ]
     },
     "execution_count": 52,
     "metadata": {},
     "output_type": "execute_result"
    }
   ],
   "source": [
    "data2.tail()"
   ]
  },
  {
   "cell_type": "code",
   "execution_count": 53,
   "metadata": {},
   "outputs": [
    {
     "data": {
      "text/plain": [
       "SDATE         0\n",
       "STORE_CODE    0\n",
       "POSID         0\n",
       "BASK_CODE     0\n",
       "BASK_SPEND    0\n",
       "dtype: int64"
      ]
     },
     "execution_count": 53,
     "metadata": {},
     "output_type": "execute_result"
    }
   ],
   "source": [
    "#判断有无缺失值\n",
    "data1.isnull().sum(axis=0)"
   ]
  },
  {
   "cell_type": "code",
   "execution_count": 54,
   "metadata": {},
   "outputs": [
    {
     "data": {
      "text/plain": [
       "SDATE              0\n",
       "STORE_CODE         0\n",
       "POSID              0\n",
       "BASK_CODE          0\n",
       "PROD_CODE          0\n",
       "ITEM_QUANTITY      0\n",
       "ITEM_SPEND         0\n",
       "NORMAL_PRICE       0\n",
       "DISCOUNT_TYPE      0\n",
       "DISCOUNT_AMOUNT    0\n",
       "dtype: int64"
      ]
     },
     "execution_count": 54,
     "metadata": {},
     "output_type": "execute_result"
    }
   ],
   "source": [
    "data2.isnull().sum(axis=0)"
   ]
  },
  {
   "cell_type": "code",
   "execution_count": 55,
   "metadata": {},
   "outputs": [
    {
     "data": {
      "text/plain": [
       "0"
      ]
     },
     "execution_count": 55,
     "metadata": {},
     "output_type": "execute_result"
    }
   ],
   "source": [
    "data1.duplicated().sum()"
   ]
  },
  {
   "cell_type": "code",
   "execution_count": 56,
   "metadata": {},
   "outputs": [
    {
     "data": {
      "text/plain": [
       "212724"
      ]
     },
     "execution_count": 56,
     "metadata": {},
     "output_type": "execute_result"
    }
   ],
   "source": [
    "data2.duplicated().sum()#有重复是因为购买了同一物品购买多次"
   ]
  },
  {
   "cell_type": "code",
   "execution_count": 57,
   "metadata": {},
   "outputs": [
    {
     "data": {
      "text/plain": [
       "24"
      ]
     },
     "execution_count": 57,
     "metadata": {},
     "output_type": "execute_result"
    }
   ],
   "source": [
    "#共有多少个商店\n",
    "store_number=data1.drop_duplicates(subset=['STORE_CODE'])\n",
    "store_number.shape[0]"
   ]
  },
  {
   "cell_type": "code",
   "execution_count": 58,
   "metadata": {},
   "outputs": [
    {
     "data": {
      "text/plain": [
       "24"
      ]
     },
     "execution_count": 58,
     "metadata": {},
     "output_type": "execute_result"
    }
   ],
   "source": [
    "store_number=data2.drop_duplicates(subset=['STORE_CODE'])\n",
    "store_number.shape[0]\n",
    "#通过data1和data2的分析得知共有24个store"
   ]
  },
  {
   "cell_type": "code",
   "execution_count": 59,
   "metadata": {},
   "outputs": [],
   "source": [
    "#由下图可以看出从6月1号至7月5号各个店的销售次数情况（不等于销售金额）。"
   ]
  },
  {
   "cell_type": "code",
   "execution_count": 60,
   "metadata": {},
   "outputs": [
    {
     "data": {
      "text/plain": [
       "array([ 0,  1,  2,  3,  4,  5,  6,  7,  8,  9, 10, 11, 12, 13, 14, 15, 16,\n",
       "       17, 18, 19, 20, 21, 22, 23])"
      ]
     },
     "execution_count": 60,
     "metadata": {},
     "output_type": "execute_result"
    }
   ],
   "source": [
    "a=data1['STORE_CODE'].value_counts()\n",
    "STORE_code=list(data1['STORE_CODE'].unique())\n",
    "x1=np.arange(len(STORE_code))\n",
    "x1"
   ]
  },
  {
   "cell_type": "code",
   "execution_count": 61,
   "metadata": {},
   "outputs": [
    {
     "data": {
      "text/plain": [
       "A001    66735\n",
       "D002    63114\n",
       "D007    37605\n",
       "A008    36576\n",
       "A013    30138\n",
       "A006    28547\n",
       "A012    25024\n",
       "A009    21872\n",
       "D004    21410\n",
       "D008    21057\n",
       "A021    20660\n",
       "A010    19592\n",
       "D006    18641\n",
       "A016    18341\n",
       "A007    18041\n",
       "A019    17019\n",
       "D009    15876\n",
       "A018    15771\n",
       "D005    15328\n",
       "A022    15304\n",
       "A004    13490\n",
       "A017    12513\n",
       "D010    11095\n",
       "D003     7803\n",
       "Name: STORE_CODE, dtype: int64"
      ]
     },
     "execution_count": 61,
     "metadata": {},
     "output_type": "execute_result"
    }
   ],
   "source": [
    "a"
   ]
  },
  {
   "cell_type": "code",
   "execution_count": 62,
   "metadata": {},
   "outputs": [
    {
     "data": {
      "text/plain": [
       "pandas.core.series.Series"
      ]
     },
     "execution_count": 62,
     "metadata": {},
     "output_type": "execute_result"
    }
   ],
   "source": [
    "type(a)"
   ]
  },
  {
   "cell_type": "code",
   "execution_count": 63,
   "metadata": {},
   "outputs": [
    {
     "data": {
      "image/png": "[encoded data removed]",
      "text/plain": [
       "<Figure size 432x288 with 1 Axes>"
      ]
     },
     "metadata": {
      "needs_background": "light"
     },
     "output_type": "display_data"
    }
   ],
   "source": [
    "plt.bar(x1, a)\n",
    "plt.xticks(x1, STORE_code,rotation=60)\n",
    "plt.show()"
   ]
  },
  {
   "cell_type": "code",
   "execution_count": null,
   "metadata": {},
   "outputs": [],
   "source": [
    "#D007销售次数最多，A008销售次数最少。但不代表金额的多少。"
   ]
  },
  {
   "cell_type": "code",
   "execution_count": 64,
   "metadata": {},
   "outputs": [],
   "source": [
    "#由下图可以看出所有超市在6月1日至7月5日售出商品种类的多少。"
   ]
  },
  {
   "cell_type": "code",
   "execution_count": 5,
   "metadata": {},
   "outputs": [],
   "source": [
    "b=data2['PROD_CODE'].value_counts()\n",
    "PROD_code=list(data2['PROD_CODE'].unique())\n",
    "x2=np.arange(len(PROD_code))"
   ]
  },
  {
   "cell_type": "code",
   "execution_count": 6,
   "metadata": {},
   "outputs": [
    {
     "data": {
      "text/plain": [
       "19271"
      ]
     },
     "execution_count": 6,
     "metadata": {},
     "output_type": "execute_result"
    }
   ],
   "source": [
    "len(b)"
   ]
  },
  {
   "cell_type": "code",
   "execution_count": 7,
   "metadata": {},
   "outputs": [
    {
     "data": {
      "text/plain": [
       "205540    12622\n",
       "21835     10459\n",
       "194690     9548\n",
       "72811      7747\n",
       "178462     7373\n",
       "Name: PROD_CODE, dtype: int64"
      ]
     },
     "execution_count": 7,
     "metadata": {},
     "output_type": "execute_result"
    }
   ],
   "source": [
    "b.head()"
   ]
  },
  {
   "cell_type": "code",
   "execution_count": 8,
   "metadata": {},
   "outputs": [],
   "source": [
    "#从上述过程可知，所有超市售出共有商品19270种，其中商品205540的销售次数最多。"
   ]
  },
  {
   "cell_type": "code",
   "execution_count": 9,
   "metadata": {},
   "outputs": [],
   "source": [
    "#极端总消费金额\n",
    "totalMoney = data1.loc[:,'BASK_SPEND'].sum()"
   ]
  },
  {
   "cell_type": "code",
   "execution_count": 10,
   "metadata": {},
   "outputs": [
    {
     "data": {
      "text/html": [
       "<div>\n",
       "<style scoped>\n",
       "    .dataframe tbody tr th:only-of-type {\n",
       "        vertical-align: middle;\n",
       "    }\n",
       "\n",
       "    .dataframe tbody tr th {\n",
       "        vertical-align: top;\n",
       "    }\n",
       "\n",
       "    .dataframe thead th {\n",
       "        text-align: right;\n",
       "    }\n",
       "</style>\n",
       "<table border=\"1\" class=\"dataframe\">\n",
       "  <thead>\n",
       "    <tr style=\"text-align: right;\">\n",
       "      <th></th>\n",
       "      <th>SDATE</th>\n",
       "      <th>STORE_CODE</th>\n",
       "      <th>POSID</th>\n",
       "      <th>BASK_CODE</th>\n",
       "      <th>BASK_SPEND</th>\n",
       "    </tr>\n",
       "  </thead>\n",
       "  <tbody>\n",
       "    <tr>\n",
       "      <td>0</td>\n",
       "      <td>2018/6/1</td>\n",
       "      <td>D007</td>\n",
       "      <td>3</td>\n",
       "      <td>250458</td>\n",
       "      <td>8.00</td>\n",
       "    </tr>\n",
       "    <tr>\n",
       "      <td>24</td>\n",
       "      <td>2018/6/2</td>\n",
       "      <td>A001</td>\n",
       "      <td>6</td>\n",
       "      <td>229732</td>\n",
       "      <td>7.50</td>\n",
       "    </tr>\n",
       "    <tr>\n",
       "      <td>4386</td>\n",
       "      <td>2018/6/7</td>\n",
       "      <td>A019</td>\n",
       "      <td>1</td>\n",
       "      <td>195762</td>\n",
       "      <td>34.70</td>\n",
       "    </tr>\n",
       "    <tr>\n",
       "      <td>4408</td>\n",
       "      <td>2018/6/8</td>\n",
       "      <td>A016</td>\n",
       "      <td>1</td>\n",
       "      <td>82847</td>\n",
       "      <td>18.50</td>\n",
       "    </tr>\n",
       "    <tr>\n",
       "      <td>4424</td>\n",
       "      <td>2018/6/5</td>\n",
       "      <td>D003</td>\n",
       "      <td>2</td>\n",
       "      <td>54249</td>\n",
       "      <td>21.00</td>\n",
       "    </tr>\n",
       "    <tr>\n",
       "      <td>5892</td>\n",
       "      <td>2018/6/4</td>\n",
       "      <td>D002</td>\n",
       "      <td>2</td>\n",
       "      <td>15636</td>\n",
       "      <td>28.40</td>\n",
       "    </tr>\n",
       "    <tr>\n",
       "      <td>5911</td>\n",
       "      <td>2018/6/6</td>\n",
       "      <td>A001</td>\n",
       "      <td>2</td>\n",
       "      <td>127118</td>\n",
       "      <td>68.00</td>\n",
       "    </tr>\n",
       "    <tr>\n",
       "      <td>7195</td>\n",
       "      <td>2018/6/3</td>\n",
       "      <td>D002</td>\n",
       "      <td>4</td>\n",
       "      <td>144914</td>\n",
       "      <td>79.30</td>\n",
       "    </tr>\n",
       "    <tr>\n",
       "      <td>16000</td>\n",
       "      <td>2018/6/10</td>\n",
       "      <td>A012</td>\n",
       "      <td>2</td>\n",
       "      <td>289007</td>\n",
       "      <td>4.60</td>\n",
       "    </tr>\n",
       "    <tr>\n",
       "      <td>16034</td>\n",
       "      <td>2018/6/14</td>\n",
       "      <td>A001</td>\n",
       "      <td>3</td>\n",
       "      <td>31177</td>\n",
       "      <td>64.40</td>\n",
       "    </tr>\n",
       "    <tr>\n",
       "      <td>16121</td>\n",
       "      <td>2018/6/13</td>\n",
       "      <td>A013</td>\n",
       "      <td>2</td>\n",
       "      <td>201742</td>\n",
       "      <td>3.90</td>\n",
       "    </tr>\n",
       "    <tr>\n",
       "      <td>17529</td>\n",
       "      <td>2018/6/12</td>\n",
       "      <td>D010</td>\n",
       "      <td>3</td>\n",
       "      <td>186161</td>\n",
       "      <td>58.65</td>\n",
       "    </tr>\n",
       "    <tr>\n",
       "      <td>19186</td>\n",
       "      <td>2018/6/9</td>\n",
       "      <td>A012</td>\n",
       "      <td>2</td>\n",
       "      <td>288858</td>\n",
       "      <td>4.50</td>\n",
       "    </tr>\n",
       "    <tr>\n",
       "      <td>20605</td>\n",
       "      <td>2018/6/11</td>\n",
       "      <td>A013</td>\n",
       "      <td>6</td>\n",
       "      <td>154966</td>\n",
       "      <td>1.80</td>\n",
       "    </tr>\n",
       "    <tr>\n",
       "      <td>28136</td>\n",
       "      <td>2018/6/17</td>\n",
       "      <td>A009</td>\n",
       "      <td>2</td>\n",
       "      <td>52706</td>\n",
       "      <td>148.80</td>\n",
       "    </tr>\n",
       "    <tr>\n",
       "      <td>28165</td>\n",
       "      <td>2018/6/18</td>\n",
       "      <td>A001</td>\n",
       "      <td>6</td>\n",
       "      <td>240404</td>\n",
       "      <td>10.40</td>\n",
       "    </tr>\n",
       "    <tr>\n",
       "      <td>28191</td>\n",
       "      <td>2018/6/16</td>\n",
       "      <td>A009</td>\n",
       "      <td>2</td>\n",
       "      <td>52601</td>\n",
       "      <td>5.20</td>\n",
       "    </tr>\n",
       "    <tr>\n",
       "      <td>29739</td>\n",
       "      <td>2018/6/15</td>\n",
       "      <td>D002</td>\n",
       "      <td>5</td>\n",
       "      <td>215117</td>\n",
       "      <td>27.59</td>\n",
       "    </tr>\n",
       "    <tr>\n",
       "      <td>37427</td>\n",
       "      <td>2018/6/19</td>\n",
       "      <td>A001</td>\n",
       "      <td>2</td>\n",
       "      <td>134543</td>\n",
       "      <td>33.00</td>\n",
       "    </tr>\n",
       "    <tr>\n",
       "      <td>40646</td>\n",
       "      <td>2018/6/20</td>\n",
       "      <td>A013</td>\n",
       "      <td>2</td>\n",
       "      <td>206761</td>\n",
       "      <td>21.02</td>\n",
       "    </tr>\n",
       "    <tr>\n",
       "      <td>40667</td>\n",
       "      <td>2018/6/22</td>\n",
       "      <td>A001</td>\n",
       "      <td>6</td>\n",
       "      <td>242943</td>\n",
       "      <td>88.30</td>\n",
       "    </tr>\n",
       "    <tr>\n",
       "      <td>42261</td>\n",
       "      <td>2018/6/24</td>\n",
       "      <td>D009</td>\n",
       "      <td>3</td>\n",
       "      <td>156670</td>\n",
       "      <td>33.70</td>\n",
       "    </tr>\n",
       "    <tr>\n",
       "      <td>42273</td>\n",
       "      <td>2018/6/25</td>\n",
       "      <td>A004</td>\n",
       "      <td>2</td>\n",
       "      <td>120306</td>\n",
       "      <td>163.90</td>\n",
       "    </tr>\n",
       "    <tr>\n",
       "      <td>43898</td>\n",
       "      <td>2018/6/23</td>\n",
       "      <td>D004</td>\n",
       "      <td>2</td>\n",
       "      <td>20252</td>\n",
       "      <td>60.20</td>\n",
       "    </tr>\n",
       "    <tr>\n",
       "      <td>45374</td>\n",
       "      <td>2018/6/21</td>\n",
       "      <td>D002</td>\n",
       "      <td>6</td>\n",
       "      <td>213925</td>\n",
       "      <td>11.90</td>\n",
       "    </tr>\n",
       "    <tr>\n",
       "      <td>46873</td>\n",
       "      <td>2018/6/26</td>\n",
       "      <td>A001</td>\n",
       "      <td>6</td>\n",
       "      <td>245616</td>\n",
       "      <td>119.40</td>\n",
       "    </tr>\n",
       "    <tr>\n",
       "      <td>53410</td>\n",
       "      <td>2018/6/27</td>\n",
       "      <td>A022</td>\n",
       "      <td>2</td>\n",
       "      <td>69644</td>\n",
       "      <td>18.80</td>\n",
       "    </tr>\n",
       "    <tr>\n",
       "      <td>53412</td>\n",
       "      <td>2018/6/30</td>\n",
       "      <td>A009</td>\n",
       "      <td>1</td>\n",
       "      <td>264225</td>\n",
       "      <td>31.70</td>\n",
       "    </tr>\n",
       "    <tr>\n",
       "      <td>53435</td>\n",
       "      <td>2018/7/1</td>\n",
       "      <td>A021</td>\n",
       "      <td>2</td>\n",
       "      <td>104819</td>\n",
       "      <td>65.80</td>\n",
       "    </tr>\n",
       "    <tr>\n",
       "      <td>53458</td>\n",
       "      <td>2018/7/2</td>\n",
       "      <td>A001</td>\n",
       "      <td>6</td>\n",
       "      <td>249085</td>\n",
       "      <td>13.50</td>\n",
       "    </tr>\n",
       "    <tr>\n",
       "      <td>58310</td>\n",
       "      <td>2018/6/29</td>\n",
       "      <td>A018</td>\n",
       "      <td>1</td>\n",
       "      <td>214748</td>\n",
       "      <td>59.40</td>\n",
       "    </tr>\n",
       "    <tr>\n",
       "      <td>59729</td>\n",
       "      <td>2018/6/28</td>\n",
       "      <td>A013</td>\n",
       "      <td>6</td>\n",
       "      <td>162428</td>\n",
       "      <td>29.80</td>\n",
       "    </tr>\n",
       "    <tr>\n",
       "      <td>65804</td>\n",
       "      <td>2018/7/3</td>\n",
       "      <td>A016</td>\n",
       "      <td>1</td>\n",
       "      <td>98587</td>\n",
       "      <td>7.80</td>\n",
       "    </tr>\n",
       "    <tr>\n",
       "      <td>65812</td>\n",
       "      <td>2018/7/5</td>\n",
       "      <td>D002</td>\n",
       "      <td>5</td>\n",
       "      <td>224624</td>\n",
       "      <td>9.93</td>\n",
       "    </tr>\n",
       "    <tr>\n",
       "      <td>67565</td>\n",
       "      <td>2018/7/4</td>\n",
       "      <td>A018</td>\n",
       "      <td>1</td>\n",
       "      <td>217435</td>\n",
       "      <td>3.00</td>\n",
       "    </tr>\n",
       "  </tbody>\n",
       "</table>\n",
       "</div>"
      ],
      "text/plain": [
       "           SDATE STORE_CODE  POSID  BASK_CODE  BASK_SPEND\n",
       "0       2018/6/1       D007      3     250458        8.00\n",
       "24      2018/6/2       A001      6     229732        7.50\n",
       "4386    2018/6/7       A019      1     195762       34.70\n",
       "4408    2018/6/8       A016      1      82847       18.50\n",
       "4424    2018/6/5       D003      2      54249       21.00\n",
       "5892    2018/6/4       D002      2      15636       28.40\n",
       "5911    2018/6/6       A001      2     127118       68.00\n",
       "7195    2018/6/3       D002      4     144914       79.30\n",
       "16000  2018/6/10       A012      2     289007        4.60\n",
       "16034  2018/6/14       A001      3      31177       64.40\n",
       "16121  2018/6/13       A013      2     201742        3.90\n",
       "17529  2018/6/12       D010      3     186161       58.65\n",
       "19186   2018/6/9       A012      2     288858        4.50\n",
       "20605  2018/6/11       A013      6     154966        1.80\n",
       "28136  2018/6/17       A009      2      52706      148.80\n",
       "28165  2018/6/18       A001      6     240404       10.40\n",
       "28191  2018/6/16       A009      2      52601        5.20\n",
       "29739  2018/6/15       D002      5     215117       27.59\n",
       "37427  2018/6/19       A001      2     134543       33.00\n",
       "40646  2018/6/20       A013      2     206761       21.02\n",
       "40667  2018/6/22       A001      6     242943       88.30\n",
       "42261  2018/6/24       D009      3     156670       33.70\n",
       "42273  2018/6/25       A004      2     120306      163.90\n",
       "43898  2018/6/23       D004      2      20252       60.20\n",
       "45374  2018/6/21       D002      6     213925       11.90\n",
       "46873  2018/6/26       A001      6     245616      119.40\n",
       "53410  2018/6/27       A022      2      69644       18.80\n",
       "53412  2018/6/30       A009      1     264225       31.70\n",
       "53435   2018/7/1       A021      2     104819       65.80\n",
       "53458   2018/7/2       A001      6     249085       13.50\n",
       "58310  2018/6/29       A018      1     214748       59.40\n",
       "59729  2018/6/28       A013      6     162428       29.80\n",
       "65804   2018/7/3       A016      1      98587        7.80\n",
       "65812   2018/7/5       D002      5     224624        9.93\n",
       "67565   2018/7/4       A018      1     217435        3.00"
      ]
     },
     "execution_count": 10,
     "metadata": {},
     "output_type": "execute_result"
    }
   ],
   "source": [
    "#不重复的获取时间\n",
    "DAYS= data1.drop_duplicates(subset=['SDATE'])\n",
    "DAYS"
   ]
  },
  {
   "cell_type": "code",
   "execution_count": 11,
   "metadata": {},
   "outputs": [
    {
     "data": {
      "text/plain": [
       "35"
      ]
     },
     "execution_count": 11,
     "metadata": {},
     "output_type": "execute_result"
    }
   ],
   "source": [
    "totalI = DAYS.shape[0]\n",
    "totalI"
   ]
  },
  {
   "cell_type": "code",
   "execution_count": 12,
   "metadata": {},
   "outputs": [
    {
     "data": {
      "text/plain": [
       "636436.0"
      ]
     },
     "execution_count": 12,
     "metadata": {},
     "output_type": "execute_result"
    }
   ],
   "source": [
    "#日售卖金额\n",
    "days_m=totalMoney//totalI\n",
    "days_m"
   ]
  },
  {
   "cell_type": "code",
   "execution_count": 13,
   "metadata": {},
   "outputs": [
    {
     "data": {
      "text/plain": [
       "38.0"
      ]
     },
     "execution_count": 13,
     "metadata": {},
     "output_type": "execute_result"
    }
   ],
   "source": [
    "#每次售卖的平均金额\n",
    "total_costnumber=data1.shape[0]\n",
    "day_cost=totalMoney//total_costnumber\n",
    "day_cost"
   ]
  },
  {
   "cell_type": "code",
   "execution_count": 14,
   "metadata": {},
   "outputs": [
    {
     "data": {
      "text/html": [
       "<div>\n",
       "<style scoped>\n",
       "    .dataframe tbody tr th:only-of-type {\n",
       "        vertical-align: middle;\n",
       "    }\n",
       "\n",
       "    .dataframe tbody tr th {\n",
       "        vertical-align: top;\n",
       "    }\n",
       "\n",
       "    .dataframe thead th {\n",
       "        text-align: right;\n",
       "    }\n",
       "</style>\n",
       "<table border=\"1\" class=\"dataframe\">\n",
       "  <thead>\n",
       "    <tr style=\"text-align: right;\">\n",
       "      <th></th>\n",
       "      <th>SDATE</th>\n",
       "      <th>STORE_CODE</th>\n",
       "      <th>POSID</th>\n",
       "      <th>BASK_CODE</th>\n",
       "      <th>BASK_SPEND</th>\n",
       "    </tr>\n",
       "  </thead>\n",
       "  <tbody>\n",
       "    <tr>\n",
       "      <td>0</td>\n",
       "      <td>2018-06-01</td>\n",
       "      <td>D007</td>\n",
       "      <td>3</td>\n",
       "      <td>250458</td>\n",
       "      <td>8.00</td>\n",
       "    </tr>\n",
       "    <tr>\n",
       "      <td>1</td>\n",
       "      <td>2018-06-01</td>\n",
       "      <td>D007</td>\n",
       "      <td>3</td>\n",
       "      <td>250200</td>\n",
       "      <td>32.70</td>\n",
       "    </tr>\n",
       "    <tr>\n",
       "      <td>2</td>\n",
       "      <td>2018-06-01</td>\n",
       "      <td>D007</td>\n",
       "      <td>1</td>\n",
       "      <td>161068</td>\n",
       "      <td>16.80</td>\n",
       "    </tr>\n",
       "    <tr>\n",
       "      <td>3</td>\n",
       "      <td>2018-06-01</td>\n",
       "      <td>D007</td>\n",
       "      <td>8</td>\n",
       "      <td>5325</td>\n",
       "      <td>30.40</td>\n",
       "    </tr>\n",
       "    <tr>\n",
       "      <td>4</td>\n",
       "      <td>2018-06-01</td>\n",
       "      <td>D007</td>\n",
       "      <td>8</td>\n",
       "      <td>5361</td>\n",
       "      <td>191.30</td>\n",
       "    </tr>\n",
       "    <tr>\n",
       "      <td>...</td>\n",
       "      <td>...</td>\n",
       "      <td>...</td>\n",
       "      <td>...</td>\n",
       "      <td>...</td>\n",
       "      <td>...</td>\n",
       "    </tr>\n",
       "    <tr>\n",
       "      <td>571547</td>\n",
       "      <td>2018-07-05</td>\n",
       "      <td>A010</td>\n",
       "      <td>2</td>\n",
       "      <td>284211</td>\n",
       "      <td>34.71</td>\n",
       "    </tr>\n",
       "    <tr>\n",
       "      <td>571548</td>\n",
       "      <td>2018-07-05</td>\n",
       "      <td>A010</td>\n",
       "      <td>2</td>\n",
       "      <td>284601</td>\n",
       "      <td>44.80</td>\n",
       "    </tr>\n",
       "    <tr>\n",
       "      <td>571549</td>\n",
       "      <td>2018-07-05</td>\n",
       "      <td>A010</td>\n",
       "      <td>2</td>\n",
       "      <td>284241</td>\n",
       "      <td>6.50</td>\n",
       "    </tr>\n",
       "    <tr>\n",
       "      <td>571550</td>\n",
       "      <td>2018-07-05</td>\n",
       "      <td>A010</td>\n",
       "      <td>2</td>\n",
       "      <td>284352</td>\n",
       "      <td>15.90</td>\n",
       "    </tr>\n",
       "    <tr>\n",
       "      <td>571551</td>\n",
       "      <td>2018-07-05</td>\n",
       "      <td>A010</td>\n",
       "      <td>2</td>\n",
       "      <td>284265</td>\n",
       "      <td>43.20</td>\n",
       "    </tr>\n",
       "  </tbody>\n",
       "</table>\n",
       "<p>571552 rows × 5 columns</p>\n",
       "</div>"
      ],
      "text/plain": [
       "            SDATE STORE_CODE  POSID  BASK_CODE  BASK_SPEND\n",
       "0      2018-06-01       D007      3     250458        8.00\n",
       "1      2018-06-01       D007      3     250200       32.70\n",
       "2      2018-06-01       D007      1     161068       16.80\n",
       "3      2018-06-01       D007      8       5325       30.40\n",
       "4      2018-06-01       D007      8       5361      191.30\n",
       "...           ...        ...    ...        ...         ...\n",
       "571547 2018-07-05       A010      2     284211       34.71\n",
       "571548 2018-07-05       A010      2     284601       44.80\n",
       "571549 2018-07-05       A010      2     284241        6.50\n",
       "571550 2018-07-05       A010      2     284352       15.90\n",
       "571551 2018-07-05       A010      2     284265       43.20\n",
       "\n",
       "[571552 rows x 5 columns]"
      ]
     },
     "execution_count": 14,
     "metadata": {},
     "output_type": "execute_result"
    }
   ],
   "source": [
    "from pandas import to_datetime\n",
    "#时间转化\n",
    "groupdata1=data1\n",
    "groupdata1.SDATE=to_datetime(groupdata1.SDATE,format=\"%Y/%m/%d\")\n",
    "groupdata1"
   ]
  },
  {
   "cell_type": "code",
   "execution_count": 15,
   "metadata": {},
   "outputs": [],
   "source": [
    "#按时间排序\n",
    "groupdata1.sort_values(by='SDATE', inplace=True)"
   ]
  },
  {
   "cell_type": "code",
   "execution_count": 16,
   "metadata": {},
   "outputs": [
    {
     "data": {
      "text/plain": [
       "<pandas.core.groupby.generic.DataFrameGroupBy object at 0x000002288F16FE88>"
      ]
     },
     "execution_count": 16,
     "metadata": {},
     "output_type": "execute_result"
    }
   ],
   "source": [
    "#进行数据的分组以及分组后地组内运算\n",
    "#描述组内数据的基本统计量,只有数字类型的列数据才会计算统计\n",
    "#按照时间分组\n",
    "gb = groupdata1.groupby(groupdata1.SDATE)\n",
    "gb"
   ]
  },
  {
   "cell_type": "code",
   "execution_count": 17,
   "metadata": {},
   "outputs": [],
   "source": [
    "#对应时间相加\n",
    "day_data1 = gb.sum()"
   ]
  },
  {
   "cell_type": "code",
   "execution_count": 18,
   "metadata": {},
   "outputs": [
    {
     "data": {
      "text/plain": [
       "pandas.core.frame.DataFrame"
      ]
     },
     "execution_count": 18,
     "metadata": {},
     "output_type": "execute_result"
    }
   ],
   "source": [
    "type(day_data1)"
   ]
  },
  {
   "cell_type": "code",
   "execution_count": 78,
   "metadata": {},
   "outputs": [
    {
     "name": "stdout",
     "output_type": "stream",
     "text": [
      "            POSID   BASK_CODE  BASK_SPEND\n",
      "SDATE                                    \n",
      "2018-06-01  57571  2709149300   717327.28\n",
      "2018-06-02  56412  2874144244   727910.16\n",
      "2018-06-03  53899  2703022403   682779.75\n",
      "2018-06-04  46363  2374427526   557813.05\n",
      "2018-06-05  51142  2567130788   663394.81\n",
      "2018-06-06  46109  2452612615   498250.71\n",
      "2018-06-07  40521  2275945537   436109.19\n",
      "2018-06-08  45380  2544741536   564402.27\n",
      "2018-06-09  49189  2746183916   679629.48\n",
      "2018-06-10  53766  3046474425   702961.56\n",
      "2018-06-11  42812  2498894752   532263.20\n",
      "2018-06-12  43866  2616270247   569290.86\n",
      "2018-06-13  58487  3060922094   722874.45\n",
      "2018-06-14  49474  2718802716   615684.90\n",
      "2018-06-15  54972  2946214451   774897.74\n",
      "2018-06-16  65517  3540218482  1172798.62\n",
      "2018-06-17  80172  4068534250  1506093.31\n",
      "2018-06-18  71277  3757906796  1257825.41\n",
      "2018-06-19  33907  1978851322   412881.99\n",
      "2018-06-20  46881  2621997273   533702.81\n",
      "2018-06-21  41546  2401795445   493064.51\n",
      "2018-06-22  35663  2035798917   411610.22\n",
      "2018-06-23  48920  2840427560   582622.57\n",
      "2018-06-24  45104  2724755368   529053.77\n",
      "2018-06-25  39694  2385367084   454961.04\n",
      "2018-06-26  40840  2428965141   453298.13\n",
      "2018-06-27  47826  2839202724   527871.74\n",
      "2018-06-28  39992  2380707842   438126.70\n",
      "2018-06-29  44243  2674906312   568749.99\n",
      "2018-06-30  52322  3085081335   719873.69\n",
      "2018-07-01  51420  3117795089   653284.63\n",
      "2018-07-02  44553  2657095481   520731.01\n",
      "2018-07-03  45267  2837189457   542603.77\n",
      "2018-07-04  48703  2827209112   559139.42\n",
      "2018-07-05  39948  2380682020   491390.33\n"
     ]
    }
   ],
   "source": [
    "print(day_data1)"
   ]
  },
  {
   "cell_type": "code",
   "execution_count": 80,
   "metadata": {},
   "outputs": [
    {
     "data": {
      "image/png": "[encoded data removed]",
      "text/plain": [
       "<Figure size 1296x720 with 1 Axes>"
      ]
     },
     "metadata": {
      "needs_background": "light"
     },
     "output_type": "display_data"
    }
   ],
   "source": [
    "from pylab import mpl\n",
    "#mpl.rcParams['font.sans-serif'] = ['SimHei']\n",
    "plt.plot(day_data1['BASK_SPEND'])\n",
    "plt.title('DAY MONEY')\n",
    "plt.xlabel('time')\n",
    "plt.ylabel('money')\n",
    "plt.rcParams['figure.figsize'] = (19.0, 10.0)\n",
    "plt.show()"
   ]
  },
  {
   "cell_type": "code",
   "execution_count": null,
   "metadata": {},
   "outputs": [],
   "source": [
    "#从上图可以看出每天总金额的变化，在6月17日销售额达到最值，这天是中秋节，金额的巨幅提高可能与此有较大关系。"
   ]
  },
  {
   "cell_type": "code",
   "execution_count": 12,
   "metadata": {},
   "outputs": [],
   "source": [
    "import pandas as pd\n",
    "data1['SDATE']=pd.to_datetime(data1['SDATE'],format='%Y.%m.%d')"
   ]
  },
  {
   "cell_type": "code",
   "execution_count": 13,
   "metadata": {},
   "outputs": [],
   "source": [
    "#分析销售次数最多和销售次数最少的两家商店金额的变化。\n",
    "date_store = data1.groupby(['STORE_CODE', 'SDATE']).size()"
   ]
  },
  {
   "cell_type": "code",
   "execution_count": 14,
   "metadata": {},
   "outputs": [],
   "source": [
    "date_D007 = date_store['D007']\n",
    "date_D007_dict= {'SDATE': date_D007.index,'COUNT': date_D007.values}\n",
    "date_D007 = pd.DataFrame(date_D007_dict)\n",
    "date_D007['SDATE'] = date_D007['SDATE'].apply(lambda x:x.strftime('%Y.%m.%d'))\n",
    "date_D007 = date_D007.set_index('SDATE')"
   ]
  },
  {
   "cell_type": "code",
   "execution_count": 15,
   "metadata": {},
   "outputs": [],
   "source": [
    "date_A008  = date_store['A008']\n",
    "date_A008_dict= {'SDATE': date_A008.index,'COUNT': date_A008.values}\n",
    "date_A008 = pd.DataFrame(date_A008_dict)\n",
    "date_A008['SDATE'] = date_A008['SDATE'].apply(lambda x:x.strftime('%Y.%m.%d'))\n",
    "date_A008 = date_A008.set_index('SDATE')"
   ]
  },
  {
   "cell_type": "code",
   "execution_count": 16,
   "metadata": {},
   "outputs": [
    {
     "data": {
      "image/png": "[encoded data removed]",
      "text/plain": [
       "<Figure size 432x288 with 1 Axes>"
      ]
     },
     "metadata": {
      "needs_background": "light"
     },
     "output_type": "display_data"
    }
   ],
   "source": [
    "fig1, = plt.plot(date_D007.index, date_D007.values)\n",
    "plt.xticks(date_D007 .index, rotation=90)\n",
    "fig2, = plt.plot(date_D007.index, date_A008.values)\n",
    "plt.legend([fig1, fig2], ['D007', 'A008'], bbox_to_anchor=(1.05, 0), loc=3, borderaxespad=0)\n",
    "plt.show()"
   ]
  },
  {
   "cell_type": "code",
   "execution_count": null,
   "metadata": {},
   "outputs": [],
   "source": [
    "#从上图可以看出虽然D007的销售次数第一，A008销售次数倒数第一，但是总体销售金额却差不多。"
   ]
  }
 ],
 "metadata": {
  "kernelspec": {
   "display_name": "Python 3",
   "language": "python",
   "name": "python3"
  },
  "language_info": {
   "codemirror_mode": {
    "name": "ipython",
    "version": 3
   },
   "file_extension": ".py",
   "mimetype": "text/x-python",
   "name": "python",
   "nbconvert_exporter": "python",
   "pygments_lexer": "ipython3",
   "version": "3.7.4"
  }
 },
 "nbformat": 4,
 "nbformat_minor": 4
}
